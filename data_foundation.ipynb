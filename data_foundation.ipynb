{
 "metadata": {
  "language_info": {
   "codemirror_mode": {
    "name": "ipython",
    "version": 3
   },
   "file_extension": ".py",
   "mimetype": "text/x-python",
   "name": "python",
   "nbconvert_exporter": "python",
   "pygments_lexer": "ipython3",
   "version": "3.8.8"
  },
  "orig_nbformat": 2,
  "kernelspec": {
   "name": "python3",
   "display_name": "Python 3.8.8 64-bit",
   "metadata": {
    "interpreter": {
     "hash": "7e85ec9bf098c5427e45e2f632dcd4eeff803b007e1abd287d600879388709c1"
    }
   }
  }
 },
 "nbformat": 4,
 "nbformat_minor": 2,
 "cells": [
  {
   "cell_type": "code",
   "execution_count": 1,
   "metadata": {},
   "outputs": [],
   "source": [
    "import pandas as pd\n",
    "import numpy as np\n",
    "import json\n",
    "import re\n",
    "\n",
    "\n",
    "%matplotlib inline\n",
    "import matplotlib\n",
    "import matplotlib as mpl\n",
    "import matplotlib.pyplot as plt\n",
    "mpl.rc('axes', labelsize=12)\n",
    "mpl.rc('xtick', labelsize=8)\n",
    "mpl.rc('ytick', labelsize=8)\n",
    "\n",
    "\n",
    "matplotlib.rc('font', family='AppleGothic')  # MacOS\n",
    "plt.rcParams['axes.unicode_minus'] = False\n",
    "\n",
    "\n",
    "# pandas max row \n",
    "pd.options.display.max_rows = 4000\n"
   ]
  },
  {
   "cell_type": "code",
   "execution_count": 2,
   "metadata": {},
   "outputs": [
    {
     "output_type": "stream",
     "name": "stderr",
     "text": [
      "/Users/seungjun/Library/Python/3.8/lib/python/site-packages/IPython/core/interactiveshell.py:3146: DtypeWarning: Columns (10,13) have mixed types.Specify dtype option on import or set low_memory=False.\n  has_raised = await self.run_ast_nodes(code_ast.body, cell_name,\n"
     ]
    }
   ],
   "source": [
    "\n",
    "b_unit = pd.read_csv('data/1.세종시_전유부.csv', dtype={'로트':object})\n",
    "b_info = pd.read_csv('data/2.세종시_표제부.csv',  dtype={'로트':object})"
   ]
  },
  {
   "source": [
    "## 표제부 정리\n",
    "- 동명칭, 특징 정리  \n",
    "예) 101동, 유치원, 경비실"
   ],
   "cell_type": "markdown",
   "metadata": {}
  },
  {
   "cell_type": "code",
   "execution_count": 3,
   "metadata": {},
   "outputs": [
    {
     "output_type": "execute_result",
     "data": {
      "text/plain": [
       "   순번                   대지위치  시군구코드  법정동코드  대지구분코드    번   지 대장구분코드명     건물명  \\\n",
       "0   1  세종특별자치시  반곡동 146-75번지  36110  10100       1  146  75      일반     NaN   \n",
       "1   2  세종특별자치시  반곡동 146-79번지  36110  10100       1  146  79      일반     NaN   \n",
       "2   3  세종특별자치시  반곡동 146-79번지  36110  10100       1  146  79      일반     NaN   \n",
       "3   4  세종특별자치시  반곡동 146-79번지  36110  10100       1  146  79      일반     NaN   \n",
       "4   5   세종특별자치시  반곡동 180-1번지  36110  10100       1  180   1      일반  솔빛숲유치원   \n",
       "\n",
       "   동명칭   연면적(㎡)     구조코드명    주용도코드명 세대수(세대)       사용승인일  Unnamed: 15  \n",
       "0  NaN   135.24      벽돌구조      단독주택       0      1977.0          NaN  \n",
       "1   1동      576    강파이프구조  동.식물관련시설       0      1999.0          NaN  \n",
       "2   2동      336    강파이프구조  동.식물관련시설       0  20041223.0          NaN  \n",
       "3   3동   127.19    강파이프구조      창고시설       0  19950726.0          NaN  \n",
       "4  NaN  2697.74  철근콘크리트구조    교육연구시설       0  20190228.0          NaN  "
      ],
      "text/html": "<div>\n<style scoped>\n    .dataframe tbody tr th:only-of-type {\n        vertical-align: middle;\n    }\n\n    .dataframe tbody tr th {\n        vertical-align: top;\n    }\n\n    .dataframe thead th {\n        text-align: right;\n    }\n</style>\n<table border=\"1\" class=\"dataframe\">\n  <thead>\n    <tr style=\"text-align: right;\">\n      <th></th>\n      <th>순번</th>\n      <th>대지위치</th>\n      <th>시군구코드</th>\n      <th>법정동코드</th>\n      <th>대지구분코드</th>\n      <th>번</th>\n      <th>지</th>\n      <th>대장구분코드명</th>\n      <th>건물명</th>\n      <th>동명칭</th>\n      <th>연면적(㎡)</th>\n      <th>구조코드명</th>\n      <th>주용도코드명</th>\n      <th>세대수(세대)</th>\n      <th>사용승인일</th>\n      <th>Unnamed: 15</th>\n    </tr>\n  </thead>\n  <tbody>\n    <tr>\n      <th>0</th>\n      <td>1</td>\n      <td>세종특별자치시  반곡동 146-75번지</td>\n      <td>36110</td>\n      <td>10100</td>\n      <td>1</td>\n      <td>146</td>\n      <td>75</td>\n      <td>일반</td>\n      <td>NaN</td>\n      <td>NaN</td>\n      <td>135.24</td>\n      <td>벽돌구조</td>\n      <td>단독주택</td>\n      <td>0</td>\n      <td>1977.0</td>\n      <td>NaN</td>\n    </tr>\n    <tr>\n      <th>1</th>\n      <td>2</td>\n      <td>세종특별자치시  반곡동 146-79번지</td>\n      <td>36110</td>\n      <td>10100</td>\n      <td>1</td>\n      <td>146</td>\n      <td>79</td>\n      <td>일반</td>\n      <td>NaN</td>\n      <td>1동</td>\n      <td>576</td>\n      <td>강파이프구조</td>\n      <td>동.식물관련시설</td>\n      <td>0</td>\n      <td>1999.0</td>\n      <td>NaN</td>\n    </tr>\n    <tr>\n      <th>2</th>\n      <td>3</td>\n      <td>세종특별자치시  반곡동 146-79번지</td>\n      <td>36110</td>\n      <td>10100</td>\n      <td>1</td>\n      <td>146</td>\n      <td>79</td>\n      <td>일반</td>\n      <td>NaN</td>\n      <td>2동</td>\n      <td>336</td>\n      <td>강파이프구조</td>\n      <td>동.식물관련시설</td>\n      <td>0</td>\n      <td>20041223.0</td>\n      <td>NaN</td>\n    </tr>\n    <tr>\n      <th>3</th>\n      <td>4</td>\n      <td>세종특별자치시  반곡동 146-79번지</td>\n      <td>36110</td>\n      <td>10100</td>\n      <td>1</td>\n      <td>146</td>\n      <td>79</td>\n      <td>일반</td>\n      <td>NaN</td>\n      <td>3동</td>\n      <td>127.19</td>\n      <td>강파이프구조</td>\n      <td>창고시설</td>\n      <td>0</td>\n      <td>19950726.0</td>\n      <td>NaN</td>\n    </tr>\n    <tr>\n      <th>4</th>\n      <td>5</td>\n      <td>세종특별자치시  반곡동 180-1번지</td>\n      <td>36110</td>\n      <td>10100</td>\n      <td>1</td>\n      <td>180</td>\n      <td>1</td>\n      <td>일반</td>\n      <td>솔빛숲유치원</td>\n      <td>NaN</td>\n      <td>2697.74</td>\n      <td>철근콘크리트구조</td>\n      <td>교육연구시설</td>\n      <td>0</td>\n      <td>20190228.0</td>\n      <td>NaN</td>\n    </tr>\n  </tbody>\n</table>\n</div>"
     },
     "metadata": {},
     "execution_count": 3
    }
   ],
   "source": [
    "b_info.head()"
   ]
  },
  {
   "cell_type": "code",
   "execution_count": 4,
   "metadata": {},
   "outputs": [
    {
     "output_type": "execute_result",
     "data": {
      "text/plain": [
       "순번               int64\n",
       "대지위치            object\n",
       "시군구코드            int64\n",
       "법정동코드            int64\n",
       "대지구분코드           int64\n",
       "번                int64\n",
       "지                int64\n",
       "대장구분코드명         object\n",
       "건물명             object\n",
       "동명칭             object\n",
       "연면적(㎡)          object\n",
       "구조코드명           object\n",
       "주용도코드명          object\n",
       "세대수(세대)         object\n",
       "사용승인일          float64\n",
       "Unnamed: 15    float64\n",
       "dtype: object"
      ]
     },
     "metadata": {},
     "execution_count": 4
    }
   ],
   "source": [
    "b_info.dtypes"
   ]
  },
  {
   "cell_type": "code",
   "execution_count": 5,
   "metadata": {},
   "outputs": [],
   "source": [
    "# 표제부 동명칭 \n",
    "dong_name = b_info[['동명칭']]\n",
    "dong_names = b_info['동명칭'].unique()\n"
   ]
  },
  {
   "source": [
    "### 패턴 매칭\n",
    "- (숫자)동\n"
   ],
   "cell_type": "markdown",
   "metadata": {}
  },
  {
   "cell_type": "code",
   "execution_count": 6,
   "metadata": {},
   "outputs": [],
   "source": [
    "# 숫자 동 분리\n",
    "b_info['동'] = b_info['동명칭'].str.findall('[\\d]+동').str.join(\"\")\n",
    "# 숫자 ~ 동 제거\n",
    "b_info['동명칭'] = b_info['동명칭'].str.findall('[^\\d동()-]').str.join(\"\")\n"
   ]
  },
  {
   "cell_type": "code",
   "execution_count": 7,
   "metadata": {},
   "outputs": [
    {
     "output_type": "execute_result",
     "data": {
      "text/plain": [
       "   순번                   대지위치  시군구코드  법정동코드  대지구분코드    번   지 대장구분코드명  건물명  동명칭  \\\n",
       "0   1  세종특별자치시  반곡동 146-75번지  36110  10100       1  146  75      일반  NaN  NaN   \n",
       "1   2  세종특별자치시  반곡동 146-79번지  36110  10100       1  146  79      일반  NaN        \n",
       "2   3  세종특별자치시  반곡동 146-79번지  36110  10100       1  146  79      일반  NaN        \n",
       "\n",
       "   연면적(㎡)   구조코드명    주용도코드명 세대수(세대)       사용승인일  Unnamed: 15    동  \n",
       "0  135.24    벽돌구조      단독주택       0      1977.0          NaN  NaN  \n",
       "1     576  강파이프구조  동.식물관련시설       0      1999.0          NaN   1동  \n",
       "2     336  강파이프구조  동.식물관련시설       0  20041223.0          NaN   2동  "
      ],
      "text/html": "<div>\n<style scoped>\n    .dataframe tbody tr th:only-of-type {\n        vertical-align: middle;\n    }\n\n    .dataframe tbody tr th {\n        vertical-align: top;\n    }\n\n    .dataframe thead th {\n        text-align: right;\n    }\n</style>\n<table border=\"1\" class=\"dataframe\">\n  <thead>\n    <tr style=\"text-align: right;\">\n      <th></th>\n      <th>순번</th>\n      <th>대지위치</th>\n      <th>시군구코드</th>\n      <th>법정동코드</th>\n      <th>대지구분코드</th>\n      <th>번</th>\n      <th>지</th>\n      <th>대장구분코드명</th>\n      <th>건물명</th>\n      <th>동명칭</th>\n      <th>연면적(㎡)</th>\n      <th>구조코드명</th>\n      <th>주용도코드명</th>\n      <th>세대수(세대)</th>\n      <th>사용승인일</th>\n      <th>Unnamed: 15</th>\n      <th>동</th>\n    </tr>\n  </thead>\n  <tbody>\n    <tr>\n      <th>0</th>\n      <td>1</td>\n      <td>세종특별자치시  반곡동 146-75번지</td>\n      <td>36110</td>\n      <td>10100</td>\n      <td>1</td>\n      <td>146</td>\n      <td>75</td>\n      <td>일반</td>\n      <td>NaN</td>\n      <td>NaN</td>\n      <td>135.24</td>\n      <td>벽돌구조</td>\n      <td>단독주택</td>\n      <td>0</td>\n      <td>1977.0</td>\n      <td>NaN</td>\n      <td>NaN</td>\n    </tr>\n    <tr>\n      <th>1</th>\n      <td>2</td>\n      <td>세종특별자치시  반곡동 146-79번지</td>\n      <td>36110</td>\n      <td>10100</td>\n      <td>1</td>\n      <td>146</td>\n      <td>79</td>\n      <td>일반</td>\n      <td>NaN</td>\n      <td></td>\n      <td>576</td>\n      <td>강파이프구조</td>\n      <td>동.식물관련시설</td>\n      <td>0</td>\n      <td>1999.0</td>\n      <td>NaN</td>\n      <td>1동</td>\n    </tr>\n    <tr>\n      <th>2</th>\n      <td>3</td>\n      <td>세종특별자치시  반곡동 146-79번지</td>\n      <td>36110</td>\n      <td>10100</td>\n      <td>1</td>\n      <td>146</td>\n      <td>79</td>\n      <td>일반</td>\n      <td>NaN</td>\n      <td></td>\n      <td>336</td>\n      <td>강파이프구조</td>\n      <td>동.식물관련시설</td>\n      <td>0</td>\n      <td>20041223.0</td>\n      <td>NaN</td>\n      <td>2동</td>\n    </tr>\n  </tbody>\n</table>\n</div>"
     },
     "metadata": {},
     "execution_count": 7
    }
   ],
   "source": [
    "b_info.head(3)"
   ]
  },
  {
   "cell_type": "code",
   "execution_count": 8,
   "metadata": {},
   "outputs": [],
   "source": [
    "b_info.to_csv('test.csv', encoding='utf-8-sig')"
   ]
  },
  {
   "source": [
    " "
   ],
   "cell_type": "markdown",
   "metadata": {}
  },
  {
   "source": [
    "## 전유부 Refactoring\n",
    "공모전에서 제공한 데이터가 부족하여 공공데이터 API를 활용하여 전유부 데이터를 추가"
   ],
   "cell_type": "markdown",
   "metadata": {}
  },
  {
   "cell_type": "code",
   "execution_count": 12,
   "metadata": {},
   "outputs": [],
   "source": [
    "# 법정동 코드 가져오기\n",
    "law_codes = b_info['법정동코드'].unique().tolist()"
   ]
  },
  {
   "cell_type": "code",
   "execution_count": 14,
   "metadata": {},
   "outputs": [
    {
     "output_type": "execute_result",
     "data": {
      "text/plain": [
       "int"
      ]
     },
     "metadata": {},
     "execution_count": 14
    }
   ],
   "source": []
  },
  {
   "cell_type": "code",
   "execution_count": 17,
   "metadata": {},
   "outputs": [
    {
     "output_type": "execute_result",
     "data": {
      "text/plain": [
       "140"
      ]
     },
     "metadata": {},
     "execution_count": 17
    }
   ],
   "source": [
    "len(law_codes)"
   ]
  },
  {
   "cell_type": "code",
   "execution_count": 28,
   "metadata": {
    "tags": []
   },
   "outputs": [],
   "source": [
    "df = pd.DataFrame(columns=['대지주소','시군구코드'])\n",
    "\n"
   ]
  },
  {
   "cell_type": "code",
   "execution_count": 30,
   "metadata": {},
   "outputs": [
    {
     "output_type": "execute_result",
     "data": {
      "text/plain": [
       "  대지주소 시군구코드\n",
       "0  123   543"
      ],
      "text/html": "<div>\n<style scoped>\n    .dataframe tbody tr th:only-of-type {\n        vertical-align: middle;\n    }\n\n    .dataframe tbody tr th {\n        vertical-align: top;\n    }\n\n    .dataframe thead th {\n        text-align: right;\n    }\n</style>\n<table border=\"1\" class=\"dataframe\">\n  <thead>\n    <tr style=\"text-align: right;\">\n      <th></th>\n      <th>대지주소</th>\n      <th>시군구코드</th>\n    </tr>\n  </thead>\n  <tbody>\n    <tr>\n      <th>0</th>\n      <td>123</td>\n      <td>543</td>\n    </tr>\n  </tbody>\n</table>\n</div>"
     },
     "metadata": {},
     "execution_count": 30
    }
   ],
   "source": [
    "df.append({'대지주소':'123', '시군구코드':'543'}, ignore_index=True)"
   ]
  },
  {
   "cell_type": "code",
   "execution_count": 32,
   "metadata": {},
   "outputs": [
    {
     "output_type": "error",
     "ename": "NameError",
     "evalue": "name 'null' is not defined",
     "traceback": [
      "\u001b[0;31m---------------------------------------------------------------------------\u001b[0m",
      "\u001b[0;31mNameError\u001b[0m                                 Traceback (most recent call last)",
      "\u001b[0;32m<ipython-input-32-d9c7466166ae>\u001b[0m in \u001b[0;36m<module>\u001b[0;34m\u001b[0m\n\u001b[1;32m      3\u001b[0m     \u001b[0;34m\"bjdongCd\"\u001b[0m\u001b[0;34m:\u001b[0m \u001b[0;34m\"10200\"\u001b[0m\u001b[0;34m,\u001b[0m\u001b[0;34m\u001b[0m\u001b[0;34m\u001b[0m\u001b[0m\n\u001b[1;32m      4\u001b[0m     \u001b[0;34m\"bldNm\"\u001b[0m\u001b[0;34m:\u001b[0m \u001b[0;34m\"새샘마을1단지\"\u001b[0m\u001b[0;34m,\u001b[0m\u001b[0;34m\u001b[0m\u001b[0;34m\u001b[0m\u001b[0m\n\u001b[0;32m----> 5\u001b[0;31m     \u001b[0;34m\"block\"\u001b[0m\u001b[0;34m:\u001b[0m \u001b[0mnull\u001b[0m\u001b[0;34m,\u001b[0m\u001b[0;34m\u001b[0m\u001b[0;34m\u001b[0m\u001b[0m\n\u001b[0m\u001b[1;32m      6\u001b[0m     \u001b[0;34m\"bun\"\u001b[0m\u001b[0;34m:\u001b[0m \u001b[0;34m\"0032\"\u001b[0m\u001b[0;34m,\u001b[0m\u001b[0;34m\u001b[0m\u001b[0;34m\u001b[0m\u001b[0m\n\u001b[1;32m      7\u001b[0m     \u001b[0;34m\"crtnDay\"\u001b[0m\u001b[0;34m:\u001b[0m \u001b[0;34m\"20190122\"\u001b[0m\u001b[0;34m,\u001b[0m\u001b[0;34m\u001b[0m\u001b[0;34m\u001b[0m\u001b[0m\n",
      "\u001b[0;31mNameError\u001b[0m: name 'null' is not defined"
     ]
    }
   ],
   "source": [
    "data= {\n",
    "    \"area\": \"0.5566\",\n",
    "    \"bjdongCd\": \"10200\",\n",
    "    \"bldNm\": \"새샘마을1단지\",\n",
    "    \"block\": None,\n",
    "    \"bun\": \"0032\",\n",
    "    \"crtnDay\": \"20190122\",\n",
    "    \"dongNm\": \"114동\",\n",
    "    \"etcPurps\": \"어린이집\",\n",
    "    \"etcStrct\": \"철근콘크리트구조\",\n",
    "    \"exposPubuseGbCd\": \"2\",\n",
    "    \"exposPubuseGbCdNm\": \"공용\",\n",
    "    \"flrGbCd\": \"20\",\n",
    "    \"flrGbCdNm\": \"지상\",\n",
    "    \"flrNo\": \"18.0\",\n",
    "    \"flrNoNm\": \"1층\",\n",
    "    \"hoNm\": \"1801\",\n",
    "    \"ji\": \"0053\",\n",
    "    \"lot\": None,\n",
    "    \"mainAtchGbCd\": \"1\",\n",
    "    \"mainAtchGbCdNm\": \"부속건축물\",\n",
    "    \"mainPurpsCd\": \"02001\",\n",
    "    \"mainPurpsCdNm\": \"아파트\",\n",
    "    \"mgmBldrgstPk\": \"36110-5000155757\",\n",
    "    \"naBjdongCd\": \"10203\",\n",
    "    \"naMainBun\": \"357.0\",\n",
    "    \"naRoadCd\": \"361103350790\",\n",
    "    \"naSubBun\": \"0.0\",\n",
    "    \"naUgrndCd\": \"0\",\n",
    "    \"newPlatPlc\": \"세종특별자치시  남세종로 357\",\n",
    "    \"platGbCd\": \"0\",\n",
    "    \"platPlc\": \"세종특별자치시  소담동 32-53번지\",\n",
    "    \"regstrGbCd\": \"2\",\n",
    "    \"regstrGbCdNm\": \"집합\",\n",
    "    \"regstrKindCd\": \"4\",\n",
    "    \"regstrKindCdNm\": \"전유부\",\n",
    "    \"rnum\": \"1\",\n",
    "    \"sigunguCd\": \"36110\",\n",
    "    \"splotNm\": None,\n",
    "    \"strctCd\": \"21\",\n",
    "    \"strctCdNm\": \"철근콘크리트구조\"\n",
    "  }"
   ]
  },
  {
   "cell_type": "code",
   "execution_count": null,
   "metadata": {},
   "outputs": [],
   "source": []
  }
 ]
}