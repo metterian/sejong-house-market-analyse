{
 "metadata": {
  "language_info": {
   "codemirror_mode": {
    "name": "ipython",
    "version": 3
   },
   "file_extension": ".py",
   "mimetype": "text/x-python",
   "name": "python",
   "nbconvert_exporter": "python",
   "pygments_lexer": "ipython3",
   "version": "3.8.8"
  },
  "orig_nbformat": 2,
  "kernelspec": {
   "name": "python3",
   "display_name": "Python 3.8.8 64-bit",
   "metadata": {
    "interpreter": {
     "hash": "7e85ec9bf098c5427e45e2f632dcd4eeff803b007e1abd287d600879388709c1"
    }
   }
  }
 },
 "nbformat": 4,
 "nbformat_minor": 2,
 "cells": [
  {
   "cell_type": "code",
   "execution_count": 4,
   "metadata": {},
   "outputs": [],
   "source": [
    "import pandas as pd\n",
    "import numpy as np\n",
    "import json\n",
    "import re\n",
    "from plotnine import *\n",
    "import plotnine\n",
    "\n",
    "\n",
    "%matplotlib inline\n",
    "import matplotlib\n",
    "import matplotlib as mpl\n",
    "import matplotlib.pyplot as plt\n",
    "mpl.rc('axes', labelsize=12)\n",
    "mpl.rc('xtick', labelsize=8)\n",
    "mpl.rc('ytick', labelsize=8)\n",
    "\n",
    "\n",
    "\n",
    "# 그래프에서 한글표현을 위해 폰트를 설치합니다.\n",
    "%config InlineBackend.figure_format = 'retina'\n",
    "\n",
    "\n",
    "\n",
    "matplotlib.rc('font', family='NanumBarunGothic')  # MacOS\n",
    "plt.rcParams['axes.unicode_minus'] = False\n",
    "\n",
    "\n",
    "# pandas max row \n",
    "pd.options.display.max_rows = 3000\n"
   ]
  },
  {
   "cell_type": "code",
   "execution_count": 5,
   "metadata": {},
   "outputs": [
    {
     "output_type": "stream",
     "name": "stderr",
     "text": [
      "/Users/seungjun/Library/Python/3.8/lib/python/site-packages/IPython/core/interactiveshell.py:3146: DtypeWarning: Columns (10,13) have mixed types.Specify dtype option on import or set low_memory=False.\n"
     ]
    }
   ],
   "source": [
    "\n",
    "b_unit = pd.read_csv('data/1.세종시_전유부.csv', dtype={'로트':object})\n",
    "b_info = pd.read_csv('data/2.세종시_표제부.csv',  dtype={'로트':object})"
   ]
  },
  {
   "source": [
    "## 표제부 정리\n",
    "- 동명칭, 특징 정리  \n",
    "예) 101동, 유치원, 경비실"
   ],
   "cell_type": "markdown",
   "metadata": {}
  },
  {
   "cell_type": "code",
   "execution_count": 6,
   "metadata": {},
   "outputs": [
    {
     "output_type": "execute_result",
     "data": {
      "text/plain": [
       "   순번                   대지위치  시군구코드  법정동코드  대지구분코드    번   지 대장구분코드명     건물명  \\\n",
       "0   1  세종특별자치시  반곡동 146-75번지  36110  10100       1  146  75      일반     NaN   \n",
       "1   2  세종특별자치시  반곡동 146-79번지  36110  10100       1  146  79      일반     NaN   \n",
       "2   3  세종특별자치시  반곡동 146-79번지  36110  10100       1  146  79      일반     NaN   \n",
       "3   4  세종특별자치시  반곡동 146-79번지  36110  10100       1  146  79      일반     NaN   \n",
       "4   5   세종특별자치시  반곡동 180-1번지  36110  10100       1  180   1      일반  솔빛숲유치원   \n",
       "\n",
       "   동명칭   연면적(㎡)     구조코드명    주용도코드명 세대수(세대)       사용승인일  Unnamed: 15  \n",
       "0  NaN   135.24      벽돌구조      단독주택       0      1977.0          NaN  \n",
       "1   1동      576    강파이프구조  동.식물관련시설       0      1999.0          NaN  \n",
       "2   2동      336    강파이프구조  동.식물관련시설       0  20041223.0          NaN  \n",
       "3   3동   127.19    강파이프구조      창고시설       0  19950726.0          NaN  \n",
       "4  NaN  2697.74  철근콘크리트구조    교육연구시설       0  20190228.0          NaN  "
      ],
      "text/html": "<div>\n<style scoped>\n    .dataframe tbody tr th:only-of-type {\n        vertical-align: middle;\n    }\n\n    .dataframe tbody tr th {\n        vertical-align: top;\n    }\n\n    .dataframe thead th {\n        text-align: right;\n    }\n</style>\n<table border=\"1\" class=\"dataframe\">\n  <thead>\n    <tr style=\"text-align: right;\">\n      <th></th>\n      <th>순번</th>\n      <th>대지위치</th>\n      <th>시군구코드</th>\n      <th>법정동코드</th>\n      <th>대지구분코드</th>\n      <th>번</th>\n      <th>지</th>\n      <th>대장구분코드명</th>\n      <th>건물명</th>\n      <th>동명칭</th>\n      <th>연면적(㎡)</th>\n      <th>구조코드명</th>\n      <th>주용도코드명</th>\n      <th>세대수(세대)</th>\n      <th>사용승인일</th>\n      <th>Unnamed: 15</th>\n    </tr>\n  </thead>\n  <tbody>\n    <tr>\n      <th>0</th>\n      <td>1</td>\n      <td>세종특별자치시  반곡동 146-75번지</td>\n      <td>36110</td>\n      <td>10100</td>\n      <td>1</td>\n      <td>146</td>\n      <td>75</td>\n      <td>일반</td>\n      <td>NaN</td>\n      <td>NaN</td>\n      <td>135.24</td>\n      <td>벽돌구조</td>\n      <td>단독주택</td>\n      <td>0</td>\n      <td>1977.0</td>\n      <td>NaN</td>\n    </tr>\n    <tr>\n      <th>1</th>\n      <td>2</td>\n      <td>세종특별자치시  반곡동 146-79번지</td>\n      <td>36110</td>\n      <td>10100</td>\n      <td>1</td>\n      <td>146</td>\n      <td>79</td>\n      <td>일반</td>\n      <td>NaN</td>\n      <td>1동</td>\n      <td>576</td>\n      <td>강파이프구조</td>\n      <td>동.식물관련시설</td>\n      <td>0</td>\n      <td>1999.0</td>\n      <td>NaN</td>\n    </tr>\n    <tr>\n      <th>2</th>\n      <td>3</td>\n      <td>세종특별자치시  반곡동 146-79번지</td>\n      <td>36110</td>\n      <td>10100</td>\n      <td>1</td>\n      <td>146</td>\n      <td>79</td>\n      <td>일반</td>\n      <td>NaN</td>\n      <td>2동</td>\n      <td>336</td>\n      <td>강파이프구조</td>\n      <td>동.식물관련시설</td>\n      <td>0</td>\n      <td>20041223.0</td>\n      <td>NaN</td>\n    </tr>\n    <tr>\n      <th>3</th>\n      <td>4</td>\n      <td>세종특별자치시  반곡동 146-79번지</td>\n      <td>36110</td>\n      <td>10100</td>\n      <td>1</td>\n      <td>146</td>\n      <td>79</td>\n      <td>일반</td>\n      <td>NaN</td>\n      <td>3동</td>\n      <td>127.19</td>\n      <td>강파이프구조</td>\n      <td>창고시설</td>\n      <td>0</td>\n      <td>19950726.0</td>\n      <td>NaN</td>\n    </tr>\n    <tr>\n      <th>4</th>\n      <td>5</td>\n      <td>세종특별자치시  반곡동 180-1번지</td>\n      <td>36110</td>\n      <td>10100</td>\n      <td>1</td>\n      <td>180</td>\n      <td>1</td>\n      <td>일반</td>\n      <td>솔빛숲유치원</td>\n      <td>NaN</td>\n      <td>2697.74</td>\n      <td>철근콘크리트구조</td>\n      <td>교육연구시설</td>\n      <td>0</td>\n      <td>20190228.0</td>\n      <td>NaN</td>\n    </tr>\n  </tbody>\n</table>\n</div>"
     },
     "metadata": {},
     "execution_count": 6
    }
   ],
   "source": [
    "b_info.head()"
   ]
  },
  {
   "cell_type": "code",
   "execution_count": 7,
   "metadata": {},
   "outputs": [
    {
     "output_type": "execute_result",
     "data": {
      "text/plain": [
       "순번               int64\n",
       "대지위치            object\n",
       "시군구코드            int64\n",
       "법정동코드            int64\n",
       "대지구분코드           int64\n",
       "번                int64\n",
       "지                int64\n",
       "대장구분코드명         object\n",
       "건물명             object\n",
       "동명칭             object\n",
       "연면적(㎡)          object\n",
       "구조코드명           object\n",
       "주용도코드명          object\n",
       "세대수(세대)         object\n",
       "사용승인일          float64\n",
       "Unnamed: 15    float64\n",
       "dtype: object"
      ]
     },
     "metadata": {},
     "execution_count": 7
    }
   ],
   "source": [
    "b_info.dtypes"
   ]
  },
  {
   "cell_type": "code",
   "execution_count": 8,
   "metadata": {},
   "outputs": [],
   "source": [
    "# 표제부 동명칭 \n",
    "dong_name = b_info[['동명칭']]\n",
    "dong_names = b_info['동명칭'].unique()\n"
   ]
  },
  {
   "source": [
    "### 패턴 매칭\n",
    "- (숫자)동\n"
   ],
   "cell_type": "markdown",
   "metadata": {}
  },
  {
   "cell_type": "code",
   "execution_count": 9,
   "metadata": {},
   "outputs": [],
   "source": [
    "# 숫자 동 분리\n",
    "b_info['동'] = b_info['동명칭'].str.findall('[\\d]+동').str.join(\"\")\n",
    "# 숫자 ~ 동 제거\n",
    "b_info['동명칭'] = b_info['동명칭'].str.findall('[^\\d동()-]').str.join(\"\")\n"
   ]
  },
  {
   "cell_type": "code",
   "execution_count": 10,
   "metadata": {},
   "outputs": [
    {
     "output_type": "execute_result",
     "data": {
      "text/plain": [
       "   순번                   대지위치  시군구코드  법정동코드  대지구분코드    번   지 대장구분코드명  건물명  동명칭  \\\n",
       "0   1  세종특별자치시  반곡동 146-75번지  36110  10100       1  146  75      일반  NaN  NaN   \n",
       "1   2  세종특별자치시  반곡동 146-79번지  36110  10100       1  146  79      일반  NaN        \n",
       "2   3  세종특별자치시  반곡동 146-79번지  36110  10100       1  146  79      일반  NaN        \n",
       "\n",
       "   연면적(㎡)   구조코드명    주용도코드명 세대수(세대)       사용승인일  Unnamed: 15    동  \n",
       "0  135.24    벽돌구조      단독주택       0      1977.0          NaN  NaN  \n",
       "1     576  강파이프구조  동.식물관련시설       0      1999.0          NaN   1동  \n",
       "2     336  강파이프구조  동.식물관련시설       0  20041223.0          NaN   2동  "
      ],
      "text/html": "<div>\n<style scoped>\n    .dataframe tbody tr th:only-of-type {\n        vertical-align: middle;\n    }\n\n    .dataframe tbody tr th {\n        vertical-align: top;\n    }\n\n    .dataframe thead th {\n        text-align: right;\n    }\n</style>\n<table border=\"1\" class=\"dataframe\">\n  <thead>\n    <tr style=\"text-align: right;\">\n      <th></th>\n      <th>순번</th>\n      <th>대지위치</th>\n      <th>시군구코드</th>\n      <th>법정동코드</th>\n      <th>대지구분코드</th>\n      <th>번</th>\n      <th>지</th>\n      <th>대장구분코드명</th>\n      <th>건물명</th>\n      <th>동명칭</th>\n      <th>연면적(㎡)</th>\n      <th>구조코드명</th>\n      <th>주용도코드명</th>\n      <th>세대수(세대)</th>\n      <th>사용승인일</th>\n      <th>Unnamed: 15</th>\n      <th>동</th>\n    </tr>\n  </thead>\n  <tbody>\n    <tr>\n      <th>0</th>\n      <td>1</td>\n      <td>세종특별자치시  반곡동 146-75번지</td>\n      <td>36110</td>\n      <td>10100</td>\n      <td>1</td>\n      <td>146</td>\n      <td>75</td>\n      <td>일반</td>\n      <td>NaN</td>\n      <td>NaN</td>\n      <td>135.24</td>\n      <td>벽돌구조</td>\n      <td>단독주택</td>\n      <td>0</td>\n      <td>1977.0</td>\n      <td>NaN</td>\n      <td>NaN</td>\n    </tr>\n    <tr>\n      <th>1</th>\n      <td>2</td>\n      <td>세종특별자치시  반곡동 146-79번지</td>\n      <td>36110</td>\n      <td>10100</td>\n      <td>1</td>\n      <td>146</td>\n      <td>79</td>\n      <td>일반</td>\n      <td>NaN</td>\n      <td></td>\n      <td>576</td>\n      <td>강파이프구조</td>\n      <td>동.식물관련시설</td>\n      <td>0</td>\n      <td>1999.0</td>\n      <td>NaN</td>\n      <td>1동</td>\n    </tr>\n    <tr>\n      <th>2</th>\n      <td>3</td>\n      <td>세종특별자치시  반곡동 146-79번지</td>\n      <td>36110</td>\n      <td>10100</td>\n      <td>1</td>\n      <td>146</td>\n      <td>79</td>\n      <td>일반</td>\n      <td>NaN</td>\n      <td></td>\n      <td>336</td>\n      <td>강파이프구조</td>\n      <td>동.식물관련시설</td>\n      <td>0</td>\n      <td>20041223.0</td>\n      <td>NaN</td>\n      <td>2동</td>\n    </tr>\n  </tbody>\n</table>\n</div>"
     },
     "metadata": {},
     "execution_count": 10
    }
   ],
   "source": [
    "b_info.head(3)"
   ]
  },
  {
   "cell_type": "code",
   "execution_count": 11,
   "metadata": {},
   "outputs": [],
   "source": [
    "b_info.to_csv('test.csv', encoding='utf-8-sig')"
   ]
  },
  {
   "source": [
    " "
   ],
   "cell_type": "markdown",
   "metadata": {}
  },
  {
   "source": [
    "## 전유부 Refactoring\n",
    "공모전에서 제공한 데이터가 부족하여 공공데이터 API를 활용하여 전유부 데이터를 추가"
   ],
   "cell_type": "markdown",
   "metadata": {}
  },
  {
   "cell_type": "code",
   "execution_count": 12,
   "metadata": {},
   "outputs": [
    {
     "output_type": "stream",
     "name": "stderr",
     "text": [
      "/Users/seungjun/Library/Python/3.8/lib/python/site-packages/IPython/core/interactiveshell.py:3146: DtypeWarning: Columns (12) have mixed types.Specify dtype option on import or set low_memory=False.\n"
     ]
    }
   ],
   "source": [
    "# API를 통해 생생된 전유부 Data 가져오기\n",
    "b_unit = pd.read_csv('전유부.csv', dtype={\n",
    "    '건물명':object, \n",
    "    '시군구코드': object, \n",
    "    '법정동코드' : object, \n",
    "    '층번호': np.int64, \n",
    "    '번' : object, \n",
    "    '지' : object, \n",
    "    '층구분코드': object \n",
    "    }\n",
    ")"
   ]
  },
  {
   "cell_type": "code",
   "execution_count": 13,
   "metadata": {},
   "outputs": [
    {
     "output_type": "execute_result",
     "data": {
      "text/plain": [
       "                       대지주소  시군구코드  법정동코드      동명칭  호명칭 층구분코드  층번호  면적(전용면적)  \\\n",
       "0  세종특별자치시  반곡동 4121-1002번지  36110  10100  주건축물제1동  101    20    1    3.2402   \n",
       "1  세종특별자치시  반곡동 4121-1002번지  36110  10100  주건축물제1동  101    20    1   39.3700   \n",
       "2  세종특별자치시  반곡동 4121-1002번지  36110  10100  주건축물제1동  101    20    1   10.3346   \n",
       "3  세종특별자치시  반곡동 4121-1002번지  36110  10100  주건축물제1동  101    20    1   33.6765   \n",
       "4  세종특별자치시  반곡동 4121-1002번지  36110  10100  주건축물제1동  102    20    1   48.9500   \n",
       "\n",
       "     건물명     번     지  용도코드명 주용도코드            기타용도  \n",
       "0  세종펠리스  4121  1002  일반음식점  4001   일반음식점(기계,전기실)  \n",
       "1  세종펠리스  4121  1002  일반음식점  4001    제2종근생(일반음식점)  \n",
       "2  세종펠리스  4121  1002  일반음식점  4001  일반음식점(계단실,복도등)  \n",
       "3  세종펠리스  4121  1002  일반음식점  4001      일반음식점(주차장)  \n",
       "4  세종펠리스  4121  1002  일반음식점  4001    제2종근생(일반음식점)  "
      ],
      "text/html": "<div>\n<style scoped>\n    .dataframe tbody tr th:only-of-type {\n        vertical-align: middle;\n    }\n\n    .dataframe tbody tr th {\n        vertical-align: top;\n    }\n\n    .dataframe thead th {\n        text-align: right;\n    }\n</style>\n<table border=\"1\" class=\"dataframe\">\n  <thead>\n    <tr style=\"text-align: right;\">\n      <th></th>\n      <th>대지주소</th>\n      <th>시군구코드</th>\n      <th>법정동코드</th>\n      <th>동명칭</th>\n      <th>호명칭</th>\n      <th>층구분코드</th>\n      <th>층번호</th>\n      <th>면적(전용면적)</th>\n      <th>건물명</th>\n      <th>번</th>\n      <th>지</th>\n      <th>용도코드명</th>\n      <th>주용도코드</th>\n      <th>기타용도</th>\n    </tr>\n  </thead>\n  <tbody>\n    <tr>\n      <th>0</th>\n      <td>세종특별자치시  반곡동 4121-1002번지</td>\n      <td>36110</td>\n      <td>10100</td>\n      <td>주건축물제1동</td>\n      <td>101</td>\n      <td>20</td>\n      <td>1</td>\n      <td>3.2402</td>\n      <td>세종펠리스</td>\n      <td>4121</td>\n      <td>1002</td>\n      <td>일반음식점</td>\n      <td>4001</td>\n      <td>일반음식점(기계,전기실)</td>\n    </tr>\n    <tr>\n      <th>1</th>\n      <td>세종특별자치시  반곡동 4121-1002번지</td>\n      <td>36110</td>\n      <td>10100</td>\n      <td>주건축물제1동</td>\n      <td>101</td>\n      <td>20</td>\n      <td>1</td>\n      <td>39.3700</td>\n      <td>세종펠리스</td>\n      <td>4121</td>\n      <td>1002</td>\n      <td>일반음식점</td>\n      <td>4001</td>\n      <td>제2종근생(일반음식점)</td>\n    </tr>\n    <tr>\n      <th>2</th>\n      <td>세종특별자치시  반곡동 4121-1002번지</td>\n      <td>36110</td>\n      <td>10100</td>\n      <td>주건축물제1동</td>\n      <td>101</td>\n      <td>20</td>\n      <td>1</td>\n      <td>10.3346</td>\n      <td>세종펠리스</td>\n      <td>4121</td>\n      <td>1002</td>\n      <td>일반음식점</td>\n      <td>4001</td>\n      <td>일반음식점(계단실,복도등)</td>\n    </tr>\n    <tr>\n      <th>3</th>\n      <td>세종특별자치시  반곡동 4121-1002번지</td>\n      <td>36110</td>\n      <td>10100</td>\n      <td>주건축물제1동</td>\n      <td>101</td>\n      <td>20</td>\n      <td>1</td>\n      <td>33.6765</td>\n      <td>세종펠리스</td>\n      <td>4121</td>\n      <td>1002</td>\n      <td>일반음식점</td>\n      <td>4001</td>\n      <td>일반음식점(주차장)</td>\n    </tr>\n    <tr>\n      <th>4</th>\n      <td>세종특별자치시  반곡동 4121-1002번지</td>\n      <td>36110</td>\n      <td>10100</td>\n      <td>주건축물제1동</td>\n      <td>102</td>\n      <td>20</td>\n      <td>1</td>\n      <td>48.9500</td>\n      <td>세종펠리스</td>\n      <td>4121</td>\n      <td>1002</td>\n      <td>일반음식점</td>\n      <td>4001</td>\n      <td>제2종근생(일반음식점)</td>\n    </tr>\n  </tbody>\n</table>\n</div>"
     },
     "metadata": {},
     "execution_count": 13
    }
   ],
   "source": [
    "b_unit.head()"
   ]
  },
  {
   "cell_type": "code",
   "execution_count": 14,
   "metadata": {},
   "outputs": [
    {
     "output_type": "stream",
     "name": "stdout",
     "text": [
      "<class 'pandas.core.frame.DataFrame'>\nRangeIndex: 998862 entries, 0 to 998861\nData columns (total 14 columns):\n #   Column    Non-Null Count   Dtype  \n---  ------    --------------   -----  \n 0   대지주소      998862 non-null  object \n 1   시군구코드     998862 non-null  object \n 2   법정동코드     998862 non-null  object \n 3   동명칭       977407 non-null  object \n 4   호명칭       998772 non-null  object \n 5   층구분코드     998856 non-null  object \n 6   층번호       998862 non-null  int64  \n 7   면적(전용면적)  998862 non-null  float64\n 8   건물명       991299 non-null  object \n 9   번         998862 non-null  object \n 10  지         998862 non-null  object \n 11  용도코드명     995844 non-null  object \n 12  주용도코드     995844 non-null  object \n 13  기타용도      997698 non-null  object \ndtypes: float64(1), int64(1), object(12)\nmemory usage: 106.7+ MB\n"
     ]
    }
   ],
   "source": [
    "b_unit.info()"
   ]
  },
  {
   "cell_type": "code",
   "execution_count": 15,
   "metadata": {},
   "outputs": [
    {
     "output_type": "execute_result",
     "data": {
      "text/plain": [
       "0         4001\n",
       "1         4001\n",
       "2         4001\n",
       "3         4001\n",
       "4         4001\n",
       "          ... \n",
       "998857     NaN\n",
       "998858    2003\n",
       "998859     NaN\n",
       "998860    2003\n",
       "998861     NaN\n",
       "Name: 주용도코드, Length: 998862, dtype: object"
      ]
     },
     "metadata": {},
     "execution_count": 15
    }
   ],
   "source": [
    "b_unit['주용도코드']"
   ]
  },
  {
   "cell_type": "code",
   "execution_count": 17,
   "metadata": {},
   "outputs": [
    {
     "output_type": "execute_result",
     "data": {
      "text/plain": [
       "<AxesSubplot:>"
      ]
     },
     "metadata": {},
     "execution_count": 17
    },
    {
     "output_type": "display_data",
     "data": {
      "text/plain": "<Figure size 1296x432 with 2 Axes>",
      "image/png": "[encoded data removed]"
     },
     "metadata": {
      "image/png": {
       "width": 1112,
       "height": 443
      },
      "needs_background": "light"
     }
    }
   ],
   "source": [
    "# 결측치 보기\n",
    "import missingno as msno\n",
    "msno.matrix(b_unit, figsize=(18,6))"
   ]
  },
  {
   "cell_type": "code",
   "execution_count": 18,
   "metadata": {},
   "outputs": [
    {
     "output_type": "execute_result",
     "data": {
      "text/plain": [
       "대지주소            0\n",
       "시군구코드           0\n",
       "법정동코드           0\n",
       "동명칭         21455\n",
       "호명칭            90\n",
       "층구분코드           6\n",
       "층번호             0\n",
       "면적(전용면적)        0\n",
       "건물명          7563\n",
       "번               0\n",
       "지               0\n",
       "용도코드명        3018\n",
       "주용도코드        3018\n",
       "기타용도         1164\n",
       "dtype: int64"
      ]
     },
     "metadata": {},
     "execution_count": 18
    }
   ],
   "source": [
    "b_unit.isnull().sum()"
   ]
  },
  {
   "cell_type": "code",
   "execution_count": 19,
   "metadata": {},
   "outputs": [
    {
     "output_type": "execute_result",
     "data": {
      "text/plain": [
       "                           대지주소  시군구코드  법정동코드   동명칭    호명칭 층구분코드  층번호  \\\n",
       "884705  세종특별자치시  조치원읍 정리 59-1번지  36110  25025  101동  1207호    20   12   \n",
       "884711  세종특별자치시  조치원읍 정리 59-1번지  36110  25025  101동  1306호    20   13   \n",
       "884717  세종특별자치시  조치원읍 정리 59-1번지  36110  25025  101동  1405호    20   14   \n",
       "884723  세종특별자치시  조치원읍 정리 59-1번지  36110  25025  101동  1407호    20   14   \n",
       "884729  세종특별자치시  조치원읍 정리 59-1번지  36110  25025  101동  1106호    20   11   \n",
       "\n",
       "        면적(전용면적)  건물명     번     지 용도코드명 주용도코드 기타용도  \n",
       "884705     84.82  NaN  0059  0001   아파트  2001  아파트  \n",
       "884711     84.82  NaN  0059  0001   아파트  2001  아파트  \n",
       "884717     59.75  NaN  0059  0001   아파트  2001  아파트  \n",
       "884723     75.20  NaN  0059  0001   아파트  2001  아파트  \n",
       "884729     84.82  NaN  0059  0001   아파트  2001  아파트  "
      ],
      "text/html": "<div>\n<style scoped>\n    .dataframe tbody tr th:only-of-type {\n        vertical-align: middle;\n    }\n\n    .dataframe tbody tr th {\n        vertical-align: top;\n    }\n\n    .dataframe thead th {\n        text-align: right;\n    }\n</style>\n<table border=\"1\" class=\"dataframe\">\n  <thead>\n    <tr style=\"text-align: right;\">\n      <th></th>\n      <th>대지주소</th>\n      <th>시군구코드</th>\n      <th>법정동코드</th>\n      <th>동명칭</th>\n      <th>호명칭</th>\n      <th>층구분코드</th>\n      <th>층번호</th>\n      <th>면적(전용면적)</th>\n      <th>건물명</th>\n      <th>번</th>\n      <th>지</th>\n      <th>용도코드명</th>\n      <th>주용도코드</th>\n      <th>기타용도</th>\n    </tr>\n  </thead>\n  <tbody>\n    <tr>\n      <th>884705</th>\n      <td>세종특별자치시  조치원읍 정리 59-1번지</td>\n      <td>36110</td>\n      <td>25025</td>\n      <td>101동</td>\n      <td>1207호</td>\n      <td>20</td>\n      <td>12</td>\n      <td>84.82</td>\n      <td>NaN</td>\n      <td>0059</td>\n      <td>0001</td>\n      <td>아파트</td>\n      <td>2001</td>\n      <td>아파트</td>\n    </tr>\n    <tr>\n      <th>884711</th>\n      <td>세종특별자치시  조치원읍 정리 59-1번지</td>\n      <td>36110</td>\n      <td>25025</td>\n      <td>101동</td>\n      <td>1306호</td>\n      <td>20</td>\n      <td>13</td>\n      <td>84.82</td>\n      <td>NaN</td>\n      <td>0059</td>\n      <td>0001</td>\n      <td>아파트</td>\n      <td>2001</td>\n      <td>아파트</td>\n    </tr>\n    <tr>\n      <th>884717</th>\n      <td>세종특별자치시  조치원읍 정리 59-1번지</td>\n      <td>36110</td>\n      <td>25025</td>\n      <td>101동</td>\n      <td>1405호</td>\n      <td>20</td>\n      <td>14</td>\n      <td>59.75</td>\n      <td>NaN</td>\n      <td>0059</td>\n      <td>0001</td>\n      <td>아파트</td>\n      <td>2001</td>\n      <td>아파트</td>\n    </tr>\n    <tr>\n      <th>884723</th>\n      <td>세종특별자치시  조치원읍 정리 59-1번지</td>\n      <td>36110</td>\n      <td>25025</td>\n      <td>101동</td>\n      <td>1407호</td>\n      <td>20</td>\n      <td>14</td>\n      <td>75.20</td>\n      <td>NaN</td>\n      <td>0059</td>\n      <td>0001</td>\n      <td>아파트</td>\n      <td>2001</td>\n      <td>아파트</td>\n    </tr>\n    <tr>\n      <th>884729</th>\n      <td>세종특별자치시  조치원읍 정리 59-1번지</td>\n      <td>36110</td>\n      <td>25025</td>\n      <td>101동</td>\n      <td>1106호</td>\n      <td>20</td>\n      <td>11</td>\n      <td>84.82</td>\n      <td>NaN</td>\n      <td>0059</td>\n      <td>0001</td>\n      <td>아파트</td>\n      <td>2001</td>\n      <td>아파트</td>\n    </tr>\n  </tbody>\n</table>\n</div>"
     },
     "metadata": {},
     "execution_count": 19
    }
   ],
   "source": [
    "bld_null = b_unit[b_unit['건물명'].isnull()]\n",
    "bld_null[bld_null['기타용도'].str.contains('아파트',na=False)].head()"
   ]
  },
  {
   "cell_type": "code",
   "execution_count": null,
   "metadata": {},
   "outputs": [],
   "source": []
  },
  {
   "cell_type": "code",
   "execution_count": null,
   "metadata": {},
   "outputs": [],
   "source": []
  },
  {
   "source": [
    " "
   ],
   "cell_type": "markdown",
   "metadata": {}
  },
  {
   "source": [
    "## 거래 매매 기록을 통해 결측치 채우기\n",
    "### 아파트 매매, 전월세\n"
   ],
   "cell_type": "markdown",
   "metadata": {}
  },
  {
   "cell_type": "code",
   "execution_count": 67,
   "metadata": {},
   "outputs": [],
   "source": [
    "apt_mth = pd.read_csv('data/아파트_전월세.csv').drop('Unnamed: 0', axis=1)\n",
    "apt_trd = pd.read_csv('data/아파트_매매.csv').drop('Unnamed: 0', axis=1)"
   ]
  },
  {
   "cell_type": "code",
   "execution_count": 68,
   "metadata": {},
   "outputs": [
    {
     "output_type": "execute_result",
     "data": {
      "text/plain": [
       "     거래금액  건축년도     년  법정동                  아파트  월   일     전용면적     지번   지역코드  \\\n",
       "0  36,400  2016  2017  소담동  새샘마을9단지(중흥S클래스 리버뷰)  1  10  84.9779    521  36110   \n",
       "1  39,282  2016  2017  소담동  새샘마을9단지(중흥S클래스 리버뷰)  1  20  84.9779    521  36110   \n",
       "2  49,000  2016  2017  소담동   새샘마을3단지(모아미래도리버시티)  1  21  97.9940  BL-M3  36110   \n",
       "\n",
       "    층 해제사유발생일 해제여부  \n",
       "0   5     NaN  NaN  \n",
       "1  24     NaN  NaN  \n",
       "2  13     NaN  NaN  "
      ],
      "text/html": "<div>\n<style scoped>\n    .dataframe tbody tr th:only-of-type {\n        vertical-align: middle;\n    }\n\n    .dataframe tbody tr th {\n        vertical-align: top;\n    }\n\n    .dataframe thead th {\n        text-align: right;\n    }\n</style>\n<table border=\"1\" class=\"dataframe\">\n  <thead>\n    <tr style=\"text-align: right;\">\n      <th></th>\n      <th>거래금액</th>\n      <th>건축년도</th>\n      <th>년</th>\n      <th>법정동</th>\n      <th>아파트</th>\n      <th>월</th>\n      <th>일</th>\n      <th>전용면적</th>\n      <th>지번</th>\n      <th>지역코드</th>\n      <th>층</th>\n      <th>해제사유발생일</th>\n      <th>해제여부</th>\n    </tr>\n  </thead>\n  <tbody>\n    <tr>\n      <th>0</th>\n      <td>36,400</td>\n      <td>2016</td>\n      <td>2017</td>\n      <td>소담동</td>\n      <td>새샘마을9단지(중흥S클래스 리버뷰)</td>\n      <td>1</td>\n      <td>10</td>\n      <td>84.9779</td>\n      <td>521</td>\n      <td>36110</td>\n      <td>5</td>\n      <td>NaN</td>\n      <td>NaN</td>\n    </tr>\n    <tr>\n      <th>1</th>\n      <td>39,282</td>\n      <td>2016</td>\n      <td>2017</td>\n      <td>소담동</td>\n      <td>새샘마을9단지(중흥S클래스 리버뷰)</td>\n      <td>1</td>\n      <td>20</td>\n      <td>84.9779</td>\n      <td>521</td>\n      <td>36110</td>\n      <td>24</td>\n      <td>NaN</td>\n      <td>NaN</td>\n    </tr>\n    <tr>\n      <th>2</th>\n      <td>49,000</td>\n      <td>2016</td>\n      <td>2017</td>\n      <td>소담동</td>\n      <td>새샘마을3단지(모아미래도리버시티)</td>\n      <td>1</td>\n      <td>21</td>\n      <td>97.9940</td>\n      <td>BL-M3</td>\n      <td>36110</td>\n      <td>13</td>\n      <td>NaN</td>\n      <td>NaN</td>\n    </tr>\n  </tbody>\n</table>\n</div>"
     },
     "metadata": {},
     "execution_count": 68
    }
   ],
   "source": [
    "apt_trd.head(3)"
   ]
  },
  {
   "source": [
    " "
   ],
   "cell_type": "markdown",
   "metadata": {}
  },
  {
   "source": [
    "### 번지 결측치 채우기 - 아파트 매매 데이터"
   ],
   "cell_type": "markdown",
   "metadata": {}
  },
  {
   "cell_type": "code",
   "execution_count": 87,
   "metadata": {},
   "outputs": [
    {
     "output_type": "stream",
     "name": "stdout",
     "text": [
      "<class 'pandas.core.frame.DataFrame'>\nInt64Index: 24417 entries, 0 to 24416\nData columns (total 17 columns):\n #   Column   Non-Null Count  Dtype  \n---  ------   --------------  -----  \n 0   거래금액     24417 non-null  object \n 1   건물명      24417 non-null  object \n 2   건축년도     24417 non-null  int64  \n 3   년        24417 non-null  int64  \n 4   번        23873 non-null  object \n 5   법정동      24417 non-null  object \n 6   월        24417 non-null  int64  \n 7   일        24417 non-null  int64  \n 8   전용면적     24417 non-null  float64\n 9   지        1983 non-null   object \n 10  지번       24417 non-null  object \n 11  번        23873 non-null  object \n 12  지        1983 non-null   object \n 13  지역코드     24417 non-null  int64  \n 14  층        24417 non-null  int64  \n 15  해제사유발생일  565 non-null    object \n 16  해제여부     565 non-null    object \ndtypes: float64(1), int64(6), object(10)\nmemory usage: 3.4+ MB\n"
     ]
    }
   ],
   "source": [
    "apt_trd.info()"
   ]
  },
  {
   "cell_type": "code",
   "execution_count": 70,
   "metadata": {},
   "outputs": [],
   "source": [
    "apt_trd['번'] = apt_trd['지번'].str.split('-').str[0]\n",
    "apt_trd['지'] = apt_trd['지번'].str.split('-').str[1]\n"
   ]
  },
  {
   "cell_type": "code",
   "execution_count": 71,
   "metadata": {},
   "outputs": [
    {
     "output_type": "execute_result",
     "data": {
      "text/plain": [
       "     거래금액  건축년도     년  법정동                  아파트  월   일     전용면적     지번   지역코드  \\\n",
       "0  36,400  2016  2017  소담동  새샘마을9단지(중흥S클래스 리버뷰)  1  10  84.9779    521  36110   \n",
       "1  39,282  2016  2017  소담동  새샘마을9단지(중흥S클래스 리버뷰)  1  20  84.9779    521  36110   \n",
       "2  49,000  2016  2017  소담동   새샘마을3단지(모아미래도리버시티)  1  21  97.9940  BL-M3  36110   \n",
       "\n",
       "    층 해제사유발생일 해제여부    번    지  \n",
       "0   5     NaN  NaN  521  NaN  \n",
       "1  24     NaN  NaN  521  NaN  \n",
       "2  13     NaN  NaN   BL   M3  "
      ],
      "text/html": "<div>\n<style scoped>\n    .dataframe tbody tr th:only-of-type {\n        vertical-align: middle;\n    }\n\n    .dataframe tbody tr th {\n        vertical-align: top;\n    }\n\n    .dataframe thead th {\n        text-align: right;\n    }\n</style>\n<table border=\"1\" class=\"dataframe\">\n  <thead>\n    <tr style=\"text-align: right;\">\n      <th></th>\n      <th>거래금액</th>\n      <th>건축년도</th>\n      <th>년</th>\n      <th>법정동</th>\n      <th>아파트</th>\n      <th>월</th>\n      <th>일</th>\n      <th>전용면적</th>\n      <th>지번</th>\n      <th>지역코드</th>\n      <th>층</th>\n      <th>해제사유발생일</th>\n      <th>해제여부</th>\n      <th>번</th>\n      <th>지</th>\n    </tr>\n  </thead>\n  <tbody>\n    <tr>\n      <th>0</th>\n      <td>36,400</td>\n      <td>2016</td>\n      <td>2017</td>\n      <td>소담동</td>\n      <td>새샘마을9단지(중흥S클래스 리버뷰)</td>\n      <td>1</td>\n      <td>10</td>\n      <td>84.9779</td>\n      <td>521</td>\n      <td>36110</td>\n      <td>5</td>\n      <td>NaN</td>\n      <td>NaN</td>\n      <td>521</td>\n      <td>NaN</td>\n    </tr>\n    <tr>\n      <th>1</th>\n      <td>39,282</td>\n      <td>2016</td>\n      <td>2017</td>\n      <td>소담동</td>\n      <td>새샘마을9단지(중흥S클래스 리버뷰)</td>\n      <td>1</td>\n      <td>20</td>\n      <td>84.9779</td>\n      <td>521</td>\n      <td>36110</td>\n      <td>24</td>\n      <td>NaN</td>\n      <td>NaN</td>\n      <td>521</td>\n      <td>NaN</td>\n    </tr>\n    <tr>\n      <th>2</th>\n      <td>49,000</td>\n      <td>2016</td>\n      <td>2017</td>\n      <td>소담동</td>\n      <td>새샘마을3단지(모아미래도리버시티)</td>\n      <td>1</td>\n      <td>21</td>\n      <td>97.9940</td>\n      <td>BL-M3</td>\n      <td>36110</td>\n      <td>13</td>\n      <td>NaN</td>\n      <td>NaN</td>\n      <td>BL</td>\n      <td>M3</td>\n    </tr>\n  </tbody>\n</table>\n</div>"
     },
     "metadata": {},
     "execution_count": 71
    }
   ],
   "source": [
    "apt_trd.head(3)"
   ]
  },
  {
   "cell_type": "code",
   "execution_count": 72,
   "metadata": {},
   "outputs": [],
   "source": [
    "# 염문 주소(로트) -> Nan\n",
    "apt_trd['번'] = apt_trd['번'].apply(lambda x: np.nan if not x.isnumeric() else x)\n",
    "apt_trd['지'] = apt_trd['지'].astype(str)\n",
    "apt_trd['지'] = apt_trd['지'].apply(lambda x: np.nan if not x.isnumeric() else x)\n"
   ]
  },
  {
   "cell_type": "code",
   "execution_count": 73,
   "metadata": {},
   "outputs": [],
   "source": [
    "# removing () in 'Apartment' Column\n",
    "apt_trd['아파트'] = apt_trd['아파트'].str.split('(').str[0]\n",
    "# Rename 아파트 -> 건물명\n",
    "apt_trd = apt_trd.rename(columns={'아파트': '건물명'})"
   ]
  },
  {
   "cell_type": "code",
   "execution_count": 74,
   "metadata": {},
   "outputs": [
    {
     "output_type": "execute_result",
     "data": {
      "text/plain": [
       "     거래금액  건축년도     년  법정동      건물명  월   일     전용면적     지번   지역코드   층 해제사유발생일  \\\n",
       "0  36,400  2016  2017  소담동  새샘마을9단지  1  10  84.9779    521  36110   5     NaN   \n",
       "1  39,282  2016  2017  소담동  새샘마을9단지  1  20  84.9779    521  36110  24     NaN   \n",
       "2  49,000  2016  2017  소담동  새샘마을3단지  1  21  97.9940  BL-M3  36110  13     NaN   \n",
       "\n",
       "  해제여부    번    지  \n",
       "0  NaN  521  NaN  \n",
       "1  NaN  521  NaN  \n",
       "2  NaN  NaN  NaN  "
      ],
      "text/html": "<div>\n<style scoped>\n    .dataframe tbody tr th:only-of-type {\n        vertical-align: middle;\n    }\n\n    .dataframe tbody tr th {\n        vertical-align: top;\n    }\n\n    .dataframe thead th {\n        text-align: right;\n    }\n</style>\n<table border=\"1\" class=\"dataframe\">\n  <thead>\n    <tr style=\"text-align: right;\">\n      <th></th>\n      <th>거래금액</th>\n      <th>건축년도</th>\n      <th>년</th>\n      <th>법정동</th>\n      <th>건물명</th>\n      <th>월</th>\n      <th>일</th>\n      <th>전용면적</th>\n      <th>지번</th>\n      <th>지역코드</th>\n      <th>층</th>\n      <th>해제사유발생일</th>\n      <th>해제여부</th>\n      <th>번</th>\n      <th>지</th>\n    </tr>\n  </thead>\n  <tbody>\n    <tr>\n      <th>0</th>\n      <td>36,400</td>\n      <td>2016</td>\n      <td>2017</td>\n      <td>소담동</td>\n      <td>새샘마을9단지</td>\n      <td>1</td>\n      <td>10</td>\n      <td>84.9779</td>\n      <td>521</td>\n      <td>36110</td>\n      <td>5</td>\n      <td>NaN</td>\n      <td>NaN</td>\n      <td>521</td>\n      <td>NaN</td>\n    </tr>\n    <tr>\n      <th>1</th>\n      <td>39,282</td>\n      <td>2016</td>\n      <td>2017</td>\n      <td>소담동</td>\n      <td>새샘마을9단지</td>\n      <td>1</td>\n      <td>20</td>\n      <td>84.9779</td>\n      <td>521</td>\n      <td>36110</td>\n      <td>24</td>\n      <td>NaN</td>\n      <td>NaN</td>\n      <td>521</td>\n      <td>NaN</td>\n    </tr>\n    <tr>\n      <th>2</th>\n      <td>49,000</td>\n      <td>2016</td>\n      <td>2017</td>\n      <td>소담동</td>\n      <td>새샘마을3단지</td>\n      <td>1</td>\n      <td>21</td>\n      <td>97.9940</td>\n      <td>BL-M3</td>\n      <td>36110</td>\n      <td>13</td>\n      <td>NaN</td>\n      <td>NaN</td>\n      <td>NaN</td>\n      <td>NaN</td>\n    </tr>\n  </tbody>\n</table>\n</div>"
     },
     "metadata": {},
     "execution_count": 74
    }
   ],
   "source": [
    "apt_trd.head(3)"
   ]
  },
  {
   "cell_type": "code",
   "execution_count": 75,
   "metadata": {},
   "outputs": [],
   "source": [
    "# 전유부에서 아파트 번지 가져오기\n",
    "apt_addr = b_unit[b_unit['용도코드명']=='아파트'].groupby('건물명').first().reset_index()[['건물명','번' ,'지']]"
   ]
  },
  {
   "cell_type": "code",
   "execution_count": 76,
   "metadata": {},
   "outputs": [
    {
     "output_type": "execute_result",
     "data": {
      "text/plain": [
       "    건물명     번     지\n",
       "0  101동  0528  0000\n",
       "1  102동  0528  0000\n",
       "2  103동  0528  0000"
      ],
      "text/html": "<div>\n<style scoped>\n    .dataframe tbody tr th:only-of-type {\n        vertical-align: middle;\n    }\n\n    .dataframe tbody tr th {\n        vertical-align: top;\n    }\n\n    .dataframe thead th {\n        text-align: right;\n    }\n</style>\n<table border=\"1\" class=\"dataframe\">\n  <thead>\n    <tr style=\"text-align: right;\">\n      <th></th>\n      <th>건물명</th>\n      <th>번</th>\n      <th>지</th>\n    </tr>\n  </thead>\n  <tbody>\n    <tr>\n      <th>0</th>\n      <td>101동</td>\n      <td>0528</td>\n      <td>0000</td>\n    </tr>\n    <tr>\n      <th>1</th>\n      <td>102동</td>\n      <td>0528</td>\n      <td>0000</td>\n    </tr>\n    <tr>\n      <th>2</th>\n      <td>103동</td>\n      <td>0528</td>\n      <td>0000</td>\n    </tr>\n  </tbody>\n</table>\n</div>"
     },
     "metadata": {},
     "execution_count": 76
    }
   ],
   "source": [
    "apt_addr.head(3)"
   ]
  },
  {
   "cell_type": "code",
   "execution_count": 78,
   "metadata": {},
   "outputs": [],
   "source": [
    "# 병합을 통해 건물명이 같은 데이터의 결측치 번지 정보 추가\n",
    "apt_trd = apt_trd.combine_first(apt_addr)"
   ]
  },
  {
   "cell_type": "code",
   "execution_count": 81,
   "metadata": {},
   "outputs": [
    {
     "output_type": "execute_result",
     "data": {
      "text/plain": [
       "Index(['거래금액', '건물명', '건축년도', '년', '번', '법정동', '월', '일', '전용면적', '지', '지번',\n",
       "       '지역코드', '층', '해제사유발생일', '해제여부'],\n",
       "      dtype='object')"
      ]
     },
     "metadata": {},
     "execution_count": 81
    }
   ],
   "source": [
    "apt_trd.columns"
   ]
  },
  {
   "cell_type": "code",
   "execution_count": 84,
   "metadata": {},
   "outputs": [],
   "source": [
    "# Re-order indexing\n",
    "apt_trd = apt_trd.reindex(columns=['거래금액', '건물명', '건축년도', '년', '번', '법정동', '월', '일', '전용면적', '지', '지번','번', '지', '지역코드', '층', '해제사유발생일', '해제여부'])\n",
    "\n"
   ]
  },
  {
   "cell_type": "code",
   "execution_count": 85,
   "metadata": {},
   "outputs": [
    {
     "output_type": "execute_result",
     "data": {
      "text/plain": [
       "     거래금액      건물명  건축년도     년     번  법정동  월   일     전용면적     지     지번     번  \\\n",
       "0  36,400  새샘마을9단지  2016  2017   521  소담동  1  10  84.9779  0000    521   521   \n",
       "1  39,282  새샘마을9단지  2016  2017   521  소담동  1  20  84.9779  0000    521   521   \n",
       "2  49,000  새샘마을3단지  2016  2017  0528  소담동  1  21  97.9940  0000  BL-M3  0528   \n",
       "3  40,800  새샘마을3단지  2016  2017  0528  소담동  1  25  97.9940  0000  BL-M3  0528   \n",
       "4   8,600   스타힐타워Ⅰ  2016  2017   743  보람동  1   1  16.9849  0000    743   743   \n",
       "\n",
       "      지   지역코드   층 해제사유발생일 해제여부  \n",
       "0  0000  36110   5     NaN  NaN  \n",
       "1  0000  36110  24     NaN  NaN  \n",
       "2  0000  36110  13     NaN  NaN  \n",
       "3  0000  36110   7     NaN  NaN  \n",
       "4  0000  36110   7     NaN  NaN  "
      ],
      "text/html": "<div>\n<style scoped>\n    .dataframe tbody tr th:only-of-type {\n        vertical-align: middle;\n    }\n\n    .dataframe tbody tr th {\n        vertical-align: top;\n    }\n\n    .dataframe thead th {\n        text-align: right;\n    }\n</style>\n<table border=\"1\" class=\"dataframe\">\n  <thead>\n    <tr style=\"text-align: right;\">\n      <th></th>\n      <th>거래금액</th>\n      <th>건물명</th>\n      <th>건축년도</th>\n      <th>년</th>\n      <th>번</th>\n      <th>법정동</th>\n      <th>월</th>\n      <th>일</th>\n      <th>전용면적</th>\n      <th>지</th>\n      <th>지번</th>\n      <th>번</th>\n      <th>지</th>\n      <th>지역코드</th>\n      <th>층</th>\n      <th>해제사유발생일</th>\n      <th>해제여부</th>\n    </tr>\n  </thead>\n  <tbody>\n    <tr>\n      <th>0</th>\n      <td>36,400</td>\n      <td>새샘마을9단지</td>\n      <td>2016</td>\n      <td>2017</td>\n      <td>521</td>\n      <td>소담동</td>\n      <td>1</td>\n      <td>10</td>\n      <td>84.9779</td>\n      <td>0000</td>\n      <td>521</td>\n      <td>521</td>\n      <td>0000</td>\n      <td>36110</td>\n      <td>5</td>\n      <td>NaN</td>\n      <td>NaN</td>\n    </tr>\n    <tr>\n      <th>1</th>\n      <td>39,282</td>\n      <td>새샘마을9단지</td>\n      <td>2016</td>\n      <td>2017</td>\n      <td>521</td>\n      <td>소담동</td>\n      <td>1</td>\n      <td>20</td>\n      <td>84.9779</td>\n      <td>0000</td>\n      <td>521</td>\n      <td>521</td>\n      <td>0000</td>\n      <td>36110</td>\n      <td>24</td>\n      <td>NaN</td>\n      <td>NaN</td>\n    </tr>\n    <tr>\n      <th>2</th>\n      <td>49,000</td>\n      <td>새샘마을3단지</td>\n      <td>2016</td>\n      <td>2017</td>\n      <td>0528</td>\n      <td>소담동</td>\n      <td>1</td>\n      <td>21</td>\n      <td>97.9940</td>\n      <td>0000</td>\n      <td>BL-M3</td>\n      <td>0528</td>\n      <td>0000</td>\n      <td>36110</td>\n      <td>13</td>\n      <td>NaN</td>\n      <td>NaN</td>\n    </tr>\n    <tr>\n      <th>3</th>\n      <td>40,800</td>\n      <td>새샘마을3단지</td>\n      <td>2016</td>\n      <td>2017</td>\n      <td>0528</td>\n      <td>소담동</td>\n      <td>1</td>\n      <td>25</td>\n      <td>97.9940</td>\n      <td>0000</td>\n      <td>BL-M3</td>\n      <td>0528</td>\n      <td>0000</td>\n      <td>36110</td>\n      <td>7</td>\n      <td>NaN</td>\n      <td>NaN</td>\n    </tr>\n    <tr>\n      <th>4</th>\n      <td>8,600</td>\n      <td>스타힐타워Ⅰ</td>\n      <td>2016</td>\n      <td>2017</td>\n      <td>743</td>\n      <td>보람동</td>\n      <td>1</td>\n      <td>1</td>\n      <td>16.9849</td>\n      <td>0000</td>\n      <td>743</td>\n      <td>743</td>\n      <td>0000</td>\n      <td>36110</td>\n      <td>7</td>\n      <td>NaN</td>\n      <td>NaN</td>\n    </tr>\n  </tbody>\n</table>\n</div>"
     },
     "metadata": {},
     "execution_count": 85
    }
   ],
   "source": [
    "apt_trd.head()"
   ]
  },
  {
   "cell_type": "code",
   "execution_count": 86,
   "metadata": {},
   "outputs": [],
   "source": [
    "apt_trd.to_csv('아파트_매매.csv', encoding='UTF-8-sig')"
   ]
  },
  {
   "cell_type": "code",
   "execution_count": null,
   "metadata": {},
   "outputs": [],
   "source": []
  }
 ]
}