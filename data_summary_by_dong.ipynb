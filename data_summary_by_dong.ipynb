{
  "cells": [
    {
      "cell_type": "code",
      "execution_count": 115,
      "metadata": {
        "colab": {
          "base_uri": "https://localhost:8080/"
        },
        "id": "gBa5MxqaI6U2",
        "outputId": "033660f5-d4d1-4a24-8447-a6121d614acd"
      },
      "outputs": [],
      "source": [
        "import numpy as np\r\n",
        "import pandas as pd\r\n",
        "\r\n",
        "pd.options.display.max_rows = 1000000 \r\n",
        "\r\n",
        "%matplotlib inline\r\n",
        "import matplotlib\r\n",
        "import matplotlib as mpl\r\n",
        "import matplotlib.pyplot as plt\r\n",
        "plt.rcParams['axes.unicode_minus'] = False\r\n",
        "plt.rcParams[\"font.family\"] = 'NanumBarunGothic'\r\n",
        "plt.rcParams[\"font.size\"] = 20\r\n",
        "plt.rcParams[\"figure.figsize\"] = (15,8)\r\n",
        "\r\n",
        "mpl.rc('axes', labelsize=12)\r\n",
        "mpl.rc('xtick', labelsize=8)\r\n",
        "mpl.rc('ytick', labelsize=8)\r\n",
        "\r\n",
        "import seaborn as sns\r\n",
        "#corr_set\r\n",
        "from itertools import product\r\n"
      ]
    },
    {
      "cell_type": "code",
      "execution_count": 72,
      "metadata": {
        "colab": {
          "base_uri": "https://localhost:8080/"
        },
        "id": "R2djum-6JoNG",
        "outputId": "8e82a1f3-f7d4-4636-f164-5303ed3a24e2"
      },
      "outputs": [],
      "source": [
        "#check eup-dong list\r\n",
        "sample = pd.read_csv('data/2.세종시_표제부.csv')\r\n",
        "sample['읍면동'] = sample['대지위치'].str.replace('세종특별자치시 ','')\r\n",
        "sample['읍면동'] = sample['읍면동'].str.replace('조치원읍 ','조치원읍')\r\n",
        "sample[['1', '2','3']] = sample['읍면동'].str.split(' ', n=2, expand=True)\r\n",
        "sample['2'] = sample['2'].str.replace('조치원읍','조치원읍 ')\r\n",
        "\r\n",
        "#set myn&dong\r\n",
        "list_myn = ['소정면', '연서면', '전의면', '금남면','전동면','장군면','연동면','연기면','부강면']\r\n",
        "list_dong = ['종촌동', '소담동', '보람동','다정동', '도담동', '합강동', '가람동','반곡동','나성동', \r\n",
        "              '한솔동','산울동','집현동','어진동','고운동', '아름동', '해밀동', '대평동','새롬동']"
      ]
    },
    {
      "cell_type": "code",
      "execution_count": 73,
      "metadata": {
        "id": "J0dg4h3qJ3w1"
      },
      "outputs": [],
      "source": [
        "def make_rentfee_df(a,b,c) :\r\n",
        "  df = pd.read_csv(a)\r\n",
        "  df['보증금(만원)'] = df['보증금(만원)'].str.replace(',','')\r\n",
        "  df = df.astype({'보증금(만원)' : float, '계약년월' : 'str'})\r\n",
        "  df['시군구'] = df['시군구'].str.replace('세종특별자치시 ','')\r\n",
        "  df.replace({'전세' : 'yr', '월세' : 'mth'},inplace=True)\r\n",
        "  \r\n",
        "  df_j = make_rentfee_data(df,b,'yr')\r\n",
        "  df_m = make_rentfee_data(df,b,'mth')\r\n",
        "  \r\n",
        "  d = pd.merge(c,df_j, how='outer',on='읍면동')\r\n",
        "  f = pd.merge(d,df_m, how='outer',on='읍면동')\r\n",
        "\r\n",
        "  return f\r\n",
        "\r\n",
        "def make_rentfee_data(i, b, c) :\r\n",
        "\r\n",
        "  df = i[i['전월세구분'] == c]\r\n",
        "  df[['읍면동', '2']] = df['시군구'].str.split(' ', n=1, expand=True)\r\n",
        "\r\n",
        "  df = df.groupby(['읍면동']).agg({'계약일' : 'count', '보증금(만원)':'mean'})\r\n",
        "  x = b+'_'+c+'_cnt'\r\n",
        "  y = b+'_'+c+'_price'\r\n",
        "  \r\n",
        "  df.columns = [x,y]\r\n",
        "\r\n",
        "  return df"
      ]
    },
    {
      "cell_type": "code",
      "execution_count": 85,
      "metadata": {
        "colab": {
          "base_uri": "https://localhost:8080/",
          "height": 522
        },
        "id": "TzKLOqrQJ7dq",
        "outputId": "d483035c-bba1-4202-bd2e-801b43d58949"
      },
      "outputs": [],
      "source": [
        "ofi = make_rentfee_df('data/10.세종시_오피스텔(전월세)_실거래가.csv','ofi',data_d)\r\n",
        "apt = make_rentfee_df('data/7.세종시_아파트(전월세)_실거래가.csv','apt',data_d)\r\n",
        "ali = make_rentfee_df('data/8.세종시_연립다세대(전월세)_실거래가.csv','ali',data_d)\r\n",
        "# 단독주택 제외 >> 대지단위(명확하게 비교하기가 어려움)\r\n",
        "summary = pd.merge(ofi, apt, how='outer', on='읍면동')\r\n",
        "summary = pd.merge(summary, ali, how='outer', on='읍면동')"
      ]
    },
    {
      "cell_type": "code",
      "execution_count": 96,
      "metadata": {},
      "outputs": [],
      "source": [
        "# 상권코드 정리\r\n",
        "market = pd.read_csv('data/14.세종시_상권정보.csv')\r\n",
        "code = pd.read_csv('data/15.세종시_상권정보_업종코드.csv')\r\n",
        "list_main = list(set(code['대분류코드']))\r\n",
        "list_middle = list(set(code['중분류코드']))\r\n",
        "list_middle = sorted(list_middle)"
      ]
    },
    {
      "cell_type": "code",
      "execution_count": 105,
      "metadata": {},
      "outputs": [],
      "source": [
        "def make_summary_by_location(a) :\r\n",
        "    list_data = list_dong if a == 'dong' else list_myn\r\n",
        "    a = summary[summary['읍면동'].isin(list_data)]\r\n",
        "    a = a.reset_index(drop=True)\r\n",
        "\r\n",
        "    ex = pd.DataFrame()\r\n",
        "\r\n",
        "    #market divieded\r\n",
        "    for i in a['읍면동'] :\r\n",
        "        df = market[market['행정동명']==i]\r\n",
        "        df = df.groupby('상권업종중분류코드').agg({'행정동명':'count','상권업종중분류명' : 'first','상권업종대분류코드' :'first','상권업종대분류명' : 'first'})\r\n",
        "        \r\n",
        "        df_T= df.transpose()\r\n",
        "        df_T['읍면동'] = i\r\n",
        "        df_T['total'] = df['행정동명'].sum()\r\n",
        "\r\n",
        "        list_x = df_T.iloc[0]\r\n",
        "\r\n",
        "        ex = ex.append(pd.Series(list_x), ignore_index=True)\r\n",
        "        \r\n",
        "    x = pd.merge(a,ex, how='outer', on='읍면동')\r\n",
        "    \r\n",
        "    return x"
      ]
    },
    {
      "cell_type": "code",
      "execution_count": 109,
      "metadata": {},
      "outputs": [],
      "source": [
        "# Set the data without nan at market data\r\n",
        "dong = make_summary_by_location('dong')\r\n",
        "dong_final = dong[dong['total'] != 0]\r\n",
        "myn = make_summary_by_location('myn')\r\n",
        "myn_final = myn[myn['total'] != 0]\r\n",
        "\r\n",
        "# drop ofi\r\n",
        "dong_final = dong_final.sort_index(axis=1)\r\n",
        "dong_final = dong_final.drop({'ofi_mth_price','ofi_mth_cnt','ofi_yr_price','ofi_yr_cnt'},axis = 1)\r\n",
        "\r\n",
        "myn_final = myn_final.sort_index(axis=1)\r\n",
        "myn_final = myn_final.drop({'ofi_mth_price','ofi_mth_cnt','ofi_yr_price','ofi_yr_cnt'},axis = 1)"
      ]
    },
    {
      "cell_type": "code",
      "execution_count": 66,
      "metadata": {},
      "outputs": [
        {
          "name": "stderr",
          "output_type": "stream",
          "text": [
            "<ipython-input-66-4b4dd3542c68>:2: SettingWithCopyWarning: \n",
            "A value is trying to be set on a copy of a slice from a DataFrame.\n",
            "Try using .loc[row_indexer,col_indexer] = value instead\n",
            "\n",
            "See the caveats in the documentation: https://pandas.pydata.org/pandas-docs/stable/user_guide/indexing.html#returning-a-view-versus-a-copy\n",
            "  check['code'] = check['중분류코드'] + check['중분류명']\n"
          ]
        },
        {
          "data": {
            "text/plain": "['N01PC/오락/당구/볼링등',\n 'N02무도/유흥/가무',\n 'N03연극/영화/극장',\n 'N04스포츠/운동',\n 'N05요가/단전/마사지',\n 'N06전시/관람',\n 'N07놀이/여가/취미',\n 'N08경마/경륜/성인오락']"
          },
          "execution_count": 66,
          "metadata": {},
          "output_type": "execute_result"
        }
      ],
      "source": [
        "check = code[code['대분류코드']=='N']\r\n",
        "check['code'] = check['중분류코드'] + check['중분류명']\r\n",
        "list_check = list(set(check['code']))\r\n",
        "list_check = sorted(list_check)\r\n",
        "list_check"
      ]
    },
    {
      "cell_type": "code",
      "execution_count": 110,
      "metadata": {},
      "outputs": [
        {
          "name": "stdout",
          "output_type": "stream",
          "text": [
            "O01 O05\n",
            "O ['숙박']\n",
            "D01 D26\n",
            "D ['소매']\n",
            "R01 R20\n",
            "R ['학문/교육']\n",
            "Q01 Q15\n",
            "Q ['음식']\n",
            "L01 L05\n",
            "L ['부동산']\n",
            "P01 P03\n",
            "P ['스포츠']\n",
            "N01 N08\n",
            "N ['관광/여가/오락']\n",
            "F01 F20\n",
            "F ['생활서비스']\n"
          ]
        }
      ],
      "source": [
        "for i in list_main:\r\n",
        "    df_dong01 = dong_final.loc[:,'ali_mth_cnt':]\r\n",
        "    df_myn01 = dong_final.loc[:,'ali_mth_cnt':]\r\n",
        "    \r\n",
        "    list_x = [middle for middle in list_middle if i in middle]\r\n",
        "    print(list_x[0],list_x[-1])\r\n",
        "\r\n",
        "    df_dong02 = dong_final.loc[ :,list_x[0]:list_x[-1]]\r\n",
        "    df_dong02['읍면동'] = dong_final['읍면동']\r\n",
        "    \r\n",
        "    df_myn02 = dong_final.loc[ :,list_x[0]:list_x[-1]]\r\n",
        "    df_myn02['읍면동'] = dong_final['읍면동']\r\n",
        "\r\n",
        "    corr01 = pd.merge(df01,df02,on='읍면동')\r\n",
        "    corr02 = pd.merge(df01,df02,on='읍면동')\r\n",
        "    print(i, list(set(code[code['대분류코드']==i]['대분류명'])))\r\n",
        "\r\n",
        "\r\n",
        "    corr_dong = corr01.corr(method = 'pearson')\r\n",
        "    corr_myn = corr02.corr(method = 'pearson')\r\n",
        "    corr_dong.to_csv('png/{}'.format(i)+'_dong.csv')\r\n",
        "    corr_myn.to_csv('png/{}'.format(i)+'_myn.csv')\r\n",
        "    #df_heatmap = sns.heatmap(corr)\r\n",
        "    #plt.savefig('png/{}'.format(i)+'.png')\r\n",
        "\r\n",
        "    #plt.clf()\r\n"
      ]
    },
    {
      "cell_type": "code",
      "execution_count": 112,
      "metadata": {},
      "outputs": [],
      "source": [
        "def print_corr_set(i) :\r\n",
        "    df = pd.read_csv('png/{}'.format(i)+'_dong.csv')"
      ]
    },
    {
      "cell_type": "code",
      "execution_count": 114,
      "metadata": {},
      "outputs": [
        {
          "data": {
            "text/html": "<div>\n<style scoped>\n    .dataframe tbody tr th:only-of-type {\n        vertical-align: middle;\n    }\n\n    .dataframe tbody tr th {\n        vertical-align: top;\n    }\n\n    .dataframe thead th {\n        text-align: right;\n    }\n</style>\n<table border=\"1\" class=\"dataframe\">\n  <thead>\n    <tr style=\"text-align: right;\">\n      <th></th>\n      <th>Unnamed: 0</th>\n      <th>ali_mth_cnt</th>\n      <th>ali_mth_price</th>\n      <th>ali_yr_cnt</th>\n      <th>ali_yr_price</th>\n      <th>apt_mth_cnt</th>\n      <th>apt_mth_price</th>\n      <th>apt_yr_cnt</th>\n      <th>apt_yr_price</th>\n      <th>total</th>\n      <th>...</th>\n      <th>F07</th>\n      <th>F08</th>\n      <th>F09</th>\n      <th>F11</th>\n      <th>F12</th>\n      <th>F13</th>\n      <th>F14</th>\n      <th>F15</th>\n      <th>F16</th>\n      <th>F20</th>\n    </tr>\n  </thead>\n  <tbody>\n    <tr>\n      <th>0</th>\n      <td>ali_mth_cnt</td>\n      <td>1.000000</td>\n      <td>-0.998497</td>\n      <td>-1.0</td>\n      <td>1.0</td>\n      <td>0.903559</td>\n      <td>0.856464</td>\n      <td>0.830447</td>\n      <td>0.995610</td>\n      <td>0.787496</td>\n      <td>...</td>\n      <td>NaN</td>\n      <td>NaN</td>\n      <td>NaN</td>\n      <td>NaN</td>\n      <td>1.000000</td>\n      <td>NaN</td>\n      <td>NaN</td>\n      <td>NaN</td>\n      <td>NaN</td>\n      <td>NaN</td>\n    </tr>\n    <tr>\n      <th>1</th>\n      <td>ali_mth_price</td>\n      <td>-0.998497</td>\n      <td>1.000000</td>\n      <td>-1.0</td>\n      <td>1.0</td>\n      <td>-0.878716</td>\n      <td>-0.883471</td>\n      <td>-0.798663</td>\n      <td>-0.999244</td>\n      <td>-0.752531</td>\n      <td>...</td>\n      <td>NaN</td>\n      <td>NaN</td>\n      <td>NaN</td>\n      <td>NaN</td>\n      <td>-1.000000</td>\n      <td>NaN</td>\n      <td>NaN</td>\n      <td>NaN</td>\n      <td>NaN</td>\n      <td>NaN</td>\n    </tr>\n    <tr>\n      <th>2</th>\n      <td>ali_yr_cnt</td>\n      <td>-1.000000</td>\n      <td>-1.000000</td>\n      <td>1.0</td>\n      <td>-1.0</td>\n      <td>-1.000000</td>\n      <td>1.000000</td>\n      <td>-1.000000</td>\n      <td>1.000000</td>\n      <td>-1.000000</td>\n      <td>...</td>\n      <td>NaN</td>\n      <td>NaN</td>\n      <td>NaN</td>\n      <td>NaN</td>\n      <td>NaN</td>\n      <td>NaN</td>\n      <td>NaN</td>\n      <td>NaN</td>\n      <td>NaN</td>\n      <td>NaN</td>\n    </tr>\n    <tr>\n      <th>3</th>\n      <td>ali_yr_price</td>\n      <td>1.000000</td>\n      <td>1.000000</td>\n      <td>-1.0</td>\n      <td>1.0</td>\n      <td>1.000000</td>\n      <td>-1.000000</td>\n      <td>1.000000</td>\n      <td>-1.000000</td>\n      <td>1.000000</td>\n      <td>...</td>\n      <td>NaN</td>\n      <td>NaN</td>\n      <td>NaN</td>\n      <td>NaN</td>\n      <td>NaN</td>\n      <td>NaN</td>\n      <td>NaN</td>\n      <td>NaN</td>\n      <td>NaN</td>\n      <td>NaN</td>\n    </tr>\n    <tr>\n      <th>4</th>\n      <td>apt_mth_cnt</td>\n      <td>0.903559</td>\n      <td>-0.878716</td>\n      <td>-1.0</td>\n      <td>1.0</td>\n      <td>1.000000</td>\n      <td>0.011590</td>\n      <td>0.763902</td>\n      <td>0.392595</td>\n      <td>0.372659</td>\n      <td>...</td>\n      <td>-0.189506</td>\n      <td>NaN</td>\n      <td>NaN</td>\n      <td>0.346951</td>\n      <td>0.118467</td>\n      <td>-0.298323</td>\n      <td>-0.073163</td>\n      <td>NaN</td>\n      <td>-0.999943</td>\n      <td>NaN</td>\n    </tr>\n    <tr>\n      <th>5</th>\n      <td>apt_mth_price</td>\n      <td>0.856464</td>\n      <td>-0.883471</td>\n      <td>1.0</td>\n      <td>-1.0</td>\n      <td>0.011590</td>\n      <td>1.000000</td>\n      <td>-0.351454</td>\n      <td>0.390511</td>\n      <td>0.081457</td>\n      <td>...</td>\n      <td>-0.383735</td>\n      <td>NaN</td>\n      <td>NaN</td>\n      <td>0.510238</td>\n      <td>-0.102126</td>\n      <td>-0.904461</td>\n      <td>-0.857685</td>\n      <td>NaN</td>\n      <td>0.633893</td>\n      <td>NaN</td>\n    </tr>\n    <tr>\n      <th>6</th>\n      <td>apt_yr_cnt</td>\n      <td>0.830447</td>\n      <td>-0.798663</td>\n      <td>-1.0</td>\n      <td>1.0</td>\n      <td>0.763902</td>\n      <td>-0.351454</td>\n      <td>1.000000</td>\n      <td>0.197144</td>\n      <td>0.306649</td>\n      <td>...</td>\n      <td>-0.352592</td>\n      <td>NaN</td>\n      <td>NaN</td>\n      <td>-0.033548</td>\n      <td>0.278406</td>\n      <td>-0.098446</td>\n      <td>0.554435</td>\n      <td>NaN</td>\n      <td>-0.853837</td>\n      <td>NaN</td>\n    </tr>\n    <tr>\n      <th>7</th>\n      <td>apt_yr_price</td>\n      <td>0.995610</td>\n      <td>-0.999244</td>\n      <td>1.0</td>\n      <td>-1.0</td>\n      <td>0.392595</td>\n      <td>0.390511</td>\n      <td>0.197144</td>\n      <td>1.000000</td>\n      <td>0.614235</td>\n      <td>...</td>\n      <td>0.892213</td>\n      <td>NaN</td>\n      <td>NaN</td>\n      <td>0.338988</td>\n      <td>0.544152</td>\n      <td>0.682399</td>\n      <td>0.146254</td>\n      <td>NaN</td>\n      <td>-0.117141</td>\n      <td>NaN</td>\n    </tr>\n    <tr>\n      <th>8</th>\n      <td>total</td>\n      <td>0.787496</td>\n      <td>-0.752531</td>\n      <td>-1.0</td>\n      <td>1.0</td>\n      <td>0.372659</td>\n      <td>0.081457</td>\n      <td>0.306649</td>\n      <td>0.614235</td>\n      <td>1.000000</td>\n      <td>...</td>\n      <td>0.349555</td>\n      <td>NaN</td>\n      <td>NaN</td>\n      <td>0.812399</td>\n      <td>-0.298061</td>\n      <td>0.047783</td>\n      <td>0.091688</td>\n      <td>NaN</td>\n      <td>-0.685925</td>\n      <td>NaN</td>\n    </tr>\n    <tr>\n      <th>9</th>\n      <td>F01</td>\n      <td>0.968372</td>\n      <td>-0.953240</td>\n      <td>-1.0</td>\n      <td>1.0</td>\n      <td>0.302848</td>\n      <td>0.074456</td>\n      <td>0.252707</td>\n      <td>0.457940</td>\n      <td>0.893904</td>\n      <td>...</td>\n      <td>0.424094</td>\n      <td>NaN</td>\n      <td>NaN</td>\n      <td>0.955208</td>\n      <td>-0.353798</td>\n      <td>-0.172152</td>\n      <td>-0.136646</td>\n      <td>NaN</td>\n      <td>-0.727365</td>\n      <td>NaN</td>\n    </tr>\n    <tr>\n      <th>10</th>\n      <td>F02</td>\n      <td>0.407764</td>\n      <td>-0.357103</td>\n      <td>-1.0</td>\n      <td>1.0</td>\n      <td>0.117515</td>\n      <td>-0.035412</td>\n      <td>0.194256</td>\n      <td>0.361735</td>\n      <td>0.924045</td>\n      <td>...</td>\n      <td>-0.125988</td>\n      <td>NaN</td>\n      <td>NaN</td>\n      <td>0.933419</td>\n      <td>-0.542194</td>\n      <td>0.009770</td>\n      <td>0.066111</td>\n      <td>NaN</td>\n      <td>-0.785714</td>\n      <td>NaN</td>\n    </tr>\n    <tr>\n      <th>11</th>\n      <td>F03</td>\n      <td>NaN</td>\n      <td>NaN</td>\n      <td>NaN</td>\n      <td>NaN</td>\n      <td>-0.052439</td>\n      <td>-0.789862</td>\n      <td>0.458541</td>\n      <td>0.280434</td>\n      <td>0.169322</td>\n      <td>...</td>\n      <td>NaN</td>\n      <td>NaN</td>\n      <td>NaN</td>\n      <td>-0.471405</td>\n      <td>NaN</td>\n      <td>1.000000</td>\n      <td>0.986117</td>\n      <td>NaN</td>\n      <td>NaN</td>\n      <td>NaN</td>\n    </tr>\n    <tr>\n      <th>12</th>\n      <td>F04</td>\n      <td>NaN</td>\n      <td>NaN</td>\n      <td>NaN</td>\n      <td>NaN</td>\n      <td>NaN</td>\n      <td>NaN</td>\n      <td>NaN</td>\n      <td>NaN</td>\n      <td>NaN</td>\n      <td>...</td>\n      <td>NaN</td>\n      <td>NaN</td>\n      <td>NaN</td>\n      <td>NaN</td>\n      <td>NaN</td>\n      <td>NaN</td>\n      <td>NaN</td>\n      <td>NaN</td>\n      <td>NaN</td>\n      <td>NaN</td>\n    </tr>\n    <tr>\n      <th>13</th>\n      <td>F05</td>\n      <td>NaN</td>\n      <td>NaN</td>\n      <td>NaN</td>\n      <td>NaN</td>\n      <td>NaN</td>\n      <td>NaN</td>\n      <td>NaN</td>\n      <td>NaN</td>\n      <td>NaN</td>\n      <td>...</td>\n      <td>NaN</td>\n      <td>NaN</td>\n      <td>NaN</td>\n      <td>NaN</td>\n      <td>NaN</td>\n      <td>NaN</td>\n      <td>NaN</td>\n      <td>NaN</td>\n      <td>NaN</td>\n      <td>NaN</td>\n    </tr>\n    <tr>\n      <th>14</th>\n      <td>F06</td>\n      <td>-1.000000</td>\n      <td>-1.000000</td>\n      <td>1.0</td>\n      <td>-1.0</td>\n      <td>-0.495197</td>\n      <td>0.256098</td>\n      <td>-0.573828</td>\n      <td>0.793759</td>\n      <td>0.492417</td>\n      <td>...</td>\n      <td>0.866025</td>\n      <td>NaN</td>\n      <td>NaN</td>\n      <td>0.522233</td>\n      <td>NaN</td>\n      <td>0.327327</td>\n      <td>-0.090909</td>\n      <td>NaN</td>\n      <td>0.000000</td>\n      <td>NaN</td>\n    </tr>\n    <tr>\n      <th>15</th>\n      <td>F07</td>\n      <td>NaN</td>\n      <td>NaN</td>\n      <td>NaN</td>\n      <td>NaN</td>\n      <td>-0.189506</td>\n      <td>-0.383735</td>\n      <td>-0.352592</td>\n      <td>0.892213</td>\n      <td>0.349555</td>\n      <td>...</td>\n      <td>1.000000</td>\n      <td>NaN</td>\n      <td>NaN</td>\n      <td>NaN</td>\n      <td>NaN</td>\n      <td>1.000000</td>\n      <td>NaN</td>\n      <td>NaN</td>\n      <td>NaN</td>\n      <td>NaN</td>\n    </tr>\n    <tr>\n      <th>16</th>\n      <td>F08</td>\n      <td>NaN</td>\n      <td>NaN</td>\n      <td>NaN</td>\n      <td>NaN</td>\n      <td>NaN</td>\n      <td>NaN</td>\n      <td>NaN</td>\n      <td>NaN</td>\n      <td>NaN</td>\n      <td>...</td>\n      <td>NaN</td>\n      <td>NaN</td>\n      <td>NaN</td>\n      <td>NaN</td>\n      <td>NaN</td>\n      <td>NaN</td>\n      <td>NaN</td>\n      <td>NaN</td>\n      <td>NaN</td>\n      <td>NaN</td>\n    </tr>\n    <tr>\n      <th>17</th>\n      <td>F09</td>\n      <td>NaN</td>\n      <td>NaN</td>\n      <td>NaN</td>\n      <td>NaN</td>\n      <td>NaN</td>\n      <td>NaN</td>\n      <td>NaN</td>\n      <td>NaN</td>\n      <td>NaN</td>\n      <td>...</td>\n      <td>NaN</td>\n      <td>NaN</td>\n      <td>NaN</td>\n      <td>NaN</td>\n      <td>NaN</td>\n      <td>NaN</td>\n      <td>NaN</td>\n      <td>NaN</td>\n      <td>NaN</td>\n      <td>NaN</td>\n    </tr>\n    <tr>\n      <th>18</th>\n      <td>F11</td>\n      <td>NaN</td>\n      <td>NaN</td>\n      <td>NaN</td>\n      <td>NaN</td>\n      <td>0.346951</td>\n      <td>0.510238</td>\n      <td>-0.033548</td>\n      <td>0.338988</td>\n      <td>0.812399</td>\n      <td>...</td>\n      <td>NaN</td>\n      <td>NaN</td>\n      <td>NaN</td>\n      <td>1.000000</td>\n      <td>-0.500000</td>\n      <td>-1.000000</td>\n      <td>-0.522233</td>\n      <td>NaN</td>\n      <td>NaN</td>\n      <td>NaN</td>\n    </tr>\n    <tr>\n      <th>19</th>\n      <td>F12</td>\n      <td>1.000000</td>\n      <td>-1.000000</td>\n      <td>NaN</td>\n      <td>NaN</td>\n      <td>0.118467</td>\n      <td>-0.102126</td>\n      <td>0.278406</td>\n      <td>0.544152</td>\n      <td>-0.298061</td>\n      <td>...</td>\n      <td>NaN</td>\n      <td>NaN</td>\n      <td>NaN</td>\n      <td>-0.500000</td>\n      <td>1.000000</td>\n      <td>1.000000</td>\n      <td>NaN</td>\n      <td>NaN</td>\n      <td>NaN</td>\n      <td>NaN</td>\n    </tr>\n    <tr>\n      <th>20</th>\n      <td>F13</td>\n      <td>NaN</td>\n      <td>NaN</td>\n      <td>NaN</td>\n      <td>NaN</td>\n      <td>-0.298323</td>\n      <td>-0.904461</td>\n      <td>-0.098446</td>\n      <td>0.682399</td>\n      <td>0.047783</td>\n      <td>...</td>\n      <td>1.000000</td>\n      <td>NaN</td>\n      <td>NaN</td>\n      <td>-1.000000</td>\n      <td>1.000000</td>\n      <td>1.000000</td>\n      <td>1.000000</td>\n      <td>NaN</td>\n      <td>NaN</td>\n      <td>NaN</td>\n    </tr>\n    <tr>\n      <th>21</th>\n      <td>F14</td>\n      <td>NaN</td>\n      <td>NaN</td>\n      <td>NaN</td>\n      <td>NaN</td>\n      <td>-0.073163</td>\n      <td>-0.857685</td>\n      <td>0.554435</td>\n      <td>0.146254</td>\n      <td>0.091688</td>\n      <td>...</td>\n      <td>NaN</td>\n      <td>NaN</td>\n      <td>NaN</td>\n      <td>-0.522233</td>\n      <td>NaN</td>\n      <td>1.000000</td>\n      <td>1.000000</td>\n      <td>NaN</td>\n      <td>NaN</td>\n      <td>NaN</td>\n    </tr>\n    <tr>\n      <th>22</th>\n      <td>F15</td>\n      <td>NaN</td>\n      <td>NaN</td>\n      <td>NaN</td>\n      <td>NaN</td>\n      <td>NaN</td>\n      <td>NaN</td>\n      <td>NaN</td>\n      <td>NaN</td>\n      <td>NaN</td>\n      <td>...</td>\n      <td>NaN</td>\n      <td>NaN</td>\n      <td>NaN</td>\n      <td>NaN</td>\n      <td>NaN</td>\n      <td>NaN</td>\n      <td>NaN</td>\n      <td>NaN</td>\n      <td>NaN</td>\n      <td>NaN</td>\n    </tr>\n    <tr>\n      <th>23</th>\n      <td>F16</td>\n      <td>NaN</td>\n      <td>NaN</td>\n      <td>NaN</td>\n      <td>NaN</td>\n      <td>-0.999943</td>\n      <td>0.633893</td>\n      <td>-0.853837</td>\n      <td>-0.117141</td>\n      <td>-0.685925</td>\n      <td>...</td>\n      <td>NaN</td>\n      <td>NaN</td>\n      <td>NaN</td>\n      <td>NaN</td>\n      <td>NaN</td>\n      <td>NaN</td>\n      <td>NaN</td>\n      <td>NaN</td>\n      <td>1.000000</td>\n      <td>NaN</td>\n    </tr>\n    <tr>\n      <th>24</th>\n      <td>F20</td>\n      <td>NaN</td>\n      <td>NaN</td>\n      <td>NaN</td>\n      <td>NaN</td>\n      <td>NaN</td>\n      <td>NaN</td>\n      <td>NaN</td>\n      <td>NaN</td>\n      <td>NaN</td>\n      <td>...</td>\n      <td>NaN</td>\n      <td>NaN</td>\n      <td>NaN</td>\n      <td>NaN</td>\n      <td>NaN</td>\n      <td>NaN</td>\n      <td>NaN</td>\n      <td>NaN</td>\n      <td>NaN</td>\n      <td>NaN</td>\n    </tr>\n  </tbody>\n</table>\n<p>25 rows × 26 columns</p>\n</div>",
            "text/plain": "       Unnamed: 0  ali_mth_cnt  ali_mth_price  ali_yr_cnt  ali_yr_price  \\\n0     ali_mth_cnt     1.000000      -0.998497        -1.0           1.0   \n1   ali_mth_price    -0.998497       1.000000        -1.0           1.0   \n2      ali_yr_cnt    -1.000000      -1.000000         1.0          -1.0   \n3    ali_yr_price     1.000000       1.000000        -1.0           1.0   \n4     apt_mth_cnt     0.903559      -0.878716        -1.0           1.0   \n5   apt_mth_price     0.856464      -0.883471         1.0          -1.0   \n6      apt_yr_cnt     0.830447      -0.798663        -1.0           1.0   \n7    apt_yr_price     0.995610      -0.999244         1.0          -1.0   \n8           total     0.787496      -0.752531        -1.0           1.0   \n9             F01     0.968372      -0.953240        -1.0           1.0   \n10            F02     0.407764      -0.357103        -1.0           1.0   \n11            F03          NaN            NaN         NaN           NaN   \n12            F04          NaN            NaN         NaN           NaN   \n13            F05          NaN            NaN         NaN           NaN   \n14            F06    -1.000000      -1.000000         1.0          -1.0   \n15            F07          NaN            NaN         NaN           NaN   \n16            F08          NaN            NaN         NaN           NaN   \n17            F09          NaN            NaN         NaN           NaN   \n18            F11          NaN            NaN         NaN           NaN   \n19            F12     1.000000      -1.000000         NaN           NaN   \n20            F13          NaN            NaN         NaN           NaN   \n21            F14          NaN            NaN         NaN           NaN   \n22            F15          NaN            NaN         NaN           NaN   \n23            F16          NaN            NaN         NaN           NaN   \n24            F20          NaN            NaN         NaN           NaN   \n\n    apt_mth_cnt  apt_mth_price  apt_yr_cnt  apt_yr_price     total  ...  \\\n0      0.903559       0.856464    0.830447      0.995610  0.787496  ...   \n1     -0.878716      -0.883471   -0.798663     -0.999244 -0.752531  ...   \n2     -1.000000       1.000000   -1.000000      1.000000 -1.000000  ...   \n3      1.000000      -1.000000    1.000000     -1.000000  1.000000  ...   \n4      1.000000       0.011590    0.763902      0.392595  0.372659  ...   \n5      0.011590       1.000000   -0.351454      0.390511  0.081457  ...   \n6      0.763902      -0.351454    1.000000      0.197144  0.306649  ...   \n7      0.392595       0.390511    0.197144      1.000000  0.614235  ...   \n8      0.372659       0.081457    0.306649      0.614235  1.000000  ...   \n9      0.302848       0.074456    0.252707      0.457940  0.893904  ...   \n10     0.117515      -0.035412    0.194256      0.361735  0.924045  ...   \n11    -0.052439      -0.789862    0.458541      0.280434  0.169322  ...   \n12          NaN            NaN         NaN           NaN       NaN  ...   \n13          NaN            NaN         NaN           NaN       NaN  ...   \n14    -0.495197       0.256098   -0.573828      0.793759  0.492417  ...   \n15    -0.189506      -0.383735   -0.352592      0.892213  0.349555  ...   \n16          NaN            NaN         NaN           NaN       NaN  ...   \n17          NaN            NaN         NaN           NaN       NaN  ...   \n18     0.346951       0.510238   -0.033548      0.338988  0.812399  ...   \n19     0.118467      -0.102126    0.278406      0.544152 -0.298061  ...   \n20    -0.298323      -0.904461   -0.098446      0.682399  0.047783  ...   \n21    -0.073163      -0.857685    0.554435      0.146254  0.091688  ...   \n22          NaN            NaN         NaN           NaN       NaN  ...   \n23    -0.999943       0.633893   -0.853837     -0.117141 -0.685925  ...   \n24          NaN            NaN         NaN           NaN       NaN  ...   \n\n         F07  F08  F09       F11       F12       F13       F14  F15       F16  \\\n0        NaN  NaN  NaN       NaN  1.000000       NaN       NaN  NaN       NaN   \n1        NaN  NaN  NaN       NaN -1.000000       NaN       NaN  NaN       NaN   \n2        NaN  NaN  NaN       NaN       NaN       NaN       NaN  NaN       NaN   \n3        NaN  NaN  NaN       NaN       NaN       NaN       NaN  NaN       NaN   \n4  -0.189506  NaN  NaN  0.346951  0.118467 -0.298323 -0.073163  NaN -0.999943   \n5  -0.383735  NaN  NaN  0.510238 -0.102126 -0.904461 -0.857685  NaN  0.633893   \n6  -0.352592  NaN  NaN -0.033548  0.278406 -0.098446  0.554435  NaN -0.853837   \n7   0.892213  NaN  NaN  0.338988  0.544152  0.682399  0.146254  NaN -0.117141   \n8   0.349555  NaN  NaN  0.812399 -0.298061  0.047783  0.091688  NaN -0.685925   \n9   0.424094  NaN  NaN  0.955208 -0.353798 -0.172152 -0.136646  NaN -0.727365   \n10 -0.125988  NaN  NaN  0.933419 -0.542194  0.009770  0.066111  NaN -0.785714   \n11       NaN  NaN  NaN -0.471405       NaN  1.000000  0.986117  NaN       NaN   \n12       NaN  NaN  NaN       NaN       NaN       NaN       NaN  NaN       NaN   \n13       NaN  NaN  NaN       NaN       NaN       NaN       NaN  NaN       NaN   \n14  0.866025  NaN  NaN  0.522233       NaN  0.327327 -0.090909  NaN  0.000000   \n15  1.000000  NaN  NaN       NaN       NaN  1.000000       NaN  NaN       NaN   \n16       NaN  NaN  NaN       NaN       NaN       NaN       NaN  NaN       NaN   \n17       NaN  NaN  NaN       NaN       NaN       NaN       NaN  NaN       NaN   \n18       NaN  NaN  NaN  1.000000 -0.500000 -1.000000 -0.522233  NaN       NaN   \n19       NaN  NaN  NaN -0.500000  1.000000  1.000000       NaN  NaN       NaN   \n20  1.000000  NaN  NaN -1.000000  1.000000  1.000000  1.000000  NaN       NaN   \n21       NaN  NaN  NaN -0.522233       NaN  1.000000  1.000000  NaN       NaN   \n22       NaN  NaN  NaN       NaN       NaN       NaN       NaN  NaN       NaN   \n23       NaN  NaN  NaN       NaN       NaN       NaN       NaN  NaN  1.000000   \n24       NaN  NaN  NaN       NaN       NaN       NaN       NaN  NaN       NaN   \n\n    F20  \n0   NaN  \n1   NaN  \n2   NaN  \n3   NaN  \n4   NaN  \n5   NaN  \n6   NaN  \n7   NaN  \n8   NaN  \n9   NaN  \n10  NaN  \n11  NaN  \n12  NaN  \n13  NaN  \n14  NaN  \n15  NaN  \n16  NaN  \n17  NaN  \n18  NaN  \n19  NaN  \n20  NaN  \n21  NaN  \n22  NaN  \n23  NaN  \n24  NaN  \n\n[25 rows x 26 columns]"
          },
          "execution_count": 114,
          "metadata": {},
          "output_type": "execute_result"
        }
      ],
      "source": [
        "df = pd.read_csv('png/D_Dong.csv')\r\n",
        "df"
      ]
    },
    {
      "cell_type": "code",
      "execution_count": null,
      "metadata": {},
      "outputs": [],
      "source": []
    }
  ],
  "metadata": {
    "colab": {
      "collapsed_sections": [],
      "name": "data_summary_by_dong.ipynb",
      "provenance": []
    },
    "kernelspec": {
      "display_name": "Python 3",
      "language": "python",
      "name": "python3"
    },
    "language_info": {
      "codemirror_mode": {
        "name": "ipython",
        "version": 3
      },
      "file_extension": ".py",
      "mimetype": "text/x-python",
      "name": "python",
      "nbconvert_exporter": "python",
      "pygments_lexer": "ipython3",
      "version": "3.8.5"
    }
  },
  "nbformat": 4,
  "nbformat_minor": 0
}