{
 "cells": [
  {
   "cell_type": "code",
   "execution_count": 1,
   "metadata": {},
   "outputs": [],
   "source": [
    "import pandas as pd\r\n",
    "import numpy as np\r\n",
    "import json\r\n",
    "import re\r\n",
    "from plotnine import *\r\n",
    "import plotnine\r\n",
    "\r\n",
    "\r\n",
    "%matplotlib inline\r\n",
    "import matplotlib\r\n",
    "import matplotlib as mpl\r\n",
    "import matplotlib.pyplot as plt\r\n",
    "mpl.rc('axes', labelsize=12)\r\n",
    "mpl.rc('xtick', labelsize=8)\r\n",
    "mpl.rc('ytick', labelsize=8)\r\n",
    "plt.rcParams['axes.unicode_minus'] = False\r\n",
    "plt.rcParams[\"font.family\"] = 'NanumBarunGothic'\r\n",
    "plt.rcParams[\"font.size\"] = 20\r\n",
    "plt.rcParams[\"figure.figsize\"] = (15,8)\r\n",
    "\r\n",
    "\r\n",
    "# pandas max row \r\n",
    "pd.options.display.max_rows = 3000"
   ]
  },
  {
   "cell_type": "markdown",
   "metadata": {},
   "source": [
    "## 01. 데이터셋팅\r\n",
    "\r\n",
    "- PNU 코드로 통일"
   ]
  },
  {
   "cell_type": "markdown",
   "metadata": {},
   "source": [
    "### 1. 전유부\r\n",
    "\r\n",
    "- PNU 코드 추가\r\n",
    "- apt 추출\r\n",
    "- 건물별 면적별 세대로 그룹화"
   ]
  },
  {
   "cell_type": "code",
   "execution_count": 2,
   "metadata": {},
   "outputs": [
    {
     "name": "stderr",
     "output_type": "stream",
     "text": [
      "C:\\Anaconda\\lib\\site-packages\\IPython\\core\\interactiveshell.py:3146: DtypeWarning: Columns (12) have mixed types.Specify dtype option on import or set low_memory=False.\n"
     ]
    }
   ],
   "source": [
    "# 전유부 데이터\r\n",
    "b_unit = pd.read_csv('data/전유부.csv', dtype={\r\n",
    "    '건물명':object, \r\n",
    "    '시군구코드': object, \r\n",
    "    '법정동코드' : object, \r\n",
    "    '층번호': np.int64, \r\n",
    "    '번' : object, \r\n",
    "    '지' : object, \r\n",
    "    '층구분코드': object \r\n",
    "    }\r\n",
    ")"
   ]
  },
  {
   "cell_type": "code",
   "execution_count": 3,
   "metadata": {},
   "outputs": [
    {
     "data": {
      "text/html": "<div>\n<style scoped>\n    .dataframe tbody tr th:only-of-type {\n        vertical-align: middle;\n    }\n\n    .dataframe tbody tr th {\n        vertical-align: top;\n    }\n\n    .dataframe thead th {\n        text-align: right;\n    }\n</style>\n<table border=\"1\" class=\"dataframe\">\n  <thead>\n    <tr style=\"text-align: right;\">\n      <th></th>\n      <th>대지주소</th>\n      <th>시군구코드</th>\n      <th>법정동코드</th>\n      <th>동명칭</th>\n      <th>호명칭</th>\n      <th>층구분코드</th>\n      <th>층번호</th>\n      <th>면적(전용면적)</th>\n      <th>건물명</th>\n      <th>번</th>\n      <th>지</th>\n      <th>용도코드명</th>\n      <th>주용도코드</th>\n      <th>기타용도</th>\n      <th>동</th>\n      <th>지번</th>\n      <th>PNU</th>\n    </tr>\n  </thead>\n  <tbody>\n    <tr>\n      <th>0</th>\n      <td>세종특별자치시  반곡동 4121-1002번지</td>\n      <td>36110</td>\n      <td>10100</td>\n      <td>주건축물제1동</td>\n      <td>101</td>\n      <td>20</td>\n      <td>1</td>\n      <td>3.2402</td>\n      <td>세종펠리스</td>\n      <td>4121</td>\n      <td>1002</td>\n      <td>일반음식점</td>\n      <td>4001</td>\n      <td>일반음식점(기계,전기실)</td>\n      <td>반곡동</td>\n      <td>41211002</td>\n      <td>반곡동41211002</td>\n    </tr>\n    <tr>\n      <th>1</th>\n      <td>세종특별자치시  반곡동 4121-1002번지</td>\n      <td>36110</td>\n      <td>10100</td>\n      <td>주건축물제1동</td>\n      <td>101</td>\n      <td>20</td>\n      <td>1</td>\n      <td>39.3700</td>\n      <td>세종펠리스</td>\n      <td>4121</td>\n      <td>1002</td>\n      <td>일반음식점</td>\n      <td>4001</td>\n      <td>제2종근생(일반음식점)</td>\n      <td>반곡동</td>\n      <td>41211002</td>\n      <td>반곡동41211002</td>\n    </tr>\n    <tr>\n      <th>2</th>\n      <td>세종특별자치시  반곡동 4121-1002번지</td>\n      <td>36110</td>\n      <td>10100</td>\n      <td>주건축물제1동</td>\n      <td>101</td>\n      <td>20</td>\n      <td>1</td>\n      <td>10.3346</td>\n      <td>세종펠리스</td>\n      <td>4121</td>\n      <td>1002</td>\n      <td>일반음식점</td>\n      <td>4001</td>\n      <td>일반음식점(계단실,복도등)</td>\n      <td>반곡동</td>\n      <td>41211002</td>\n      <td>반곡동41211002</td>\n    </tr>\n    <tr>\n      <th>3</th>\n      <td>세종특별자치시  반곡동 4121-1002번지</td>\n      <td>36110</td>\n      <td>10100</td>\n      <td>주건축물제1동</td>\n      <td>101</td>\n      <td>20</td>\n      <td>1</td>\n      <td>33.6765</td>\n      <td>세종펠리스</td>\n      <td>4121</td>\n      <td>1002</td>\n      <td>일반음식점</td>\n      <td>4001</td>\n      <td>일반음식점(주차장)</td>\n      <td>반곡동</td>\n      <td>41211002</td>\n      <td>반곡동41211002</td>\n    </tr>\n    <tr>\n      <th>4</th>\n      <td>세종특별자치시  반곡동 4121-1002번지</td>\n      <td>36110</td>\n      <td>10100</td>\n      <td>주건축물제1동</td>\n      <td>102</td>\n      <td>20</td>\n      <td>1</td>\n      <td>48.9500</td>\n      <td>세종펠리스</td>\n      <td>4121</td>\n      <td>1002</td>\n      <td>일반음식점</td>\n      <td>4001</td>\n      <td>제2종근생(일반음식점)</td>\n      <td>반곡동</td>\n      <td>41211002</td>\n      <td>반곡동41211002</td>\n    </tr>\n  </tbody>\n</table>\n</div>",
      "text/plain": "                       대지주소  시군구코드  법정동코드      동명칭  호명칭 층구분코드  층번호  면적(전용면적)  \\\n0  세종특별자치시  반곡동 4121-1002번지  36110  10100  주건축물제1동  101    20    1    3.2402   \n1  세종특별자치시  반곡동 4121-1002번지  36110  10100  주건축물제1동  101    20    1   39.3700   \n2  세종특별자치시  반곡동 4121-1002번지  36110  10100  주건축물제1동  101    20    1   10.3346   \n3  세종특별자치시  반곡동 4121-1002번지  36110  10100  주건축물제1동  101    20    1   33.6765   \n4  세종특별자치시  반곡동 4121-1002번지  36110  10100  주건축물제1동  102    20    1   48.9500   \n\n     건물명     번     지  용도코드명 주용도코드            기타용도    동        지번          PNU  \n0  세종펠리스  4121  1002  일반음식점  4001   일반음식점(기계,전기실)  반곡동  41211002  반곡동41211002  \n1  세종펠리스  4121  1002  일반음식점  4001    제2종근생(일반음식점)  반곡동  41211002  반곡동41211002  \n2  세종펠리스  4121  1002  일반음식점  4001  일반음식점(계단실,복도등)  반곡동  41211002  반곡동41211002  \n3  세종펠리스  4121  1002  일반음식점  4001      일반음식점(주차장)  반곡동  41211002  반곡동41211002  \n4  세종펠리스  4121  1002  일반음식점  4001    제2종근생(일반음식점)  반곡동  41211002  반곡동41211002  "
     },
     "execution_count": 3,
     "metadata": {},
     "output_type": "execute_result"
    }
   ],
   "source": [
    "# 전유부 데이터 PNU 추가\r\n",
    "b_unit['건물명'] = b_unit['건물명'].str.replace(' ','')\r\n",
    "b_unit['번'] = b_unit['번'].astype(str).str.zfill(4)\r\n",
    "b_unit['지'] = b_unit['지'].astype(str).str.zfill(4)\r\n",
    "\r\n",
    "b_unit['동'] = b_unit['대지주소'].str.replace('세종특별자치시 ',\"\")\r\n",
    "b_unit['동'] = b_unit['동'].str.split(' ').str[1]\r\n",
    "b_unit['지번'] = b_unit['번'] + b_unit['지']\r\n",
    "b_unit['PNU'] = b_unit['동'] + b_unit['번'] + b_unit['지']\r\n",
    "b_unit.head()"
   ]
  },
  {
   "cell_type": "code",
   "execution_count": 4,
   "metadata": {},
   "outputs": [
    {
     "data": {
      "text/plain": "<AxesSubplot:>"
     },
     "execution_count": 4,
     "metadata": {},
     "output_type": "execute_result"
    },
    {
     "data": {
      "image/png": "[encoded data removed]",
      "text/plain": "<Figure size 1296x432 with 2 Axes>"
     },
     "metadata": {
      "needs_background": "light"
     },
     "output_type": "display_data"
    }
   ],
   "source": [
    "# 결측치 보기\r\n",
    "import missingno as msno\r\n",
    "msno.matrix(b_unit, figsize=(18,6))"
   ]
  },
  {
   "cell_type": "code",
   "execution_count": 5,
   "metadata": {},
   "outputs": [
    {
     "data": {
      "text/plain": "array(['아파트', '공동주택(아파트)', '아파트 지하계단실', '아파트(도시형생활주택)',\n       '아파트(도시형생활주택-원룸형)', '공둥주택(아파트)', '지하주차장,아파트동출입구', '사원아파트',\n       '노인정(아파트)', '아파트 상가동', '아파트  상가동', '재동아파트상가', '아파트상가', '아파트상가내'],\n      dtype=object)"
     },
     "execution_count": 5,
     "metadata": {},
     "output_type": "execute_result"
    }
   ],
   "source": [
    "apt_unit = b_unit[b_unit['기타용도'].str.contains('아파트',na=False)]\r\n",
    "apt_unit['기타용도'].unique()"
   ]
  },
  {
   "cell_type": "code",
   "execution_count": 6,
   "metadata": {},
   "outputs": [
    {
     "data": {
      "text/plain": "array(['아파트', '공동주택(아파트)', '아파트(도시형생활주택)', '아파트(도시형생활주택-원룸형)',\n       '공둥주택(아파트)'], dtype=object)"
     },
     "execution_count": 6,
     "metadata": {},
     "output_type": "execute_result"
    }
   ],
   "source": [
    "#아파트 비해당 정보 제외\r\n",
    "non_apt = ['지하','주차장','상가','노인정','사원아파트']\r\n",
    "pattern = '|'.join(non_apt)\r\n",
    "apt_unit = apt_unit.loc[~apt_unit['기타용도'].str.contains(pattern, case = False)]\r\n",
    "apt_unit['기타용도'].unique()"
   ]
  },
  {
   "cell_type": "code",
   "execution_count": 48,
   "metadata": {},
   "outputs": [
    {
     "data": {
      "text/html": "<div>\n<style scoped>\n    .dataframe tbody tr th:only-of-type {\n        vertical-align: middle;\n    }\n\n    .dataframe tbody tr th {\n        vertical-align: top;\n    }\n\n    .dataframe thead th {\n        text-align: right;\n    }\n</style>\n<table border=\"1\" class=\"dataframe\">\n  <thead>\n    <tr style=\"text-align: right;\">\n      <th></th>\n      <th>대지주소</th>\n      <th>면적(전용면적)</th>\n      <th>동명칭</th>\n      <th>건물명</th>\n      <th>PNU</th>\n      <th>지번</th>\n      <th>법정동코드</th>\n      <th>동</th>\n    </tr>\n  </thead>\n  <tbody>\n    <tr>\n      <th>0</th>\n      <td>세종특별자치시  고운동 1386번지</td>\n      <td>59.0</td>\n      <td>508</td>\n      <td>가락마을17단지</td>\n      <td>고운동13860000</td>\n      <td>13860000</td>\n      <td>11200</td>\n      <td>고운동</td>\n    </tr>\n    <tr>\n      <th>1</th>\n      <td>세종특별자치시  고운동 1387번지</td>\n      <td>84.0</td>\n      <td>263</td>\n      <td>가락마을22단지</td>\n      <td>고운동13870000</td>\n      <td>13870000</td>\n      <td>11200</td>\n      <td>고운동</td>\n    </tr>\n    <tr>\n      <th>2</th>\n      <td>세종특별자치시  고운동 1387번지</td>\n      <td>96.0</td>\n      <td>177</td>\n      <td>가락마을22단지</td>\n      <td>고운동13870000</td>\n      <td>13870000</td>\n      <td>11200</td>\n      <td>고운동</td>\n    </tr>\n    <tr>\n      <th>3</th>\n      <td>세종특별자치시  고운동 1390번지</td>\n      <td>84.0</td>\n      <td>268</td>\n      <td>가락마을21단지</td>\n      <td>고운동13900000</td>\n      <td>13900000</td>\n      <td>11200</td>\n      <td>고운동</td>\n    </tr>\n    <tr>\n      <th>4</th>\n      <td>세종특별자치시  고운동 1390번지</td>\n      <td>99.0</td>\n      <td>138</td>\n      <td>가락마을21단지</td>\n      <td>고운동13900000</td>\n      <td>13900000</td>\n      <td>11200</td>\n      <td>고운동</td>\n    </tr>\n  </tbody>\n</table>\n</div>",
      "text/plain": "                  대지주소  면적(전용면적)  동명칭       건물명          PNU        지번  법정동코드  \\\n0  세종특별자치시  고운동 1386번지      59.0  508  가락마을17단지  고운동13860000  13860000  11200   \n1  세종특별자치시  고운동 1387번지      84.0  263  가락마을22단지  고운동13870000  13870000  11200   \n2  세종특별자치시  고운동 1387번지      96.0  177  가락마을22단지  고운동13870000  13870000  11200   \n3  세종특별자치시  고운동 1390번지      84.0  268  가락마을21단지  고운동13900000  13900000  11200   \n4  세종특별자치시  고운동 1390번지      99.0  138  가락마을21단지  고운동13900000  13900000  11200   \n\n     동  \n0  고운동  \n1  고운동  \n2  고운동  \n3  고운동  \n4  고운동  "
     },
     "execution_count": 48,
     "metadata": {},
     "output_type": "execute_result"
    }
   ],
   "source": [
    "#건물별 면적으로 groupping(1231)\r\n",
    "apt_unit['면적(전용면적)'] = np.trunc(apt_unit['면적(전용면적)']).astype(float)\r\n",
    "apt_group = apt_unit.groupby(['대지주소','면적(전용면적)']).agg({'동명칭' : 'count','건물명' : 'first','PNU' : 'first','지번' : 'first','법정동코드' : 'first',})\r\n",
    "apt_group = apt_group.reset_index(level=[0,1])\r\n",
    "apt_group['동'] = apt_group['대지주소'].str.replace('세종특별자치시 ',\"\")\r\n",
    "apt_group['동'] = apt_group['동'].str.split(' ').str[1]\r\n",
    "apt_group.head()"
   ]
  },
  {
   "cell_type": "code",
   "execution_count": 49,
   "metadata": {},
   "outputs": [
    {
     "data": {
      "text/html": "<div>\n<style scoped>\n    .dataframe tbody tr th:only-of-type {\n        vertical-align: middle;\n    }\n\n    .dataframe tbody tr th {\n        vertical-align: top;\n    }\n\n    .dataframe thead th {\n        text-align: right;\n    }\n</style>\n<table border=\"1\" class=\"dataframe\">\n  <thead>\n    <tr style=\"text-align: right;\">\n      <th></th>\n      <th>대지주소</th>\n      <th>면적(전용면적)</th>\n      <th>동명칭</th>\n      <th>건물명</th>\n      <th>PNU</th>\n      <th>지번</th>\n      <th>법정동코드</th>\n      <th>동</th>\n    </tr>\n  </thead>\n  <tbody>\n    <tr>\n      <th>521</th>\n      <td>세종특별자치시  조치원읍 번암리 66-14번지</td>\n      <td>54.0</td>\n      <td>1</td>\n      <td>NaN</td>\n      <td>조치원읍00660014</td>\n      <td>00660014</td>\n      <td>25031</td>\n      <td>조치원읍</td>\n    </tr>\n    <tr>\n      <th>522</th>\n      <td>세종특별자치시  조치원읍 번암리 66-14번지</td>\n      <td>59.0</td>\n      <td>3</td>\n      <td>NaN</td>\n      <td>조치원읍00660014</td>\n      <td>00660014</td>\n      <td>25031</td>\n      <td>조치원읍</td>\n    </tr>\n    <tr>\n      <th>523</th>\n      <td>세종특별자치시  조치원읍 번암리 66-14번지</td>\n      <td>68.0</td>\n      <td>1</td>\n      <td>NaN</td>\n      <td>조치원읍00660014</td>\n      <td>00660014</td>\n      <td>25031</td>\n      <td>조치원읍</td>\n    </tr>\n    <tr>\n      <th>524</th>\n      <td>세종특별자치시  조치원읍 번암리 66-14번지</td>\n      <td>71.0</td>\n      <td>1</td>\n      <td>NaN</td>\n      <td>조치원읍00660014</td>\n      <td>00660014</td>\n      <td>25031</td>\n      <td>조치원읍</td>\n    </tr>\n    <tr>\n      <th>525</th>\n      <td>세종특별자치시  조치원읍 번암리 66-14번지</td>\n      <td>72.0</td>\n      <td>6</td>\n      <td>NaN</td>\n      <td>조치원읍00660014</td>\n      <td>00660014</td>\n      <td>25031</td>\n      <td>조치원읍</td>\n    </tr>\n    <tr>\n      <th>526</th>\n      <td>세종특별자치시  조치원읍 번암리 66-14번지</td>\n      <td>73.0</td>\n      <td>8</td>\n      <td>NaN</td>\n      <td>조치원읍00660014</td>\n      <td>00660014</td>\n      <td>25031</td>\n      <td>조치원읍</td>\n    </tr>\n    <tr>\n      <th>527</th>\n      <td>세종특별자치시  조치원읍 번암리 66-14번지</td>\n      <td>79.0</td>\n      <td>5</td>\n      <td>NaN</td>\n      <td>조치원읍00660014</td>\n      <td>00660014</td>\n      <td>25031</td>\n      <td>조치원읍</td>\n    </tr>\n    <tr>\n      <th>580</th>\n      <td>세종특별자치시  조치원읍 정리 105-14번지</td>\n      <td>84.0</td>\n      <td>1</td>\n      <td>NaN</td>\n      <td>조치원읍01050014</td>\n      <td>01050014</td>\n      <td>25025</td>\n      <td>조치원읍</td>\n    </tr>\n    <tr>\n      <th>581</th>\n      <td>세종특별자치시  조치원읍 정리 59-1번지</td>\n      <td>59.0</td>\n      <td>22</td>\n      <td>NaN</td>\n      <td>조치원읍00590001</td>\n      <td>00590001</td>\n      <td>25025</td>\n      <td>조치원읍</td>\n    </tr>\n    <tr>\n      <th>592</th>\n      <td>세종특별자치시  조치원읍 죽림리 208-2번지</td>\n      <td>58.0</td>\n      <td>0</td>\n      <td>NaN</td>\n      <td>조치원읍02080002</td>\n      <td>02080002</td>\n      <td>25030</td>\n      <td>조치원읍</td>\n    </tr>\n    <tr>\n      <th>595</th>\n      <td>세종특별자치시  조치원읍 죽림리 389번지</td>\n      <td>84.0</td>\n      <td>172</td>\n      <td>NaN</td>\n      <td>조치원읍03890000</td>\n      <td>03890000</td>\n      <td>25030</td>\n      <td>조치원읍</td>\n    </tr>\n    <tr>\n      <th>596</th>\n      <td>세종특별자치시  조치원읍 죽림리 389번지</td>\n      <td>104.0</td>\n      <td>114</td>\n      <td>NaN</td>\n      <td>조치원읍03890000</td>\n      <td>03890000</td>\n      <td>25030</td>\n      <td>조치원읍</td>\n    </tr>\n  </tbody>\n</table>\n</div>",
      "text/plain": "                          대지주소  면적(전용면적)  동명칭  건물명           PNU        지번  \\\n521  세종특별자치시  조치원읍 번암리 66-14번지      54.0    1  NaN  조치원읍00660014  00660014   \n522  세종특별자치시  조치원읍 번암리 66-14번지      59.0    3  NaN  조치원읍00660014  00660014   \n523  세종특별자치시  조치원읍 번암리 66-14번지      68.0    1  NaN  조치원읍00660014  00660014   \n524  세종특별자치시  조치원읍 번암리 66-14번지      71.0    1  NaN  조치원읍00660014  00660014   \n525  세종특별자치시  조치원읍 번암리 66-14번지      72.0    6  NaN  조치원읍00660014  00660014   \n526  세종특별자치시  조치원읍 번암리 66-14번지      73.0    8  NaN  조치원읍00660014  00660014   \n527  세종특별자치시  조치원읍 번암리 66-14번지      79.0    5  NaN  조치원읍00660014  00660014   \n580  세종특별자치시  조치원읍 정리 105-14번지      84.0    1  NaN  조치원읍01050014  01050014   \n581    세종특별자치시  조치원읍 정리 59-1번지      59.0   22  NaN  조치원읍00590001  00590001   \n592  세종특별자치시  조치원읍 죽림리 208-2번지      58.0    0  NaN  조치원읍02080002  02080002   \n595    세종특별자치시  조치원읍 죽림리 389번지      84.0  172  NaN  조치원읍03890000  03890000   \n596    세종특별자치시  조치원읍 죽림리 389번지     104.0  114  NaN  조치원읍03890000  03890000   \n\n     법정동코드     동  \n521  25031  조치원읍  \n522  25031  조치원읍  \n523  25031  조치원읍  \n524  25031  조치원읍  \n525  25031  조치원읍  \n526  25031  조치원읍  \n527  25031  조치원읍  \n580  25025  조치원읍  \n581  25025  조치원읍  \n592  25030  조치원읍  \n595  25030  조치원읍  \n596  25030  조치원읍  "
     },
     "execution_count": 49,
     "metadata": {},
     "output_type": "execute_result"
    }
   ],
   "source": [
    "apt_group[apt_group['건물명'].isnull()]"
   ]
  },
  {
   "cell_type": "code",
   "execution_count": 516,
   "metadata": {},
   "outputs": [],
   "source": [
    "#이름변경\r\n",
    "#apt_unit['건물명'] = apt_unit['건물명'].astype(str).str.replace('금남두진리버빌아파트','두진리버빌아파트')"
   ]
  },
  {
   "cell_type": "markdown",
   "metadata": {},
   "source": [
    "### 2. apt 실거래 자료\r\n",
    "\r\n",
    "- PNU 코드 추가\r\n",
    "- apt 추출\r\n",
    "- 건물별 면적별 세대로 그룹화"
   ]
  },
  {
   "cell_type": "code",
   "execution_count": 9,
   "metadata": {},
   "outputs": [
    {
     "data": {
      "text/html": "<div>\n<style scoped>\n    .dataframe tbody tr th:only-of-type {\n        vertical-align: middle;\n    }\n\n    .dataframe tbody tr th {\n        vertical-align: top;\n    }\n\n    .dataframe thead th {\n        text-align: right;\n    }\n</style>\n<table border=\"1\" class=\"dataframe\">\n  <thead>\n    <tr style=\"text-align: right;\">\n      <th></th>\n      <th>Unnamed: 0</th>\n      <th>거래금액</th>\n      <th>건축년도</th>\n      <th>년</th>\n      <th>법정동</th>\n      <th>아파트</th>\n      <th>월</th>\n      <th>일</th>\n      <th>전용면적</th>\n      <th>지번</th>\n      <th>지역코드</th>\n      <th>층</th>\n      <th>해제사유발생일</th>\n      <th>해제여부</th>\n      <th>계약일자</th>\n    </tr>\n  </thead>\n  <tbody>\n    <tr>\n      <th>0</th>\n      <td>0</td>\n      <td>36400.0</td>\n      <td>2016</td>\n      <td>2017</td>\n      <td>소담동</td>\n      <td>새샘마을9단지(중흥S클래스리버뷰)</td>\n      <td>01</td>\n      <td>10</td>\n      <td>84.0</td>\n      <td>521</td>\n      <td>36110</td>\n      <td>5</td>\n      <td>NaN</td>\n      <td>NaN</td>\n      <td>2017-01-10</td>\n    </tr>\n    <tr>\n      <th>1</th>\n      <td>1</td>\n      <td>39282.0</td>\n      <td>2016</td>\n      <td>2017</td>\n      <td>소담동</td>\n      <td>새샘마을9단지(중흥S클래스리버뷰)</td>\n      <td>01</td>\n      <td>20</td>\n      <td>84.0</td>\n      <td>521</td>\n      <td>36110</td>\n      <td>24</td>\n      <td>NaN</td>\n      <td>NaN</td>\n      <td>2017-01-20</td>\n    </tr>\n    <tr>\n      <th>2</th>\n      <td>2</td>\n      <td>49000.0</td>\n      <td>2016</td>\n      <td>2017</td>\n      <td>소담동</td>\n      <td>새샘마을3단지(모아미래도리버시티)</td>\n      <td>01</td>\n      <td>21</td>\n      <td>97.0</td>\n      <td>BL-M3</td>\n      <td>36110</td>\n      <td>13</td>\n      <td>NaN</td>\n      <td>NaN</td>\n      <td>2017-01-21</td>\n    </tr>\n    <tr>\n      <th>3</th>\n      <td>3</td>\n      <td>40800.0</td>\n      <td>2016</td>\n      <td>2017</td>\n      <td>소담동</td>\n      <td>새샘마을3단지(모아미래도리버시티)</td>\n      <td>01</td>\n      <td>25</td>\n      <td>97.0</td>\n      <td>BL-M3</td>\n      <td>36110</td>\n      <td>7</td>\n      <td>NaN</td>\n      <td>NaN</td>\n      <td>2017-01-25</td>\n    </tr>\n    <tr>\n      <th>4</th>\n      <td>4</td>\n      <td>8600.0</td>\n      <td>2016</td>\n      <td>2017</td>\n      <td>보람동</td>\n      <td>스타힐타워Ⅰ</td>\n      <td>01</td>\n      <td>01</td>\n      <td>16.0</td>\n      <td>743</td>\n      <td>36110</td>\n      <td>7</td>\n      <td>NaN</td>\n      <td>NaN</td>\n      <td>2017-01-01</td>\n    </tr>\n  </tbody>\n</table>\n</div>",
      "text/plain": "   Unnamed: 0     거래금액  건축년도     년  법정동                 아파트   월   일  전용면적  \\\n0           0  36400.0  2016  2017  소담동  새샘마을9단지(중흥S클래스리버뷰)  01  10  84.0   \n1           1  39282.0  2016  2017  소담동  새샘마을9단지(중흥S클래스리버뷰)  01  20  84.0   \n2           2  49000.0  2016  2017  소담동  새샘마을3단지(모아미래도리버시티)  01  21  97.0   \n3           3  40800.0  2016  2017  소담동  새샘마을3단지(모아미래도리버시티)  01  25  97.0   \n4           4   8600.0  2016  2017  보람동              스타힐타워Ⅰ  01  01  16.0   \n\n      지번   지역코드   층 해제사유발생일 해제여부       계약일자  \n0    521  36110   5     NaN  NaN 2017-01-10  \n1    521  36110  24     NaN  NaN 2017-01-20  \n2  BL-M3  36110  13     NaN  NaN 2017-01-21  \n3  BL-M3  36110   7     NaN  NaN 2017-01-25  \n4    743  36110   7     NaN  NaN 2017-01-01  "
     },
     "execution_count": 9,
     "metadata": {},
     "output_type": "execute_result"
    }
   ],
   "source": [
    "# 실거래 데이터\r\n",
    "apt_trd = pd.read_csv('data/apt_trd.csv')\r\n",
    "apt_trd['거래금액'] = apt_trd['거래금액'].str.replace(',','').astype(float)\r\n",
    "apt_trd['아파트'] =apt_trd['아파트'].str.replace(' ','').astype(str)\r\n",
    "apt_trd['전용면적'] = np.trunc(apt_trd['전용면적'])\r\n",
    "apt_trd['월'] = apt_trd['월'].astype(str).str.zfill(2)\r\n",
    "apt_trd['일'] = apt_trd['일'].astype(str).str.zfill(2)\r\n",
    "\r\n",
    "apt_trd['계약일자'] = apt_trd['년'].astype(str) + apt_trd['월'] + apt_trd['일']\r\n",
    "apt_trd['계약일자'] = pd.to_datetime(apt_trd['계약일자'], format='%Y%m%d')\r\n",
    "\r\n",
    "apt_trd.head()"
   ]
  },
  {
   "cell_type": "code",
   "execution_count": 10,
   "metadata": {},
   "outputs": [
    {
     "data": {
      "text/plain": "array(['521', 'BL-M3', '743', '947', '974', '939', '971', '976', '714',\n       '750', '712', '759', '732', '649', '603', '548', '683', '690',\n       '652', '656', '654', '679', '640', '1706', '1393', '1400', '1386',\n       '1390', '1395', '1408', '1708', '1401', '1284', '1277', '1282',\n       '1356', '1339', '1276', '1297', '858', '627', '633', '853', '681',\n       '664', '855', '859', '666', '685', '456', '89', '398', '399',\n       '393', '396', '72', '92', '75-2', '542', '35-3', '244-1', '133-10',\n       '255', '970-3', '976-2', '401-48', '263', '320', '259-1', '268',\n       '622', '197-16', '586', '715', '751', '775', '613', '697', '1703',\n       '1705', '1409', '1279', '641', '636', '638', '651', '12-1', '11-1',\n       '140', '167', '21-2', '389', '213-28', '528', '713', '763', '748',\n       '845', '498-7', '121-6', '35-1', '739', '1396', '639', '346',\n       '598', '700-1', '1387', '121', '605', '561', '593', '614', '558',\n       '744', '653', '777', '764', '599', '597', '611', '3302-6', '786',\n       '554', '601', '1363', '457-2', '779', '266-8', '563', '59-1',\n       '401-173', '705', '737', '가-', '351', '706', '926', '916', '960',\n       '953', '730', '931', '918', '969', '2112', '668', '704', '1729',\n       '738', '가-4101-2', '783', '757', '1731', '2111', '가-4121-2002',\n       '가-4102-1', '970', '가-4102-2', '964', '가-4101-4', '2-11',\n       '가-4102-3', 'BL H1', '564', '1728', '1403', '1226', '940', '1724',\n       '2-3', '727', '632', '692', '6402-1', '6401-1', '539', '531',\n       '644', '24', '114-1'], dtype=object)"
     },
     "execution_count": 10,
     "metadata": {},
     "output_type": "execute_result"
    }
   ],
   "source": [
    "# 지번 아닌 값 찾기\r\n",
    "apt_trd['지번'].unique()"
   ]
  },
  {
   "cell_type": "code",
   "execution_count": 11,
   "metadata": {},
   "outputs": [],
   "source": [
    "# BL값, 가- 번지로 교체\r\n",
    "apt_trd['지번'] = apt_trd['지번'].replace('BL-M3', 550)\r\n",
    "apt_trd['지번'] = apt_trd['지번'].replace('BL H1', 738)\r\n",
    "apt_trd['지번'] = apt_trd['지번'].replace('가-4102-1', '35-5')\r\n",
    "apt_trd['지번'] = apt_trd['지번'].replace('가-4102-3', '59-7')\r\n",
    "apt_trd['지번'] = apt_trd['지번'].replace('가-4101-2', '393-1')\r\n",
    "apt_trd['지번'] = apt_trd['지번'].replace('가-4101-4', '143-1')\r\n",
    "apt_trd['지번'] = apt_trd['지번'].replace('가-4121-2002', '771-87')\r\n",
    "apt_trd['지번'] = apt_trd['지번'].replace('가-', 946)"
   ]
  },
  {
   "cell_type": "code",
   "execution_count": 12,
   "metadata": {},
   "outputs": [
    {
     "data": {
      "text/html": "<div>\n<style scoped>\n    .dataframe tbody tr th:only-of-type {\n        vertical-align: middle;\n    }\n\n    .dataframe tbody tr th {\n        vertical-align: top;\n    }\n\n    .dataframe thead th {\n        text-align: right;\n    }\n</style>\n<table border=\"1\" class=\"dataframe\">\n  <thead>\n    <tr style=\"text-align: right;\">\n      <th></th>\n      <th>Unnamed: 0</th>\n      <th>거래금액</th>\n      <th>건축년도</th>\n      <th>년</th>\n      <th>법정동</th>\n      <th>아파트</th>\n      <th>월</th>\n      <th>일</th>\n      <th>전용면적</th>\n      <th>지번</th>\n      <th>지역코드</th>\n      <th>층</th>\n      <th>해제사유발생일</th>\n      <th>해제여부</th>\n      <th>계약일자</th>\n      <th>번</th>\n      <th>지</th>\n      <th>PNU</th>\n    </tr>\n  </thead>\n  <tbody>\n    <tr>\n      <th>0</th>\n      <td>0</td>\n      <td>36400.0</td>\n      <td>2016</td>\n      <td>2017</td>\n      <td>소담동</td>\n      <td>새샘마을9단지(중흥S클래스리버뷰)</td>\n      <td>01</td>\n      <td>10</td>\n      <td>84.0</td>\n      <td>521</td>\n      <td>36110</td>\n      <td>5</td>\n      <td>NaN</td>\n      <td>NaN</td>\n      <td>2017-01-10</td>\n      <td>0521</td>\n      <td>0000</td>\n      <td>소담동05210000</td>\n    </tr>\n    <tr>\n      <th>1</th>\n      <td>1</td>\n      <td>39282.0</td>\n      <td>2016</td>\n      <td>2017</td>\n      <td>소담동</td>\n      <td>새샘마을9단지(중흥S클래스리버뷰)</td>\n      <td>01</td>\n      <td>20</td>\n      <td>84.0</td>\n      <td>521</td>\n      <td>36110</td>\n      <td>24</td>\n      <td>NaN</td>\n      <td>NaN</td>\n      <td>2017-01-20</td>\n      <td>0521</td>\n      <td>0000</td>\n      <td>소담동05210000</td>\n    </tr>\n    <tr>\n      <th>2</th>\n      <td>2</td>\n      <td>49000.0</td>\n      <td>2016</td>\n      <td>2017</td>\n      <td>소담동</td>\n      <td>새샘마을3단지(모아미래도리버시티)</td>\n      <td>01</td>\n      <td>21</td>\n      <td>97.0</td>\n      <td>550</td>\n      <td>36110</td>\n      <td>13</td>\n      <td>NaN</td>\n      <td>NaN</td>\n      <td>2017-01-21</td>\n      <td>0550</td>\n      <td>0000</td>\n      <td>소담동05500000</td>\n    </tr>\n    <tr>\n      <th>3</th>\n      <td>3</td>\n      <td>40800.0</td>\n      <td>2016</td>\n      <td>2017</td>\n      <td>소담동</td>\n      <td>새샘마을3단지(모아미래도리버시티)</td>\n      <td>01</td>\n      <td>25</td>\n      <td>97.0</td>\n      <td>550</td>\n      <td>36110</td>\n      <td>7</td>\n      <td>NaN</td>\n      <td>NaN</td>\n      <td>2017-01-25</td>\n      <td>0550</td>\n      <td>0000</td>\n      <td>소담동05500000</td>\n    </tr>\n    <tr>\n      <th>4</th>\n      <td>4</td>\n      <td>8600.0</td>\n      <td>2016</td>\n      <td>2017</td>\n      <td>보람동</td>\n      <td>스타힐타워Ⅰ</td>\n      <td>01</td>\n      <td>01</td>\n      <td>16.0</td>\n      <td>743</td>\n      <td>36110</td>\n      <td>7</td>\n      <td>NaN</td>\n      <td>NaN</td>\n      <td>2017-01-01</td>\n      <td>0743</td>\n      <td>0000</td>\n      <td>보람동07430000</td>\n    </tr>\n  </tbody>\n</table>\n</div>",
      "text/plain": "   Unnamed: 0     거래금액  건축년도     년  법정동                 아파트   월   일  전용면적  \\\n0           0  36400.0  2016  2017  소담동  새샘마을9단지(중흥S클래스리버뷰)  01  10  84.0   \n1           1  39282.0  2016  2017  소담동  새샘마을9단지(중흥S클래스리버뷰)  01  20  84.0   \n2           2  49000.0  2016  2017  소담동  새샘마을3단지(모아미래도리버시티)  01  21  97.0   \n3           3  40800.0  2016  2017  소담동  새샘마을3단지(모아미래도리버시티)  01  25  97.0   \n4           4   8600.0  2016  2017  보람동              스타힐타워Ⅰ  01  01  16.0   \n\n    지번   지역코드   층 해제사유발생일 해제여부       계약일자     번     지          PNU  \n0  521  36110   5     NaN  NaN 2017-01-10  0521  0000  소담동05210000  \n1  521  36110  24     NaN  NaN 2017-01-20  0521  0000  소담동05210000  \n2  550  36110  13     NaN  NaN 2017-01-21  0550  0000  소담동05500000  \n3  550  36110   7     NaN  NaN 2017-01-25  0550  0000  소담동05500000  \n4  743  36110   7     NaN  NaN 2017-01-01  0743  0000  보람동07430000  "
     },
     "execution_count": 12,
     "metadata": {},
     "output_type": "execute_result"
    }
   ],
   "source": [
    "#PNU코드 생성\r\n",
    "apt_trd['번'] = apt_trd['지번'].astype(str).str.split('-').str[0]\r\n",
    "apt_trd['지'] = apt_trd['지번'].astype(str).str.split('-').str[1]\r\n",
    "apt_trd['번'] = apt_trd['번'].fillna(0)\r\n",
    "apt_trd['지'] = apt_trd['지'].fillna(0)\r\n",
    "apt_trd['번'] = apt_trd['번'].astype(str).str.zfill(4)\r\n",
    "apt_trd['지'] = apt_trd['지'].astype(str).str.zfill(4)\r\n",
    "apt_trd['PNU'] = apt_trd['법정동'].astype(str) + apt_trd['번'] + apt_trd['지']\r\n",
    "apt_trd.head()"
   ]
  },
  {
   "cell_type": "code",
   "execution_count": 13,
   "metadata": {},
   "outputs": [
    {
     "data": {
      "text/plain": "nan"
     },
     "execution_count": 13,
     "metadata": {},
     "output_type": "execute_result"
    }
   ],
   "source": [
    "#PNU기준으로 건물명 통일하기\r\n",
    "PUN_col = ['PNU','아파트','번','지']\r\n",
    "PNU = apt_trd[PUN_col].drop_duplicates()\r\n",
    "PNU = PNU.set_index('PNU')\r\n",
    "PNU = PNU.transpose()\r\n",
    "\r\n",
    "PNU = PNU.to_dict()\r\n",
    "apt_group['건물명'].iloc[523]"
   ]
  },
  {
   "cell_type": "code",
   "execution_count": 31,
   "metadata": {},
   "outputs": [
    {
     "data": {
      "text/plain": "True"
     },
     "execution_count": 31,
     "metadata": {},
     "output_type": "execute_result"
    }
   ],
   "source": [
    "apt_trd[apt_trd['아파트'].str.contains(bid_new)]"
   ]
  },
  {
   "cell_type": "code",
   "execution_count": 54,
   "metadata": {},
   "outputs": [
    {
     "name": "stderr",
     "output_type": "stream",
     "text": [
      "C:\\Anaconda\\lib\\site-packages\\pandas\\core\\indexing.py:670: SettingWithCopyWarning: \n",
      "A value is trying to be set on a copy of a slice from a DataFrame\n",
      "\n",
      "See the caveats in the documentation: https://pandas.pydata.org/pandas-docs/stable/user_guide/indexing.html#returning-a-view-versus-a-copy\n"
     ]
    },
    {
     "data": {
      "text/html": "<div>\n<style scoped>\n    .dataframe tbody tr th:only-of-type {\n        vertical-align: middle;\n    }\n\n    .dataframe tbody tr th {\n        vertical-align: top;\n    }\n\n    .dataframe thead th {\n        text-align: right;\n    }\n</style>\n<table border=\"1\" class=\"dataframe\">\n  <thead>\n    <tr style=\"text-align: right;\">\n      <th></th>\n      <th>대지주소</th>\n      <th>면적(전용면적)</th>\n      <th>동명칭</th>\n      <th>건물명</th>\n      <th>PNU</th>\n      <th>지번</th>\n      <th>법정동코드</th>\n      <th>동</th>\n    </tr>\n  </thead>\n  <tbody>\n    <tr>\n      <th>725</th>\n      <td>세종특별자치시  해밀동 블록 행정중심복합도시 6-4생활권지구 M1블록블록</td>\n      <td>66.0</td>\n      <td>3</td>\n      <td>해밀마을2단지</td>\n      <td>해밀동64020001</td>\n      <td>64020001</td>\n      <td>11600</td>\n      <td>해밀동</td>\n    </tr>\n    <tr>\n      <th>726</th>\n      <td>세종특별자치시  해밀동 블록 행정중심복합도시 6-4생활권지구 M1블록블록</td>\n      <td>84.0</td>\n      <td>561</td>\n      <td>해밀마을2단지</td>\n      <td>해밀동64020001</td>\n      <td>64020001</td>\n      <td>11600</td>\n      <td>해밀동</td>\n    </tr>\n    <tr>\n      <th>727</th>\n      <td>세종특별자치시  해밀동 블록 행정중심복합도시 6-4생활권지구 M1블록블록</td>\n      <td>102.0</td>\n      <td>234</td>\n      <td>해밀마을2단지</td>\n      <td>해밀동64020001</td>\n      <td>64020001</td>\n      <td>11600</td>\n      <td>해밀동</td>\n    </tr>\n    <tr>\n      <th>728</th>\n      <td>세종특별자치시  해밀동 블록 행정중심복합도시 6-4생활권지구 M1블록블록</td>\n      <td>112.0</td>\n      <td>186</td>\n      <td>해밀마을2단지</td>\n      <td>해밀동64020001</td>\n      <td>64020001</td>\n      <td>11600</td>\n      <td>해밀동</td>\n    </tr>\n    <tr>\n      <th>729</th>\n      <td>세종특별자치시  해밀동 블록 행정중심복합도시 6-4생활권지구 M1블록블록</td>\n      <td>120.0</td>\n      <td>50</td>\n      <td>해밀마을2단지</td>\n      <td>해밀동64020001</td>\n      <td>64020001</td>\n      <td>11600</td>\n      <td>해밀동</td>\n    </tr>\n  </tbody>\n</table>\n</div>",
      "text/plain": "                                         대지주소  면적(전용면적)  동명칭      건물명  \\\n725  세종특별자치시  해밀동 블록 행정중심복합도시 6-4생활권지구 M1블록블록      66.0    3  해밀마을2단지   \n726  세종특별자치시  해밀동 블록 행정중심복합도시 6-4생활권지구 M1블록블록      84.0  561  해밀마을2단지   \n727  세종특별자치시  해밀동 블록 행정중심복합도시 6-4생활권지구 M1블록블록     102.0  234  해밀마을2단지   \n728  세종특별자치시  해밀동 블록 행정중심복합도시 6-4생활권지구 M1블록블록     112.0  186  해밀마을2단지   \n729  세종특별자치시  해밀동 블록 행정중심복합도시 6-4생활권지구 M1블록블록     120.0   50  해밀마을2단지   \n\n             PNU        지번  법정동코드    동  \n725  해밀동64020001  64020001  11600  해밀동  \n726  해밀동64020001  64020001  11600  해밀동  \n727  해밀동64020001  64020001  11600  해밀동  \n728  해밀동64020001  64020001  11600  해밀동  \n729  해밀동64020001  64020001  11600  해밀동  "
     },
     "metadata": {},
     "output_type": "display_data"
    },
    {
     "data": {
      "text/html": "<div>\n<style scoped>\n    .dataframe tbody tr th:only-of-type {\n        vertical-align: middle;\n    }\n\n    .dataframe tbody tr th {\n        vertical-align: top;\n    }\n\n    .dataframe thead th {\n        text-align: right;\n    }\n</style>\n<table border=\"1\" class=\"dataframe\">\n  <thead>\n    <tr style=\"text-align: right;\">\n      <th></th>\n      <th>대지주소</th>\n      <th>면적(전용면적)</th>\n      <th>동명칭</th>\n      <th>건물명</th>\n      <th>PNU</th>\n      <th>지번</th>\n      <th>법정동코드</th>\n      <th>동</th>\n    </tr>\n  </thead>\n  <tbody>\n    <tr>\n      <th>83</th>\n      <td>세종특별자치시  나성동 블록 2-4생활권 P4구역지구 HC3블록블록</td>\n      <td>84.0</td>\n      <td>170</td>\n      <td>나릿재마을1단지</td>\n      <td>나성동00000000</td>\n      <td>00000000</td>\n      <td>10700</td>\n      <td>나성동</td>\n    </tr>\n    <tr>\n      <th>84</th>\n      <td>세종특별자치시  나성동 블록 2-4생활권 P4구역지구 HC3블록블록</td>\n      <td>99.0</td>\n      <td>137</td>\n      <td>나릿재마을1단지</td>\n      <td>나성동00000000</td>\n      <td>00000000</td>\n      <td>10700</td>\n      <td>나성동</td>\n    </tr>\n    <tr>\n      <th>85</th>\n      <td>세종특별자치시  나성동 블록 2-4생활권 P4구역지구 HC3블록블록</td>\n      <td>112.0</td>\n      <td>35</td>\n      <td>나릿재마을1단지</td>\n      <td>나성동00000000</td>\n      <td>00000000</td>\n      <td>10700</td>\n      <td>나성동</td>\n    </tr>\n    <tr>\n      <th>86</th>\n      <td>세종특별자치시  나성동 블록 2-4생활권 P4구역지구 HC3블록블록</td>\n      <td>145.0</td>\n      <td>1</td>\n      <td>나릿재마을1단지</td>\n      <td>나성동00000000</td>\n      <td>00000000</td>\n      <td>10700</td>\n      <td>나성동</td>\n    </tr>\n    <tr>\n      <th>141</th>\n      <td>세종특별자치시  다정동 블록 행정중심복합도시 2-1생활권 내지구 M6BL블록</td>\n      <td>26.0</td>\n      <td>516</td>\n      <td>가온마을7단지</td>\n      <td>다정동00000000</td>\n      <td>00000000</td>\n      <td>10900</td>\n      <td>다정동</td>\n    </tr>\n  </tbody>\n</table>\n</div>",
      "text/plain": "                                           대지주소  면적(전용면적)  동명칭       건물명  \\\n83        세종특별자치시  나성동 블록 2-4생활권 P4구역지구 HC3블록블록      84.0  170  나릿재마을1단지   \n84        세종특별자치시  나성동 블록 2-4생활권 P4구역지구 HC3블록블록      99.0  137  나릿재마을1단지   \n85        세종특별자치시  나성동 블록 2-4생활권 P4구역지구 HC3블록블록     112.0   35  나릿재마을1단지   \n86        세종특별자치시  나성동 블록 2-4생활권 P4구역지구 HC3블록블록     145.0    1  나릿재마을1단지   \n141  세종특별자치시  다정동 블록 행정중심복합도시 2-1생활권 내지구 M6BL블록      26.0  516   가온마을7단지   \n\n             PNU        지번  법정동코드    동  \n83   나성동00000000  00000000  10700  나성동  \n84   나성동00000000  00000000  10700  나성동  \n85   나성동00000000  00000000  10700  나성동  \n86   나성동00000000  00000000  10700  나성동  \n141  다정동00000000  00000000  10900  다정동  "
     },
     "metadata": {},
     "output_type": "display_data"
    }
   ],
   "source": [
    "# 건물명, PNU 정보 통일\r\n",
    "invaild = pd.DataFrame(columns=apt_group.columns)\r\n",
    "for i in apt_group.index :\r\n",
    "    \r\n",
    "    pnu_value = apt_group['PNU'].iloc[i]\r\n",
    "    bid_error = apt_group['건물명'].iloc[i]\r\n",
    "\r\n",
    "    bid_df = apt_trd[apt_trd['아파트'] == bid_error]\r\n",
    "    dong = apt_group['동'].iloc[i][:-1]\r\n",
    "    \r\n",
    "    bid_new = 'pass' if type(apt_group['건물명'].iloc[i]) == float else bid_error.replace(dong,'')\r\n",
    "    bid_new = bid_new.replace('아파트','')\r\n",
    "\r\n",
    "    #건물명, 지번 거래정보 기준으로 교체(단, 거래가 발생한 케이스만)\r\n",
    "    #(1). PNU 정보 기준으로 건물명 바꾸기(group의 번지가 있는 케이스)\r\n",
    "    if pnu_value in PNU :\r\n",
    "        apt_group['건물명'].iloc[i] = PNU.get(pnu_value)['아파트']\r\n",
    "    \r\n",
    "    #(2). 건물명 정보 기준으로 PNU 정보 바꾸기(group의 번지가 누락된 케이스)\r\n",
    "    #(3) 건물명에 동이름이 포함된 경우, trd 기준으로 정보 변경\r\n",
    "\r\n",
    "    # >> 정규식으로 바꾸기\r\n",
    "    elif len(bid_df) != 0:\r\n",
    "\r\n",
    "        bid = apt_trd[apt_trd['아파트'].str.contains(bid_error)].iloc[0]\r\n",
    "        apt_group['PNU'].iloc[i] = bid['PNU']\r\n",
    "        apt_group['지번'].iloc[i] =bid['번'] + bid['지']\r\n",
    "    \r\n",
    "    elif len(apt_trd[apt_trd['아파트'].str.contains(bid_new)]) != 0 :\r\n",
    "\r\n",
    "        bid = apt_trd[apt_trd['아파트'].str.contains(bid_new)].iloc[0]\r\n",
    "        apt_group['PNU'].iloc[i] = bid['PNU']\r\n",
    "        apt_group['지번'].iloc[i] =bid['번'] + bid['지']\r\n",
    "\r\n",
    "    else :\r\n",
    "        #print(i, apt_group['건물명'].iloc[i], apt_group['PNU'].iloc[i])\r\n",
    "        invaild.loc[i] = apt_group.iloc[i]\r\n",
    "display(apt_group.tail(), invaild.head())"
   ]
  },
  {
   "cell_type": "code",
   "execution_count": 55,
   "metadata": {},
   "outputs": [
    {
     "data": {
      "text/plain": "array(['나릿재마을1단지', '가온마을7단지', '가온마을9단지', '해들마을5단지', '도램마을8단지', '행복아파트2차',\n       '도램마을6단지', '수루배마을5단지', '호려울마을9단지', '호려울마을2단지', 'TrueLight-A',\n       '미래로아파트', '새뜸마을7단지', '새뜸마을8단지', '새샘마을2단지', '102동', '104동',\n       '범지기마을5단지', '범지기마을6단지', '한뜰마을1단지', '세종청정아파트', '충룡아파트',\n       '영조정보마을임대아파트', '금암그린임대아파트', '107동', '108동', '현대APT', '세종2차굿애플',\n       '청송아파트', nan, '번암리리치빌3차임대아파트', '번암리리치빌2차임대아파트', '번암리리치빌1차임대아파트',\n       '세종1차굿애플허브', '서창리예원드림빌도시형생활주택', '세종서창행복주택', '일신유니-빌아파트',\n       'e-편한세상세종', '신흥사랑주택', '군인아파트', '신흥푸르지오', '조치원신흥e-편한세상아파트', '대도APT',\n       '정리풍산아파트', '죽림우방유쉘', '가재마을1단지'], dtype=object)"
     },
     "execution_count": 55,
     "metadata": {},
     "output_type": "execute_result"
    }
   ],
   "source": [
    "invaild['건물명'].unique()"
   ]
  },
  {
   "cell_type": "code",
   "execution_count": 566,
   "metadata": {},
   "outputs": [
    {
     "name": "stderr",
     "output_type": "stream",
     "text": [
      "C:\\Anaconda\\lib\\site-packages\\pandas\\core\\strings.py:2001: UserWarning: This pattern has match groups. To actually get the groups, use str.extract.\n",
      "C:\\Anaconda\\lib\\site-packages\\pandas\\core\\strings.py:2001: UserWarning: This pattern has match groups. To actually get the groups, use str.extract.\n",
      "C:\\Anaconda\\lib\\site-packages\\pandas\\core\\strings.py:2001: UserWarning: This pattern has match groups. To actually get the groups, use str.extract.\n",
      "C:\\Anaconda\\lib\\site-packages\\pandas\\core\\strings.py:2001: UserWarning: This pattern has match groups. To actually get the groups, use str.extract.\n",
      "C:\\Anaconda\\lib\\site-packages\\pandas\\core\\strings.py:2001: UserWarning: This pattern has match groups. To actually get the groups, use str.extract.\n",
      "C:\\Anaconda\\lib\\site-packages\\pandas\\core\\strings.py:2001: UserWarning: This pattern has match groups. To actually get the groups, use str.extract.\n",
      "C:\\Anaconda\\lib\\site-packages\\pandas\\core\\strings.py:2001: UserWarning: This pattern has match groups. To actually get the groups, use str.extract.\n",
      "C:\\Anaconda\\lib\\site-packages\\pandas\\core\\strings.py:2001: UserWarning: This pattern has match groups. To actually get the groups, use str.extract.\n",
      "C:\\Anaconda\\lib\\site-packages\\pandas\\core\\strings.py:2001: UserWarning: This pattern has match groups. To actually get the groups, use str.extract.\n",
      "C:\\Anaconda\\lib\\site-packages\\pandas\\core\\strings.py:2001: UserWarning: This pattern has match groups. To actually get the groups, use str.extract.\n",
      "C:\\Anaconda\\lib\\site-packages\\pandas\\core\\strings.py:2001: UserWarning: This pattern has match groups. To actually get the groups, use str.extract.\n",
      "C:\\Anaconda\\lib\\site-packages\\pandas\\core\\strings.py:2001: UserWarning: This pattern has match groups. To actually get the groups, use str.extract.\n",
      "C:\\Anaconda\\lib\\site-packages\\pandas\\core\\strings.py:2001: UserWarning: This pattern has match groups. To actually get the groups, use str.extract.\n",
      "C:\\Anaconda\\lib\\site-packages\\pandas\\core\\strings.py:2001: UserWarning: This pattern has match groups. To actually get the groups, use str.extract.\n",
      "C:\\Anaconda\\lib\\site-packages\\pandas\\core\\strings.py:2001: UserWarning: This pattern has match groups. To actually get the groups, use str.extract.\n",
      "C:\\Anaconda\\lib\\site-packages\\pandas\\core\\strings.py:2001: UserWarning: This pattern has match groups. To actually get the groups, use str.extract.\n",
      "C:\\Anaconda\\lib\\site-packages\\pandas\\core\\strings.py:2001: UserWarning: This pattern has match groups. To actually get the groups, use str.extract.\n",
      "C:\\Anaconda\\lib\\site-packages\\pandas\\core\\strings.py:2001: UserWarning: This pattern has match groups. To actually get the groups, use str.extract.\n",
      "C:\\Anaconda\\lib\\site-packages\\pandas\\core\\strings.py:2001: UserWarning: This pattern has match groups. To actually get the groups, use str.extract.\n",
      "C:\\Anaconda\\lib\\site-packages\\pandas\\core\\strings.py:2001: UserWarning: This pattern has match groups. To actually get the groups, use str.extract.\n",
      "C:\\Anaconda\\lib\\site-packages\\pandas\\core\\strings.py:2001: UserWarning: This pattern has match groups. To actually get the groups, use str.extract.\n",
      "C:\\Anaconda\\lib\\site-packages\\pandas\\core\\strings.py:2001: UserWarning: This pattern has match groups. To actually get the groups, use str.extract.\n",
      "C:\\Anaconda\\lib\\site-packages\\pandas\\core\\strings.py:2001: UserWarning: This pattern has match groups. To actually get the groups, use str.extract.\n",
      "C:\\Anaconda\\lib\\site-packages\\pandas\\core\\strings.py:2001: UserWarning: This pattern has match groups. To actually get the groups, use str.extract.\n",
      "C:\\Anaconda\\lib\\site-packages\\pandas\\core\\strings.py:2001: UserWarning: This pattern has match groups. To actually get the groups, use str.extract.\n",
      "C:\\Anaconda\\lib\\site-packages\\pandas\\core\\strings.py:2001: UserWarning: This pattern has match groups. To actually get the groups, use str.extract.\n",
      "C:\\Anaconda\\lib\\site-packages\\pandas\\core\\strings.py:2001: UserWarning: This pattern has match groups. To actually get the groups, use str.extract.\n",
      "C:\\Anaconda\\lib\\site-packages\\pandas\\core\\strings.py:2001: UserWarning: This pattern has match groups. To actually get the groups, use str.extract.\n",
      "C:\\Anaconda\\lib\\site-packages\\pandas\\core\\strings.py:2001: UserWarning: This pattern has match groups. To actually get the groups, use str.extract.\n",
      "C:\\Anaconda\\lib\\site-packages\\pandas\\core\\strings.py:2001: UserWarning: This pattern has match groups. To actually get the groups, use str.extract.\n",
      "C:\\Anaconda\\lib\\site-packages\\pandas\\core\\strings.py:2001: UserWarning: This pattern has match groups. To actually get the groups, use str.extract.\n",
      "C:\\Anaconda\\lib\\site-packages\\pandas\\core\\strings.py:2001: UserWarning: This pattern has match groups. To actually get the groups, use str.extract.\n",
      "C:\\Anaconda\\lib\\site-packages\\pandas\\core\\strings.py:2001: UserWarning: This pattern has match groups. To actually get the groups, use str.extract.\n",
      "C:\\Anaconda\\lib\\site-packages\\pandas\\core\\strings.py:2001: UserWarning: This pattern has match groups. To actually get the groups, use str.extract.\n",
      "C:\\Anaconda\\lib\\site-packages\\pandas\\core\\strings.py:2001: UserWarning: This pattern has match groups. To actually get the groups, use str.extract.\n",
      "C:\\Anaconda\\lib\\site-packages\\pandas\\core\\strings.py:2001: UserWarning: This pattern has match groups. To actually get the groups, use str.extract.\n",
      "C:\\Anaconda\\lib\\site-packages\\pandas\\core\\strings.py:2001: UserWarning: This pattern has match groups. To actually get the groups, use str.extract.\n",
      "C:\\Anaconda\\lib\\site-packages\\pandas\\core\\strings.py:2001: UserWarning: This pattern has match groups. To actually get the groups, use str.extract.\n",
      "C:\\Anaconda\\lib\\site-packages\\pandas\\core\\strings.py:2001: UserWarning: This pattern has match groups. To actually get the groups, use str.extract.\n",
      "C:\\Anaconda\\lib\\site-packages\\pandas\\core\\strings.py:2001: UserWarning: This pattern has match groups. To actually get the groups, use str.extract.\n",
      "C:\\Anaconda\\lib\\site-packages\\pandas\\core\\strings.py:2001: UserWarning: This pattern has match groups. To actually get the groups, use str.extract.\n",
      "C:\\Anaconda\\lib\\site-packages\\pandas\\core\\strings.py:2001: UserWarning: This pattern has match groups. To actually get the groups, use str.extract.\n",
      "C:\\Anaconda\\lib\\site-packages\\pandas\\core\\strings.py:2001: UserWarning: This pattern has match groups. To actually get the groups, use str.extract.\n",
      "C:\\Anaconda\\lib\\site-packages\\pandas\\core\\strings.py:2001: UserWarning: This pattern has match groups. To actually get the groups, use str.extract.\n",
      "C:\\Anaconda\\lib\\site-packages\\pandas\\core\\strings.py:2001: UserWarning: This pattern has match groups. To actually get the groups, use str.extract.\n",
      "C:\\Anaconda\\lib\\site-packages\\pandas\\core\\strings.py:2001: UserWarning: This pattern has match groups. To actually get the groups, use str.extract.\n",
      "C:\\Anaconda\\lib\\site-packages\\pandas\\core\\strings.py:2001: UserWarning: This pattern has match groups. To actually get the groups, use str.extract.\n",
      "C:\\Anaconda\\lib\\site-packages\\pandas\\core\\strings.py:2001: UserWarning: This pattern has match groups. To actually get the groups, use str.extract.\n",
      "C:\\Anaconda\\lib\\site-packages\\pandas\\core\\strings.py:2001: UserWarning: This pattern has match groups. To actually get the groups, use str.extract.\n",
      "C:\\Anaconda\\lib\\site-packages\\pandas\\core\\strings.py:2001: UserWarning: This pattern has match groups. To actually get the groups, use str.extract.\n",
      "C:\\Anaconda\\lib\\site-packages\\pandas\\core\\strings.py:2001: UserWarning: This pattern has match groups. To actually get the groups, use str.extract.\n",
      "C:\\Anaconda\\lib\\site-packages\\pandas\\core\\strings.py:2001: UserWarning: This pattern has match groups. To actually get the groups, use str.extract.\n",
      "C:\\Anaconda\\lib\\site-packages\\pandas\\core\\strings.py:2001: UserWarning: This pattern has match groups. To actually get the groups, use str.extract.\n",
      "C:\\Anaconda\\lib\\site-packages\\pandas\\core\\strings.py:2001: UserWarning: This pattern has match groups. To actually get the groups, use str.extract.\n",
      "C:\\Anaconda\\lib\\site-packages\\pandas\\core\\strings.py:2001: UserWarning: This pattern has match groups. To actually get the groups, use str.extract.\n",
      "C:\\Anaconda\\lib\\site-packages\\pandas\\core\\strings.py:2001: UserWarning: This pattern has match groups. To actually get the groups, use str.extract.\n",
      "C:\\Anaconda\\lib\\site-packages\\pandas\\core\\strings.py:2001: UserWarning: This pattern has match groups. To actually get the groups, use str.extract.\n",
      "C:\\Anaconda\\lib\\site-packages\\pandas\\core\\strings.py:2001: UserWarning: This pattern has match groups. To actually get the groups, use str.extract.\n",
      "C:\\Anaconda\\lib\\site-packages\\pandas\\core\\strings.py:2001: UserWarning: This pattern has match groups. To actually get the groups, use str.extract.\n",
      "C:\\Anaconda\\lib\\site-packages\\pandas\\core\\strings.py:2001: UserWarning: This pattern has match groups. To actually get the groups, use str.extract.\n",
      "C:\\Anaconda\\lib\\site-packages\\pandas\\core\\strings.py:2001: UserWarning: This pattern has match groups. To actually get the groups, use str.extract.\n",
      "C:\\Anaconda\\lib\\site-packages\\pandas\\core\\strings.py:2001: UserWarning: This pattern has match groups. To actually get the groups, use str.extract.\n",
      "C:\\Anaconda\\lib\\site-packages\\pandas\\core\\strings.py:2001: UserWarning: This pattern has match groups. To actually get the groups, use str.extract.\n",
      "C:\\Anaconda\\lib\\site-packages\\pandas\\core\\strings.py:2001: UserWarning: This pattern has match groups. To actually get the groups, use str.extract.\n",
      "C:\\Anaconda\\lib\\site-packages\\pandas\\core\\strings.py:2001: UserWarning: This pattern has match groups. To actually get the groups, use str.extract.\n",
      "C:\\Anaconda\\lib\\site-packages\\pandas\\core\\strings.py:2001: UserWarning: This pattern has match groups. To actually get the groups, use str.extract.\n",
      "C:\\Anaconda\\lib\\site-packages\\pandas\\core\\strings.py:2001: UserWarning: This pattern has match groups. To actually get the groups, use str.extract.\n",
      "C:\\Anaconda\\lib\\site-packages\\pandas\\core\\strings.py:2001: UserWarning: This pattern has match groups. To actually get the groups, use str.extract.\n",
      "C:\\Anaconda\\lib\\site-packages\\pandas\\core\\strings.py:2001: UserWarning: This pattern has match groups. To actually get the groups, use str.extract.\n",
      "C:\\Anaconda\\lib\\site-packages\\pandas\\core\\strings.py:2001: UserWarning: This pattern has match groups. To actually get the groups, use str.extract.\n",
      "C:\\Anaconda\\lib\\site-packages\\pandas\\core\\strings.py:2001: UserWarning: This pattern has match groups. To actually get the groups, use str.extract.\n",
      "C:\\Anaconda\\lib\\site-packages\\pandas\\core\\strings.py:2001: UserWarning: This pattern has match groups. To actually get the groups, use str.extract.\n",
      "C:\\Anaconda\\lib\\site-packages\\pandas\\core\\strings.py:2001: UserWarning: This pattern has match groups. To actually get the groups, use str.extract.\n",
      "C:\\Anaconda\\lib\\site-packages\\pandas\\core\\strings.py:2001: UserWarning: This pattern has match groups. To actually get the groups, use str.extract.\n",
      "C:\\Anaconda\\lib\\site-packages\\pandas\\core\\strings.py:2001: UserWarning: This pattern has match groups. To actually get the groups, use str.extract.\n",
      "C:\\Anaconda\\lib\\site-packages\\pandas\\core\\strings.py:2001: UserWarning: This pattern has match groups. To actually get the groups, use str.extract.\n",
      "C:\\Anaconda\\lib\\site-packages\\pandas\\core\\strings.py:2001: UserWarning: This pattern has match groups. To actually get the groups, use str.extract.\n",
      "C:\\Anaconda\\lib\\site-packages\\pandas\\core\\strings.py:2001: UserWarning: This pattern has match groups. To actually get the groups, use str.extract.\n",
      "C:\\Anaconda\\lib\\site-packages\\pandas\\core\\strings.py:2001: UserWarning: This pattern has match groups. To actually get the groups, use str.extract.\n",
      "C:\\Anaconda\\lib\\site-packages\\pandas\\core\\strings.py:2001: UserWarning: This pattern has match groups. To actually get the groups, use str.extract.\n",
      "C:\\Anaconda\\lib\\site-packages\\pandas\\core\\strings.py:2001: UserWarning: This pattern has match groups. To actually get the groups, use str.extract.\n",
      "C:\\Anaconda\\lib\\site-packages\\pandas\\core\\strings.py:2001: UserWarning: This pattern has match groups. To actually get the groups, use str.extract.\n",
      "C:\\Anaconda\\lib\\site-packages\\pandas\\core\\strings.py:2001: UserWarning: This pattern has match groups. To actually get the groups, use str.extract.\n",
      "C:\\Anaconda\\lib\\site-packages\\pandas\\core\\strings.py:2001: UserWarning: This pattern has match groups. To actually get the groups, use str.extract.\n",
      "C:\\Anaconda\\lib\\site-packages\\pandas\\core\\strings.py:2001: UserWarning: This pattern has match groups. To actually get the groups, use str.extract.\n",
      "C:\\Anaconda\\lib\\site-packages\\pandas\\core\\strings.py:2001: UserWarning: This pattern has match groups. To actually get the groups, use str.extract.\n",
      "C:\\Anaconda\\lib\\site-packages\\pandas\\core\\strings.py:2001: UserWarning: This pattern has match groups. To actually get the groups, use str.extract.\n",
      "C:\\Anaconda\\lib\\site-packages\\pandas\\core\\strings.py:2001: UserWarning: This pattern has match groups. To actually get the groups, use str.extract.\n",
      "C:\\Anaconda\\lib\\site-packages\\pandas\\core\\strings.py:2001: UserWarning: This pattern has match groups. To actually get the groups, use str.extract.\n",
      "C:\\Anaconda\\lib\\site-packages\\pandas\\core\\strings.py:2001: UserWarning: This pattern has match groups. To actually get the groups, use str.extract.\n",
      "C:\\Anaconda\\lib\\site-packages\\pandas\\core\\strings.py:2001: UserWarning: This pattern has match groups. To actually get the groups, use str.extract.\n",
      "C:\\Anaconda\\lib\\site-packages\\pandas\\core\\strings.py:2001: UserWarning: This pattern has match groups. To actually get the groups, use str.extract.\n",
      "C:\\Anaconda\\lib\\site-packages\\pandas\\core\\strings.py:2001: UserWarning: This pattern has match groups. To actually get the groups, use str.extract.\n",
      "C:\\Anaconda\\lib\\site-packages\\pandas\\core\\strings.py:2001: UserWarning: This pattern has match groups. To actually get the groups, use str.extract.\n",
      "C:\\Anaconda\\lib\\site-packages\\pandas\\core\\strings.py:2001: UserWarning: This pattern has match groups. To actually get the groups, use str.extract.\n",
      "C:\\Anaconda\\lib\\site-packages\\pandas\\core\\strings.py:2001: UserWarning: This pattern has match groups. To actually get the groups, use str.extract.\n",
      "C:\\Anaconda\\lib\\site-packages\\pandas\\core\\strings.py:2001: UserWarning: This pattern has match groups. To actually get the groups, use str.extract.\n",
      "C:\\Anaconda\\lib\\site-packages\\pandas\\core\\strings.py:2001: UserWarning: This pattern has match groups. To actually get the groups, use str.extract.\n",
      "C:\\Anaconda\\lib\\site-packages\\pandas\\core\\strings.py:2001: UserWarning: This pattern has match groups. To actually get the groups, use str.extract.\n",
      "C:\\Anaconda\\lib\\site-packages\\pandas\\core\\strings.py:2001: UserWarning: This pattern has match groups. To actually get the groups, use str.extract.\n",
      "C:\\Anaconda\\lib\\site-packages\\pandas\\core\\strings.py:2001: UserWarning: This pattern has match groups. To actually get the groups, use str.extract.\n",
      "C:\\Anaconda\\lib\\site-packages\\pandas\\core\\strings.py:2001: UserWarning: This pattern has match groups. To actually get the groups, use str.extract.\n",
      "C:\\Anaconda\\lib\\site-packages\\pandas\\core\\strings.py:2001: UserWarning: This pattern has match groups. To actually get the groups, use str.extract.\n",
      "C:\\Anaconda\\lib\\site-packages\\pandas\\core\\strings.py:2001: UserWarning: This pattern has match groups. To actually get the groups, use str.extract.\n",
      "C:\\Anaconda\\lib\\site-packages\\pandas\\core\\strings.py:2001: UserWarning: This pattern has match groups. To actually get the groups, use str.extract.\n",
      "C:\\Anaconda\\lib\\site-packages\\pandas\\core\\strings.py:2001: UserWarning: This pattern has match groups. To actually get the groups, use str.extract.\n",
      "C:\\Anaconda\\lib\\site-packages\\pandas\\core\\strings.py:2001: UserWarning: This pattern has match groups. To actually get the groups, use str.extract.\n",
      "C:\\Anaconda\\lib\\site-packages\\pandas\\core\\strings.py:2001: UserWarning: This pattern has match groups. To actually get the groups, use str.extract.\n",
      "C:\\Anaconda\\lib\\site-packages\\pandas\\core\\strings.py:2001: UserWarning: This pattern has match groups. To actually get the groups, use str.extract.\n",
      "C:\\Anaconda\\lib\\site-packages\\pandas\\core\\strings.py:2001: UserWarning: This pattern has match groups. To actually get the groups, use str.extract.\n",
      "C:\\Anaconda\\lib\\site-packages\\pandas\\core\\strings.py:2001: UserWarning: This pattern has match groups. To actually get the groups, use str.extract.\n",
      "C:\\Anaconda\\lib\\site-packages\\pandas\\core\\strings.py:2001: UserWarning: This pattern has match groups. To actually get the groups, use str.extract.\n",
      "C:\\Anaconda\\lib\\site-packages\\pandas\\core\\strings.py:2001: UserWarning: This pattern has match groups. To actually get the groups, use str.extract.\n",
      "C:\\Anaconda\\lib\\site-packages\\pandas\\core\\strings.py:2001: UserWarning: This pattern has match groups. To actually get the groups, use str.extract.\n",
      "C:\\Anaconda\\lib\\site-packages\\pandas\\core\\strings.py:2001: UserWarning: This pattern has match groups. To actually get the groups, use str.extract.\n",
      "C:\\Anaconda\\lib\\site-packages\\pandas\\core\\strings.py:2001: UserWarning: This pattern has match groups. To actually get the groups, use str.extract.\n",
      "C:\\Anaconda\\lib\\site-packages\\pandas\\core\\strings.py:2001: UserWarning: This pattern has match groups. To actually get the groups, use str.extract.\n",
      "C:\\Anaconda\\lib\\site-packages\\pandas\\core\\strings.py:2001: UserWarning: This pattern has match groups. To actually get the groups, use str.extract.\n",
      "C:\\Anaconda\\lib\\site-packages\\pandas\\core\\strings.py:2001: UserWarning: This pattern has match groups. To actually get the groups, use str.extract.\n",
      "C:\\Anaconda\\lib\\site-packages\\pandas\\core\\strings.py:2001: UserWarning: This pattern has match groups. To actually get the groups, use str.extract.\n",
      "C:\\Anaconda\\lib\\site-packages\\pandas\\core\\strings.py:2001: UserWarning: This pattern has match groups. To actually get the groups, use str.extract.\n",
      "C:\\Anaconda\\lib\\site-packages\\pandas\\core\\strings.py:2001: UserWarning: This pattern has match groups. To actually get the groups, use str.extract.\n",
      "C:\\Anaconda\\lib\\site-packages\\pandas\\core\\strings.py:2001: UserWarning: This pattern has match groups. To actually get the groups, use str.extract.\n",
      "C:\\Anaconda\\lib\\site-packages\\pandas\\core\\strings.py:2001: UserWarning: This pattern has match groups. To actually get the groups, use str.extract.\n",
      "C:\\Anaconda\\lib\\site-packages\\pandas\\core\\strings.py:2001: UserWarning: This pattern has match groups. To actually get the groups, use str.extract.\n",
      "C:\\Anaconda\\lib\\site-packages\\pandas\\core\\strings.py:2001: UserWarning: This pattern has match groups. To actually get the groups, use str.extract.\n",
      "C:\\Anaconda\\lib\\site-packages\\pandas\\core\\strings.py:2001: UserWarning: This pattern has match groups. To actually get the groups, use str.extract.\n",
      "C:\\Anaconda\\lib\\site-packages\\pandas\\core\\strings.py:2001: UserWarning: This pattern has match groups. To actually get the groups, use str.extract.\n",
      "C:\\Anaconda\\lib\\site-packages\\pandas\\core\\strings.py:2001: UserWarning: This pattern has match groups. To actually get the groups, use str.extract.\n",
      "C:\\Anaconda\\lib\\site-packages\\pandas\\core\\strings.py:2001: UserWarning: This pattern has match groups. To actually get the groups, use str.extract.\n",
      "C:\\Anaconda\\lib\\site-packages\\pandas\\core\\strings.py:2001: UserWarning: This pattern has match groups. To actually get the groups, use str.extract.\n",
      "C:\\Anaconda\\lib\\site-packages\\pandas\\core\\strings.py:2001: UserWarning: This pattern has match groups. To actually get the groups, use str.extract.\n",
      "C:\\Anaconda\\lib\\site-packages\\pandas\\core\\strings.py:2001: UserWarning: This pattern has match groups. To actually get the groups, use str.extract.\n",
      "C:\\Anaconda\\lib\\site-packages\\pandas\\core\\strings.py:2001: UserWarning: This pattern has match groups. To actually get the groups, use str.extract.\n",
      "C:\\Anaconda\\lib\\site-packages\\pandas\\core\\strings.py:2001: UserWarning: This pattern has match groups. To actually get the groups, use str.extract.\n",
      "C:\\Anaconda\\lib\\site-packages\\pandas\\core\\strings.py:2001: UserWarning: This pattern has match groups. To actually get the groups, use str.extract.\n",
      "C:\\Anaconda\\lib\\site-packages\\pandas\\core\\strings.py:2001: UserWarning: This pattern has match groups. To actually get the groups, use str.extract.\n",
      "C:\\Anaconda\\lib\\site-packages\\pandas\\core\\strings.py:2001: UserWarning: This pattern has match groups. To actually get the groups, use str.extract.\n",
      "C:\\Anaconda\\lib\\site-packages\\pandas\\core\\strings.py:2001: UserWarning: This pattern has match groups. To actually get the groups, use str.extract.\n",
      "C:\\Anaconda\\lib\\site-packages\\pandas\\core\\strings.py:2001: UserWarning: This pattern has match groups. To actually get the groups, use str.extract.\n",
      "C:\\Anaconda\\lib\\site-packages\\pandas\\core\\strings.py:2001: UserWarning: This pattern has match groups. To actually get the groups, use str.extract.\n",
      "C:\\Anaconda\\lib\\site-packages\\pandas\\core\\strings.py:2001: UserWarning: This pattern has match groups. To actually get the groups, use str.extract.\n",
      "C:\\Anaconda\\lib\\site-packages\\pandas\\core\\strings.py:2001: UserWarning: This pattern has match groups. To actually get the groups, use str.extract.\n",
      "C:\\Anaconda\\lib\\site-packages\\pandas\\core\\strings.py:2001: UserWarning: This pattern has match groups. To actually get the groups, use str.extract.\n",
      "C:\\Anaconda\\lib\\site-packages\\pandas\\core\\strings.py:2001: UserWarning: This pattern has match groups. To actually get the groups, use str.extract.\n",
      "C:\\Anaconda\\lib\\site-packages\\pandas\\core\\strings.py:2001: UserWarning: This pattern has match groups. To actually get the groups, use str.extract.\n",
      "C:\\Anaconda\\lib\\site-packages\\pandas\\core\\strings.py:2001: UserWarning: This pattern has match groups. To actually get the groups, use str.extract.\n",
      "C:\\Anaconda\\lib\\site-packages\\pandas\\core\\strings.py:2001: UserWarning: This pattern has match groups. To actually get the groups, use str.extract.\n",
      "C:\\Anaconda\\lib\\site-packages\\pandas\\core\\strings.py:2001: UserWarning: This pattern has match groups. To actually get the groups, use str.extract.\n",
      "C:\\Anaconda\\lib\\site-packages\\pandas\\core\\strings.py:2001: UserWarning: This pattern has match groups. To actually get the groups, use str.extract.\n",
      "C:\\Anaconda\\lib\\site-packages\\pandas\\core\\strings.py:2001: UserWarning: This pattern has match groups. To actually get the groups, use str.extract.\n",
      "C:\\Anaconda\\lib\\site-packages\\pandas\\core\\strings.py:2001: UserWarning: This pattern has match groups. To actually get the groups, use str.extract.\n",
      "C:\\Anaconda\\lib\\site-packages\\pandas\\core\\strings.py:2001: UserWarning: This pattern has match groups. To actually get the groups, use str.extract.\n",
      "C:\\Anaconda\\lib\\site-packages\\pandas\\core\\strings.py:2001: UserWarning: This pattern has match groups. To actually get the groups, use str.extract.\n",
      "C:\\Anaconda\\lib\\site-packages\\pandas\\core\\strings.py:2001: UserWarning: This pattern has match groups. To actually get the groups, use str.extract.\n",
      "C:\\Anaconda\\lib\\site-packages\\pandas\\core\\strings.py:2001: UserWarning: This pattern has match groups. To actually get the groups, use str.extract.\n",
      "C:\\Anaconda\\lib\\site-packages\\pandas\\core\\strings.py:2001: UserWarning: This pattern has match groups. To actually get the groups, use str.extract.\n",
      "C:\\Anaconda\\lib\\site-packages\\pandas\\core\\strings.py:2001: UserWarning: This pattern has match groups. To actually get the groups, use str.extract.\n",
      "C:\\Anaconda\\lib\\site-packages\\pandas\\core\\strings.py:2001: UserWarning: This pattern has match groups. To actually get the groups, use str.extract.\n",
      "C:\\Anaconda\\lib\\site-packages\\pandas\\core\\strings.py:2001: UserWarning: This pattern has match groups. To actually get the groups, use str.extract.\n",
      "C:\\Anaconda\\lib\\site-packages\\pandas\\core\\strings.py:2001: UserWarning: This pattern has match groups. To actually get the groups, use str.extract.\n",
      "C:\\Anaconda\\lib\\site-packages\\pandas\\core\\strings.py:2001: UserWarning: This pattern has match groups. To actually get the groups, use str.extract.\n",
      "C:\\Anaconda\\lib\\site-packages\\pandas\\core\\strings.py:2001: UserWarning: This pattern has match groups. To actually get the groups, use str.extract.\n",
      "C:\\Anaconda\\lib\\site-packages\\pandas\\core\\strings.py:2001: UserWarning: This pattern has match groups. To actually get the groups, use str.extract.\n",
      "C:\\Anaconda\\lib\\site-packages\\pandas\\core\\strings.py:2001: UserWarning: This pattern has match groups. To actually get the groups, use str.extract.\n",
      "C:\\Anaconda\\lib\\site-packages\\pandas\\core\\strings.py:2001: UserWarning: This pattern has match groups. To actually get the groups, use str.extract.\n",
      "C:\\Anaconda\\lib\\site-packages\\pandas\\core\\strings.py:2001: UserWarning: This pattern has match groups. To actually get the groups, use str.extract.\n",
      "C:\\Anaconda\\lib\\site-packages\\pandas\\core\\strings.py:2001: UserWarning: This pattern has match groups. To actually get the groups, use str.extract.\n",
      "C:\\Anaconda\\lib\\site-packages\\pandas\\core\\strings.py:2001: UserWarning: This pattern has match groups. To actually get the groups, use str.extract.\n",
      "C:\\Anaconda\\lib\\site-packages\\pandas\\core\\strings.py:2001: UserWarning: This pattern has match groups. To actually get the groups, use str.extract.\n",
      "C:\\Anaconda\\lib\\site-packages\\pandas\\core\\strings.py:2001: UserWarning: This pattern has match groups. To actually get the groups, use str.extract.\n",
      "C:\\Anaconda\\lib\\site-packages\\pandas\\core\\strings.py:2001: UserWarning: This pattern has match groups. To actually get the groups, use str.extract.\n",
      "C:\\Anaconda\\lib\\site-packages\\pandas\\core\\strings.py:2001: UserWarning: This pattern has match groups. To actually get the groups, use str.extract.\n",
      "C:\\Anaconda\\lib\\site-packages\\pandas\\core\\strings.py:2001: UserWarning: This pattern has match groups. To actually get the groups, use str.extract.\n",
      "C:\\Anaconda\\lib\\site-packages\\pandas\\core\\strings.py:2001: UserWarning: This pattern has match groups. To actually get the groups, use str.extract.\n",
      "C:\\Anaconda\\lib\\site-packages\\pandas\\core\\strings.py:2001: UserWarning: This pattern has match groups. To actually get the groups, use str.extract.\n",
      "C:\\Anaconda\\lib\\site-packages\\pandas\\core\\strings.py:2001: UserWarning: This pattern has match groups. To actually get the groups, use str.extract.\n",
      "C:\\Anaconda\\lib\\site-packages\\pandas\\core\\strings.py:2001: UserWarning: This pattern has match groups. To actually get the groups, use str.extract.\n",
      "C:\\Anaconda\\lib\\site-packages\\pandas\\core\\strings.py:2001: UserWarning: This pattern has match groups. To actually get the groups, use str.extract.\n",
      "C:\\Anaconda\\lib\\site-packages\\pandas\\core\\strings.py:2001: UserWarning: This pattern has match groups. To actually get the groups, use str.extract.\n",
      "C:\\Anaconda\\lib\\site-packages\\pandas\\core\\strings.py:2001: UserWarning: This pattern has match groups. To actually get the groups, use str.extract.\n",
      "C:\\Anaconda\\lib\\site-packages\\pandas\\core\\strings.py:2001: UserWarning: This pattern has match groups. To actually get the groups, use str.extract.\n",
      "C:\\Anaconda\\lib\\site-packages\\pandas\\core\\strings.py:2001: UserWarning: This pattern has match groups. To actually get the groups, use str.extract.\n",
      "C:\\Anaconda\\lib\\site-packages\\pandas\\core\\strings.py:2001: UserWarning: This pattern has match groups. To actually get the groups, use str.extract.\n",
      "C:\\Anaconda\\lib\\site-packages\\pandas\\core\\strings.py:2001: UserWarning: This pattern has match groups. To actually get the groups, use str.extract.\n",
      "C:\\Anaconda\\lib\\site-packages\\pandas\\core\\strings.py:2001: UserWarning: This pattern has match groups. To actually get the groups, use str.extract.\n",
      "C:\\Anaconda\\lib\\site-packages\\pandas\\core\\strings.py:2001: UserWarning: This pattern has match groups. To actually get the groups, use str.extract.\n",
      "C:\\Anaconda\\lib\\site-packages\\pandas\\core\\strings.py:2001: UserWarning: This pattern has match groups. To actually get the groups, use str.extract.\n",
      "C:\\Anaconda\\lib\\site-packages\\pandas\\core\\strings.py:2001: UserWarning: This pattern has match groups. To actually get the groups, use str.extract.\n",
      "C:\\Anaconda\\lib\\site-packages\\pandas\\core\\strings.py:2001: UserWarning: This pattern has match groups. To actually get the groups, use str.extract.\n",
      "C:\\Anaconda\\lib\\site-packages\\pandas\\core\\strings.py:2001: UserWarning: This pattern has match groups. To actually get the groups, use str.extract.\n",
      "C:\\Anaconda\\lib\\site-packages\\pandas\\core\\strings.py:2001: UserWarning: This pattern has match groups. To actually get the groups, use str.extract.\n",
      "C:\\Anaconda\\lib\\site-packages\\pandas\\core\\strings.py:2001: UserWarning: This pattern has match groups. To actually get the groups, use str.extract.\n",
      "C:\\Anaconda\\lib\\site-packages\\pandas\\core\\strings.py:2001: UserWarning: This pattern has match groups. To actually get the groups, use str.extract.\n",
      "C:\\Anaconda\\lib\\site-packages\\pandas\\core\\strings.py:2001: UserWarning: This pattern has match groups. To actually get the groups, use str.extract.\n",
      "C:\\Anaconda\\lib\\site-packages\\pandas\\core\\strings.py:2001: UserWarning: This pattern has match groups. To actually get the groups, use str.extract.\n",
      "C:\\Anaconda\\lib\\site-packages\\pandas\\core\\strings.py:2001: UserWarning: This pattern has match groups. To actually get the groups, use str.extract.\n",
      "C:\\Anaconda\\lib\\site-packages\\pandas\\core\\strings.py:2001: UserWarning: This pattern has match groups. To actually get the groups, use str.extract.\n",
      "C:\\Anaconda\\lib\\site-packages\\pandas\\core\\strings.py:2001: UserWarning: This pattern has match groups. To actually get the groups, use str.extract.\n",
      "C:\\Anaconda\\lib\\site-packages\\pandas\\core\\strings.py:2001: UserWarning: This pattern has match groups. To actually get the groups, use str.extract.\n",
      "C:\\Anaconda\\lib\\site-packages\\pandas\\core\\strings.py:2001: UserWarning: This pattern has match groups. To actually get the groups, use str.extract.\n",
      "C:\\Anaconda\\lib\\site-packages\\pandas\\core\\strings.py:2001: UserWarning: This pattern has match groups. To actually get the groups, use str.extract.\n",
      "C:\\Anaconda\\lib\\site-packages\\pandas\\core\\strings.py:2001: UserWarning: This pattern has match groups. To actually get the groups, use str.extract.\n",
      "C:\\Anaconda\\lib\\site-packages\\pandas\\core\\strings.py:2001: UserWarning: This pattern has match groups. To actually get the groups, use str.extract.\n",
      "C:\\Anaconda\\lib\\site-packages\\pandas\\core\\strings.py:2001: UserWarning: This pattern has match groups. To actually get the groups, use str.extract.\n",
      "C:\\Anaconda\\lib\\site-packages\\pandas\\core\\strings.py:2001: UserWarning: This pattern has match groups. To actually get the groups, use str.extract.\n",
      "C:\\Anaconda\\lib\\site-packages\\pandas\\core\\strings.py:2001: UserWarning: This pattern has match groups. To actually get the groups, use str.extract.\n",
      "C:\\Anaconda\\lib\\site-packages\\pandas\\core\\strings.py:2001: UserWarning: This pattern has match groups. To actually get the groups, use str.extract.\n",
      "C:\\Anaconda\\lib\\site-packages\\pandas\\core\\strings.py:2001: UserWarning: This pattern has match groups. To actually get the groups, use str.extract.\n",
      "C:\\Anaconda\\lib\\site-packages\\pandas\\core\\strings.py:2001: UserWarning: This pattern has match groups. To actually get the groups, use str.extract.\n",
      "C:\\Anaconda\\lib\\site-packages\\pandas\\core\\strings.py:2001: UserWarning: This pattern has match groups. To actually get the groups, use str.extract.\n",
      "C:\\Anaconda\\lib\\site-packages\\pandas\\core\\strings.py:2001: UserWarning: This pattern has match groups. To actually get the groups, use str.extract.\n",
      "C:\\Anaconda\\lib\\site-packages\\pandas\\core\\strings.py:2001: UserWarning: This pattern has match groups. To actually get the groups, use str.extract.\n",
      "C:\\Anaconda\\lib\\site-packages\\pandas\\core\\strings.py:2001: UserWarning: This pattern has match groups. To actually get the groups, use str.extract.\n",
      "C:\\Anaconda\\lib\\site-packages\\pandas\\core\\strings.py:2001: UserWarning: This pattern has match groups. To actually get the groups, use str.extract.\n",
      "C:\\Anaconda\\lib\\site-packages\\pandas\\core\\strings.py:2001: UserWarning: This pattern has match groups. To actually get the groups, use str.extract.\n",
      "C:\\Anaconda\\lib\\site-packages\\pandas\\core\\strings.py:2001: UserWarning: This pattern has match groups. To actually get the groups, use str.extract.\n",
      "C:\\Anaconda\\lib\\site-packages\\pandas\\core\\strings.py:2001: UserWarning: This pattern has match groups. To actually get the groups, use str.extract.\n",
      "C:\\Anaconda\\lib\\site-packages\\pandas\\core\\strings.py:2001: UserWarning: This pattern has match groups. To actually get the groups, use str.extract.\n",
      "C:\\Anaconda\\lib\\site-packages\\pandas\\core\\strings.py:2001: UserWarning: This pattern has match groups. To actually get the groups, use str.extract.\n",
      "C:\\Anaconda\\lib\\site-packages\\pandas\\core\\strings.py:2001: UserWarning: This pattern has match groups. To actually get the groups, use str.extract.\n",
      "C:\\Anaconda\\lib\\site-packages\\pandas\\core\\strings.py:2001: UserWarning: This pattern has match groups. To actually get the groups, use str.extract.\n",
      "C:\\Anaconda\\lib\\site-packages\\pandas\\core\\strings.py:2001: UserWarning: This pattern has match groups. To actually get the groups, use str.extract.\n",
      "C:\\Anaconda\\lib\\site-packages\\pandas\\core\\strings.py:2001: UserWarning: This pattern has match groups. To actually get the groups, use str.extract.\n"
     ]
    }
   ],
   "source": [
    "list_mean = []\r\n",
    "list_count = []\r\n",
    "\r\n",
    "for i in apt_group.index :\r\n",
    "    area = apt_group['면적(전용면적)'].loc[i]\r\n",
    "    bid = apt_group['건물명'].loc[i]\r\n",
    "\r\n",
    "    sample = apt_trd[apt_trd['전용면적'] == area]\r\n",
    "    sample = sample[sample['아파트'].astype(str).str.contains(bid)]\r\n",
    "    sample = sample.sort_values('계약일자', ascending = False)\r\n",
    "\r\n",
    "    count_5 = sample.head(5)['거래금액'].count()\r\n",
    "    mean_5 = sample.head(5)['거래금액'].mean()\r\n",
    "\r\n",
    "    list_mean.append(mean_5)\r\n",
    "    list_count.append(count_5)\r\n",
    "\r\n",
    "\r\n",
    "apt_group['최근5건'] = list_mean\r\n",
    "apt_group['최근5건수'] = list_count"
   ]
  },
  {
   "cell_type": "code",
   "execution_count": 567,
   "metadata": {},
   "outputs": [
    {
     "data": {
      "text/html": "<div>\n<style scoped>\n    .dataframe tbody tr th:only-of-type {\n        vertical-align: middle;\n    }\n\n    .dataframe tbody tr th {\n        vertical-align: top;\n    }\n\n    .dataframe thead th {\n        text-align: right;\n    }\n</style>\n<table border=\"1\" class=\"dataframe\">\n  <thead>\n    <tr style=\"text-align: right;\">\n      <th></th>\n      <th>대지주소</th>\n      <th>면적(전용면적)</th>\n      <th>동명칭</th>\n      <th>건물명</th>\n      <th>PNU</th>\n      <th>법정동코드</th>\n      <th>동</th>\n      <th>최근5건</th>\n      <th>최근5건수</th>\n    </tr>\n  </thead>\n  <tbody>\n    <tr>\n      <th>710</th>\n      <td>세종특별자치시  해밀동 블록 행정중심복합도시 6-4 생활권지구 L1블록</td>\n      <td>59.0</td>\n      <td>930</td>\n      <td>해밀마을1단지</td>\n      <td>해밀동00000000</td>\n      <td>11600</td>\n      <td>해밀동</td>\n      <td>41670.000000</td>\n      <td>4</td>\n    </tr>\n    <tr>\n      <th>711</th>\n      <td>세종특별자치시  해밀동 블록 행정중심복합도시 6-4 생활권지구 L1블록</td>\n      <td>84.0</td>\n      <td>780</td>\n      <td>해밀마을1단지</td>\n      <td>해밀동00000000</td>\n      <td>11600</td>\n      <td>해밀동</td>\n      <td>84340.000000</td>\n      <td>5</td>\n    </tr>\n    <tr>\n      <th>713</th>\n      <td>세종특별자치시  해밀동 블록 행정중심복합도시 6-4 생활권지구 L1블록</td>\n      <td>120.0</td>\n      <td>100</td>\n      <td>해밀마을1단지</td>\n      <td>해밀동00000000</td>\n      <td>11600</td>\n      <td>해밀동</td>\n      <td>80000.000000</td>\n      <td>1</td>\n    </tr>\n    <tr>\n      <th>728</th>\n      <td>세종특별자치시  해밀동 블록 행정중심복합도시 6-4생활권지구 M1블록블록</td>\n      <td>84.0</td>\n      <td>561</td>\n      <td>해밀마을2단지</td>\n      <td>해밀동00000000</td>\n      <td>11600</td>\n      <td>해밀동</td>\n      <td>72200.000000</td>\n      <td>5</td>\n    </tr>\n    <tr>\n      <th>729</th>\n      <td>세종특별자치시  해밀동 블록 행정중심복합도시 6-4생활권지구 M1블록블록</td>\n      <td>102.0</td>\n      <td>234</td>\n      <td>해밀마을2단지</td>\n      <td>해밀동00000000</td>\n      <td>11600</td>\n      <td>해밀동</td>\n      <td>108333.333333</td>\n      <td>3</td>\n    </tr>\n  </tbody>\n</table>\n</div>",
      "text/plain": "                                         대지주소  면적(전용면적)  동명칭      건물명  \\\n710   세종특별자치시  해밀동 블록 행정중심복합도시 6-4 생활권지구 L1블록      59.0  930  해밀마을1단지   \n711   세종특별자치시  해밀동 블록 행정중심복합도시 6-4 생활권지구 L1블록      84.0  780  해밀마을1단지   \n713   세종특별자치시  해밀동 블록 행정중심복합도시 6-4 생활권지구 L1블록     120.0  100  해밀마을1단지   \n728  세종특별자치시  해밀동 블록 행정중심복합도시 6-4생활권지구 M1블록블록      84.0  561  해밀마을2단지   \n729  세종특별자치시  해밀동 블록 행정중심복합도시 6-4생활권지구 M1블록블록     102.0  234  해밀마을2단지   \n\n             PNU  법정동코드    동           최근5건  최근5건수  \n710  해밀동00000000  11600  해밀동   41670.000000      4  \n711  해밀동00000000  11600  해밀동   84340.000000      5  \n713  해밀동00000000  11600  해밀동   80000.000000      1  \n728  해밀동00000000  11600  해밀동   72200.000000      5  \n729  해밀동00000000  11600  해밀동  108333.333333      3  "
     },
     "execution_count": 567,
     "metadata": {},
     "output_type": "execute_result"
    }
   ],
   "source": [
    "final = apt_group[~apt_group['최근5건'].isnull()]\r\n",
    "final.tail()"
   ]
  },
  {
   "cell_type": "markdown",
   "metadata": {},
   "source": [
    "## 아파트 기타용도텍스트 카운팅"
   ]
  },
  {
   "cell_type": "code",
   "execution_count": 57,
   "metadata": {},
   "outputs": [],
   "source": [
    "# 아파트 추출\r\n",
    "apt_unit = b_unit[b_unit['용도코드명']=='아파트']\r\n",
    "\r\n",
    "list_pur = apt_unit['기타용도'].str.split('(').str[0]\r\n",
    "list_pur = list_pur.tolist()\r\n",
    "\r\n",
    "list_pur01 = []\r\n",
    "for i in list_pur:\r\n",
    "    a = i.split(',')\r\n",
    "    if len(a) == 1 :\r\n",
    "        list_pur01.append(a[0])\r\n",
    "    else :\r\n",
    "        for i in range(len(a)) :\r\n",
    "            list_pur01.append(a[i])\r\n"
   ]
  },
  {
   "cell_type": "code",
   "execution_count": 81,
   "metadata": {},
   "outputs": [
    {
     "data": {
      "text/plain": "계단실      97471\n아파트      92046\n벽체       76238\n지하주차장    59329\n승강기      59102\ndtype: int64"
     },
     "execution_count": 81,
     "metadata": {},
     "output_type": "execute_result"
    }
   ],
   "source": [
    "list_pur02 = pd.Series(list_pur01)\r\n",
    "result = list_pur02.value_counts().head(5)\r\n",
    "result"
   ]
  },
  {
   "cell_type": "code",
   "execution_count": null,
   "metadata": {},
   "outputs": [],
   "source": []
  }
 ],
 "metadata": {
  "kernelspec": {
   "display_name": "Python 3.8.5 64-bit ('base': conda)",
   "metadata": {
    "interpreter": {
     "hash": "ed225720166559e7176d3793db16a2fd8d295f725007103b21ac3099d2a89ee8"
    }
   },
   "name": "python3"
  },
  "language_info": {
   "codemirror_mode": {
    "name": "ipython",
    "version": 3
   },
   "file_extension": ".py",
   "mimetype": "text/x-python",
   "name": "python",
   "nbconvert_exporter": "python",
   "pygments_lexer": "ipython3",
   "version": "3.8.5"
  },
  "orig_nbformat": 2
 },
 "nbformat": 4,
 "nbformat_minor": 2
}