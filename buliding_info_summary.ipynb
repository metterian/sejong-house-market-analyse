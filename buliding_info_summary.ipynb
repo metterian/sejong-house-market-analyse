{
  "cells": [
    {
      "cell_type": "code",
      "execution_count": 2,
      "metadata": {
        "colab": {
          "base_uri": "https://localhost:8080/"
        },
        "id": "gBa5MxqaI6U2",
        "outputId": "033660f5-d4d1-4a24-8447-a6121d614acd"
      },
      "outputs": [],
      "source": [
        "import numpy as np\r\n",
        "import pandas as pd\r\n",
        "\r\n",
        "pd.options.display.max_rows = 1000000 \r\n",
        "\r\n",
        "%matplotlib inline\r\n",
        "import matplotlib\r\n",
        "import matplotlib as mpl\r\n",
        "import matplotlib.pyplot as plt\r\n",
        "plt.rcParams['axes.unicode_minus'] = False\r\n",
        "plt.rcParams[\"font.family\"] = 'NanumBarunGothic'\r\n",
        "plt.rcParams[\"font.size\"] = 20\r\n",
        "plt.rcParams[\"figure.figsize\"] = (15,8)\r\n",
        "\r\n",
        "mpl.rc('axes', labelsize=12)\r\n",
        "mpl.rc('xtick', labelsize=8)\r\n",
        "mpl.rc('ytick', labelsize=8)\r\n",
        "\r\n",
        "import seaborn as sns\r\n",
        "#corr_set\r\n",
        "from itertools import product"
      ]
    },
    {
      "cell_type": "code",
      "execution_count": 3,
      "metadata": {},
      "outputs": [
        {
          "name": "stderr",
          "output_type": "stream",
          "text": [
            "C:\\Anaconda\\lib\\site-packages\\IPython\\core\\interactiveshell.py:3146: DtypeWarning: Columns (11) have mixed types.Specify dtype option on import or set low_memory=False.\n",
            "  has_raised = await self.run_ast_nodes(code_ast.body, cell_name,\n",
            "C:\\Anaconda\\lib\\site-packages\\IPython\\core\\interactiveshell.py:3146: DtypeWarning: Columns (10,13) have mixed types.Specify dtype option on import or set low_memory=False.\n",
            "  has_raised = await self.run_ast_nodes(code_ast.body, cell_name,\n"
          ]
        }
      ],
      "source": [
        "#read file\r\n",
        "b_info = pd.read_csv('data/1.세종시_전유부.csv')\r\n",
        "b_unit = pd.read_csv('data/2.세종시_표제부.csv')"
      ]
    },
    {
      "cell_type": "markdown",
      "metadata": {},
      "source": [
        "### 전유부 , 표제부 관련 개념 정리\r\n",
        "- 동명칭 : "
      ]
    },
    {
      "cell_type": "code",
      "execution_count": 4,
      "metadata": {},
      "outputs": [
        {
          "data": {
            "text/html": "<div>\n<style scoped>\n    .dataframe tbody tr th:only-of-type {\n        vertical-align: middle;\n    }\n\n    .dataframe tbody tr th {\n        vertical-align: top;\n    }\n\n    .dataframe thead th {\n        text-align: right;\n    }\n</style>\n<table border=\"1\" class=\"dataframe\">\n  <thead>\n    <tr style=\"text-align: right;\">\n      <th></th>\n      <th>순번</th>\n      <th>대지위치</th>\n      <th>시군구코드</th>\n      <th>법정동코드</th>\n      <th>대지구분코드</th>\n      <th>번</th>\n      <th>지</th>\n      <th>대장구분코드명</th>\n      <th>건물명</th>\n      <th>특수지명</th>\n      <th>블록</th>\n      <th>로트</th>\n      <th>동명칭</th>\n      <th>호명칭</th>\n      <th>층구분코드명</th>\n      <th>층번호</th>\n    </tr>\n  </thead>\n  <tbody>\n    <tr>\n      <th>0</th>\n      <td>1</td>\n      <td>세종특별자치시  반곡동 4121-1002번지</td>\n      <td>36110</td>\n      <td>10100</td>\n      <td>1</td>\n      <td>4121</td>\n      <td>1002</td>\n      <td>집합</td>\n      <td>세종펠리스</td>\n      <td>NaN</td>\n      <td>NaN</td>\n      <td>NaN</td>\n      <td>주건축물제1동</td>\n      <td>616</td>\n      <td>지상</td>\n      <td>6</td>\n    </tr>\n    <tr>\n      <th>1</th>\n      <td>2</td>\n      <td>세종특별자치시  반곡동 4121-1002번지</td>\n      <td>36110</td>\n      <td>10100</td>\n      <td>1</td>\n      <td>4121</td>\n      <td>1002</td>\n      <td>집합</td>\n      <td>세종펠리스</td>\n      <td>NaN</td>\n      <td>NaN</td>\n      <td>NaN</td>\n      <td>주건축물제1동</td>\n      <td>624</td>\n      <td>지상</td>\n      <td>6</td>\n    </tr>\n    <tr>\n      <th>2</th>\n      <td>3</td>\n      <td>세종특별자치시  반곡동 4121-1002번지</td>\n      <td>36110</td>\n      <td>10100</td>\n      <td>1</td>\n      <td>4121</td>\n      <td>1002</td>\n      <td>집합</td>\n      <td>세종펠리스</td>\n      <td>NaN</td>\n      <td>NaN</td>\n      <td>NaN</td>\n      <td>주건축물제1동</td>\n      <td>523</td>\n      <td>지상</td>\n      <td>5</td>\n    </tr>\n    <tr>\n      <th>3</th>\n      <td>4</td>\n      <td>세종특별자치시  반곡동 4121-1002번지</td>\n      <td>36110</td>\n      <td>10100</td>\n      <td>1</td>\n      <td>4121</td>\n      <td>1002</td>\n      <td>집합</td>\n      <td>세종펠리스</td>\n      <td>NaN</td>\n      <td>NaN</td>\n      <td>NaN</td>\n      <td>주건축물제1동</td>\n      <td>314</td>\n      <td>지상</td>\n      <td>3</td>\n    </tr>\n    <tr>\n      <th>4</th>\n      <td>5</td>\n      <td>세종특별자치시  반곡동 4121-1002번지</td>\n      <td>36110</td>\n      <td>10100</td>\n      <td>1</td>\n      <td>4121</td>\n      <td>1002</td>\n      <td>집합</td>\n      <td>세종펠리스</td>\n      <td>NaN</td>\n      <td>NaN</td>\n      <td>NaN</td>\n      <td>주건축물제1동</td>\n      <td>101</td>\n      <td>지상</td>\n      <td>1</td>\n    </tr>\n  </tbody>\n</table>\n</div>",
            "text/plain": "   순번                      대지위치  시군구코드  법정동코드  대지구분코드     번     지 대장구분코드명  \\\n0   1  세종특별자치시  반곡동 4121-1002번지  36110  10100       1  4121  1002      집합   \n1   2  세종특별자치시  반곡동 4121-1002번지  36110  10100       1  4121  1002      집합   \n2   3  세종특별자치시  반곡동 4121-1002번지  36110  10100       1  4121  1002      집합   \n3   4  세종특별자치시  반곡동 4121-1002번지  36110  10100       1  4121  1002      집합   \n4   5  세종특별자치시  반곡동 4121-1002번지  36110  10100       1  4121  1002      집합   \n\n     건물명 특수지명   블록   로트      동명칭  호명칭 층구분코드명  층번호  \n0  세종펠리스  NaN  NaN  NaN  주건축물제1동  616     지상    6  \n1  세종펠리스  NaN  NaN  NaN  주건축물제1동  624     지상    6  \n2  세종펠리스  NaN  NaN  NaN  주건축물제1동  523     지상    5  \n3  세종펠리스  NaN  NaN  NaN  주건축물제1동  314     지상    3  \n4  세종펠리스  NaN  NaN  NaN  주건축물제1동  101     지상    1  "
          },
          "execution_count": 4,
          "metadata": {},
          "output_type": "execute_result"
        }
      ],
      "source": [
        "b_info.head()"
      ]
    },
    {
      "cell_type": "code",
      "execution_count": 14,
      "metadata": {},
      "outputs": [
        {
          "data": {
            "text/html": "<div>\n<style scoped>\n    .dataframe tbody tr th:only-of-type {\n        vertical-align: middle;\n    }\n\n    .dataframe tbody tr th {\n        vertical-align: top;\n    }\n\n    .dataframe thead th {\n        text-align: right;\n    }\n</style>\n<table border=\"1\" class=\"dataframe\">\n  <thead>\n    <tr style=\"text-align: right;\">\n      <th></th>\n      <th>순번</th>\n      <th>대지위치</th>\n      <th>시군구코드</th>\n      <th>법정동코드</th>\n      <th>대지구분코드</th>\n      <th>번</th>\n      <th>지</th>\n      <th>대장구분코드명</th>\n      <th>건물명</th>\n      <th>동명칭</th>\n      <th>연면적(㎡)</th>\n      <th>구조코드명</th>\n      <th>주용도코드명</th>\n      <th>세대수(세대)</th>\n      <th>사용승인일</th>\n      <th>Unnamed: 15</th>\n    </tr>\n  </thead>\n  <tbody>\n    <tr>\n      <th>0</th>\n      <td>1</td>\n      <td>세종특별자치시  반곡동 146-75번지</td>\n      <td>36110</td>\n      <td>10100</td>\n      <td>1</td>\n      <td>146</td>\n      <td>75</td>\n      <td>일반</td>\n      <td>NaN</td>\n      <td>NaN</td>\n      <td>135.24</td>\n      <td>벽돌구조</td>\n      <td>단독주택</td>\n      <td>0</td>\n      <td>1977.0</td>\n      <td>NaN</td>\n    </tr>\n    <tr>\n      <th>1</th>\n      <td>2</td>\n      <td>세종특별자치시  반곡동 146-79번지</td>\n      <td>36110</td>\n      <td>10100</td>\n      <td>1</td>\n      <td>146</td>\n      <td>79</td>\n      <td>일반</td>\n      <td>NaN</td>\n      <td>1동</td>\n      <td>576</td>\n      <td>강파이프구조</td>\n      <td>동.식물관련시설</td>\n      <td>0</td>\n      <td>1999.0</td>\n      <td>NaN</td>\n    </tr>\n    <tr>\n      <th>2</th>\n      <td>3</td>\n      <td>세종특별자치시  반곡동 146-79번지</td>\n      <td>36110</td>\n      <td>10100</td>\n      <td>1</td>\n      <td>146</td>\n      <td>79</td>\n      <td>일반</td>\n      <td>NaN</td>\n      <td>2동</td>\n      <td>336</td>\n      <td>강파이프구조</td>\n      <td>동.식물관련시설</td>\n      <td>0</td>\n      <td>20041223.0</td>\n      <td>NaN</td>\n    </tr>\n    <tr>\n      <th>3</th>\n      <td>4</td>\n      <td>세종특별자치시  반곡동 146-79번지</td>\n      <td>36110</td>\n      <td>10100</td>\n      <td>1</td>\n      <td>146</td>\n      <td>79</td>\n      <td>일반</td>\n      <td>NaN</td>\n      <td>3동</td>\n      <td>127.19</td>\n      <td>강파이프구조</td>\n      <td>창고시설</td>\n      <td>0</td>\n      <td>19950726.0</td>\n      <td>NaN</td>\n    </tr>\n    <tr>\n      <th>4</th>\n      <td>5</td>\n      <td>세종특별자치시  반곡동 180-1번지</td>\n      <td>36110</td>\n      <td>10100</td>\n      <td>1</td>\n      <td>180</td>\n      <td>1</td>\n      <td>일반</td>\n      <td>솔빛숲유치원</td>\n      <td>NaN</td>\n      <td>2697.74</td>\n      <td>철근콘크리트구조</td>\n      <td>교육연구시설</td>\n      <td>0</td>\n      <td>20190228.0</td>\n      <td>NaN</td>\n    </tr>\n  </tbody>\n</table>\n</div>",
            "text/plain": "   순번                   대지위치  시군구코드  법정동코드  대지구분코드    번   지 대장구분코드명     건물명  \\\n0   1  세종특별자치시  반곡동 146-75번지  36110  10100       1  146  75      일반     NaN   \n1   2  세종특별자치시  반곡동 146-79번지  36110  10100       1  146  79      일반     NaN   \n2   3  세종특별자치시  반곡동 146-79번지  36110  10100       1  146  79      일반     NaN   \n3   4  세종특별자치시  반곡동 146-79번지  36110  10100       1  146  79      일반     NaN   \n4   5   세종특별자치시  반곡동 180-1번지  36110  10100       1  180   1      일반  솔빛숲유치원   \n\n   동명칭   연면적(㎡)     구조코드명    주용도코드명 세대수(세대)       사용승인일  Unnamed: 15  \n0  NaN   135.24      벽돌구조      단독주택       0      1977.0          NaN  \n1   1동      576    강파이프구조  동.식물관련시설       0      1999.0          NaN  \n2   2동      336    강파이프구조  동.식물관련시설       0  20041223.0          NaN  \n3   3동   127.19    강파이프구조      창고시설       0  19950726.0          NaN  \n4  NaN  2697.74  철근콘크리트구조    교육연구시설       0  20190228.0          NaN  "
          },
          "execution_count": 14,
          "metadata": {},
          "output_type": "execute_result"
        }
      ],
      "source": [
        "b_unit.head()"
      ]
    },
    {
      "cell_type": "markdown",
      "metadata": {},
      "source": []
    },
    {
      "cell_type": "code",
      "execution_count": 9,
      "metadata": {},
      "outputs": [],
      "source": [
        "b_info['동명칭'] = b_info['동명칭'].str.replace('주건축물제',\"\")\r\n",
        "list_b = list(set(b_info['동명칭']))"
      ]
    },
    {
      "cell_type": "code",
      "execution_count": 12,
      "metadata": {},
      "outputs": [
        {
          "data": {
            "text/html": "<div>\n<style scoped>\n    .dataframe tbody tr th:only-of-type {\n        vertical-align: middle;\n    }\n\n    .dataframe tbody tr th {\n        vertical-align: top;\n    }\n\n    .dataframe thead th {\n        text-align: right;\n    }\n</style>\n<table border=\"1\" class=\"dataframe\">\n  <thead>\n    <tr style=\"text-align: right;\">\n      <th></th>\n      <th>순번</th>\n      <th>대지위치</th>\n      <th>시군구코드</th>\n      <th>법정동코드</th>\n      <th>대지구분코드</th>\n      <th>번</th>\n      <th>지</th>\n      <th>대장구분코드명</th>\n      <th>건물명</th>\n      <th>동명칭</th>\n      <th>연면적(㎡)</th>\n      <th>구조코드명</th>\n      <th>주용도코드명</th>\n      <th>세대수(세대)</th>\n      <th>사용승인일</th>\n      <th>Unnamed: 15</th>\n    </tr>\n  </thead>\n  <tbody>\n    <tr>\n      <th>0</th>\n      <td>1</td>\n      <td>세종특별자치시  반곡동 146-75번지</td>\n      <td>36110</td>\n      <td>10100</td>\n      <td>1</td>\n      <td>146</td>\n      <td>75</td>\n      <td>일반</td>\n      <td>NaN</td>\n      <td>NaN</td>\n      <td>135.24</td>\n      <td>벽돌구조</td>\n      <td>단독주택</td>\n      <td>0</td>\n      <td>1977.0</td>\n      <td>NaN</td>\n    </tr>\n    <tr>\n      <th>1</th>\n      <td>2</td>\n      <td>세종특별자치시  반곡동 146-79번지</td>\n      <td>36110</td>\n      <td>10100</td>\n      <td>1</td>\n      <td>146</td>\n      <td>79</td>\n      <td>일반</td>\n      <td>NaN</td>\n      <td>1동</td>\n      <td>576</td>\n      <td>강파이프구조</td>\n      <td>동.식물관련시설</td>\n      <td>0</td>\n      <td>1999.0</td>\n      <td>NaN</td>\n    </tr>\n    <tr>\n      <th>2</th>\n      <td>3</td>\n      <td>세종특별자치시  반곡동 146-79번지</td>\n      <td>36110</td>\n      <td>10100</td>\n      <td>1</td>\n      <td>146</td>\n      <td>79</td>\n      <td>일반</td>\n      <td>NaN</td>\n      <td>2동</td>\n      <td>336</td>\n      <td>강파이프구조</td>\n      <td>동.식물관련시설</td>\n      <td>0</td>\n      <td>20041223.0</td>\n      <td>NaN</td>\n    </tr>\n    <tr>\n      <th>3</th>\n      <td>4</td>\n      <td>세종특별자치시  반곡동 146-79번지</td>\n      <td>36110</td>\n      <td>10100</td>\n      <td>1</td>\n      <td>146</td>\n      <td>79</td>\n      <td>일반</td>\n      <td>NaN</td>\n      <td>3동</td>\n      <td>127.19</td>\n      <td>강파이프구조</td>\n      <td>창고시설</td>\n      <td>0</td>\n      <td>19950726.0</td>\n      <td>NaN</td>\n    </tr>\n    <tr>\n      <th>4</th>\n      <td>5</td>\n      <td>세종특별자치시  반곡동 180-1번지</td>\n      <td>36110</td>\n      <td>10100</td>\n      <td>1</td>\n      <td>180</td>\n      <td>1</td>\n      <td>일반</td>\n      <td>솔빛숲유치원</td>\n      <td>NaN</td>\n      <td>2697.74</td>\n      <td>철근콘크리트구조</td>\n      <td>교육연구시설</td>\n      <td>0</td>\n      <td>20190228.0</td>\n      <td>NaN</td>\n    </tr>\n  </tbody>\n</table>\n</div>",
            "text/plain": "   순번                   대지위치  시군구코드  법정동코드  대지구분코드    번   지 대장구분코드명     건물명  \\\n0   1  세종특별자치시  반곡동 146-75번지  36110  10100       1  146  75      일반     NaN   \n1   2  세종특별자치시  반곡동 146-79번지  36110  10100       1  146  79      일반     NaN   \n2   3  세종특별자치시  반곡동 146-79번지  36110  10100       1  146  79      일반     NaN   \n3   4  세종특별자치시  반곡동 146-79번지  36110  10100       1  146  79      일반     NaN   \n4   5   세종특별자치시  반곡동 180-1번지  36110  10100       1  180   1      일반  솔빛숲유치원   \n\n   동명칭   연면적(㎡)     구조코드명    주용도코드명 세대수(세대)       사용승인일  Unnamed: 15  \n0  NaN   135.24      벽돌구조      단독주택       0      1977.0          NaN  \n1   1동      576    강파이프구조  동.식물관련시설       0      1999.0          NaN  \n2   2동      336    강파이프구조  동.식물관련시설       0  20041223.0          NaN  \n3   3동   127.19    강파이프구조      창고시설       0  19950726.0          NaN  \n4  NaN  2697.74  철근콘크리트구조    교육연구시설       0  20190228.0          NaN  "
          },
          "execution_count": 12,
          "metadata": {},
          "output_type": "execute_result"
        }
      ],
      "source": [
        "b_unit.head()"
      ]
    },
    {
      "cell_type": "code",
      "execution_count": 13,
      "metadata": {},
      "outputs": [
        {
          "name": "stdout",
          "output_type": "stream",
          "text": [
            "<class 'pandas.core.frame.DataFrame'>\n",
            "RangeIndex: 36729 entries, 0 to 36728\n",
            "Data columns (total 16 columns):\n",
            " #   Column       Non-Null Count  Dtype  \n",
            "---  ------       --------------  -----  \n",
            " 0   순번           36729 non-null  int64  \n",
            " 1   대지위치         36729 non-null  object \n",
            " 2   시군구코드        36729 non-null  int64  \n",
            " 3   법정동코드        36729 non-null  int64  \n",
            " 4   대지구분코드       36729 non-null  int64  \n",
            " 5   번            36729 non-null  int64  \n",
            " 6   지            36729 non-null  int64  \n",
            " 7   대장구분코드명      36729 non-null  object \n",
            " 8   건물명          7326 non-null   object \n",
            " 9   동명칭          16491 non-null  object \n",
            " 10  연면적(㎡)       36729 non-null  object \n",
            " 11  구조코드명        36720 non-null  object \n",
            " 12  주용도코드명       36717 non-null  object \n",
            " 13  세대수(세대)      36729 non-null  object \n",
            " 14  사용승인일        35517 non-null  float64\n",
            " 15  Unnamed: 15  1 non-null      float64\n",
            "dtypes: float64(2), int64(6), object(8)\n",
            "memory usage: 4.5+ MB\n"
          ]
        }
      ],
      "source": [
        "b_unit.info()"
      ]
    },
    {
      "cell_type": "code",
      "execution_count": null,
      "metadata": {},
      "outputs": [],
      "source": []
    }
  ],
  "metadata": {
    "colab": {
      "collapsed_sections": [],
      "name": "data_summary_by_dong.ipynb",
      "provenance": []
    },
    "kernelspec": {
      "display_name": "Python 3",
      "language": "python",
      "name": "python3"
    },
    "language_info": {
      "codemirror_mode": {
        "name": "ipython",
        "version": 3
      },
      "file_extension": ".py",
      "mimetype": "text/x-python",
      "name": "python",
      "nbconvert_exporter": "python",
      "pygments_lexer": "ipython3",
      "version": "3.8.5-final"
    }
  },
  "nbformat": 4,
  "nbformat_minor": 0
}