{
  "nbformat": 4,
  "nbformat_minor": 0,
  "metadata": {
    "colab": {
      "name": "sejoing_house_price_lstm.ipynb",
      "provenance": [],
      "collapsed_sections": []
    },
    "kernelspec": {
      "name": "python3",
      "display_name": "Python 3"
    },
    "language_info": {
      "name": "python"
    },
    "accelerator": "GPU"
  },
  "cells": [
    {
      "cell_type": "code",
      "metadata": {
        "id": "WJNnKanQ7tWk"
      },
      "source": [
        "import pandas as pd\n",
        "import numpy as np\n",
        "import matplotlib.pyplot as plt\n",
        "import seaborn as sns\n",
        "import warnings\n",
        "import os\n",
        "\n",
        "%matplotlib inline\n",
        "warnings.filterwarnings('ignore')\n",
        "\n",
        "plt.rcParams['font.family'] = 'NanumGothic'"
      ],
      "execution_count": 1,
      "outputs": []
    },
    {
      "cell_type": "code",
      "metadata": {
        "id": "zyNctF0P9RFM",
        "colab": {
          "base_uri": "https://localhost:8080/"
        },
        "outputId": "42c3ac8e-db54-42ff-c31f-96b1d2b6610a"
      },
      "source": [
        "from google.colab import drive\n",
        "drive.mount('/content/drive')"
      ],
      "execution_count": 2,
      "outputs": [
        {
          "output_type": "stream",
          "text": [
            "Mounted at /content/drive\n"
          ],
          "name": "stdout"
        }
      ]
    },
    {
      "cell_type": "markdown",
      "metadata": {
        "id": "2ogv-iT-_k_g"
      },
      "source": [
        "## 세종시 dataset\n"
      ]
    },
    {
      "cell_type": "code",
      "metadata": {
        "id": "G75hXwB85Ldf"
      },
      "source": [
        "# Data Laad\n",
        "df = pd.read_csv('/content/drive/MyDrive/Project/sejong-compas-contest/아파트매매_부동산지수.csv', parse_dates=['yyyymmdd']).drop(columns=['Unnamed: 0'])\n",
        "\n",
        "# Set 면적평균가\n",
        "df['면적평균가'] = df['거래금액'].astype(float) / df['전용면적']\n",
        "\n",
        "\n",
        "# Rename Column\n",
        "df = df.rename(columns={'yyyymmdd':'년월일'})\n",
        "df = df.set_index('년월일')\n",
        "\n",
        "# Sort by Datetime\n",
        "df = df.sort_index()\n",
        "# Reducing Columns\n",
        "df['법정동'] = df['법정동'].str.split(' ').str[0]\n",
        "df['누적평균값'] = df['거래금액'].cumsum() / df['전용면적'].cumsum()\n",
        "\n",
        "df = df.reindex(columns=['법정동','거래금액','전용면적','누적평균값', '아파트세종', '아파트전국','전체세종','전체서울','아파트서울','전체전국'])"
      ],
      "execution_count": 3,
      "outputs": []
    },
    {
      "cell_type": "code",
      "metadata": {
        "colab": {
          "base_uri": "https://localhost:8080/"
        },
        "id": "pP4fUQjiZA1i",
        "outputId": "0b2ef623-c637-4591-ba9d-4df55ad4abe1"
      },
      "source": [
        "df.columns"
      ],
      "execution_count": 26,
      "outputs": [
        {
          "output_type": "execute_result",
          "data": {
            "text/plain": [
              "Index(['법정동', '거래금액', '전용면적', '누적평균값', '아파트세종', '아파트전국', '전체세종', '전체서울',\n",
              "       '아파트서울', '전체전국'],\n",
              "      dtype='object')"
            ]
          },
          "metadata": {
            "tags": []
          },
          "execution_count": 26
        }
      ]
    },
    {
      "cell_type": "code",
      "metadata": {
        "colab": {
          "base_uri": "https://localhost:8080/",
          "height": 545
        },
        "id": "d5OrCcyu2puI",
        "outputId": "f08bdb73-5f1e-4443-9cfc-6000e2b9ad60"
      },
      "source": [
        "df.head(15)"
      ],
      "execution_count": 27,
      "outputs": [
        {
          "output_type": "execute_result",
          "data": {
            "text/html": [
              "<div>\n",
              "<style scoped>\n",
              "    .dataframe tbody tr th:only-of-type {\n",
              "        vertical-align: middle;\n",
              "    }\n",
              "\n",
              "    .dataframe tbody tr th {\n",
              "        vertical-align: top;\n",
              "    }\n",
              "\n",
              "    .dataframe thead th {\n",
              "        text-align: right;\n",
              "    }\n",
              "</style>\n",
              "<table border=\"1\" class=\"dataframe\">\n",
              "  <thead>\n",
              "    <tr style=\"text-align: right;\">\n",
              "      <th></th>\n",
              "      <th>법정동</th>\n",
              "      <th>거래금액</th>\n",
              "      <th>전용면적</th>\n",
              "      <th>누적평균값</th>\n",
              "      <th>아파트세종</th>\n",
              "      <th>아파트전국</th>\n",
              "      <th>전체세종</th>\n",
              "      <th>전체서울</th>\n",
              "      <th>아파트서울</th>\n",
              "      <th>전체전국</th>\n",
              "    </tr>\n",
              "    <tr>\n",
              "      <th>년월일</th>\n",
              "      <th></th>\n",
              "      <th></th>\n",
              "      <th></th>\n",
              "      <th></th>\n",
              "      <th></th>\n",
              "      <th></th>\n",
              "      <th></th>\n",
              "      <th></th>\n",
              "      <th></th>\n",
              "      <th></th>\n",
              "    </tr>\n",
              "  </thead>\n",
              "  <tbody>\n",
              "    <tr>\n",
              "      <th>2017-01-01</th>\n",
              "      <td>종촌동</td>\n",
              "      <td>27300</td>\n",
              "      <td>59.8652</td>\n",
              "      <td>456.024535</td>\n",
              "      <td>95.9</td>\n",
              "      <td>99.0</td>\n",
              "      <td>96.0</td>\n",
              "      <td>97.1</td>\n",
              "      <td>96.3</td>\n",
              "      <td>98.7</td>\n",
              "    </tr>\n",
              "    <tr>\n",
              "      <th>2017-01-01</th>\n",
              "      <td>보람동</td>\n",
              "      <td>8600</td>\n",
              "      <td>16.9849</td>\n",
              "      <td>467.143179</td>\n",
              "      <td>95.9</td>\n",
              "      <td>99.0</td>\n",
              "      <td>96.0</td>\n",
              "      <td>97.1</td>\n",
              "      <td>96.3</td>\n",
              "      <td>98.7</td>\n",
              "    </tr>\n",
              "    <tr>\n",
              "      <th>2017-01-02</th>\n",
              "      <td>조치원읍</td>\n",
              "      <td>13000</td>\n",
              "      <td>84.9228</td>\n",
              "      <td>302.275597</td>\n",
              "      <td>95.9</td>\n",
              "      <td>99.0</td>\n",
              "      <td>96.0</td>\n",
              "      <td>97.1</td>\n",
              "      <td>96.3</td>\n",
              "      <td>98.7</td>\n",
              "    </tr>\n",
              "    <tr>\n",
              "      <th>2017-01-02</th>\n",
              "      <td>아름동</td>\n",
              "      <td>31300</td>\n",
              "      <td>84.9280</td>\n",
              "      <td>325.090018</td>\n",
              "      <td>95.9</td>\n",
              "      <td>99.0</td>\n",
              "      <td>96.0</td>\n",
              "      <td>97.1</td>\n",
              "      <td>96.3</td>\n",
              "      <td>98.7</td>\n",
              "    </tr>\n",
              "    <tr>\n",
              "      <th>2017-01-02</th>\n",
              "      <td>어진동</td>\n",
              "      <td>7600</td>\n",
              "      <td>17.4250</td>\n",
              "      <td>332.417230</td>\n",
              "      <td>95.9</td>\n",
              "      <td>99.0</td>\n",
              "      <td>96.0</td>\n",
              "      <td>97.1</td>\n",
              "      <td>96.3</td>\n",
              "      <td>98.7</td>\n",
              "    </tr>\n",
              "    <tr>\n",
              "      <th>2017-01-02</th>\n",
              "      <td>고운동</td>\n",
              "      <td>32000</td>\n",
              "      <td>84.9894</td>\n",
              "      <td>343.153107</td>\n",
              "      <td>95.9</td>\n",
              "      <td>99.0</td>\n",
              "      <td>96.0</td>\n",
              "      <td>97.1</td>\n",
              "      <td>96.3</td>\n",
              "      <td>98.7</td>\n",
              "    </tr>\n",
              "    <tr>\n",
              "      <th>2017-01-02</th>\n",
              "      <td>조치원읍</td>\n",
              "      <td>19850</td>\n",
              "      <td>84.6682</td>\n",
              "      <td>321.934790</td>\n",
              "      <td>95.9</td>\n",
              "      <td>99.0</td>\n",
              "      <td>96.0</td>\n",
              "      <td>97.1</td>\n",
              "      <td>96.3</td>\n",
              "      <td>98.7</td>\n",
              "    </tr>\n",
              "    <tr>\n",
              "      <th>2017-01-02</th>\n",
              "      <td>조치원읍</td>\n",
              "      <td>22500</td>\n",
              "      <td>128.9491</td>\n",
              "      <td>288.147514</td>\n",
              "      <td>95.9</td>\n",
              "      <td>99.0</td>\n",
              "      <td>96.0</td>\n",
              "      <td>97.1</td>\n",
              "      <td>96.3</td>\n",
              "      <td>98.7</td>\n",
              "    </tr>\n",
              "    <tr>\n",
              "      <th>2017-01-02</th>\n",
              "      <td>조치원읍</td>\n",
              "      <td>19000</td>\n",
              "      <td>84.7067</td>\n",
              "      <td>279.794569</td>\n",
              "      <td>95.9</td>\n",
              "      <td>99.0</td>\n",
              "      <td>96.0</td>\n",
              "      <td>97.1</td>\n",
              "      <td>96.3</td>\n",
              "      <td>98.7</td>\n",
              "    </tr>\n",
              "    <tr>\n",
              "      <th>2017-01-02</th>\n",
              "      <td>고운동</td>\n",
              "      <td>30500</td>\n",
              "      <td>84.9800</td>\n",
              "      <td>288.973816</td>\n",
              "      <td>95.9</td>\n",
              "      <td>99.0</td>\n",
              "      <td>96.0</td>\n",
              "      <td>97.1</td>\n",
              "      <td>96.3</td>\n",
              "      <td>98.7</td>\n",
              "    </tr>\n",
              "    <tr>\n",
              "      <th>2017-01-02</th>\n",
              "      <td>한솔동</td>\n",
              "      <td>25000</td>\n",
              "      <td>59.8300</td>\n",
              "      <td>298.706480</td>\n",
              "      <td>95.9</td>\n",
              "      <td>99.0</td>\n",
              "      <td>96.0</td>\n",
              "      <td>97.1</td>\n",
              "      <td>96.3</td>\n",
              "      <td>98.7</td>\n",
              "    </tr>\n",
              "    <tr>\n",
              "      <th>2017-01-02</th>\n",
              "      <td>연서면</td>\n",
              "      <td>9400</td>\n",
              "      <td>59.8580</td>\n",
              "      <td>288.754714</td>\n",
              "      <td>95.9</td>\n",
              "      <td>99.0</td>\n",
              "      <td>96.0</td>\n",
              "      <td>97.1</td>\n",
              "      <td>96.3</td>\n",
              "      <td>98.7</td>\n",
              "    </tr>\n",
              "    <tr>\n",
              "      <th>2017-01-03</th>\n",
              "      <td>종촌동</td>\n",
              "      <td>28900</td>\n",
              "      <td>59.9383</td>\n",
              "      <td>301.465190</td>\n",
              "      <td>95.9</td>\n",
              "      <td>99.0</td>\n",
              "      <td>96.0</td>\n",
              "      <td>97.1</td>\n",
              "      <td>96.3</td>\n",
              "      <td>98.7</td>\n",
              "    </tr>\n",
              "    <tr>\n",
              "      <th>2017-01-04</th>\n",
              "      <td>조치원읍</td>\n",
              "      <td>18300</td>\n",
              "      <td>84.9228</td>\n",
              "      <td>294.141720</td>\n",
              "      <td>95.9</td>\n",
              "      <td>99.0</td>\n",
              "      <td>96.0</td>\n",
              "      <td>97.1</td>\n",
              "      <td>96.3</td>\n",
              "      <td>98.7</td>\n",
              "    </tr>\n",
              "    <tr>\n",
              "      <th>2017-01-04</th>\n",
              "      <td>조치원읍</td>\n",
              "      <td>23900</td>\n",
              "      <td>118.1980</td>\n",
              "      <td>284.397019</td>\n",
              "      <td>95.9</td>\n",
              "      <td>99.0</td>\n",
              "      <td>96.0</td>\n",
              "      <td>97.1</td>\n",
              "      <td>96.3</td>\n",
              "      <td>98.7</td>\n",
              "    </tr>\n",
              "  </tbody>\n",
              "</table>\n",
              "</div>"
            ],
            "text/plain": [
              "             법정동   거래금액      전용면적       누적평균값  ...  전체세종  전체서울  아파트서울  전체전국\n",
              "년월일                                            ...                         \n",
              "2017-01-01   종촌동  27300   59.8652  456.024535  ...  96.0  97.1   96.3  98.7\n",
              "2017-01-01   보람동   8600   16.9849  467.143179  ...  96.0  97.1   96.3  98.7\n",
              "2017-01-02  조치원읍  13000   84.9228  302.275597  ...  96.0  97.1   96.3  98.7\n",
              "2017-01-02   아름동  31300   84.9280  325.090018  ...  96.0  97.1   96.3  98.7\n",
              "2017-01-02   어진동   7600   17.4250  332.417230  ...  96.0  97.1   96.3  98.7\n",
              "2017-01-02   고운동  32000   84.9894  343.153107  ...  96.0  97.1   96.3  98.7\n",
              "2017-01-02  조치원읍  19850   84.6682  321.934790  ...  96.0  97.1   96.3  98.7\n",
              "2017-01-02  조치원읍  22500  128.9491  288.147514  ...  96.0  97.1   96.3  98.7\n",
              "2017-01-02  조치원읍  19000   84.7067  279.794569  ...  96.0  97.1   96.3  98.7\n",
              "2017-01-02   고운동  30500   84.9800  288.973816  ...  96.0  97.1   96.3  98.7\n",
              "2017-01-02   한솔동  25000   59.8300  298.706480  ...  96.0  97.1   96.3  98.7\n",
              "2017-01-02   연서면   9400   59.8580  288.754714  ...  96.0  97.1   96.3  98.7\n",
              "2017-01-03   종촌동  28900   59.9383  301.465190  ...  96.0  97.1   96.3  98.7\n",
              "2017-01-04  조치원읍  18300   84.9228  294.141720  ...  96.0  97.1   96.3  98.7\n",
              "2017-01-04  조치원읍  23900  118.1980  284.397019  ...  96.0  97.1   96.3  98.7\n",
              "\n",
              "[15 rows x 10 columns]"
            ]
          },
          "metadata": {
            "tags": []
          },
          "execution_count": 27
        }
      ]
    },
    {
      "cell_type": "code",
      "metadata": {
        "id": "294IdzLxGDqu"
      },
      "source": [
        "groupby_index = df.groupby(by=df.index).mean().index\n",
        "groupby_mean = df.groupby(by=df.index).mean()\n",
        "groupby_max = df.groupby(by=df.index).max()\n",
        "groupby_min = df.groupby(by=df.index).min()\n",
        "groupby_median = df.groupby(by=df.index).median()"
      ],
      "execution_count": 4,
      "outputs": []
    },
    {
      "cell_type": "code",
      "metadata": {
        "id": "ine85WZbJuWH"
      },
      "source": [
        "df = groupby_mean[['거래금액']]\n",
        "df['전용면적_mean'] = groupby_mean['전용면적']\n",
        "df['거래금액_max'] = groupby_max['거래금액']\n",
        "df['거래금액_min'] = groupby_min['거래금액']\n",
        "df['전용면적_max'] = groupby_max['전용면적']\n",
        "df['전용면적_min'] = groupby_min['전용면적']\n",
        "df['면적당금액'] = groupby_mean['거래금액'] /groupby_mean['전용면적'] \n",
        "df['아파트지수'] = groupby_mean['아파트세종']"
      ],
      "execution_count": 5,
      "outputs": []
    },
    {
      "cell_type": "code",
      "metadata": {
        "colab": {
          "base_uri": "https://localhost:8080/",
          "height": 450
        },
        "id": "9F7YWOt2I5pw",
        "outputId": "7ac7b00a-ab7d-4a89-b8b2-1b35a56167ad"
      },
      "source": [
        "df"
      ],
      "execution_count": 6,
      "outputs": [
        {
          "output_type": "execute_result",
          "data": {
            "text/html": [
              "<div>\n",
              "<style scoped>\n",
              "    .dataframe tbody tr th:only-of-type {\n",
              "        vertical-align: middle;\n",
              "    }\n",
              "\n",
              "    .dataframe tbody tr th {\n",
              "        vertical-align: top;\n",
              "    }\n",
              "\n",
              "    .dataframe thead th {\n",
              "        text-align: right;\n",
              "    }\n",
              "</style>\n",
              "<table border=\"1\" class=\"dataframe\">\n",
              "  <thead>\n",
              "    <tr style=\"text-align: right;\">\n",
              "      <th></th>\n",
              "      <th>거래금액</th>\n",
              "      <th>전용면적_mean</th>\n",
              "      <th>거래금액_max</th>\n",
              "      <th>거래금액_min</th>\n",
              "      <th>전용면적_max</th>\n",
              "      <th>전용면적_min</th>\n",
              "      <th>면적당금액</th>\n",
              "      <th>아파트지수</th>\n",
              "    </tr>\n",
              "    <tr>\n",
              "      <th>년월일</th>\n",
              "      <th></th>\n",
              "      <th></th>\n",
              "      <th></th>\n",
              "      <th></th>\n",
              "      <th></th>\n",
              "      <th></th>\n",
              "      <th></th>\n",
              "      <th></th>\n",
              "    </tr>\n",
              "  </thead>\n",
              "  <tbody>\n",
              "    <tr>\n",
              "      <th>2017-01-01</th>\n",
              "      <td>17950.000000</td>\n",
              "      <td>38.425050</td>\n",
              "      <td>27300</td>\n",
              "      <td>8600</td>\n",
              "      <td>59.8652</td>\n",
              "      <td>16.9849</td>\n",
              "      <td>467.143179</td>\n",
              "      <td>95.9</td>\n",
              "    </tr>\n",
              "    <tr>\n",
              "      <th>2017-01-02</th>\n",
              "      <td>21015.000000</td>\n",
              "      <td>77.525720</td>\n",
              "      <td>32000</td>\n",
              "      <td>7600</td>\n",
              "      <td>128.9491</td>\n",
              "      <td>17.4250</td>\n",
              "      <td>271.071330</td>\n",
              "      <td>95.9</td>\n",
              "    </tr>\n",
              "    <tr>\n",
              "      <th>2017-01-03</th>\n",
              "      <td>28900.000000</td>\n",
              "      <td>59.938300</td>\n",
              "      <td>28900</td>\n",
              "      <td>28900</td>\n",
              "      <td>59.9383</td>\n",
              "      <td>59.9383</td>\n",
              "      <td>482.162490</td>\n",
              "      <td>95.9</td>\n",
              "    </tr>\n",
              "    <tr>\n",
              "      <th>2017-01-04</th>\n",
              "      <td>26800.000000</td>\n",
              "      <td>106.066217</td>\n",
              "      <td>39500</td>\n",
              "      <td>18300</td>\n",
              "      <td>130.2173</td>\n",
              "      <td>84.9228</td>\n",
              "      <td>252.672348</td>\n",
              "      <td>95.9</td>\n",
              "    </tr>\n",
              "    <tr>\n",
              "      <th>2017-01-05</th>\n",
              "      <td>19150.000000</td>\n",
              "      <td>54.614150</td>\n",
              "      <td>27300</td>\n",
              "      <td>11000</td>\n",
              "      <td>59.9383</td>\n",
              "      <td>49.2900</td>\n",
              "      <td>350.641729</td>\n",
              "      <td>95.9</td>\n",
              "    </tr>\n",
              "    <tr>\n",
              "      <th>...</th>\n",
              "      <td>...</td>\n",
              "      <td>...</td>\n",
              "      <td>...</td>\n",
              "      <td>...</td>\n",
              "      <td>...</td>\n",
              "      <td>...</td>\n",
              "      <td>...</td>\n",
              "      <td>...</td>\n",
              "    </tr>\n",
              "    <tr>\n",
              "      <th>2021-02-24</th>\n",
              "      <td>35531.818182</td>\n",
              "      <td>49.706200</td>\n",
              "      <td>79500</td>\n",
              "      <td>8500</td>\n",
              "      <td>104.9044</td>\n",
              "      <td>19.3200</td>\n",
              "      <td>714.836744</td>\n",
              "      <td>146.0</td>\n",
              "    </tr>\n",
              "    <tr>\n",
              "      <th>2021-02-25</th>\n",
              "      <td>25860.000000</td>\n",
              "      <td>58.428760</td>\n",
              "      <td>61000</td>\n",
              "      <td>10900</td>\n",
              "      <td>118.1980</td>\n",
              "      <td>26.4397</td>\n",
              "      <td>442.590259</td>\n",
              "      <td>146.0</td>\n",
              "    </tr>\n",
              "    <tr>\n",
              "      <th>2021-02-26</th>\n",
              "      <td>62771.428571</td>\n",
              "      <td>68.250014</td>\n",
              "      <td>107000</td>\n",
              "      <td>11000</td>\n",
              "      <td>98.0608</td>\n",
              "      <td>25.3500</td>\n",
              "      <td>919.727699</td>\n",
              "      <td>146.0</td>\n",
              "    </tr>\n",
              "    <tr>\n",
              "      <th>2021-02-27</th>\n",
              "      <td>51511.538462</td>\n",
              "      <td>69.235346</td>\n",
              "      <td>99500</td>\n",
              "      <td>8900</td>\n",
              "      <td>128.9491</td>\n",
              "      <td>19.1676</td>\n",
              "      <td>744.006368</td>\n",
              "      <td>146.0</td>\n",
              "    </tr>\n",
              "    <tr>\n",
              "      <th>2021-02-28</th>\n",
              "      <td>59875.000000</td>\n",
              "      <td>61.350675</td>\n",
              "      <td>125000</td>\n",
              "      <td>11850</td>\n",
              "      <td>109.5334</td>\n",
              "      <td>24.1152</td>\n",
              "      <td>975.946882</td>\n",
              "      <td>146.0</td>\n",
              "    </tr>\n",
              "  </tbody>\n",
              "</table>\n",
              "<p>1495 rows × 8 columns</p>\n",
              "</div>"
            ],
            "text/plain": [
              "                    거래금액   전용면적_mean  거래금액_max  ...  전용면적_min       면적당금액  아파트지수\n",
              "년월일                                             ...                             \n",
              "2017-01-01  17950.000000   38.425050     27300  ...   16.9849  467.143179   95.9\n",
              "2017-01-02  21015.000000   77.525720     32000  ...   17.4250  271.071330   95.9\n",
              "2017-01-03  28900.000000   59.938300     28900  ...   59.9383  482.162490   95.9\n",
              "2017-01-04  26800.000000  106.066217     39500  ...   84.9228  252.672348   95.9\n",
              "2017-01-05  19150.000000   54.614150     27300  ...   49.2900  350.641729   95.9\n",
              "...                  ...         ...       ...  ...       ...         ...    ...\n",
              "2021-02-24  35531.818182   49.706200     79500  ...   19.3200  714.836744  146.0\n",
              "2021-02-25  25860.000000   58.428760     61000  ...   26.4397  442.590259  146.0\n",
              "2021-02-26  62771.428571   68.250014    107000  ...   25.3500  919.727699  146.0\n",
              "2021-02-27  51511.538462   69.235346     99500  ...   19.1676  744.006368  146.0\n",
              "2021-02-28  59875.000000   61.350675    125000  ...   24.1152  975.946882  146.0\n",
              "\n",
              "[1495 rows x 8 columns]"
            ]
          },
          "metadata": {
            "tags": []
          },
          "execution_count": 6
        }
      ]
    },
    {
      "cell_type": "code",
      "metadata": {
        "colab": {
          "base_uri": "https://localhost:8080/",
          "height": 297
        },
        "id": "XjAqRP2IdQ_D",
        "outputId": "63abb0b5-0da0-4abe-8857-b5d3c13652dc"
      },
      "source": [
        "df.describe().T"
      ],
      "execution_count": 31,
      "outputs": [
        {
          "output_type": "execute_result",
          "data": {
            "text/html": [
              "<div>\n",
              "<style scoped>\n",
              "    .dataframe tbody tr th:only-of-type {\n",
              "        vertical-align: middle;\n",
              "    }\n",
              "\n",
              "    .dataframe tbody tr th {\n",
              "        vertical-align: top;\n",
              "    }\n",
              "\n",
              "    .dataframe thead th {\n",
              "        text-align: right;\n",
              "    }\n",
              "</style>\n",
              "<table border=\"1\" class=\"dataframe\">\n",
              "  <thead>\n",
              "    <tr style=\"text-align: right;\">\n",
              "      <th></th>\n",
              "      <th>count</th>\n",
              "      <th>mean</th>\n",
              "      <th>std</th>\n",
              "      <th>min</th>\n",
              "      <th>25%</th>\n",
              "      <th>50%</th>\n",
              "      <th>75%</th>\n",
              "      <th>max</th>\n",
              "    </tr>\n",
              "  </thead>\n",
              "  <tbody>\n",
              "    <tr>\n",
              "      <th>거래금액</th>\n",
              "      <td>1495.0</td>\n",
              "      <td>33705.024655</td>\n",
              "      <td>9808.111190</td>\n",
              "      <td>6500.000000</td>\n",
              "      <td>26956.468531</td>\n",
              "      <td>32771.428571</td>\n",
              "      <td>39377.479675</td>\n",
              "      <td>97625.000000</td>\n",
              "    </tr>\n",
              "    <tr>\n",
              "      <th>전용면적_mean</th>\n",
              "      <td>1495.0</td>\n",
              "      <td>76.426125</td>\n",
              "      <td>10.570351</td>\n",
              "      <td>16.942800</td>\n",
              "      <td>70.709217</td>\n",
              "      <td>77.919463</td>\n",
              "      <td>83.086137</td>\n",
              "      <td>111.261033</td>\n",
              "    </tr>\n",
              "    <tr>\n",
              "      <th>거래금액_max</th>\n",
              "      <td>1495.0</td>\n",
              "      <td>65085.339130</td>\n",
              "      <td>26247.059439</td>\n",
              "      <td>6500.000000</td>\n",
              "      <td>44807.500000</td>\n",
              "      <td>59900.000000</td>\n",
              "      <td>81350.000000</td>\n",
              "      <td>170000.000000</td>\n",
              "    </tr>\n",
              "    <tr>\n",
              "      <th>거래금액_min</th>\n",
              "      <td>1495.0</td>\n",
              "      <td>10349.033445</td>\n",
              "      <td>7688.184332</td>\n",
              "      <td>1800.000000</td>\n",
              "      <td>5800.000000</td>\n",
              "      <td>8500.000000</td>\n",
              "      <td>11500.000000</td>\n",
              "      <td>77500.000000</td>\n",
              "    </tr>\n",
              "    <tr>\n",
              "      <th>전용면적_max</th>\n",
              "      <td>1495.0</td>\n",
              "      <td>113.263771</td>\n",
              "      <td>20.193911</td>\n",
              "      <td>16.942800</td>\n",
              "      <td>99.986000</td>\n",
              "      <td>114.160000</td>\n",
              "      <td>125.708100</td>\n",
              "      <td>209.185200</td>\n",
              "    </tr>\n",
              "    <tr>\n",
              "      <th>전용면적_min</th>\n",
              "      <td>1495.0</td>\n",
              "      <td>40.041483</td>\n",
              "      <td>18.477448</td>\n",
              "      <td>12.179900</td>\n",
              "      <td>22.686000</td>\n",
              "      <td>39.690000</td>\n",
              "      <td>59.454400</td>\n",
              "      <td>106.760000</td>\n",
              "    </tr>\n",
              "    <tr>\n",
              "      <th>면적당금액</th>\n",
              "      <td>1495.0</td>\n",
              "      <td>443.968700</td>\n",
              "      <td>128.823467</td>\n",
              "      <td>141.731527</td>\n",
              "      <td>353.092820</td>\n",
              "      <td>416.717156</td>\n",
              "      <td>504.134860</td>\n",
              "      <td>990.750145</td>\n",
              "    </tr>\n",
              "    <tr>\n",
              "      <th>아파트지수</th>\n",
              "      <td>1495.0</td>\n",
              "      <td>106.633311</td>\n",
              "      <td>14.646001</td>\n",
              "      <td>95.700000</td>\n",
              "      <td>98.800000</td>\n",
              "      <td>100.400000</td>\n",
              "      <td>103.400000</td>\n",
              "      <td>146.000000</td>\n",
              "    </tr>\n",
              "  </tbody>\n",
              "</table>\n",
              "</div>"
            ],
            "text/plain": [
              "            count          mean  ...           75%            max\n",
              "거래금액       1495.0  33705.024655  ...  39377.479675   97625.000000\n",
              "전용면적_mean  1495.0     76.426125  ...     83.086137     111.261033\n",
              "거래금액_max   1495.0  65085.339130  ...  81350.000000  170000.000000\n",
              "거래금액_min   1495.0  10349.033445  ...  11500.000000   77500.000000\n",
              "전용면적_max   1495.0    113.263771  ...    125.708100     209.185200\n",
              "전용면적_min   1495.0     40.041483  ...     59.454400     106.760000\n",
              "면적당금액      1495.0    443.968700  ...    504.134860     990.750145\n",
              "아파트지수      1495.0    106.633311  ...    103.400000     146.000000\n",
              "\n",
              "[8 rows x 8 columns]"
            ]
          },
          "metadata": {
            "tags": []
          },
          "execution_count": 31
        }
      ]
    },
    {
      "cell_type": "code",
      "metadata": {
        "colab": {
          "base_uri": "https://localhost:8080/",
          "height": 473
        },
        "id": "UxKBvPzIVdQh",
        "outputId": "7353c64f-da38-4c81-a4a4-1a8961b981cd"
      },
      "source": [
        "# y = 누적 평균값\n",
        "\n",
        "df['아파트지수'].plot(figsize=(18,8));\n",
        "# dong.head()"
      ],
      "execution_count": 32,
      "outputs": [
        {
          "output_type": "display_data",
          "data": {
            "image/png": "[encoded data removed]",
            "text/plain": [
              "<Figure size 1296x576 with 1 Axes>"
            ]
          },
          "metadata": {
            "tags": [],
            "needs_background": "light"
          }
        }
      ]
    },
    {
      "cell_type": "code",
      "metadata": {
        "id": "wZEME3SxPDe_"
      },
      "source": [
        "train_size = int(len(df)*0.8)\n",
        "train_dataset, test_dataset = df.iloc[:train_size], df.iloc[train_size:]"
      ],
      "execution_count": 8,
      "outputs": []
    },
    {
      "cell_type": "code",
      "metadata": {
        "colab": {
          "base_uri": "https://localhost:8080/",
          "height": 450
        },
        "id": "yblWh9siPI_2",
        "outputId": "2506112a-c098-4f58-955a-2b8f3c8dc01b"
      },
      "source": [
        "train_dataset"
      ],
      "execution_count": 38,
      "outputs": [
        {
          "output_type": "execute_result",
          "data": {
            "text/html": [
              "<div>\n",
              "<style scoped>\n",
              "    .dataframe tbody tr th:only-of-type {\n",
              "        vertical-align: middle;\n",
              "    }\n",
              "\n",
              "    .dataframe tbody tr th {\n",
              "        vertical-align: top;\n",
              "    }\n",
              "\n",
              "    .dataframe thead th {\n",
              "        text-align: right;\n",
              "    }\n",
              "</style>\n",
              "<table border=\"1\" class=\"dataframe\">\n",
              "  <thead>\n",
              "    <tr style=\"text-align: right;\">\n",
              "      <th></th>\n",
              "      <th>거래금액</th>\n",
              "      <th>전용면적_mean</th>\n",
              "      <th>거래금액_max</th>\n",
              "      <th>거래금액_min</th>\n",
              "      <th>전용면적_max</th>\n",
              "      <th>전용면적_min</th>\n",
              "      <th>면적당금액</th>\n",
              "      <th>아파트지수</th>\n",
              "    </tr>\n",
              "    <tr>\n",
              "      <th>년월일</th>\n",
              "      <th></th>\n",
              "      <th></th>\n",
              "      <th></th>\n",
              "      <th></th>\n",
              "      <th></th>\n",
              "      <th></th>\n",
              "      <th></th>\n",
              "      <th></th>\n",
              "    </tr>\n",
              "  </thead>\n",
              "  <tbody>\n",
              "    <tr>\n",
              "      <th>2017-01-01</th>\n",
              "      <td>17950.000000</td>\n",
              "      <td>38.425050</td>\n",
              "      <td>27300</td>\n",
              "      <td>8600</td>\n",
              "      <td>59.8652</td>\n",
              "      <td>16.9849</td>\n",
              "      <td>467.143179</td>\n",
              "      <td>95.9</td>\n",
              "    </tr>\n",
              "    <tr>\n",
              "      <th>2017-01-02</th>\n",
              "      <td>21015.000000</td>\n",
              "      <td>77.525720</td>\n",
              "      <td>32000</td>\n",
              "      <td>7600</td>\n",
              "      <td>128.9491</td>\n",
              "      <td>17.4250</td>\n",
              "      <td>271.071330</td>\n",
              "      <td>95.9</td>\n",
              "    </tr>\n",
              "    <tr>\n",
              "      <th>2017-01-03</th>\n",
              "      <td>28900.000000</td>\n",
              "      <td>59.938300</td>\n",
              "      <td>28900</td>\n",
              "      <td>28900</td>\n",
              "      <td>59.9383</td>\n",
              "      <td>59.9383</td>\n",
              "      <td>482.162490</td>\n",
              "      <td>95.9</td>\n",
              "    </tr>\n",
              "    <tr>\n",
              "      <th>2017-01-04</th>\n",
              "      <td>26800.000000</td>\n",
              "      <td>106.066217</td>\n",
              "      <td>39500</td>\n",
              "      <td>18300</td>\n",
              "      <td>130.2173</td>\n",
              "      <td>84.9228</td>\n",
              "      <td>252.672348</td>\n",
              "      <td>95.9</td>\n",
              "    </tr>\n",
              "    <tr>\n",
              "      <th>2017-01-05</th>\n",
              "      <td>19150.000000</td>\n",
              "      <td>54.614150</td>\n",
              "      <td>27300</td>\n",
              "      <td>11000</td>\n",
              "      <td>59.9383</td>\n",
              "      <td>49.2900</td>\n",
              "      <td>350.641729</td>\n",
              "      <td>95.9</td>\n",
              "    </tr>\n",
              "    <tr>\n",
              "      <th>...</th>\n",
              "      <td>...</td>\n",
              "      <td>...</td>\n",
              "      <td>...</td>\n",
              "      <td>...</td>\n",
              "      <td>...</td>\n",
              "      <td>...</td>\n",
              "      <td>...</td>\n",
              "      <td>...</td>\n",
              "    </tr>\n",
              "    <tr>\n",
              "      <th>2020-07-10</th>\n",
              "      <td>49538.297872</td>\n",
              "      <td>81.900936</td>\n",
              "      <td>120000</td>\n",
              "      <td>5900</td>\n",
              "      <td>152.7850</td>\n",
              "      <td>30.7152</td>\n",
              "      <td>604.856308</td>\n",
              "      <td>121.4</td>\n",
              "    </tr>\n",
              "    <tr>\n",
              "      <th>2020-07-11</th>\n",
              "      <td>53866.101695</td>\n",
              "      <td>84.800442</td>\n",
              "      <td>120000</td>\n",
              "      <td>3000</td>\n",
              "      <td>176.3430</td>\n",
              "      <td>20.1058</td>\n",
              "      <td>635.210150</td>\n",
              "      <td>121.4</td>\n",
              "    </tr>\n",
              "    <tr>\n",
              "      <th>2020-07-12</th>\n",
              "      <td>58267.857143</td>\n",
              "      <td>89.880436</td>\n",
              "      <td>85000</td>\n",
              "      <td>24000</td>\n",
              "      <td>130.2173</td>\n",
              "      <td>59.9159</td>\n",
              "      <td>648.281872</td>\n",
              "      <td>121.4</td>\n",
              "    </tr>\n",
              "    <tr>\n",
              "      <th>2020-07-13</th>\n",
              "      <td>41831.818182</td>\n",
              "      <td>76.853959</td>\n",
              "      <td>120000</td>\n",
              "      <td>7000</td>\n",
              "      <td>125.7081</td>\n",
              "      <td>17.4250</td>\n",
              "      <td>544.302710</td>\n",
              "      <td>121.4</td>\n",
              "    </tr>\n",
              "    <tr>\n",
              "      <th>2020-07-14</th>\n",
              "      <td>54446.666667</td>\n",
              "      <td>85.231300</td>\n",
              "      <td>89900</td>\n",
              "      <td>22000</td>\n",
              "      <td>107.6980</td>\n",
              "      <td>59.1000</td>\n",
              "      <td>638.810703</td>\n",
              "      <td>121.4</td>\n",
              "    </tr>\n",
              "  </tbody>\n",
              "</table>\n",
              "<p>1270 rows × 8 columns</p>\n",
              "</div>"
            ],
            "text/plain": [
              "                    거래금액   전용면적_mean  거래금액_max  ...  전용면적_min       면적당금액  아파트지수\n",
              "년월일                                             ...                             \n",
              "2017-01-01  17950.000000   38.425050     27300  ...   16.9849  467.143179   95.9\n",
              "2017-01-02  21015.000000   77.525720     32000  ...   17.4250  271.071330   95.9\n",
              "2017-01-03  28900.000000   59.938300     28900  ...   59.9383  482.162490   95.9\n",
              "2017-01-04  26800.000000  106.066217     39500  ...   84.9228  252.672348   95.9\n",
              "2017-01-05  19150.000000   54.614150     27300  ...   49.2900  350.641729   95.9\n",
              "...                  ...         ...       ...  ...       ...         ...    ...\n",
              "2020-07-10  49538.297872   81.900936    120000  ...   30.7152  604.856308  121.4\n",
              "2020-07-11  53866.101695   84.800442    120000  ...   20.1058  635.210150  121.4\n",
              "2020-07-12  58267.857143   89.880436     85000  ...   59.9159  648.281872  121.4\n",
              "2020-07-13  41831.818182   76.853959    120000  ...   17.4250  544.302710  121.4\n",
              "2020-07-14  54446.666667   85.231300     89900  ...   59.1000  638.810703  121.4\n",
              "\n",
              "[1270 rows x 8 columns]"
            ]
          },
          "metadata": {
            "tags": []
          },
          "execution_count": 38
        }
      ]
    },
    {
      "cell_type": "code",
      "metadata": {
        "colab": {
          "base_uri": "https://localhost:8080/",
          "height": 450
        },
        "id": "eC6ZJXieSiBy",
        "outputId": "44bc3d89-78ad-4d57-ef27-6582b0124e83"
      },
      "source": [
        "test_dataset"
      ],
      "execution_count": 39,
      "outputs": [
        {
          "output_type": "execute_result",
          "data": {
            "text/html": [
              "<div>\n",
              "<style scoped>\n",
              "    .dataframe tbody tr th:only-of-type {\n",
              "        vertical-align: middle;\n",
              "    }\n",
              "\n",
              "    .dataframe tbody tr th {\n",
              "        vertical-align: top;\n",
              "    }\n",
              "\n",
              "    .dataframe thead th {\n",
              "        text-align: right;\n",
              "    }\n",
              "</style>\n",
              "<table border=\"1\" class=\"dataframe\">\n",
              "  <thead>\n",
              "    <tr style=\"text-align: right;\">\n",
              "      <th></th>\n",
              "      <th>거래금액</th>\n",
              "      <th>전용면적_mean</th>\n",
              "      <th>거래금액_max</th>\n",
              "      <th>거래금액_min</th>\n",
              "      <th>전용면적_max</th>\n",
              "      <th>전용면적_min</th>\n",
              "      <th>면적당금액</th>\n",
              "      <th>아파트지수</th>\n",
              "    </tr>\n",
              "    <tr>\n",
              "      <th>년월일</th>\n",
              "      <th></th>\n",
              "      <th></th>\n",
              "      <th></th>\n",
              "      <th></th>\n",
              "      <th></th>\n",
              "      <th></th>\n",
              "      <th></th>\n",
              "      <th></th>\n",
              "    </tr>\n",
              "  </thead>\n",
              "  <tbody>\n",
              "    <tr>\n",
              "      <th>2020-07-15</th>\n",
              "      <td>48228.260870</td>\n",
              "      <td>79.346817</td>\n",
              "      <td>91700</td>\n",
              "      <td>9800</td>\n",
              "      <td>100.9214</td>\n",
              "      <td>19.9330</td>\n",
              "      <td>607.815946</td>\n",
              "      <td>121.4</td>\n",
              "    </tr>\n",
              "    <tr>\n",
              "      <th>2020-07-16</th>\n",
              "      <td>40495.789474</td>\n",
              "      <td>64.750358</td>\n",
              "      <td>116000</td>\n",
              "      <td>8800</td>\n",
              "      <td>103.2294</td>\n",
              "      <td>22.3310</td>\n",
              "      <td>625.414141</td>\n",
              "      <td>121.4</td>\n",
              "    </tr>\n",
              "    <tr>\n",
              "      <th>2020-07-17</th>\n",
              "      <td>57072.727273</td>\n",
              "      <td>91.480382</td>\n",
              "      <td>140000</td>\n",
              "      <td>22000</td>\n",
              "      <td>128.9491</td>\n",
              "      <td>59.9383</td>\n",
              "      <td>623.879417</td>\n",
              "      <td>121.4</td>\n",
              "    </tr>\n",
              "    <tr>\n",
              "      <th>2020-07-18</th>\n",
              "      <td>57244.444444</td>\n",
              "      <td>85.009589</td>\n",
              "      <td>127000</td>\n",
              "      <td>11000</td>\n",
              "      <td>152.7850</td>\n",
              "      <td>35.1600</td>\n",
              "      <td>673.388087</td>\n",
              "      <td>121.4</td>\n",
              "    </tr>\n",
              "    <tr>\n",
              "      <th>2020-07-19</th>\n",
              "      <td>43387.500000</td>\n",
              "      <td>62.890350</td>\n",
              "      <td>70500</td>\n",
              "      <td>33700</td>\n",
              "      <td>84.7300</td>\n",
              "      <td>59.2240</td>\n",
              "      <td>689.891215</td>\n",
              "      <td>121.4</td>\n",
              "    </tr>\n",
              "    <tr>\n",
              "      <th>...</th>\n",
              "      <td>...</td>\n",
              "      <td>...</td>\n",
              "      <td>...</td>\n",
              "      <td>...</td>\n",
              "      <td>...</td>\n",
              "      <td>...</td>\n",
              "      <td>...</td>\n",
              "      <td>...</td>\n",
              "    </tr>\n",
              "    <tr>\n",
              "      <th>2021-02-24</th>\n",
              "      <td>35531.818182</td>\n",
              "      <td>49.706200</td>\n",
              "      <td>79500</td>\n",
              "      <td>8500</td>\n",
              "      <td>104.9044</td>\n",
              "      <td>19.3200</td>\n",
              "      <td>714.836744</td>\n",
              "      <td>146.0</td>\n",
              "    </tr>\n",
              "    <tr>\n",
              "      <th>2021-02-25</th>\n",
              "      <td>25860.000000</td>\n",
              "      <td>58.428760</td>\n",
              "      <td>61000</td>\n",
              "      <td>10900</td>\n",
              "      <td>118.1980</td>\n",
              "      <td>26.4397</td>\n",
              "      <td>442.590259</td>\n",
              "      <td>146.0</td>\n",
              "    </tr>\n",
              "    <tr>\n",
              "      <th>2021-02-26</th>\n",
              "      <td>62771.428571</td>\n",
              "      <td>68.250014</td>\n",
              "      <td>107000</td>\n",
              "      <td>11000</td>\n",
              "      <td>98.0608</td>\n",
              "      <td>25.3500</td>\n",
              "      <td>919.727699</td>\n",
              "      <td>146.0</td>\n",
              "    </tr>\n",
              "    <tr>\n",
              "      <th>2021-02-27</th>\n",
              "      <td>51511.538462</td>\n",
              "      <td>69.235346</td>\n",
              "      <td>99500</td>\n",
              "      <td>8900</td>\n",
              "      <td>128.9491</td>\n",
              "      <td>19.1676</td>\n",
              "      <td>744.006368</td>\n",
              "      <td>146.0</td>\n",
              "    </tr>\n",
              "    <tr>\n",
              "      <th>2021-02-28</th>\n",
              "      <td>59875.000000</td>\n",
              "      <td>61.350675</td>\n",
              "      <td>125000</td>\n",
              "      <td>11850</td>\n",
              "      <td>109.5334</td>\n",
              "      <td>24.1152</td>\n",
              "      <td>975.946882</td>\n",
              "      <td>146.0</td>\n",
              "    </tr>\n",
              "  </tbody>\n",
              "</table>\n",
              "<p>225 rows × 8 columns</p>\n",
              "</div>"
            ],
            "text/plain": [
              "                    거래금액  전용면적_mean  거래금액_max  ...  전용면적_min       면적당금액  아파트지수\n",
              "년월일                                            ...                             \n",
              "2020-07-15  48228.260870  79.346817     91700  ...   19.9330  607.815946  121.4\n",
              "2020-07-16  40495.789474  64.750358    116000  ...   22.3310  625.414141  121.4\n",
              "2020-07-17  57072.727273  91.480382    140000  ...   59.9383  623.879417  121.4\n",
              "2020-07-18  57244.444444  85.009589    127000  ...   35.1600  673.388087  121.4\n",
              "2020-07-19  43387.500000  62.890350     70500  ...   59.2240  689.891215  121.4\n",
              "...                  ...        ...       ...  ...       ...         ...    ...\n",
              "2021-02-24  35531.818182  49.706200     79500  ...   19.3200  714.836744  146.0\n",
              "2021-02-25  25860.000000  58.428760     61000  ...   26.4397  442.590259  146.0\n",
              "2021-02-26  62771.428571  68.250014    107000  ...   25.3500  919.727699  146.0\n",
              "2021-02-27  51511.538462  69.235346     99500  ...   19.1676  744.006368  146.0\n",
              "2021-02-28  59875.000000  61.350675    125000  ...   24.1152  975.946882  146.0\n",
              "\n",
              "[225 rows x 8 columns]"
            ]
          },
          "metadata": {
            "tags": []
          },
          "execution_count": 39
        }
      ]
    },
    {
      "cell_type": "code",
      "metadata": {
        "colab": {
          "base_uri": "https://localhost:8080/",
          "height": 588
        },
        "id": "fS-bCKotPSdN",
        "outputId": "552a308d-567a-4680-bb42-1d6a43a84565"
      },
      "source": [
        "plt.figure(figsize=((20,10)))\n",
        "train_dataset['거래금액'].plot()\n",
        "test_dataset['거래금액'].plot()\n",
        "plt.show()"
      ],
      "execution_count": 9,
      "outputs": [
        {
          "output_type": "stream",
          "text": [
            "findfont: Font family ['NanumGothic'] not found. Falling back to DejaVu Sans.\n"
          ],
          "name": "stderr"
        },
        {
          "output_type": "display_data",
          "data": {
            "image/png": "[encoded data removed]",
            "text/plain": [
              "<Figure size 1440x720 with 1 Axes>"
            ]
          },
          "metadata": {
            "tags": [],
            "needs_background": "light"
          }
        }
      ]
    },
    {
      "cell_type": "code",
      "metadata": {
        "colab": {
          "base_uri": "https://localhost:8080/"
        },
        "id": "_Vh4GX5aTLiu",
        "outputId": "a08ddbbe-31a3-40a9-ebab-a951f4e23a8c"
      },
      "source": [
        "print('Dimension of train data: ',train_dataset.shape)\n",
        "print('Dimension of test data: ', test_dataset.shape)"
      ],
      "execution_count": 10,
      "outputs": [
        {
          "output_type": "stream",
          "text": [
            "Dimension of train data:  (1196, 8)\n",
            "Dimension of test data:  (299, 8)\n"
          ],
          "name": "stdout"
        }
      ]
    },
    {
      "cell_type": "code",
      "metadata": {
        "id": "Z1hg4svjTXQS"
      },
      "source": [
        "## Split the target variable and dependent variables\n"
      ],
      "execution_count": 42,
      "outputs": []
    },
    {
      "cell_type": "code",
      "metadata": {
        "id": "5nTTC1nQThE6"
      },
      "source": [
        "# Split train data to X and y\n",
        "X_train = train_dataset.drop('거래금액', axis = 1)\n",
        "y_train = train_dataset.loc[:,['거래금액']]\n",
        "# Split test data to X and y\n",
        "X_test = test_dataset.drop('거래금액', axis = 1)\n",
        "y_test = test_dataset.loc[:,['거래금액']]"
      ],
      "execution_count": 22,
      "outputs": []
    },
    {
      "cell_type": "code",
      "metadata": {
        "id": "mWMScFYfTpoQ"
      },
      "source": [
        ""
      ],
      "execution_count": 22,
      "outputs": []
    },
    {
      "cell_type": "markdown",
      "metadata": {
        "id": "HC9o_CIsTrIe"
      },
      "source": [
        "## 2.5 Data transformation"
      ]
    },
    {
      "cell_type": "code",
      "metadata": {
        "colab": {
          "base_uri": "https://localhost:8080/"
        },
        "id": "XHhEECxkTs1L",
        "outputId": "2663cba0-ad0b-418a-a450-3ef62192f8f0"
      },
      "source": [
        "print('Dimension of X train data: ',X_train.shape)\n",
        "print('Dimension of y rain data: ',y_train.shape)\n",
        "print('Dimension of X test data: ', X_test.shape)\n",
        "print('Dimension of y test data: ', y_test.shape)"
      ],
      "execution_count": 23,
      "outputs": [
        {
          "output_type": "stream",
          "text": [
            "Dimension of X train data:  (1196, 7)\n",
            "Dimension of y rain data:  (1196, 1)\n",
            "Dimension of X test data:  (299, 7)\n",
            "Dimension of y test data:  (299, 1)\n"
          ],
          "name": "stdout"
        }
      ]
    },
    {
      "cell_type": "markdown",
      "metadata": {
        "id": "DawAHkZdUIBh"
      },
      "source": [
        "the scale of the output is in the range 0–1 to match the scale of the activation function (tanh) on the output layer of LSTM, GRU, input variables are better to be small values, probably in the range of 0–1."
      ]
    },
    {
      "cell_type": "code",
      "metadata": {
        "id": "1gKs49VHTs3q"
      },
      "source": [
        "from sklearn.preprocessing import MinMaxScaler, StandardScaler\n",
        "\n",
        "# Different scaler for input and output\n",
        "scaler_x = MinMaxScaler(feature_range = (0,1))\n",
        "scaler_y = MinMaxScaler(feature_range = (0,1))\n",
        "# Fit the scaler using available training data\n",
        "input_scaler = scaler_x.fit(X_train)\n",
        "output_scaler = scaler_y.fit(y_train)\n",
        "# Apply the scaler to training data\n",
        "train_y_norm = output_scaler.transform(y_train)\n",
        "train_x_norm = input_scaler.transform(X_train)\n",
        "# Apply the scaler to test data\n",
        "test_y_norm = output_scaler.transform(y_test)\n",
        "test_x_norm = input_scaler.transform(X_test)"
      ],
      "execution_count": 24,
      "outputs": []
    },
    {
      "cell_type": "code",
      "metadata": {
        "id": "nKIWWHOVTtA-"
      },
      "source": [
        ""
      ],
      "execution_count": 24,
      "outputs": []
    },
    {
      "cell_type": "markdown",
      "metadata": {
        "id": "9dtPA0U3U1AA"
      },
      "source": [
        "##2.6 Create a 3D input dataset\n",
        "I define time_steps = 30. It means that the model makes predictions based on the last 30-day data \n"
      ]
    },
    {
      "cell_type": "code",
      "metadata": {
        "colab": {
          "base_uri": "https://localhost:8080/"
        },
        "id": "auOvNK1vTsSN",
        "outputId": "ccea7337-c713-4301-ab08-90a4d85d4d5b"
      },
      "source": [
        "import tensorflow as tf\n",
        "from tensorflow import keras\n",
        "from tensorflow.keras import Sequential, layers, callbacks\n",
        "from tensorflow.keras.layers import Dense, LSTM, Dropout, GRU\n",
        "\n",
        "# Create a 3D input\n",
        "def create_dataset (X, y, time_steps = 1):\n",
        "    Xs, ys = [], []\n",
        "    for i in range(len(X)-time_steps):\n",
        "        v = X[i:i+time_steps, :]\n",
        "        Xs.append(v)\n",
        "        ys.append(y[i+time_steps])\n",
        "    return np.array(Xs), np.array(ys)\n",
        "TIME_STEPS = 30\n",
        "X_test, y_test = create_dataset(test_x_norm, test_y_norm,   \n",
        "                                TIME_STEPS)\n",
        "X_train, y_train = create_dataset(train_x_norm, train_y_norm, \n",
        "                                  TIME_STEPS)\n",
        "print('X_train.shape: ', X_test.shape)\n",
        "print('y_train.shape: ', y_train.shape)\n",
        "print('X_test.shape: ', X_test.shape)\n",
        "print('y_test.shape: ', y_train.shape)"
      ],
      "execution_count": 25,
      "outputs": [
        {
          "output_type": "stream",
          "text": [
            "X_train.shape:  (269, 30, 7)\n",
            "y_train.shape:  (1166, 1)\n",
            "X_test.shape:  (269, 30, 7)\n",
            "y_test.shape:  (1166, 1)\n"
          ],
          "name": "stdout"
        }
      ]
    },
    {
      "cell_type": "markdown",
      "metadata": {
        "id": "1mZya_EkVMLh"
      },
      "source": [
        "## LSTM and GRU models in TensorFlow"
      ]
    },
    {
      "cell_type": "code",
      "metadata": {
        "id": "h7a3EFNVVO2r"
      },
      "source": [
        "# Create LSTM or GRU model\n",
        "def create_model(units, m):\n",
        "    model = Sequential()\n",
        "    model.add(m (units = units, return_sequences = True,\n",
        "                input_shape = [X_train.shape[1], X_train.shape[2]]))\n",
        "    model.add(Dropout(0.2))\n",
        "    model.add(m (units = units))\n",
        "    model.add(Dropout(0.2))\n",
        "    model.add(Dense(units = 1))\n",
        "    #Compile model\n",
        "    model.compile(loss='mse', optimizer='adam')\n",
        "    return model"
      ],
      "execution_count": 26,
      "outputs": []
    },
    {
      "cell_type": "code",
      "metadata": {
        "id": "eRr7ALCiVPZ1"
      },
      "source": [
        "# GRU and LSTM\n",
        "model_gru = create_model(64, GRU)\n",
        "model_lstm = create_model(64, LSTM)"
      ],
      "execution_count": 27,
      "outputs": []
    },
    {
      "cell_type": "markdown",
      "metadata": {
        "id": "Ar9BTEZSV2eH"
      },
      "source": [
        "## 3.2 Fit the models\n",
        "\n"
      ]
    },
    {
      "cell_type": "code",
      "metadata": {
        "colab": {
          "base_uri": "https://localhost:8080/"
        },
        "id": "k0jfiuNcVPcP",
        "outputId": "3caf3667-c6f5-4677-bb52-398373f81076"
      },
      "source": [
        "# Fit BiLSTM, LSTM and GRU\n",
        "def fit_model(model):\n",
        "    early_stop = keras.callbacks.EarlyStopping(monitor = 'val_loss',\n",
        "                                               patience = 15)\n",
        "    history = model.fit(X_train, y_train, epochs = 100,  \n",
        "                        validation_split = 0.2, batch_size = 128, \n",
        "                        shuffle = False, callbacks = [early_stop])\n",
        "    return history\n",
        "history_lstm = fit_model(model_lstm)\n",
        "history_gru = fit_model(model_gru)"
      ],
      "execution_count": 28,
      "outputs": [
        {
          "output_type": "stream",
          "text": [
            "Epoch 1/100\n",
            "8/8 [==============================] - 4s 135ms/step - loss: 0.0363 - val_loss: 0.0123\n",
            "Epoch 2/100\n",
            "8/8 [==============================] - 0s 22ms/step - loss: 0.0230 - val_loss: 0.0193\n",
            "Epoch 3/100\n",
            "8/8 [==============================] - 0s 22ms/step - loss: 0.0147 - val_loss: 0.0095\n",
            "Epoch 4/100\n",
            "8/8 [==============================] - 0s 22ms/step - loss: 0.0168 - val_loss: 0.0181\n",
            "Epoch 5/100\n",
            "8/8 [==============================] - 0s 22ms/step - loss: 0.0143 - val_loss: 0.0101\n",
            "Epoch 6/100\n",
            "8/8 [==============================] - 0s 21ms/step - loss: 0.0160 - val_loss: 0.0142\n",
            "Epoch 7/100\n",
            "8/8 [==============================] - 0s 21ms/step - loss: 0.0138 - val_loss: 0.0112\n",
            "Epoch 8/100\n",
            "8/8 [==============================] - 0s 22ms/step - loss: 0.0150 - val_loss: 0.0122\n",
            "Epoch 9/100\n",
            "8/8 [==============================] - 0s 23ms/step - loss: 0.0143 - val_loss: 0.0105\n",
            "Epoch 10/100\n",
            "8/8 [==============================] - 0s 21ms/step - loss: 0.0139 - val_loss: 0.0105\n",
            "Epoch 11/100\n",
            "8/8 [==============================] - 0s 22ms/step - loss: 0.0136 - val_loss: 0.0094\n",
            "Epoch 12/100\n",
            "8/8 [==============================] - 0s 22ms/step - loss: 0.0141 - val_loss: 0.0098\n",
            "Epoch 13/100\n",
            "8/8 [==============================] - 0s 22ms/step - loss: 0.0138 - val_loss: 0.0095\n",
            "Epoch 14/100\n",
            "8/8 [==============================] - 0s 21ms/step - loss: 0.0131 - val_loss: 0.0086\n",
            "Epoch 15/100\n",
            "8/8 [==============================] - 0s 22ms/step - loss: 0.0135 - val_loss: 0.0091\n",
            "Epoch 16/100\n",
            "8/8 [==============================] - 0s 21ms/step - loss: 0.0136 - val_loss: 0.0087\n",
            "Epoch 17/100\n",
            "8/8 [==============================] - 0s 22ms/step - loss: 0.0134 - val_loss: 0.0087\n",
            "Epoch 18/100\n",
            "8/8 [==============================] - 0s 22ms/step - loss: 0.0136 - val_loss: 0.0084\n",
            "Epoch 19/100\n",
            "8/8 [==============================] - 0s 21ms/step - loss: 0.0135 - val_loss: 0.0084\n",
            "Epoch 20/100\n",
            "8/8 [==============================] - 0s 22ms/step - loss: 0.0132 - val_loss: 0.0085\n",
            "Epoch 21/100\n",
            "8/8 [==============================] - 0s 24ms/step - loss: 0.0137 - val_loss: 0.0088\n",
            "Epoch 22/100\n",
            "8/8 [==============================] - 0s 22ms/step - loss: 0.0132 - val_loss: 0.0087\n",
            "Epoch 23/100\n",
            "8/8 [==============================] - 0s 21ms/step - loss: 0.0133 - val_loss: 0.0085\n",
            "Epoch 24/100\n",
            "8/8 [==============================] - 0s 21ms/step - loss: 0.0134 - val_loss: 0.0088\n",
            "Epoch 25/100\n",
            "8/8 [==============================] - 0s 21ms/step - loss: 0.0139 - val_loss: 0.0085\n",
            "Epoch 26/100\n",
            "8/8 [==============================] - 0s 22ms/step - loss: 0.0131 - val_loss: 0.0083\n",
            "Epoch 27/100\n",
            "8/8 [==============================] - 0s 21ms/step - loss: 0.0138 - val_loss: 0.0087\n",
            "Epoch 28/100\n",
            "8/8 [==============================] - 0s 22ms/step - loss: 0.0138 - val_loss: 0.0090\n",
            "Epoch 29/100\n",
            "8/8 [==============================] - 0s 22ms/step - loss: 0.0142 - val_loss: 0.0096\n",
            "Epoch 30/100\n",
            "8/8 [==============================] - 0s 22ms/step - loss: 0.0141 - val_loss: 0.0095\n",
            "Epoch 31/100\n",
            "8/8 [==============================] - 0s 22ms/step - loss: 0.0134 - val_loss: 0.0088\n",
            "Epoch 32/100\n",
            "8/8 [==============================] - 0s 22ms/step - loss: 0.0140 - val_loss: 0.0080\n",
            "Epoch 33/100\n",
            "8/8 [==============================] - 0s 23ms/step - loss: 0.0143 - val_loss: 0.0098\n",
            "Epoch 34/100\n",
            "8/8 [==============================] - 0s 22ms/step - loss: 0.0136 - val_loss: 0.0101\n",
            "Epoch 35/100\n",
            "8/8 [==============================] - 0s 21ms/step - loss: 0.0135 - val_loss: 0.0088\n",
            "Epoch 36/100\n",
            "8/8 [==============================] - 0s 22ms/step - loss: 0.0137 - val_loss: 0.0094\n",
            "Epoch 37/100\n",
            "8/8 [==============================] - 0s 22ms/step - loss: 0.0130 - val_loss: 0.0086\n",
            "Epoch 38/100\n",
            "8/8 [==============================] - 0s 21ms/step - loss: 0.0129 - val_loss: 0.0085\n",
            "Epoch 39/100\n",
            "8/8 [==============================] - 0s 23ms/step - loss: 0.0135 - val_loss: 0.0085\n",
            "Epoch 40/100\n",
            "8/8 [==============================] - 0s 22ms/step - loss: 0.0133 - val_loss: 0.0083\n",
            "Epoch 41/100\n",
            "8/8 [==============================] - 0s 22ms/step - loss: 0.0134 - val_loss: 0.0086\n",
            "Epoch 42/100\n",
            "8/8 [==============================] - 0s 22ms/step - loss: 0.0133 - val_loss: 0.0087\n",
            "Epoch 43/100\n",
            "8/8 [==============================] - 0s 23ms/step - loss: 0.0133 - val_loss: 0.0088\n",
            "Epoch 44/100\n",
            "8/8 [==============================] - 0s 22ms/step - loss: 0.0130 - val_loss: 0.0086\n",
            "Epoch 45/100\n",
            "8/8 [==============================] - 0s 21ms/step - loss: 0.0132 - val_loss: 0.0085\n",
            "Epoch 46/100\n",
            "8/8 [==============================] - 0s 21ms/step - loss: 0.0135 - val_loss: 0.0083\n",
            "Epoch 47/100\n",
            "8/8 [==============================] - 0s 21ms/step - loss: 0.0134 - val_loss: 0.0082\n",
            "Epoch 1/100\n",
            "8/8 [==============================] - 4s 148ms/step - loss: 0.0283 - val_loss: 0.0146\n",
            "Epoch 2/100\n",
            "8/8 [==============================] - 0s 20ms/step - loss: 0.0197 - val_loss: 0.0090\n",
            "Epoch 3/100\n",
            "8/8 [==============================] - 0s 20ms/step - loss: 0.0215 - val_loss: 0.0149\n",
            "Epoch 4/100\n",
            "8/8 [==============================] - 0s 22ms/step - loss: 0.0163 - val_loss: 0.0113\n",
            "Epoch 5/100\n",
            "8/8 [==============================] - 0s 21ms/step - loss: 0.0173 - val_loss: 0.0125\n",
            "Epoch 6/100\n",
            "8/8 [==============================] - 0s 22ms/step - loss: 0.0161 - val_loss: 0.0109\n",
            "Epoch 7/100\n",
            "8/8 [==============================] - 0s 20ms/step - loss: 0.0163 - val_loss: 0.0106\n",
            "Epoch 8/100\n",
            "8/8 [==============================] - 0s 21ms/step - loss: 0.0154 - val_loss: 0.0097\n",
            "Epoch 9/100\n",
            "8/8 [==============================] - 0s 21ms/step - loss: 0.0147 - val_loss: 0.0093\n",
            "Epoch 10/100\n",
            "8/8 [==============================] - 0s 20ms/step - loss: 0.0150 - val_loss: 0.0091\n",
            "Epoch 11/100\n",
            "8/8 [==============================] - 0s 21ms/step - loss: 0.0145 - val_loss: 0.0084\n",
            "Epoch 12/100\n",
            "8/8 [==============================] - 0s 21ms/step - loss: 0.0149 - val_loss: 0.0085\n",
            "Epoch 13/100\n",
            "8/8 [==============================] - 0s 20ms/step - loss: 0.0142 - val_loss: 0.0088\n",
            "Epoch 14/100\n",
            "8/8 [==============================] - 0s 21ms/step - loss: 0.0145 - val_loss: 0.0090\n",
            "Epoch 15/100\n",
            "8/8 [==============================] - 0s 21ms/step - loss: 0.0145 - val_loss: 0.0085\n",
            "Epoch 16/100\n",
            "8/8 [==============================] - 0s 22ms/step - loss: 0.0138 - val_loss: 0.0080\n",
            "Epoch 17/100\n",
            "8/8 [==============================] - 0s 20ms/step - loss: 0.0139 - val_loss: 0.0080\n",
            "Epoch 18/100\n",
            "8/8 [==============================] - 0s 20ms/step - loss: 0.0146 - val_loss: 0.0084\n",
            "Epoch 19/100\n",
            "8/8 [==============================] - 0s 20ms/step - loss: 0.0143 - val_loss: 0.0082\n",
            "Epoch 20/100\n",
            "8/8 [==============================] - 0s 22ms/step - loss: 0.0135 - val_loss: 0.0082\n",
            "Epoch 21/100\n",
            "8/8 [==============================] - 0s 20ms/step - loss: 0.0137 - val_loss: 0.0082\n",
            "Epoch 22/100\n",
            "8/8 [==============================] - 0s 20ms/step - loss: 0.0141 - val_loss: 0.0077\n",
            "Epoch 23/100\n",
            "8/8 [==============================] - 0s 20ms/step - loss: 0.0140 - val_loss: 0.0084\n",
            "Epoch 24/100\n",
            "8/8 [==============================] - 0s 20ms/step - loss: 0.0144 - val_loss: 0.0094\n",
            "Epoch 25/100\n",
            "8/8 [==============================] - 0s 20ms/step - loss: 0.0143 - val_loss: 0.0101\n",
            "Epoch 26/100\n",
            "8/8 [==============================] - 0s 20ms/step - loss: 0.0139 - val_loss: 0.0092\n",
            "Epoch 27/100\n",
            "8/8 [==============================] - 0s 21ms/step - loss: 0.0135 - val_loss: 0.0078\n",
            "Epoch 28/100\n",
            "8/8 [==============================] - 0s 19ms/step - loss: 0.0137 - val_loss: 0.0081\n",
            "Epoch 29/100\n",
            "8/8 [==============================] - 0s 21ms/step - loss: 0.0139 - val_loss: 0.0085\n",
            "Epoch 30/100\n",
            "8/8 [==============================] - 0s 20ms/step - loss: 0.0137 - val_loss: 0.0085\n",
            "Epoch 31/100\n",
            "8/8 [==============================] - 0s 20ms/step - loss: 0.0134 - val_loss: 0.0082\n",
            "Epoch 32/100\n",
            "8/8 [==============================] - 0s 22ms/step - loss: 0.0136 - val_loss: 0.0080\n",
            "Epoch 33/100\n",
            "8/8 [==============================] - 0s 22ms/step - loss: 0.0141 - val_loss: 0.0078\n",
            "Epoch 34/100\n",
            "8/8 [==============================] - 0s 20ms/step - loss: 0.0134 - val_loss: 0.0083\n",
            "Epoch 35/100\n",
            "8/8 [==============================] - 0s 19ms/step - loss: 0.0138 - val_loss: 0.0087\n",
            "Epoch 36/100\n",
            "8/8 [==============================] - 0s 21ms/step - loss: 0.0138 - val_loss: 0.0100\n",
            "Epoch 37/100\n",
            "8/8 [==============================] - 0s 21ms/step - loss: 0.0132 - val_loss: 0.0083\n"
          ],
          "name": "stdout"
        }
      ]
    },
    {
      "cell_type": "code",
      "metadata": {
        "colab": {
          "base_uri": "https://localhost:8080/",
          "height": 759
        },
        "id": "G3lD9tRuVPec",
        "outputId": "2efd5877-e538-4b7c-d1c3-9e4f6e842e2e"
      },
      "source": [
        "# Plot train loss and validation loss\n",
        "def plot_loss (history):\n",
        "    plt.figure(figsize = (10, 6))\n",
        "    plt.plot(history.history['loss'])\n",
        "    plt.plot(history.history['val_loss'])\n",
        "    plt.ylabel('Loss')\n",
        "    plt.xlabel('epoch')\n",
        "    plt.legend(['Train loss', 'Validation loss'], loc='upper right')\n",
        "plot_loss (history_lstm)\n",
        "plot_loss (history_gru)"
      ],
      "execution_count": 29,
      "outputs": [
        {
          "output_type": "display_data",
          "data": {
            "image/png": "[encoded data removed]",
            "text/plain": [
              "<Figure size 720x432 with 1 Axes>"
            ]
          },
          "metadata": {
            "tags": [],
            "needs_background": "light"
          }
        },
        {
          "output_type": "display_data",
          "data": {
            "image/png": "[encoded data removed]",
            "text/plain": [
              "<Figure size 720x432 with 1 Axes>"
            ]
          },
          "metadata": {
            "tags": [],
            "needs_background": "light"
          }
        }
      ]
    },
    {
      "cell_type": "markdown",
      "metadata": {
        "id": "S1sCZIvYWTGe"
      },
      "source": [
        "## 3.3 Inverse transform the target variable\n",
        "\n",
        "After building the model, I have to transform the target variable back to original data space for train and test data using `scaler_y.inverse_transform.`"
      ]
    },
    {
      "cell_type": "code",
      "metadata": {
        "id": "2cB7ntHlWStc"
      },
      "source": [
        "y_test = scaler_y.inverse_transform(y_test)\n",
        "y_train = scaler_y.inverse_transform(y_train)"
      ],
      "execution_count": 30,
      "outputs": []
    },
    {
      "cell_type": "markdown",
      "metadata": {
        "id": "TFnonfMXWfCT"
      },
      "source": [
        "##  Make prediction using  LSTM and GRU\n",
        " I plot true future (test data) vs prediction the  models.\n"
      ]
    },
    {
      "cell_type": "code",
      "metadata": {
        "colab": {
          "base_uri": "https://localhost:8080/",
          "height": 759
        },
        "id": "6XgvoY29VPkL",
        "outputId": "c755e014-22e8-4eef-9a53-dea5b06a2606"
      },
      "source": [
        "# Make prediction\n",
        "def prediction(model):\n",
        "    prediction = model.predict(X_test)\n",
        "    prediction = scaler_y.inverse_transform(prediction)\n",
        "    return prediction\n",
        "\n",
        "prediction_lstm = prediction(model_lstm)\n",
        "prediction_gru = prediction(model_gru)\n",
        "\n",
        "# Plot true future vs prediction\n",
        "def plot_future(prediction, y_test):\n",
        "    plt.figure(figsize=(10, 6))\n",
        "    range_future = len(prediction)\n",
        "    plt.plot(np.arange(range_future), np.array(y_test), \n",
        "             label='True Future')     \n",
        "    plt.plot(np.arange(range_future),np.array(prediction),\n",
        "            label='Prediction')\n",
        "    plt.legend(loc='upper left')\n",
        "    plt.xlabel('day')\n",
        "    plt.ylabel('Price')\n",
        "\n",
        "plot_future(prediction_lstm, y_test)\n",
        "plot_future(prediction_gru, y_test)\n"
      ],
      "execution_count": 31,
      "outputs": [
        {
          "output_type": "display_data",
          "data": {
            "image/png": "[encoded data removed]",
            "text/plain": [
              "<Figure size 720x432 with 1 Axes>"
            ]
          },
          "metadata": {
            "tags": [],
            "needs_background": "light"
          }
        },
        {
          "output_type": "display_data",
          "data": {
            "image/png": "[encoded data removed]",
            "text/plain": [
              "<Figure size 720x432 with 1 Axes>"
            ]
          },
          "metadata": {
            "tags": [],
            "needs_background": "light"
          }
        }
      ]
    },
    {
      "cell_type": "markdown",
      "metadata": {
        "id": "mVH9YzQVggzZ"
      },
      "source": [
        "## Regression"
      ]
    },
    {
      "cell_type": "code",
      "metadata": {
        "colab": {
          "base_uri": "https://localhost:8080/",
          "height": 198
        },
        "id": "rRnrlWRWam9d",
        "outputId": "3c9f4fd0-f95d-43ee-9212-a715fecf0450"
      },
      "source": [
        "from sklearn.linear_model import SGDRegressor\n",
        "sgd_regressor = SGDRegressor()\n",
        "\n",
        "prediction(sgd_regressor)"
      ],
      "execution_count": 13,
      "outputs": [
        {
          "output_type": "error",
          "ename": "NameError",
          "evalue": "ignored",
          "traceback": [
            "\u001b[0;31m---------------------------------------------------------------------------\u001b[0m",
            "\u001b[0;31mNameError\u001b[0m                                 Traceback (most recent call last)",
            "\u001b[0;32m<ipython-input-13-5ebd5b353b7c>\u001b[0m in \u001b[0;36m<module>\u001b[0;34m()\u001b[0m\n\u001b[1;32m      2\u001b[0m \u001b[0msgd_regressor\u001b[0m \u001b[0;34m=\u001b[0m \u001b[0mSGDRegressor\u001b[0m\u001b[0;34m(\u001b[0m\u001b[0;34m)\u001b[0m\u001b[0;34m\u001b[0m\u001b[0;34m\u001b[0m\u001b[0m\n\u001b[1;32m      3\u001b[0m \u001b[0;34m\u001b[0m\u001b[0m\n\u001b[0;32m----> 4\u001b[0;31m \u001b[0mprediction\u001b[0m\u001b[0;34m(\u001b[0m\u001b[0msgd_regressor\u001b[0m\u001b[0;34m)\u001b[0m\u001b[0;34m\u001b[0m\u001b[0;34m\u001b[0m\u001b[0m\n\u001b[0m",
            "\u001b[0;31mNameError\u001b[0m: name 'prediction' is not defined"
          ]
        }
      ]
    },
    {
      "cell_type": "code",
      "metadata": {
        "colab": {
          "base_uri": "https://localhost:8080/",
          "height": 164
        },
        "id": "iiNOeAOFxN9o",
        "outputId": "4b2af02d-b9cd-47d3-b9d7-db945f0151d1"
      },
      "source": [
        "df.describe().transpose().applymap(np.ceil)"
      ],
      "execution_count": 1,
      "outputs": [
        {
          "output_type": "error",
          "ename": "NameError",
          "evalue": "ignored",
          "traceback": [
            "\u001b[0;31m---------------------------------------------------------------------------\u001b[0m",
            "\u001b[0;31mNameError\u001b[0m                                 Traceback (most recent call last)",
            "\u001b[0;32m<ipython-input-1-b937273ed5e5>\u001b[0m in \u001b[0;36m<module>\u001b[0;34m()\u001b[0m\n\u001b[0;32m----> 1\u001b[0;31m \u001b[0mdf\u001b[0m\u001b[0;34m.\u001b[0m\u001b[0mdescribe\u001b[0m\u001b[0;34m(\u001b[0m\u001b[0;34m)\u001b[0m\u001b[0;34m.\u001b[0m\u001b[0mtranspose\u001b[0m\u001b[0;34m(\u001b[0m\u001b[0;34m)\u001b[0m\u001b[0;34m.\u001b[0m\u001b[0mapplymap\u001b[0m\u001b[0;34m(\u001b[0m\u001b[0mnp\u001b[0m\u001b[0;34m.\u001b[0m\u001b[0mceil\u001b[0m\u001b[0;34m)\u001b[0m\u001b[0;34m\u001b[0m\u001b[0;34m\u001b[0m\u001b[0m\n\u001b[0m",
            "\u001b[0;31mNameError\u001b[0m: name 'df' is not defined"
          ]
        }
      ]
    },
    {
      "cell_type": "code",
      "metadata": {
        "id": "ZAu7IFb2PISI"
      },
      "source": [
        ""
      ],
      "execution_count": 198,
      "outputs": []
    },
    {
      "cell_type": "code",
      "metadata": {
        "colab": {
          "base_uri": "https://localhost:8080/"
        },
        "id": "PCrsijtg3j-O",
        "outputId": "9daec09b-5630-4c04-ae8d-667bbcfda44c"
      },
      "source": [
        "df.dtypes"
      ],
      "execution_count": 199,
      "outputs": [
        {
          "output_type": "execute_result",
          "data": {
            "text/plain": [
              "거래금액         float64\n",
              "전용면적_mean    float64\n",
              "거래금액_max       int64\n",
              "거래금액_min       int64\n",
              "전용면적_max     float64\n",
              "전용면적_min     float64\n",
              "면적당금액        float64\n",
              "아파트지수        float64\n",
              "dtype: object"
            ]
          },
          "metadata": {
            "tags": []
          },
          "execution_count": 199
        }
      ]
    },
    {
      "cell_type": "code",
      "metadata": {
        "colab": {
          "base_uri": "https://localhost:8080/",
          "height": 235
        },
        "id": "SmO2Gp098Egb",
        "outputId": "11537daa-4e92-4f84-970b-722ae6066548"
      },
      "source": [
        "df.head()"
      ],
      "execution_count": 200,
      "outputs": [
        {
          "output_type": "execute_result",
          "data": {
            "text/html": [
              "<div>\n",
              "<style scoped>\n",
              "    .dataframe tbody tr th:only-of-type {\n",
              "        vertical-align: middle;\n",
              "    }\n",
              "\n",
              "    .dataframe tbody tr th {\n",
              "        vertical-align: top;\n",
              "    }\n",
              "\n",
              "    .dataframe thead th {\n",
              "        text-align: right;\n",
              "    }\n",
              "</style>\n",
              "<table border=\"1\" class=\"dataframe\">\n",
              "  <thead>\n",
              "    <tr style=\"text-align: right;\">\n",
              "      <th></th>\n",
              "      <th>거래금액</th>\n",
              "      <th>전용면적_mean</th>\n",
              "      <th>거래금액_max</th>\n",
              "      <th>거래금액_min</th>\n",
              "      <th>전용면적_max</th>\n",
              "      <th>전용면적_min</th>\n",
              "      <th>면적당금액</th>\n",
              "      <th>아파트지수</th>\n",
              "    </tr>\n",
              "    <tr>\n",
              "      <th>년월일</th>\n",
              "      <th></th>\n",
              "      <th></th>\n",
              "      <th></th>\n",
              "      <th></th>\n",
              "      <th></th>\n",
              "      <th></th>\n",
              "      <th></th>\n",
              "      <th></th>\n",
              "    </tr>\n",
              "  </thead>\n",
              "  <tbody>\n",
              "    <tr>\n",
              "      <th>2017-01-01</th>\n",
              "      <td>17950.0</td>\n",
              "      <td>38.425050</td>\n",
              "      <td>27300</td>\n",
              "      <td>8600</td>\n",
              "      <td>59.8652</td>\n",
              "      <td>16.9849</td>\n",
              "      <td>467.143179</td>\n",
              "      <td>95.9</td>\n",
              "    </tr>\n",
              "    <tr>\n",
              "      <th>2017-01-02</th>\n",
              "      <td>21015.0</td>\n",
              "      <td>77.525720</td>\n",
              "      <td>32000</td>\n",
              "      <td>7600</td>\n",
              "      <td>128.9491</td>\n",
              "      <td>17.4250</td>\n",
              "      <td>271.071330</td>\n",
              "      <td>95.9</td>\n",
              "    </tr>\n",
              "    <tr>\n",
              "      <th>2017-01-03</th>\n",
              "      <td>28900.0</td>\n",
              "      <td>59.938300</td>\n",
              "      <td>28900</td>\n",
              "      <td>28900</td>\n",
              "      <td>59.9383</td>\n",
              "      <td>59.9383</td>\n",
              "      <td>482.162490</td>\n",
              "      <td>95.9</td>\n",
              "    </tr>\n",
              "    <tr>\n",
              "      <th>2017-01-04</th>\n",
              "      <td>26800.0</td>\n",
              "      <td>106.066217</td>\n",
              "      <td>39500</td>\n",
              "      <td>18300</td>\n",
              "      <td>130.2173</td>\n",
              "      <td>84.9228</td>\n",
              "      <td>252.672348</td>\n",
              "      <td>95.9</td>\n",
              "    </tr>\n",
              "    <tr>\n",
              "      <th>2017-01-05</th>\n",
              "      <td>19150.0</td>\n",
              "      <td>54.614150</td>\n",
              "      <td>27300</td>\n",
              "      <td>11000</td>\n",
              "      <td>59.9383</td>\n",
              "      <td>49.2900</td>\n",
              "      <td>350.641729</td>\n",
              "      <td>95.9</td>\n",
              "    </tr>\n",
              "  </tbody>\n",
              "</table>\n",
              "</div>"
            ],
            "text/plain": [
              "               거래금액   전용면적_mean  거래금액_max  ...  전용면적_min       면적당금액  아파트지수\n",
              "년월일                                        ...                             \n",
              "2017-01-01  17950.0   38.425050     27300  ...   16.9849  467.143179   95.9\n",
              "2017-01-02  21015.0   77.525720     32000  ...   17.4250  271.071330   95.9\n",
              "2017-01-03  28900.0   59.938300     28900  ...   59.9383  482.162490   95.9\n",
              "2017-01-04  26800.0  106.066217     39500  ...   84.9228  252.672348   95.9\n",
              "2017-01-05  19150.0   54.614150     27300  ...   49.2900  350.641729   95.9\n",
              "\n",
              "[5 rows x 8 columns]"
            ]
          },
          "metadata": {
            "tags": []
          },
          "execution_count": 200
        }
      ]
    },
    {
      "cell_type": "code",
      "metadata": {
        "id": "itXmHtnOKB9P",
        "colab": {
          "base_uri": "https://localhost:8080/",
          "height": 358
        },
        "outputId": "3acd2054-8817-4ca3-bcb7-ca91cdceb6fd"
      },
      "source": [
        "from sklearn.preprocessing import MinMaxScaler, StandardScaler\n",
        "\n",
        "scaler = StandardScaler()\n",
        "# 스케일을 적용할 column을 정의합니다.\n",
        "scale_cols = ['거래금액','전용면적','누적평균값', '아파트세종', '아파트전국','전체세종','전체서울','아파트서울','전체전국']\n",
        "# 스케일 후 columns\n",
        "scaled = scaler.fit_transform(df[scale_cols])\n",
        "scaled"
      ],
      "execution_count": 201,
      "outputs": [
        {
          "output_type": "error",
          "ename": "KeyError",
          "evalue": "ignored",
          "traceback": [
            "\u001b[0;31m---------------------------------------------------------------------------\u001b[0m",
            "\u001b[0;31mKeyError\u001b[0m                                  Traceback (most recent call last)",
            "\u001b[0;32m<ipython-input-201-12f24e183610>\u001b[0m in \u001b[0;36m<module>\u001b[0;34m()\u001b[0m\n\u001b[1;32m      5\u001b[0m \u001b[0mscale_cols\u001b[0m \u001b[0;34m=\u001b[0m \u001b[0;34m[\u001b[0m\u001b[0;34m'거래금액'\u001b[0m\u001b[0;34m,\u001b[0m\u001b[0;34m'전용면적'\u001b[0m\u001b[0;34m,\u001b[0m\u001b[0;34m'누적평균값'\u001b[0m\u001b[0;34m,\u001b[0m \u001b[0;34m'아파트세종'\u001b[0m\u001b[0;34m,\u001b[0m \u001b[0;34m'아파트전국'\u001b[0m\u001b[0;34m,\u001b[0m\u001b[0;34m'전체세종'\u001b[0m\u001b[0;34m,\u001b[0m\u001b[0;34m'전체서울'\u001b[0m\u001b[0;34m,\u001b[0m\u001b[0;34m'아파트서울'\u001b[0m\u001b[0;34m,\u001b[0m\u001b[0;34m'전체전국'\u001b[0m\u001b[0;34m]\u001b[0m\u001b[0;34m\u001b[0m\u001b[0;34m\u001b[0m\u001b[0m\n\u001b[1;32m      6\u001b[0m \u001b[0;31m# 스케일 후 columns\u001b[0m\u001b[0;34m\u001b[0m\u001b[0;34m\u001b[0m\u001b[0;34m\u001b[0m\u001b[0m\n\u001b[0;32m----> 7\u001b[0;31m \u001b[0mscaled\u001b[0m \u001b[0;34m=\u001b[0m \u001b[0mscaler\u001b[0m\u001b[0;34m.\u001b[0m\u001b[0mfit_transform\u001b[0m\u001b[0;34m(\u001b[0m\u001b[0mdf\u001b[0m\u001b[0;34m[\u001b[0m\u001b[0mscale_cols\u001b[0m\u001b[0;34m]\u001b[0m\u001b[0;34m)\u001b[0m\u001b[0;34m\u001b[0m\u001b[0;34m\u001b[0m\u001b[0m\n\u001b[0m\u001b[1;32m      8\u001b[0m \u001b[0mscaled\u001b[0m\u001b[0;34m\u001b[0m\u001b[0;34m\u001b[0m\u001b[0m\n",
            "\u001b[0;32m/usr/local/lib/python3.7/dist-packages/pandas/core/frame.py\u001b[0m in \u001b[0;36m__getitem__\u001b[0;34m(self, key)\u001b[0m\n\u001b[1;32m   2910\u001b[0m             \u001b[0;32mif\u001b[0m \u001b[0mis_iterator\u001b[0m\u001b[0;34m(\u001b[0m\u001b[0mkey\u001b[0m\u001b[0;34m)\u001b[0m\u001b[0;34m:\u001b[0m\u001b[0;34m\u001b[0m\u001b[0;34m\u001b[0m\u001b[0m\n\u001b[1;32m   2911\u001b[0m                 \u001b[0mkey\u001b[0m \u001b[0;34m=\u001b[0m \u001b[0mlist\u001b[0m\u001b[0;34m(\u001b[0m\u001b[0mkey\u001b[0m\u001b[0;34m)\u001b[0m\u001b[0;34m\u001b[0m\u001b[0;34m\u001b[0m\u001b[0m\n\u001b[0;32m-> 2912\u001b[0;31m             \u001b[0mindexer\u001b[0m \u001b[0;34m=\u001b[0m \u001b[0mself\u001b[0m\u001b[0;34m.\u001b[0m\u001b[0mloc\u001b[0m\u001b[0;34m.\u001b[0m\u001b[0m_get_listlike_indexer\u001b[0m\u001b[0;34m(\u001b[0m\u001b[0mkey\u001b[0m\u001b[0;34m,\u001b[0m \u001b[0maxis\u001b[0m\u001b[0;34m=\u001b[0m\u001b[0;36m1\u001b[0m\u001b[0;34m,\u001b[0m \u001b[0mraise_missing\u001b[0m\u001b[0;34m=\u001b[0m\u001b[0;32mTrue\u001b[0m\u001b[0;34m)\u001b[0m\u001b[0;34m[\u001b[0m\u001b[0;36m1\u001b[0m\u001b[0;34m]\u001b[0m\u001b[0;34m\u001b[0m\u001b[0;34m\u001b[0m\u001b[0m\n\u001b[0m\u001b[1;32m   2913\u001b[0m \u001b[0;34m\u001b[0m\u001b[0m\n\u001b[1;32m   2914\u001b[0m         \u001b[0;31m# take() does not accept boolean indexers\u001b[0m\u001b[0;34m\u001b[0m\u001b[0;34m\u001b[0m\u001b[0;34m\u001b[0m\u001b[0m\n",
            "\u001b[0;32m/usr/local/lib/python3.7/dist-packages/pandas/core/indexing.py\u001b[0m in \u001b[0;36m_get_listlike_indexer\u001b[0;34m(self, key, axis, raise_missing)\u001b[0m\n\u001b[1;32m   1252\u001b[0m             \u001b[0mkeyarr\u001b[0m\u001b[0;34m,\u001b[0m \u001b[0mindexer\u001b[0m\u001b[0;34m,\u001b[0m \u001b[0mnew_indexer\u001b[0m \u001b[0;34m=\u001b[0m \u001b[0max\u001b[0m\u001b[0;34m.\u001b[0m\u001b[0m_reindex_non_unique\u001b[0m\u001b[0;34m(\u001b[0m\u001b[0mkeyarr\u001b[0m\u001b[0;34m)\u001b[0m\u001b[0;34m\u001b[0m\u001b[0;34m\u001b[0m\u001b[0m\n\u001b[1;32m   1253\u001b[0m \u001b[0;34m\u001b[0m\u001b[0m\n\u001b[0;32m-> 1254\u001b[0;31m         \u001b[0mself\u001b[0m\u001b[0;34m.\u001b[0m\u001b[0m_validate_read_indexer\u001b[0m\u001b[0;34m(\u001b[0m\u001b[0mkeyarr\u001b[0m\u001b[0;34m,\u001b[0m \u001b[0mindexer\u001b[0m\u001b[0;34m,\u001b[0m \u001b[0maxis\u001b[0m\u001b[0;34m,\u001b[0m \u001b[0mraise_missing\u001b[0m\u001b[0;34m=\u001b[0m\u001b[0mraise_missing\u001b[0m\u001b[0;34m)\u001b[0m\u001b[0;34m\u001b[0m\u001b[0;34m\u001b[0m\u001b[0m\n\u001b[0m\u001b[1;32m   1255\u001b[0m         \u001b[0;32mreturn\u001b[0m \u001b[0mkeyarr\u001b[0m\u001b[0;34m,\u001b[0m \u001b[0mindexer\u001b[0m\u001b[0;34m\u001b[0m\u001b[0;34m\u001b[0m\u001b[0m\n\u001b[1;32m   1256\u001b[0m \u001b[0;34m\u001b[0m\u001b[0m\n",
            "\u001b[0;32m/usr/local/lib/python3.7/dist-packages/pandas/core/indexing.py\u001b[0m in \u001b[0;36m_validate_read_indexer\u001b[0;34m(self, key, indexer, axis, raise_missing)\u001b[0m\n\u001b[1;32m   1302\u001b[0m             \u001b[0;32mif\u001b[0m \u001b[0mraise_missing\u001b[0m\u001b[0;34m:\u001b[0m\u001b[0;34m\u001b[0m\u001b[0;34m\u001b[0m\u001b[0m\n\u001b[1;32m   1303\u001b[0m                 \u001b[0mnot_found\u001b[0m \u001b[0;34m=\u001b[0m \u001b[0mlist\u001b[0m\u001b[0;34m(\u001b[0m\u001b[0mset\u001b[0m\u001b[0;34m(\u001b[0m\u001b[0mkey\u001b[0m\u001b[0;34m)\u001b[0m \u001b[0;34m-\u001b[0m \u001b[0mset\u001b[0m\u001b[0;34m(\u001b[0m\u001b[0max\u001b[0m\u001b[0;34m)\u001b[0m\u001b[0;34m)\u001b[0m\u001b[0;34m\u001b[0m\u001b[0;34m\u001b[0m\u001b[0m\n\u001b[0;32m-> 1304\u001b[0;31m                 \u001b[0;32mraise\u001b[0m \u001b[0mKeyError\u001b[0m\u001b[0;34m(\u001b[0m\u001b[0;34mf\"{not_found} not in index\"\u001b[0m\u001b[0;34m)\u001b[0m\u001b[0;34m\u001b[0m\u001b[0;34m\u001b[0m\u001b[0m\n\u001b[0m\u001b[1;32m   1305\u001b[0m \u001b[0;34m\u001b[0m\u001b[0m\n\u001b[1;32m   1306\u001b[0m             \u001b[0;31m# we skip the warning on Categorical\u001b[0m\u001b[0;34m\u001b[0m\u001b[0;34m\u001b[0m\u001b[0;34m\u001b[0m\u001b[0m\n",
            "\u001b[0;31mKeyError\u001b[0m: \"['아파트세종', '누적평균값', '전체서울', '전체전국', '아파트서울', '아파트전국', '전체세종', '전용면적'] not in index\""
          ]
        }
      ]
    },
    {
      "cell_type": "code",
      "metadata": {
        "id": "g0MzH7tR8Hed"
      },
      "source": [
        "bdf = pd.DataFrame(scaled, columns=scale_cols)\n"
      ],
      "execution_count": 39,
      "outputs": []
    },
    {
      "cell_type": "code",
      "metadata": {
        "colab": {
          "base_uri": "https://localhost:8080/",
          "height": 419
        },
        "id": "15PP8DQ19-uV",
        "outputId": "90ad4c47-0959-47c7-8fb0-39d6701b7ee6"
      },
      "source": [
        "df"
      ],
      "execution_count": 40,
      "outputs": [
        {
          "output_type": "execute_result",
          "data": {
            "text/html": [
              "<div>\n",
              "<style scoped>\n",
              "    .dataframe tbody tr th:only-of-type {\n",
              "        vertical-align: middle;\n",
              "    }\n",
              "\n",
              "    .dataframe tbody tr th {\n",
              "        vertical-align: top;\n",
              "    }\n",
              "\n",
              "    .dataframe thead th {\n",
              "        text-align: right;\n",
              "    }\n",
              "</style>\n",
              "<table border=\"1\" class=\"dataframe\">\n",
              "  <thead>\n",
              "    <tr style=\"text-align: right;\">\n",
              "      <th></th>\n",
              "      <th>거래금액</th>\n",
              "      <th>전용면적</th>\n",
              "      <th>누적평균값</th>\n",
              "      <th>아파트세종</th>\n",
              "      <th>아파트전국</th>\n",
              "      <th>전체세종</th>\n",
              "      <th>전체서울</th>\n",
              "      <th>아파트서울</th>\n",
              "      <th>전체전국</th>\n",
              "    </tr>\n",
              "  </thead>\n",
              "  <tbody>\n",
              "    <tr>\n",
              "      <th>0</th>\n",
              "      <td>-0.449383</td>\n",
              "      <td>-0.737389</td>\n",
              "      <td>1.234560</td>\n",
              "      <td>-0.839677</td>\n",
              "      <td>-0.687283</td>\n",
              "      <td>-0.961228</td>\n",
              "      <td>-2.139865</td>\n",
              "      <td>-2.201476</td>\n",
              "      <td>-1.3676</td>\n",
              "    </tr>\n",
              "    <tr>\n",
              "      <th>1</th>\n",
              "      <td>-1.316181</td>\n",
              "      <td>-2.568038</td>\n",
              "      <td>1.477060</td>\n",
              "      <td>-0.839677</td>\n",
              "      <td>-0.687283</td>\n",
              "      <td>-0.961228</td>\n",
              "      <td>-2.139865</td>\n",
              "      <td>-2.201476</td>\n",
              "      <td>-1.3676</td>\n",
              "    </tr>\n",
              "    <tr>\n",
              "      <th>2</th>\n",
              "      <td>-1.112228</td>\n",
              "      <td>0.332372</td>\n",
              "      <td>-2.118739</td>\n",
              "      <td>-0.839677</td>\n",
              "      <td>-0.687283</td>\n",
              "      <td>-0.961228</td>\n",
              "      <td>-2.139865</td>\n",
              "      <td>-2.201476</td>\n",
              "      <td>-1.3676</td>\n",
              "    </tr>\n",
              "    <tr>\n",
              "      <th>3</th>\n",
              "      <td>-0.263972</td>\n",
              "      <td>0.332594</td>\n",
              "      <td>-1.621151</td>\n",
              "      <td>-0.839677</td>\n",
              "      <td>-0.687283</td>\n",
              "      <td>-0.961228</td>\n",
              "      <td>-2.139865</td>\n",
              "      <td>-2.201476</td>\n",
              "      <td>-1.3676</td>\n",
              "    </tr>\n",
              "    <tr>\n",
              "      <th>4</th>\n",
              "      <td>-1.362533</td>\n",
              "      <td>-2.549249</td>\n",
              "      <td>-1.461343</td>\n",
              "      <td>-0.839677</td>\n",
              "      <td>-0.687283</td>\n",
              "      <td>-0.961228</td>\n",
              "      <td>-2.139865</td>\n",
              "      <td>-2.201476</td>\n",
              "      <td>-1.3676</td>\n",
              "    </tr>\n",
              "    <tr>\n",
              "      <th>...</th>\n",
              "      <td>...</td>\n",
              "      <td>...</td>\n",
              "      <td>...</td>\n",
              "      <td>...</td>\n",
              "      <td>...</td>\n",
              "      <td>...</td>\n",
              "      <td>...</td>\n",
              "      <td>...</td>\n",
              "      <td>...</td>\n",
              "    </tr>\n",
              "    <tr>\n",
              "      <th>24412</th>\n",
              "      <td>1.483528</td>\n",
              "      <td>-0.241358</td>\n",
              "      <td>1.747256</td>\n",
              "      <td>2.422826</td>\n",
              "      <td>3.391248</td>\n",
              "      <td>2.399377</td>\n",
              "      <td>1.392818</td>\n",
              "      <td>1.362751</td>\n",
              "      <td>2.9804</td>\n",
              "    </tr>\n",
              "    <tr>\n",
              "      <th>24413</th>\n",
              "      <td>-1.151628</td>\n",
              "      <td>-2.150923</td>\n",
              "      <td>1.747248</td>\n",
              "      <td>2.422826</td>\n",
              "      <td>3.391248</td>\n",
              "      <td>2.399377</td>\n",
              "      <td>1.392818</td>\n",
              "      <td>1.362751</td>\n",
              "      <td>2.9804</td>\n",
              "    </tr>\n",
              "    <tr>\n",
              "      <th>24414</th>\n",
              "      <td>2.480113</td>\n",
              "      <td>0.335621</td>\n",
              "      <td>1.747824</td>\n",
              "      <td>2.422826</td>\n",
              "      <td>3.391248</td>\n",
              "      <td>2.399377</td>\n",
              "      <td>1.392818</td>\n",
              "      <td>1.362751</td>\n",
              "      <td>2.9804</td>\n",
              "    </tr>\n",
              "    <tr>\n",
              "      <th>24415</th>\n",
              "      <td>4.079284</td>\n",
              "      <td>1.383049</td>\n",
              "      <td>1.748663</td>\n",
              "      <td>2.422826</td>\n",
              "      <td>3.391248</td>\n",
              "      <td>2.399377</td>\n",
              "      <td>1.392818</td>\n",
              "      <td>1.362751</td>\n",
              "      <td>2.9804</td>\n",
              "    </tr>\n",
              "    <tr>\n",
              "      <th>24416</th>\n",
              "      <td>-1.165534</td>\n",
              "      <td>-2.263630</td>\n",
              "      <td>1.748667</td>\n",
              "      <td>2.422826</td>\n",
              "      <td>3.391248</td>\n",
              "      <td>2.399377</td>\n",
              "      <td>1.392818</td>\n",
              "      <td>1.362751</td>\n",
              "      <td>2.9804</td>\n",
              "    </tr>\n",
              "  </tbody>\n",
              "</table>\n",
              "<p>24417 rows × 9 columns</p>\n",
              "</div>"
            ],
            "text/plain": [
              "           거래금액      전용면적     누적평균값  ...      전체서울     아파트서울    전체전국\n",
              "0     -0.449383 -0.737389  1.234560  ... -2.139865 -2.201476 -1.3676\n",
              "1     -1.316181 -2.568038  1.477060  ... -2.139865 -2.201476 -1.3676\n",
              "2     -1.112228  0.332372 -2.118739  ... -2.139865 -2.201476 -1.3676\n",
              "3     -0.263972  0.332594 -1.621151  ... -2.139865 -2.201476 -1.3676\n",
              "4     -1.362533 -2.549249 -1.461343  ... -2.139865 -2.201476 -1.3676\n",
              "...         ...       ...       ...  ...       ...       ...     ...\n",
              "24412  1.483528 -0.241358  1.747256  ...  1.392818  1.362751  2.9804\n",
              "24413 -1.151628 -2.150923  1.747248  ...  1.392818  1.362751  2.9804\n",
              "24414  2.480113  0.335621  1.747824  ...  1.392818  1.362751  2.9804\n",
              "24415  4.079284  1.383049  1.748663  ...  1.392818  1.362751  2.9804\n",
              "24416 -1.165534 -2.263630  1.748667  ...  1.392818  1.362751  2.9804\n",
              "\n",
              "[24417 rows x 9 columns]"
            ]
          },
          "metadata": {
            "tags": []
          },
          "execution_count": 40
        }
      ]
    },
    {
      "cell_type": "code",
      "metadata": {
        "id": "1tqrbZ_F8Ilq"
      },
      "source": [
        "from sklearn.model_selection import train_test_split\n",
        "x_train, x_test, y_train, y_test = train_test_split(df.drop('누적평균값', 1), df['누적평균값'], test_size=0.2, random_state=0, shuffle=False)\n"
      ],
      "execution_count": 41,
      "outputs": []
    },
    {
      "cell_type": "code",
      "metadata": {
        "id": "KaJclOh78Kyx"
      },
      "source": [
        "import tensorflow as tf\n",
        "def windowed_dataset(series, window_size, batch_size, shuffle):\n",
        "    series = tf.expand_dims(series, axis=-1)\n",
        "    ds = tf.data.Dataset.from_tensor_slices(series)\n",
        "    ds = ds.window(window_size + 1, shift=1, drop_remainder=True)\n",
        "    ds = ds.flat_map(lambda w: w.batch(window_size + 1))\n",
        "    if shuffle:\n",
        "        ds = ds.shuffle(1000)\n",
        "    ds = ds.map(lambda w: (w[:-1], w[-1]))\n",
        "    return ds.batch(batch_size).prefetch(1)"
      ],
      "execution_count": 42,
      "outputs": []
    },
    {
      "cell_type": "code",
      "metadata": {
        "id": "gj71QP408OBK"
      },
      "source": [
        "WINDOW_SIZE=30\n",
        "BATCH_SIZE=32"
      ],
      "execution_count": 43,
      "outputs": []
    },
    {
      "cell_type": "code",
      "metadata": {
        "id": "57gQ0a9R8ThY"
      },
      "source": [
        "# trian_data는 학습용 데이터셋, test_data는 검증용 데이터셋 입니다.\n",
        "train_data = windowed_dataset(y_train, WINDOW_SIZE, BATCH_SIZE, True)\n",
        "test_data = windowed_dataset(y_test, WINDOW_SIZE, BATCH_SIZE, False)"
      ],
      "execution_count": 58,
      "outputs": []
    },
    {
      "cell_type": "code",
      "metadata": {
        "colab": {
          "base_uri": "https://localhost:8080/"
        },
        "id": "rNfIK2r28U4y",
        "outputId": "6069cd63-204c-4a31-a775-5bad064a71b0"
      },
      "source": [
        "# 아래의 코드로 데이터셋의 구성을 확인해 볼 수 있습니다.\n",
        "# X: (batch_size, window_size, feature)\n",
        "# Y: (batch_size, feature)\n",
        "for data in train_data.take(1):\n",
        "    print(f'데이터셋(X) 구성(batch_size, window_size, feature갯수): {data[0].shape}')\n",
        "    print(f'데이터셋(Y) 구성(batch_size, window_size, feature갯수): {data[1].shape}')"
      ],
      "execution_count": 45,
      "outputs": [
        {
          "output_type": "stream",
          "text": [
            "데이터셋(X) 구성(batch_size, window_size, feature갯수): (32, 30, 1)\n",
            "데이터셋(Y) 구성(batch_size, window_size, feature갯수): (32, 1)\n"
          ],
          "name": "stdout"
        }
      ]
    },
    {
      "cell_type": "code",
      "metadata": {
        "id": "N6dl3VZ48WIq"
      },
      "source": [
        "from tensorflow.keras.models import Sequential\n",
        "from tensorflow.keras.layers import Dense, LSTM, Conv1D, Lambda\n",
        "from tensorflow.keras.losses import Huber\n",
        "from tensorflow.keras.optimizers import Adam\n",
        "from tensorflow.keras.callbacks import EarlyStopping, ModelCheckpoint\n",
        "\n",
        "\n",
        "model = Sequential([\n",
        "    # 1차원 feature map 생성\n",
        "    Conv1D(filters=32, kernel_size=5,\n",
        "           padding=\"causal\",\n",
        "           activation=\"relu\",\n",
        "           input_shape=[WINDOW_SIZE, 1]),\n",
        "    # LSTM\n",
        "    LSTM(32, activation='tanh'),\n",
        "    Dense(32, activation=\"relu\"),\n",
        "    Dense(1),\n",
        "])"
      ],
      "execution_count": 46,
      "outputs": []
    },
    {
      "cell_type": "code",
      "metadata": {
        "id": "OePJiSGf8X23"
      },
      "source": [
        "# Sequence 학습에 비교적 좋은 퍼포먼스를 내는 Huber()를 사용합니다.\n",
        "loss = Huber()\n",
        "optimizer = Adam(0.0005)\n",
        "model.compile(loss=Huber(), optimizer=optimizer, metrics=['mse'])"
      ],
      "execution_count": 47,
      "outputs": []
    },
    {
      "cell_type": "code",
      "metadata": {
        "id": "_b3n1Vtd8ZFQ"
      },
      "source": [
        "# earlystopping은 10번 epoch통안 val_loss 개선이 없다면 학습을 멈춥니다.\n",
        "earlystopping = EarlyStopping(monitor='val_loss', patience=5)\n",
        "# val_loss 기준 체크포인터도 생성합니다.\n",
        "filename = os.path.join('tmp', 'ckeckpointer.ckpt')\n",
        "checkpoint = ModelCheckpoint(filename, \n",
        "                             save_weights_only=True, \n",
        "                             save_best_only=True, \n",
        "                             monitor='val_loss', \n",
        "                             verbose=1)"
      ],
      "execution_count": 48,
      "outputs": []
    },
    {
      "cell_type": "code",
      "metadata": {
        "colab": {
          "base_uri": "https://localhost:8080/"
        },
        "id": "DcLm4to58aF4",
        "outputId": "9cfd99b2-00c9-40e3-bfef-087627d65e44"
      },
      "source": [
        "history = model.fit(train_data, \n",
        "                    validation_data=(test_data), \n",
        "                    epochs=30, \n",
        "                    callbacks=[checkpoint, earlystopping])"
      ],
      "execution_count": 49,
      "outputs": [
        {
          "output_type": "stream",
          "text": [
            "Epoch 1/30\n",
            "610/610 [==============================] - 12s 16ms/step - loss: 0.0433 - mse: 0.0966 - val_loss: 0.0150 - val_mse: 0.0300\n",
            "\n",
            "Epoch 00001: val_loss improved from inf to 0.01499, saving model to tmp/ckeckpointer.ckpt\n",
            "Epoch 2/30\n",
            "610/610 [==============================] - 9s 15ms/step - loss: 0.0013 - mse: 0.0025 - val_loss: 0.0130 - val_mse: 0.0259\n",
            "\n",
            "Epoch 00002: val_loss improved from 0.01499 to 0.01296, saving model to tmp/ckeckpointer.ckpt\n",
            "Epoch 3/30\n",
            "610/610 [==============================] - 9s 15ms/step - loss: 8.7601e-05 - mse: 1.7520e-04 - val_loss: 0.0104 - val_mse: 0.0209\n",
            "\n",
            "Epoch 00003: val_loss improved from 0.01296 to 0.01043, saving model to tmp/ckeckpointer.ckpt\n",
            "Epoch 4/30\n",
            "610/610 [==============================] - 9s 15ms/step - loss: 4.7167e-05 - mse: 9.4335e-05 - val_loss: 0.0107 - val_mse: 0.0215\n",
            "\n",
            "Epoch 00004: val_loss did not improve from 0.01043\n",
            "Epoch 5/30\n",
            "610/610 [==============================] - 9s 15ms/step - loss: 3.9915e-05 - mse: 7.9831e-05 - val_loss: 0.0091 - val_mse: 0.0182\n",
            "\n",
            "Epoch 00005: val_loss improved from 0.01043 to 0.00908, saving model to tmp/ckeckpointer.ckpt\n",
            "Epoch 6/30\n",
            "610/610 [==============================] - 9s 15ms/step - loss: 3.5474e-05 - mse: 7.0948e-05 - val_loss: 0.0081 - val_mse: 0.0162\n",
            "\n",
            "Epoch 00006: val_loss improved from 0.00908 to 0.00808, saving model to tmp/ckeckpointer.ckpt\n",
            "Epoch 7/30\n",
            "610/610 [==============================] - 9s 15ms/step - loss: 3.4204e-05 - mse: 6.8409e-05 - val_loss: 0.0083 - val_mse: 0.0167\n",
            "\n",
            "Epoch 00007: val_loss did not improve from 0.00808\n",
            "Epoch 8/30\n",
            "610/610 [==============================] - 9s 15ms/step - loss: 3.3534e-05 - mse: 6.7068e-05 - val_loss: 0.0079 - val_mse: 0.0159\n",
            "\n",
            "Epoch 00008: val_loss improved from 0.00808 to 0.00794, saving model to tmp/ckeckpointer.ckpt\n",
            "Epoch 9/30\n",
            "610/610 [==============================] - 9s 15ms/step - loss: 3.7609e-05 - mse: 7.5217e-05 - val_loss: 0.0089 - val_mse: 0.0178\n",
            "\n",
            "Epoch 00009: val_loss did not improve from 0.00794\n",
            "Epoch 10/30\n",
            "610/610 [==============================] - 9s 15ms/step - loss: 3.8340e-05 - mse: 7.6681e-05 - val_loss: 0.0071 - val_mse: 0.0142\n",
            "\n",
            "Epoch 00010: val_loss improved from 0.00794 to 0.00711, saving model to tmp/ckeckpointer.ckpt\n",
            "Epoch 11/30\n",
            "610/610 [==============================] - 9s 15ms/step - loss: 4.1612e-05 - mse: 8.3225e-05 - val_loss: 0.0074 - val_mse: 0.0148\n",
            "\n",
            "Epoch 00011: val_loss did not improve from 0.00711\n",
            "Epoch 12/30\n",
            "610/610 [==============================] - 9s 15ms/step - loss: 4.4019e-05 - mse: 8.8037e-05 - val_loss: 0.0072 - val_mse: 0.0144\n",
            "\n",
            "Epoch 00012: val_loss did not improve from 0.00711\n",
            "Epoch 13/30\n",
            "610/610 [==============================] - 9s 15ms/step - loss: 4.1570e-05 - mse: 8.3139e-05 - val_loss: 0.0067 - val_mse: 0.0133\n",
            "\n",
            "Epoch 00013: val_loss improved from 0.00711 to 0.00666, saving model to tmp/ckeckpointer.ckpt\n",
            "Epoch 14/30\n",
            "610/610 [==============================] - 9s 15ms/step - loss: 3.3948e-05 - mse: 6.7896e-05 - val_loss: 0.0072 - val_mse: 0.0144\n",
            "\n",
            "Epoch 00014: val_loss did not improve from 0.00666\n",
            "Epoch 15/30\n",
            "610/610 [==============================] - 10s 15ms/step - loss: 4.3860e-05 - mse: 8.7720e-05 - val_loss: 0.0070 - val_mse: 0.0140\n",
            "\n",
            "Epoch 00015: val_loss did not improve from 0.00666\n",
            "Epoch 16/30\n",
            "610/610 [==============================] - 9s 15ms/step - loss: 3.0718e-05 - mse: 6.1437e-05 - val_loss: 0.0065 - val_mse: 0.0131\n",
            "\n",
            "Epoch 00016: val_loss improved from 0.00666 to 0.00653, saving model to tmp/ckeckpointer.ckpt\n",
            "Epoch 17/30\n",
            "610/610 [==============================] - 10s 16ms/step - loss: 3.3965e-05 - mse: 6.7930e-05 - val_loss: 0.0071 - val_mse: 0.0142\n",
            "\n",
            "Epoch 00017: val_loss did not improve from 0.00653\n",
            "Epoch 18/30\n",
            "610/610 [==============================] - 9s 15ms/step - loss: 3.1413e-05 - mse: 6.2826e-05 - val_loss: 0.0065 - val_mse: 0.0131\n",
            "\n",
            "Epoch 00018: val_loss did not improve from 0.00653\n",
            "Epoch 19/30\n",
            "610/610 [==============================] - 9s 15ms/step - loss: 3.3018e-05 - mse: 6.6036e-05 - val_loss: 0.0067 - val_mse: 0.0134\n",
            "\n",
            "Epoch 00019: val_loss did not improve from 0.00653\n",
            "Epoch 20/30\n",
            "610/610 [==============================] - 9s 15ms/step - loss: 3.2335e-05 - mse: 6.4670e-05 - val_loss: 0.0065 - val_mse: 0.0131\n",
            "\n",
            "Epoch 00020: val_loss did not improve from 0.00653\n",
            "Epoch 21/30\n",
            "610/610 [==============================] - 9s 15ms/step - loss: 4.4754e-05 - mse: 8.9508e-05 - val_loss: 0.0067 - val_mse: 0.0133\n",
            "\n",
            "Epoch 00021: val_loss did not improve from 0.00653\n"
          ],
          "name": "stdout"
        }
      ]
    },
    {
      "cell_type": "code",
      "metadata": {
        "id": "oZmE_yXI8bG2",
        "colab": {
          "base_uri": "https://localhost:8080/",
          "height": 868
        },
        "outputId": "a0bf64bf-ea15-4631-d63e-b2ac9b2cdea6"
      },
      "source": [
        "model.load_weights(filename)\n",
        "pred = model.predict(y_test)\n"
      ],
      "execution_count": 63,
      "outputs": [
        {
          "output_type": "error",
          "ename": "ValueError",
          "evalue": "ignored",
          "traceback": [
            "\u001b[0;31m---------------------------------------------------------------------------\u001b[0m",
            "\u001b[0;31mValueError\u001b[0m                                Traceback (most recent call last)",
            "\u001b[0;32m<ipython-input-63-023e933a4882>\u001b[0m in \u001b[0;36m<module>\u001b[0;34m()\u001b[0m\n\u001b[1;32m      1\u001b[0m \u001b[0mmodel\u001b[0m\u001b[0;34m.\u001b[0m\u001b[0mload_weights\u001b[0m\u001b[0;34m(\u001b[0m\u001b[0mfilename\u001b[0m\u001b[0;34m)\u001b[0m\u001b[0;34m\u001b[0m\u001b[0;34m\u001b[0m\u001b[0m\n\u001b[0;32m----> 2\u001b[0;31m \u001b[0mpred\u001b[0m \u001b[0;34m=\u001b[0m \u001b[0mmodel\u001b[0m\u001b[0;34m.\u001b[0m\u001b[0mpredict\u001b[0m\u001b[0;34m(\u001b[0m\u001b[0my_test\u001b[0m\u001b[0;34m)\u001b[0m\u001b[0;34m\u001b[0m\u001b[0;34m\u001b[0m\u001b[0m\n\u001b[0m",
            "\u001b[0;32m/usr/local/lib/python3.7/dist-packages/tensorflow/python/keras/engine/training.py\u001b[0m in \u001b[0;36mpredict\u001b[0;34m(self, x, batch_size, verbose, steps, callbacks, max_queue_size, workers, use_multiprocessing)\u001b[0m\n\u001b[1;32m   1725\u001b[0m           \u001b[0;32mfor\u001b[0m \u001b[0mstep\u001b[0m \u001b[0;32min\u001b[0m \u001b[0mdata_handler\u001b[0m\u001b[0;34m.\u001b[0m\u001b[0msteps\u001b[0m\u001b[0;34m(\u001b[0m\u001b[0;34m)\u001b[0m\u001b[0;34m:\u001b[0m\u001b[0;34m\u001b[0m\u001b[0;34m\u001b[0m\u001b[0m\n\u001b[1;32m   1726\u001b[0m             \u001b[0mcallbacks\u001b[0m\u001b[0;34m.\u001b[0m\u001b[0mon_predict_batch_begin\u001b[0m\u001b[0;34m(\u001b[0m\u001b[0mstep\u001b[0m\u001b[0;34m)\u001b[0m\u001b[0;34m\u001b[0m\u001b[0;34m\u001b[0m\u001b[0m\n\u001b[0;32m-> 1727\u001b[0;31m             \u001b[0mtmp_batch_outputs\u001b[0m \u001b[0;34m=\u001b[0m \u001b[0mself\u001b[0m\u001b[0;34m.\u001b[0m\u001b[0mpredict_function\u001b[0m\u001b[0;34m(\u001b[0m\u001b[0miterator\u001b[0m\u001b[0;34m)\u001b[0m\u001b[0;34m\u001b[0m\u001b[0;34m\u001b[0m\u001b[0m\n\u001b[0m\u001b[1;32m   1728\u001b[0m             \u001b[0;32mif\u001b[0m \u001b[0mdata_handler\u001b[0m\u001b[0;34m.\u001b[0m\u001b[0mshould_sync\u001b[0m\u001b[0;34m:\u001b[0m\u001b[0;34m\u001b[0m\u001b[0;34m\u001b[0m\u001b[0m\n\u001b[1;32m   1729\u001b[0m               \u001b[0mcontext\u001b[0m\u001b[0;34m.\u001b[0m\u001b[0masync_wait\u001b[0m\u001b[0;34m(\u001b[0m\u001b[0;34m)\u001b[0m\u001b[0;34m\u001b[0m\u001b[0;34m\u001b[0m\u001b[0m\n",
            "\u001b[0;32m/usr/local/lib/python3.7/dist-packages/tensorflow/python/eager/def_function.py\u001b[0m in \u001b[0;36m__call__\u001b[0;34m(self, *args, **kwds)\u001b[0m\n\u001b[1;32m    887\u001b[0m \u001b[0;34m\u001b[0m\u001b[0m\n\u001b[1;32m    888\u001b[0m       \u001b[0;32mwith\u001b[0m \u001b[0mOptionalXlaContext\u001b[0m\u001b[0;34m(\u001b[0m\u001b[0mself\u001b[0m\u001b[0;34m.\u001b[0m\u001b[0m_jit_compile\u001b[0m\u001b[0;34m)\u001b[0m\u001b[0;34m:\u001b[0m\u001b[0;34m\u001b[0m\u001b[0;34m\u001b[0m\u001b[0m\n\u001b[0;32m--> 889\u001b[0;31m         \u001b[0mresult\u001b[0m \u001b[0;34m=\u001b[0m \u001b[0mself\u001b[0m\u001b[0;34m.\u001b[0m\u001b[0m_call\u001b[0m\u001b[0;34m(\u001b[0m\u001b[0;34m*\u001b[0m\u001b[0margs\u001b[0m\u001b[0;34m,\u001b[0m \u001b[0;34m**\u001b[0m\u001b[0mkwds\u001b[0m\u001b[0;34m)\u001b[0m\u001b[0;34m\u001b[0m\u001b[0;34m\u001b[0m\u001b[0m\n\u001b[0m\u001b[1;32m    890\u001b[0m \u001b[0;34m\u001b[0m\u001b[0m\n\u001b[1;32m    891\u001b[0m       \u001b[0mnew_tracing_count\u001b[0m \u001b[0;34m=\u001b[0m \u001b[0mself\u001b[0m\u001b[0;34m.\u001b[0m\u001b[0mexperimental_get_tracing_count\u001b[0m\u001b[0;34m(\u001b[0m\u001b[0;34m)\u001b[0m\u001b[0;34m\u001b[0m\u001b[0;34m\u001b[0m\u001b[0m\n",
            "\u001b[0;32m/usr/local/lib/python3.7/dist-packages/tensorflow/python/eager/def_function.py\u001b[0m in \u001b[0;36m_call\u001b[0;34m(self, *args, **kwds)\u001b[0m\n\u001b[1;32m    931\u001b[0m       \u001b[0;31m# This is the first call of __call__, so we have to initialize.\u001b[0m\u001b[0;34m\u001b[0m\u001b[0;34m\u001b[0m\u001b[0;34m\u001b[0m\u001b[0m\n\u001b[1;32m    932\u001b[0m       \u001b[0minitializers\u001b[0m \u001b[0;34m=\u001b[0m \u001b[0;34m[\u001b[0m\u001b[0;34m]\u001b[0m\u001b[0;34m\u001b[0m\u001b[0;34m\u001b[0m\u001b[0m\n\u001b[0;32m--> 933\u001b[0;31m       \u001b[0mself\u001b[0m\u001b[0;34m.\u001b[0m\u001b[0m_initialize\u001b[0m\u001b[0;34m(\u001b[0m\u001b[0margs\u001b[0m\u001b[0;34m,\u001b[0m \u001b[0mkwds\u001b[0m\u001b[0;34m,\u001b[0m \u001b[0madd_initializers_to\u001b[0m\u001b[0;34m=\u001b[0m\u001b[0minitializers\u001b[0m\u001b[0;34m)\u001b[0m\u001b[0;34m\u001b[0m\u001b[0;34m\u001b[0m\u001b[0m\n\u001b[0m\u001b[1;32m    934\u001b[0m     \u001b[0;32mfinally\u001b[0m\u001b[0;34m:\u001b[0m\u001b[0;34m\u001b[0m\u001b[0;34m\u001b[0m\u001b[0m\n\u001b[1;32m    935\u001b[0m       \u001b[0;31m# At this point we know that the initialization is complete (or less\u001b[0m\u001b[0;34m\u001b[0m\u001b[0;34m\u001b[0m\u001b[0;34m\u001b[0m\u001b[0m\n",
            "\u001b[0;32m/usr/local/lib/python3.7/dist-packages/tensorflow/python/eager/def_function.py\u001b[0m in \u001b[0;36m_initialize\u001b[0;34m(self, args, kwds, add_initializers_to)\u001b[0m\n\u001b[1;32m    762\u001b[0m     self._concrete_stateful_fn = (\n\u001b[1;32m    763\u001b[0m         self._stateful_fn._get_concrete_function_internal_garbage_collected(  # pylint: disable=protected-access\n\u001b[0;32m--> 764\u001b[0;31m             *args, **kwds))\n\u001b[0m\u001b[1;32m    765\u001b[0m \u001b[0;34m\u001b[0m\u001b[0m\n\u001b[1;32m    766\u001b[0m     \u001b[0;32mdef\u001b[0m \u001b[0minvalid_creator_scope\u001b[0m\u001b[0;34m(\u001b[0m\u001b[0;34m*\u001b[0m\u001b[0munused_args\u001b[0m\u001b[0;34m,\u001b[0m \u001b[0;34m**\u001b[0m\u001b[0munused_kwds\u001b[0m\u001b[0;34m)\u001b[0m\u001b[0;34m:\u001b[0m\u001b[0;34m\u001b[0m\u001b[0;34m\u001b[0m\u001b[0m\n",
            "\u001b[0;32m/usr/local/lib/python3.7/dist-packages/tensorflow/python/eager/function.py\u001b[0m in \u001b[0;36m_get_concrete_function_internal_garbage_collected\u001b[0;34m(self, *args, **kwargs)\u001b[0m\n\u001b[1;32m   3048\u001b[0m       \u001b[0margs\u001b[0m\u001b[0;34m,\u001b[0m \u001b[0mkwargs\u001b[0m \u001b[0;34m=\u001b[0m \u001b[0;32mNone\u001b[0m\u001b[0;34m,\u001b[0m \u001b[0;32mNone\u001b[0m\u001b[0;34m\u001b[0m\u001b[0;34m\u001b[0m\u001b[0m\n\u001b[1;32m   3049\u001b[0m     \u001b[0;32mwith\u001b[0m \u001b[0mself\u001b[0m\u001b[0;34m.\u001b[0m\u001b[0m_lock\u001b[0m\u001b[0;34m:\u001b[0m\u001b[0;34m\u001b[0m\u001b[0;34m\u001b[0m\u001b[0m\n\u001b[0;32m-> 3050\u001b[0;31m       \u001b[0mgraph_function\u001b[0m\u001b[0;34m,\u001b[0m \u001b[0m_\u001b[0m \u001b[0;34m=\u001b[0m \u001b[0mself\u001b[0m\u001b[0;34m.\u001b[0m\u001b[0m_maybe_define_function\u001b[0m\u001b[0;34m(\u001b[0m\u001b[0margs\u001b[0m\u001b[0;34m,\u001b[0m \u001b[0mkwargs\u001b[0m\u001b[0;34m)\u001b[0m\u001b[0;34m\u001b[0m\u001b[0;34m\u001b[0m\u001b[0m\n\u001b[0m\u001b[1;32m   3051\u001b[0m     \u001b[0;32mreturn\u001b[0m \u001b[0mgraph_function\u001b[0m\u001b[0;34m\u001b[0m\u001b[0;34m\u001b[0m\u001b[0m\n\u001b[1;32m   3052\u001b[0m \u001b[0;34m\u001b[0m\u001b[0m\n",
            "\u001b[0;32m/usr/local/lib/python3.7/dist-packages/tensorflow/python/eager/function.py\u001b[0m in \u001b[0;36m_maybe_define_function\u001b[0;34m(self, args, kwargs)\u001b[0m\n\u001b[1;32m   3442\u001b[0m \u001b[0;34m\u001b[0m\u001b[0m\n\u001b[1;32m   3443\u001b[0m           \u001b[0mself\u001b[0m\u001b[0;34m.\u001b[0m\u001b[0m_function_cache\u001b[0m\u001b[0;34m.\u001b[0m\u001b[0mmissed\u001b[0m\u001b[0;34m.\u001b[0m\u001b[0madd\u001b[0m\u001b[0;34m(\u001b[0m\u001b[0mcall_context_key\u001b[0m\u001b[0;34m)\u001b[0m\u001b[0;34m\u001b[0m\u001b[0;34m\u001b[0m\u001b[0m\n\u001b[0;32m-> 3444\u001b[0;31m           \u001b[0mgraph_function\u001b[0m \u001b[0;34m=\u001b[0m \u001b[0mself\u001b[0m\u001b[0;34m.\u001b[0m\u001b[0m_create_graph_function\u001b[0m\u001b[0;34m(\u001b[0m\u001b[0margs\u001b[0m\u001b[0;34m,\u001b[0m \u001b[0mkwargs\u001b[0m\u001b[0;34m)\u001b[0m\u001b[0;34m\u001b[0m\u001b[0;34m\u001b[0m\u001b[0m\n\u001b[0m\u001b[1;32m   3445\u001b[0m           \u001b[0mself\u001b[0m\u001b[0;34m.\u001b[0m\u001b[0m_function_cache\u001b[0m\u001b[0;34m.\u001b[0m\u001b[0mprimary\u001b[0m\u001b[0;34m[\u001b[0m\u001b[0mcache_key\u001b[0m\u001b[0;34m]\u001b[0m \u001b[0;34m=\u001b[0m \u001b[0mgraph_function\u001b[0m\u001b[0;34m\u001b[0m\u001b[0;34m\u001b[0m\u001b[0m\n\u001b[1;32m   3446\u001b[0m \u001b[0;34m\u001b[0m\u001b[0m\n",
            "\u001b[0;32m/usr/local/lib/python3.7/dist-packages/tensorflow/python/eager/function.py\u001b[0m in \u001b[0;36m_create_graph_function\u001b[0;34m(self, args, kwargs, override_flat_arg_shapes)\u001b[0m\n\u001b[1;32m   3287\u001b[0m             \u001b[0marg_names\u001b[0m\u001b[0;34m=\u001b[0m\u001b[0marg_names\u001b[0m\u001b[0;34m,\u001b[0m\u001b[0;34m\u001b[0m\u001b[0;34m\u001b[0m\u001b[0m\n\u001b[1;32m   3288\u001b[0m             \u001b[0moverride_flat_arg_shapes\u001b[0m\u001b[0;34m=\u001b[0m\u001b[0moverride_flat_arg_shapes\u001b[0m\u001b[0;34m,\u001b[0m\u001b[0;34m\u001b[0m\u001b[0;34m\u001b[0m\u001b[0m\n\u001b[0;32m-> 3289\u001b[0;31m             capture_by_value=self._capture_by_value),\n\u001b[0m\u001b[1;32m   3290\u001b[0m         \u001b[0mself\u001b[0m\u001b[0;34m.\u001b[0m\u001b[0m_function_attributes\u001b[0m\u001b[0;34m,\u001b[0m\u001b[0;34m\u001b[0m\u001b[0;34m\u001b[0m\u001b[0m\n\u001b[1;32m   3291\u001b[0m         \u001b[0mfunction_spec\u001b[0m\u001b[0;34m=\u001b[0m\u001b[0mself\u001b[0m\u001b[0;34m.\u001b[0m\u001b[0mfunction_spec\u001b[0m\u001b[0;34m,\u001b[0m\u001b[0;34m\u001b[0m\u001b[0;34m\u001b[0m\u001b[0m\n",
            "\u001b[0;32m/usr/local/lib/python3.7/dist-packages/tensorflow/python/framework/func_graph.py\u001b[0m in \u001b[0;36mfunc_graph_from_py_func\u001b[0;34m(name, python_func, args, kwargs, signature, func_graph, autograph, autograph_options, add_control_dependencies, arg_names, op_return_value, collections, capture_by_value, override_flat_arg_shapes)\u001b[0m\n\u001b[1;32m    997\u001b[0m         \u001b[0m_\u001b[0m\u001b[0;34m,\u001b[0m \u001b[0moriginal_func\u001b[0m \u001b[0;34m=\u001b[0m \u001b[0mtf_decorator\u001b[0m\u001b[0;34m.\u001b[0m\u001b[0munwrap\u001b[0m\u001b[0;34m(\u001b[0m\u001b[0mpython_func\u001b[0m\u001b[0;34m)\u001b[0m\u001b[0;34m\u001b[0m\u001b[0;34m\u001b[0m\u001b[0m\n\u001b[1;32m    998\u001b[0m \u001b[0;34m\u001b[0m\u001b[0m\n\u001b[0;32m--> 999\u001b[0;31m       \u001b[0mfunc_outputs\u001b[0m \u001b[0;34m=\u001b[0m \u001b[0mpython_func\u001b[0m\u001b[0;34m(\u001b[0m\u001b[0;34m*\u001b[0m\u001b[0mfunc_args\u001b[0m\u001b[0;34m,\u001b[0m \u001b[0;34m**\u001b[0m\u001b[0mfunc_kwargs\u001b[0m\u001b[0;34m)\u001b[0m\u001b[0;34m\u001b[0m\u001b[0;34m\u001b[0m\u001b[0m\n\u001b[0m\u001b[1;32m   1000\u001b[0m \u001b[0;34m\u001b[0m\u001b[0m\n\u001b[1;32m   1001\u001b[0m       \u001b[0;31m# invariant: `func_outputs` contains only Tensors, CompositeTensors,\u001b[0m\u001b[0;34m\u001b[0m\u001b[0;34m\u001b[0m\u001b[0;34m\u001b[0m\u001b[0m\n",
            "\u001b[0;32m/usr/local/lib/python3.7/dist-packages/tensorflow/python/eager/def_function.py\u001b[0m in \u001b[0;36mwrapped_fn\u001b[0;34m(*args, **kwds)\u001b[0m\n\u001b[1;32m    670\u001b[0m         \u001b[0;31m# the function a weak reference to itself to avoid a reference cycle.\u001b[0m\u001b[0;34m\u001b[0m\u001b[0;34m\u001b[0m\u001b[0;34m\u001b[0m\u001b[0m\n\u001b[1;32m    671\u001b[0m         \u001b[0;32mwith\u001b[0m \u001b[0mOptionalXlaContext\u001b[0m\u001b[0;34m(\u001b[0m\u001b[0mcompile_with_xla\u001b[0m\u001b[0;34m)\u001b[0m\u001b[0;34m:\u001b[0m\u001b[0;34m\u001b[0m\u001b[0;34m\u001b[0m\u001b[0m\n\u001b[0;32m--> 672\u001b[0;31m           \u001b[0mout\u001b[0m \u001b[0;34m=\u001b[0m \u001b[0mweak_wrapped_fn\u001b[0m\u001b[0;34m(\u001b[0m\u001b[0;34m)\u001b[0m\u001b[0;34m.\u001b[0m\u001b[0m__wrapped__\u001b[0m\u001b[0;34m(\u001b[0m\u001b[0;34m*\u001b[0m\u001b[0margs\u001b[0m\u001b[0;34m,\u001b[0m \u001b[0;34m**\u001b[0m\u001b[0mkwds\u001b[0m\u001b[0;34m)\u001b[0m\u001b[0;34m\u001b[0m\u001b[0;34m\u001b[0m\u001b[0m\n\u001b[0m\u001b[1;32m    673\u001b[0m         \u001b[0;32mreturn\u001b[0m \u001b[0mout\u001b[0m\u001b[0;34m\u001b[0m\u001b[0;34m\u001b[0m\u001b[0m\n\u001b[1;32m    674\u001b[0m \u001b[0;34m\u001b[0m\u001b[0m\n",
            "\u001b[0;32m/usr/local/lib/python3.7/dist-packages/tensorflow/python/framework/func_graph.py\u001b[0m in \u001b[0;36mwrapper\u001b[0;34m(*args, **kwargs)\u001b[0m\n\u001b[1;32m    984\u001b[0m           \u001b[0;32mexcept\u001b[0m \u001b[0mException\u001b[0m \u001b[0;32mas\u001b[0m \u001b[0me\u001b[0m\u001b[0;34m:\u001b[0m  \u001b[0;31m# pylint:disable=broad-except\u001b[0m\u001b[0;34m\u001b[0m\u001b[0;34m\u001b[0m\u001b[0m\n\u001b[1;32m    985\u001b[0m             \u001b[0;32mif\u001b[0m \u001b[0mhasattr\u001b[0m\u001b[0;34m(\u001b[0m\u001b[0me\u001b[0m\u001b[0;34m,\u001b[0m \u001b[0;34m\"ag_error_metadata\"\u001b[0m\u001b[0;34m)\u001b[0m\u001b[0;34m:\u001b[0m\u001b[0;34m\u001b[0m\u001b[0;34m\u001b[0m\u001b[0m\n\u001b[0;32m--> 986\u001b[0;31m               \u001b[0;32mraise\u001b[0m \u001b[0me\u001b[0m\u001b[0;34m.\u001b[0m\u001b[0mag_error_metadata\u001b[0m\u001b[0;34m.\u001b[0m\u001b[0mto_exception\u001b[0m\u001b[0;34m(\u001b[0m\u001b[0me\u001b[0m\u001b[0;34m)\u001b[0m\u001b[0;34m\u001b[0m\u001b[0;34m\u001b[0m\u001b[0m\n\u001b[0m\u001b[1;32m    987\u001b[0m             \u001b[0;32melse\u001b[0m\u001b[0;34m:\u001b[0m\u001b[0;34m\u001b[0m\u001b[0;34m\u001b[0m\u001b[0m\n\u001b[1;32m    988\u001b[0m               \u001b[0;32mraise\u001b[0m\u001b[0;34m\u001b[0m\u001b[0;34m\u001b[0m\u001b[0m\n",
            "\u001b[0;31mValueError\u001b[0m: in user code:\n\n    /usr/local/lib/python3.7/dist-packages/tensorflow/python/keras/engine/training.py:1569 predict_function  *\n        return step_function(self, iterator)\n    /usr/local/lib/python3.7/dist-packages/tensorflow/python/keras/engine/training.py:1559 step_function  **\n        outputs = model.distribute_strategy.run(run_step, args=(data,))\n    /usr/local/lib/python3.7/dist-packages/tensorflow/python/distribute/distribute_lib.py:1285 run\n        return self._extended.call_for_each_replica(fn, args=args, kwargs=kwargs)\n    /usr/local/lib/python3.7/dist-packages/tensorflow/python/distribute/distribute_lib.py:2833 call_for_each_replica\n        return self._call_for_each_replica(fn, args, kwargs)\n    /usr/local/lib/python3.7/dist-packages/tensorflow/python/distribute/distribute_lib.py:3608 _call_for_each_replica\n        return fn(*args, **kwargs)\n    /usr/local/lib/python3.7/dist-packages/tensorflow/python/keras/engine/training.py:1552 run_step  **\n        outputs = model.predict_step(data)\n    /usr/local/lib/python3.7/dist-packages/tensorflow/python/keras/engine/training.py:1525 predict_step\n        return self(x, training=False)\n    /usr/local/lib/python3.7/dist-packages/tensorflow/python/keras/engine/base_layer.py:1013 __call__\n        input_spec.assert_input_compatibility(self.input_spec, inputs, self.name)\n    /usr/local/lib/python3.7/dist-packages/tensorflow/python/keras/engine/input_spec.py:235 assert_input_compatibility\n        str(tuple(shape)))\n\n    ValueError: Input 0 of layer sequential_1 is incompatible with the layer: : expected min_ndim=3, found ndim=2. Full shape received: (None, 1)\n"
          ]
        }
      ]
    },
    {
      "cell_type": "code",
      "metadata": {
        "colab": {
          "base_uri": "https://localhost:8080/",
          "height": 537
        },
        "id": "4Xmr-Tf78ha7",
        "outputId": "8062a094-c71c-4229-838b-7a5b5a40e904"
      },
      "source": [
        "plt.figure(figsize=(12, 9))\n",
        "plt.plot((y_test), label='actual')\n",
        "plt.plot(pred, label='prediction')\n",
        "plt.legend()\n",
        "plt.show()"
      ],
      "execution_count": 65,
      "outputs": [
        {
          "output_type": "display_data",
          "data": {
            "image/png": "[encoded data removed]",
            "text/plain": [
              "<Figure size 864x648 with 1 Axes>"
            ]
          },
          "metadata": {
            "tags": [],
            "needs_background": "light"
          }
        }
      ]
    },
    {
      "cell_type": "code",
      "metadata": {
        "id": "C-m6CjG78jEa",
        "colab": {
          "base_uri": "https://localhost:8080/"
        },
        "outputId": "ea445ed6-ebfb-4a85-ffca-49d925561cfd"
      },
      "source": [
        "y_test"
      ],
      "execution_count": 62,
      "outputs": [
        {
          "output_type": "execute_result",
          "data": {
            "text/plain": [
              "19533    0.975541\n",
              "19534    0.975785\n",
              "19535    0.976068\n",
              "19536    0.976426\n",
              "19537    0.977096\n",
              "           ...   \n",
              "24412    1.747256\n",
              "24413    1.747248\n",
              "24414    1.747824\n",
              "24415    1.748663\n",
              "24416    1.748667\n",
              "Name: 누적평균값, Length: 4884, dtype: float64"
            ]
          },
          "metadata": {
            "tags": []
          },
          "execution_count": 62
        }
      ]
    },
    {
      "cell_type": "code",
      "metadata": {
        "id": "IJjkm93zFD2s"
      },
      "source": [
        ""
      ],
      "execution_count": null,
      "outputs": []
    }
  ]
}