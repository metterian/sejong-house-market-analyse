{
  "nbformat": 4,
  "nbformat_minor": 0,
  "metadata": {
    "colab": {
      "name": "sejoing_house_price_lstm.ipynb",
      "provenance": [],
      "collapsed_sections": []
    },
    "kernelspec": {
      "name": "python3",
      "display_name": "Python 3"
    },
    "language_info": {
      "name": "python"
    }
  },
  "cells": [
    {
      "cell_type": "code",
      "metadata": {
        "id": "WJNnKanQ7tWk"
      },
      "source": [
        "import pandas as pd\n",
        "import numpy as np\n",
        "import matplotlib.pyplot as plt\n",
        "import seaborn as sns\n",
        "import warnings\n",
        "import os\n",
        "\n",
        "%matplotlib inline\n",
        "warnings.filterwarnings('ignore')\n",
        "\n",
        "plt.rcParams['font.family'] = 'NanumGothic'"
      ],
      "execution_count": 5,
      "outputs": []
    },
    {
      "cell_type": "code",
      "metadata": {
        "colab": {
          "base_uri": "https://localhost:8080/"
        },
        "id": "zyNctF0P9RFM",
        "outputId": "62e9cd92-4ec3-4e04-c386-b752d4c10aed"
      },
      "source": [
        "from google.colab import drive\n",
        "drive.mount('/content/drive')"
      ],
      "execution_count": 6,
      "outputs": [
        {
          "output_type": "stream",
          "text": [
            "Drive already mounted at /content/drive; to attempt to forcibly remount, call drive.mount(\"/content/drive\", force_remount=True).\n"
          ],
          "name": "stdout"
        }
      ]
    },
    {
      "cell_type": "markdown",
      "metadata": {
        "id": "2ogv-iT-_k_g"
      },
      "source": [
        "## 세종시 dataset\n"
      ]
    },
    {
      "cell_type": "code",
      "metadata": {
        "id": "G75hXwB85Ldf"
      },
      "source": [
        "# Data Laad\n",
        "df = pd.read_csv('/content/drive/MyDrive/Project/sejong-compas-contest/아파트매매_부동산지수.csv', parse_dates=['yyyymmdd']).drop(columns=['Unnamed: 0'])\n",
        "\n",
        "# Set 면적평균가\n",
        "df['면적평균가'] = df['거래금액'].astype(float) / df['전용면적']\n",
        "\n",
        "\n",
        "# Rename Column\n",
        "df = df.rename(columns={'yyyymmdd':'년월일'})\n",
        "df = df.set_index('년월일')\n",
        "\n",
        "# Sort by Datetime\n",
        "df = df.sort_index()\n",
        "# Reducing Columns\n",
        "df['법정동'] = df['법정동'].str.split(' ').str[0]\n",
        "df['누적평균값'] = df['거래금액'].cumsum() / df['전용면적'].cumsum()\n",
        "\n",
        "df = df.reindex(columns=['법정동','거래금액','전용면적','누적평균값', '아파트세종', '아파트전국','전체세종','전체서울','아파트서울','전체전국'])"
      ],
      "execution_count": 71,
      "outputs": []
    },
    {
      "cell_type": "code",
      "metadata": {
        "colab": {
          "base_uri": "https://localhost:8080/"
        },
        "id": "pP4fUQjiZA1i",
        "outputId": "0a625cc1-3723-4faa-d1b1-11fda33e2a45"
      },
      "source": [
        "df.columns"
      ],
      "execution_count": 72,
      "outputs": [
        {
          "output_type": "execute_result",
          "data": {
            "text/plain": [
              "Index(['법정동', '거래금액', '전용면적', '누적평균값', '아파트세종', '아파트전국', '전체세종', '전체서울',\n",
              "       '아파트서울', '전체전국'],\n",
              "      dtype='object')"
            ]
          },
          "metadata": {
            "tags": []
          },
          "execution_count": 72
        }
      ]
    },
    {
      "cell_type": "code",
      "metadata": {
        "colab": {
          "base_uri": "https://localhost:8080/",
          "height": 545
        },
        "id": "d5OrCcyu2puI",
        "outputId": "a1dcb9dd-5f5e-4e7f-95ba-01b8650c4224"
      },
      "source": [
        "df.head(15)"
      ],
      "execution_count": 73,
      "outputs": [
        {
          "output_type": "execute_result",
          "data": {
            "text/html": [
              "<div>\n",
              "<style scoped>\n",
              "    .dataframe tbody tr th:only-of-type {\n",
              "        vertical-align: middle;\n",
              "    }\n",
              "\n",
              "    .dataframe tbody tr th {\n",
              "        vertical-align: top;\n",
              "    }\n",
              "\n",
              "    .dataframe thead th {\n",
              "        text-align: right;\n",
              "    }\n",
              "</style>\n",
              "<table border=\"1\" class=\"dataframe\">\n",
              "  <thead>\n",
              "    <tr style=\"text-align: right;\">\n",
              "      <th></th>\n",
              "      <th>법정동</th>\n",
              "      <th>거래금액</th>\n",
              "      <th>전용면적</th>\n",
              "      <th>누적평균값</th>\n",
              "      <th>아파트세종</th>\n",
              "      <th>아파트전국</th>\n",
              "      <th>전체세종</th>\n",
              "      <th>전체서울</th>\n",
              "      <th>아파트서울</th>\n",
              "      <th>전체전국</th>\n",
              "    </tr>\n",
              "    <tr>\n",
              "      <th>년월일</th>\n",
              "      <th></th>\n",
              "      <th></th>\n",
              "      <th></th>\n",
              "      <th></th>\n",
              "      <th></th>\n",
              "      <th></th>\n",
              "      <th></th>\n",
              "      <th></th>\n",
              "      <th></th>\n",
              "      <th></th>\n",
              "    </tr>\n",
              "  </thead>\n",
              "  <tbody>\n",
              "    <tr>\n",
              "      <th>2017-01-01</th>\n",
              "      <td>종촌동</td>\n",
              "      <td>27300</td>\n",
              "      <td>59.8652</td>\n",
              "      <td>456.024535</td>\n",
              "      <td>95.9</td>\n",
              "      <td>99.0</td>\n",
              "      <td>96.0</td>\n",
              "      <td>97.1</td>\n",
              "      <td>96.3</td>\n",
              "      <td>98.7</td>\n",
              "    </tr>\n",
              "    <tr>\n",
              "      <th>2017-01-01</th>\n",
              "      <td>보람동</td>\n",
              "      <td>8600</td>\n",
              "      <td>16.9849</td>\n",
              "      <td>467.143179</td>\n",
              "      <td>95.9</td>\n",
              "      <td>99.0</td>\n",
              "      <td>96.0</td>\n",
              "      <td>97.1</td>\n",
              "      <td>96.3</td>\n",
              "      <td>98.7</td>\n",
              "    </tr>\n",
              "    <tr>\n",
              "      <th>2017-01-02</th>\n",
              "      <td>조치원읍</td>\n",
              "      <td>13000</td>\n",
              "      <td>84.9228</td>\n",
              "      <td>302.275597</td>\n",
              "      <td>95.9</td>\n",
              "      <td>99.0</td>\n",
              "      <td>96.0</td>\n",
              "      <td>97.1</td>\n",
              "      <td>96.3</td>\n",
              "      <td>98.7</td>\n",
              "    </tr>\n",
              "    <tr>\n",
              "      <th>2017-01-02</th>\n",
              "      <td>아름동</td>\n",
              "      <td>31300</td>\n",
              "      <td>84.9280</td>\n",
              "      <td>325.090018</td>\n",
              "      <td>95.9</td>\n",
              "      <td>99.0</td>\n",
              "      <td>96.0</td>\n",
              "      <td>97.1</td>\n",
              "      <td>96.3</td>\n",
              "      <td>98.7</td>\n",
              "    </tr>\n",
              "    <tr>\n",
              "      <th>2017-01-02</th>\n",
              "      <td>어진동</td>\n",
              "      <td>7600</td>\n",
              "      <td>17.4250</td>\n",
              "      <td>332.417230</td>\n",
              "      <td>95.9</td>\n",
              "      <td>99.0</td>\n",
              "      <td>96.0</td>\n",
              "      <td>97.1</td>\n",
              "      <td>96.3</td>\n",
              "      <td>98.7</td>\n",
              "    </tr>\n",
              "    <tr>\n",
              "      <th>2017-01-02</th>\n",
              "      <td>고운동</td>\n",
              "      <td>32000</td>\n",
              "      <td>84.9894</td>\n",
              "      <td>343.153107</td>\n",
              "      <td>95.9</td>\n",
              "      <td>99.0</td>\n",
              "      <td>96.0</td>\n",
              "      <td>97.1</td>\n",
              "      <td>96.3</td>\n",
              "      <td>98.7</td>\n",
              "    </tr>\n",
              "    <tr>\n",
              "      <th>2017-01-02</th>\n",
              "      <td>조치원읍</td>\n",
              "      <td>19850</td>\n",
              "      <td>84.6682</td>\n",
              "      <td>321.934790</td>\n",
              "      <td>95.9</td>\n",
              "      <td>99.0</td>\n",
              "      <td>96.0</td>\n",
              "      <td>97.1</td>\n",
              "      <td>96.3</td>\n",
              "      <td>98.7</td>\n",
              "    </tr>\n",
              "    <tr>\n",
              "      <th>2017-01-02</th>\n",
              "      <td>조치원읍</td>\n",
              "      <td>22500</td>\n",
              "      <td>128.9491</td>\n",
              "      <td>288.147514</td>\n",
              "      <td>95.9</td>\n",
              "      <td>99.0</td>\n",
              "      <td>96.0</td>\n",
              "      <td>97.1</td>\n",
              "      <td>96.3</td>\n",
              "      <td>98.7</td>\n",
              "    </tr>\n",
              "    <tr>\n",
              "      <th>2017-01-02</th>\n",
              "      <td>조치원읍</td>\n",
              "      <td>19000</td>\n",
              "      <td>84.7067</td>\n",
              "      <td>279.794569</td>\n",
              "      <td>95.9</td>\n",
              "      <td>99.0</td>\n",
              "      <td>96.0</td>\n",
              "      <td>97.1</td>\n",
              "      <td>96.3</td>\n",
              "      <td>98.7</td>\n",
              "    </tr>\n",
              "    <tr>\n",
              "      <th>2017-01-02</th>\n",
              "      <td>고운동</td>\n",
              "      <td>30500</td>\n",
              "      <td>84.9800</td>\n",
              "      <td>288.973816</td>\n",
              "      <td>95.9</td>\n",
              "      <td>99.0</td>\n",
              "      <td>96.0</td>\n",
              "      <td>97.1</td>\n",
              "      <td>96.3</td>\n",
              "      <td>98.7</td>\n",
              "    </tr>\n",
              "    <tr>\n",
              "      <th>2017-01-02</th>\n",
              "      <td>한솔동</td>\n",
              "      <td>25000</td>\n",
              "      <td>59.8300</td>\n",
              "      <td>298.706480</td>\n",
              "      <td>95.9</td>\n",
              "      <td>99.0</td>\n",
              "      <td>96.0</td>\n",
              "      <td>97.1</td>\n",
              "      <td>96.3</td>\n",
              "      <td>98.7</td>\n",
              "    </tr>\n",
              "    <tr>\n",
              "      <th>2017-01-02</th>\n",
              "      <td>연서면</td>\n",
              "      <td>9400</td>\n",
              "      <td>59.8580</td>\n",
              "      <td>288.754714</td>\n",
              "      <td>95.9</td>\n",
              "      <td>99.0</td>\n",
              "      <td>96.0</td>\n",
              "      <td>97.1</td>\n",
              "      <td>96.3</td>\n",
              "      <td>98.7</td>\n",
              "    </tr>\n",
              "    <tr>\n",
              "      <th>2017-01-03</th>\n",
              "      <td>종촌동</td>\n",
              "      <td>28900</td>\n",
              "      <td>59.9383</td>\n",
              "      <td>301.465190</td>\n",
              "      <td>95.9</td>\n",
              "      <td>99.0</td>\n",
              "      <td>96.0</td>\n",
              "      <td>97.1</td>\n",
              "      <td>96.3</td>\n",
              "      <td>98.7</td>\n",
              "    </tr>\n",
              "    <tr>\n",
              "      <th>2017-01-04</th>\n",
              "      <td>조치원읍</td>\n",
              "      <td>18300</td>\n",
              "      <td>84.9228</td>\n",
              "      <td>294.141720</td>\n",
              "      <td>95.9</td>\n",
              "      <td>99.0</td>\n",
              "      <td>96.0</td>\n",
              "      <td>97.1</td>\n",
              "      <td>96.3</td>\n",
              "      <td>98.7</td>\n",
              "    </tr>\n",
              "    <tr>\n",
              "      <th>2017-01-04</th>\n",
              "      <td>조치원읍</td>\n",
              "      <td>23900</td>\n",
              "      <td>118.1980</td>\n",
              "      <td>284.397019</td>\n",
              "      <td>95.9</td>\n",
              "      <td>99.0</td>\n",
              "      <td>96.0</td>\n",
              "      <td>97.1</td>\n",
              "      <td>96.3</td>\n",
              "      <td>98.7</td>\n",
              "    </tr>\n",
              "  </tbody>\n",
              "</table>\n",
              "</div>"
            ],
            "text/plain": [
              "             법정동   거래금액      전용면적       누적평균값  ...  전체세종  전체서울  아파트서울  전체전국\n",
              "년월일                                            ...                         \n",
              "2017-01-01   종촌동  27300   59.8652  456.024535  ...  96.0  97.1   96.3  98.7\n",
              "2017-01-01   보람동   8600   16.9849  467.143179  ...  96.0  97.1   96.3  98.7\n",
              "2017-01-02  조치원읍  13000   84.9228  302.275597  ...  96.0  97.1   96.3  98.7\n",
              "2017-01-02   아름동  31300   84.9280  325.090018  ...  96.0  97.1   96.3  98.7\n",
              "2017-01-02   어진동   7600   17.4250  332.417230  ...  96.0  97.1   96.3  98.7\n",
              "2017-01-02   고운동  32000   84.9894  343.153107  ...  96.0  97.1   96.3  98.7\n",
              "2017-01-02  조치원읍  19850   84.6682  321.934790  ...  96.0  97.1   96.3  98.7\n",
              "2017-01-02  조치원읍  22500  128.9491  288.147514  ...  96.0  97.1   96.3  98.7\n",
              "2017-01-02  조치원읍  19000   84.7067  279.794569  ...  96.0  97.1   96.3  98.7\n",
              "2017-01-02   고운동  30500   84.9800  288.973816  ...  96.0  97.1   96.3  98.7\n",
              "2017-01-02   한솔동  25000   59.8300  298.706480  ...  96.0  97.1   96.3  98.7\n",
              "2017-01-02   연서면   9400   59.8580  288.754714  ...  96.0  97.1   96.3  98.7\n",
              "2017-01-03   종촌동  28900   59.9383  301.465190  ...  96.0  97.1   96.3  98.7\n",
              "2017-01-04  조치원읍  18300   84.9228  294.141720  ...  96.0  97.1   96.3  98.7\n",
              "2017-01-04  조치원읍  23900  118.1980  284.397019  ...  96.0  97.1   96.3  98.7\n",
              "\n",
              "[15 rows x 10 columns]"
            ]
          },
          "metadata": {
            "tags": []
          },
          "execution_count": 73
        }
      ]
    },
    {
      "cell_type": "code",
      "metadata": {
        "colab": {
          "base_uri": "https://localhost:8080/",
          "height": 473
        },
        "id": "UxKBvPzIVdQh",
        "outputId": "46e871f2-cd1a-406d-afe2-8e2734434ad2"
      },
      "source": [
        "# y = 누적 평균값\n",
        "\n",
        "df['누적평균값'].plot(figsize=(18,8));\n",
        "# dong.head()"
      ],
      "execution_count": 74,
      "outputs": [
        {
          "output_type": "display_data",
          "data": {
            "image/png": "[encoded data removed]",
            "text/plain": [
              "<Figure size 1296x576 with 1 Axes>"
            ]
          },
          "metadata": {
            "tags": [],
            "needs_background": "light"
          }
        }
      ]
    },
    {
      "cell_type": "code",
      "metadata": {
        "colab": {
          "base_uri": "https://localhost:8080/",
          "height": 328
        },
        "id": "iiNOeAOFxN9o",
        "outputId": "20f93e61-2e41-410b-d59d-12143bf7ea07"
      },
      "source": [
        "df.describe().transpose().applymap(np.ceil)"
      ],
      "execution_count": 75,
      "outputs": [
        {
          "output_type": "execute_result",
          "data": {
            "text/html": [
              "<div>\n",
              "<style scoped>\n",
              "    .dataframe tbody tr th:only-of-type {\n",
              "        vertical-align: middle;\n",
              "    }\n",
              "\n",
              "    .dataframe tbody tr th {\n",
              "        vertical-align: top;\n",
              "    }\n",
              "\n",
              "    .dataframe thead th {\n",
              "        text-align: right;\n",
              "    }\n",
              "</style>\n",
              "<table border=\"1\" class=\"dataframe\">\n",
              "  <thead>\n",
              "    <tr style=\"text-align: right;\">\n",
              "      <th></th>\n",
              "      <th>count</th>\n",
              "      <th>mean</th>\n",
              "      <th>std</th>\n",
              "      <th>min</th>\n",
              "      <th>25%</th>\n",
              "      <th>50%</th>\n",
              "      <th>75%</th>\n",
              "      <th>max</th>\n",
              "    </tr>\n",
              "  </thead>\n",
              "  <tbody>\n",
              "    <tr>\n",
              "      <th>거래금액</th>\n",
              "      <td>24417.0</td>\n",
              "      <td>36995.0</td>\n",
              "      <td>21575.0</td>\n",
              "      <td>1800.0</td>\n",
              "      <td>23000.0</td>\n",
              "      <td>34000.0</td>\n",
              "      <td>48500.0</td>\n",
              "      <td>170000.0</td>\n",
              "    </tr>\n",
              "    <tr>\n",
              "      <th>전용면적</th>\n",
              "      <td>24417.0</td>\n",
              "      <td>78.0</td>\n",
              "      <td>24.0</td>\n",
              "      <td>13.0</td>\n",
              "      <td>60.0</td>\n",
              "      <td>85.0</td>\n",
              "      <td>85.0</td>\n",
              "      <td>210.0</td>\n",
              "    </tr>\n",
              "    <tr>\n",
              "      <th>누적평균값</th>\n",
              "      <td>24417.0</td>\n",
              "      <td>400.0</td>\n",
              "      <td>46.0</td>\n",
              "      <td>272.0</td>\n",
              "      <td>361.0</td>\n",
              "      <td>398.0</td>\n",
              "      <td>435.0</td>\n",
              "      <td>480.0</td>\n",
              "    </tr>\n",
              "    <tr>\n",
              "      <th>아파트세종</th>\n",
              "      <td>24417.0</td>\n",
              "      <td>109.0</td>\n",
              "      <td>16.0</td>\n",
              "      <td>96.0</td>\n",
              "      <td>99.0</td>\n",
              "      <td>101.0</td>\n",
              "      <td>114.0</td>\n",
              "      <td>146.0</td>\n",
              "    </tr>\n",
              "    <tr>\n",
              "      <th>아파트전국</th>\n",
              "      <td>24417.0</td>\n",
              "      <td>101.0</td>\n",
              "      <td>3.0</td>\n",
              "      <td>98.0</td>\n",
              "      <td>100.0</td>\n",
              "      <td>101.0</td>\n",
              "      <td>102.0</td>\n",
              "      <td>109.0</td>\n",
              "    </tr>\n",
              "    <tr>\n",
              "      <th>전체세종</th>\n",
              "      <td>24417.0</td>\n",
              "      <td>109.0</td>\n",
              "      <td>14.0</td>\n",
              "      <td>96.0</td>\n",
              "      <td>101.0</td>\n",
              "      <td>102.0</td>\n",
              "      <td>114.0</td>\n",
              "      <td>142.0</td>\n",
              "    </tr>\n",
              "    <tr>\n",
              "      <th>전체서울</th>\n",
              "      <td>24417.0</td>\n",
              "      <td>107.0</td>\n",
              "      <td>5.0</td>\n",
              "      <td>98.0</td>\n",
              "      <td>104.0</td>\n",
              "      <td>109.0</td>\n",
              "      <td>109.0</td>\n",
              "      <td>113.0</td>\n",
              "    </tr>\n",
              "    <tr>\n",
              "      <th>아파트서울</th>\n",
              "      <td>24417.0</td>\n",
              "      <td>108.0</td>\n",
              "      <td>6.0</td>\n",
              "      <td>97.0</td>\n",
              "      <td>105.0</td>\n",
              "      <td>111.0</td>\n",
              "      <td>111.0</td>\n",
              "      <td>115.0</td>\n",
              "    </tr>\n",
              "    <tr>\n",
              "      <th>전체전국</th>\n",
              "      <td>24417.0</td>\n",
              "      <td>102.0</td>\n",
              "      <td>3.0</td>\n",
              "      <td>99.0</td>\n",
              "      <td>101.0</td>\n",
              "      <td>101.0</td>\n",
              "      <td>103.0</td>\n",
              "      <td>109.0</td>\n",
              "    </tr>\n",
              "  </tbody>\n",
              "</table>\n",
              "</div>"
            ],
            "text/plain": [
              "         count     mean      std     min      25%      50%      75%       max\n",
              "거래금액   24417.0  36995.0  21575.0  1800.0  23000.0  34000.0  48500.0  170000.0\n",
              "전용면적   24417.0     78.0     24.0    13.0     60.0     85.0     85.0     210.0\n",
              "누적평균값  24417.0    400.0     46.0   272.0    361.0    398.0    435.0     480.0\n",
              "아파트세종  24417.0    109.0     16.0    96.0     99.0    101.0    114.0     146.0\n",
              "아파트전국  24417.0    101.0      3.0    98.0    100.0    101.0    102.0     109.0\n",
              "전체세종   24417.0    109.0     14.0    96.0    101.0    102.0    114.0     142.0\n",
              "전체서울   24417.0    107.0      5.0    98.0    104.0    109.0    109.0     113.0\n",
              "아파트서울  24417.0    108.0      6.0    97.0    105.0    111.0    111.0     115.0\n",
              "전체전국   24417.0    102.0      3.0    99.0    101.0    101.0    103.0     109.0"
            ]
          },
          "metadata": {
            "tags": []
          },
          "execution_count": 75
        }
      ]
    },
    {
      "cell_type": "code",
      "metadata": {
        "colab": {
          "base_uri": "https://localhost:8080/"
        },
        "id": "PCrsijtg3j-O",
        "outputId": "36a2ddc7-2355-4fc8-909a-0fee161bc731"
      },
      "source": [
        "df.dtypes"
      ],
      "execution_count": 76,
      "outputs": [
        {
          "output_type": "execute_result",
          "data": {
            "text/plain": [
              "법정동       object\n",
              "거래금액       int64\n",
              "전용면적     float64\n",
              "누적평균값    float64\n",
              "아파트세종    float64\n",
              "아파트전국    float64\n",
              "전체세종     float64\n",
              "전체서울     float64\n",
              "아파트서울    float64\n",
              "전체전국     float64\n",
              "dtype: object"
            ]
          },
          "metadata": {
            "tags": []
          },
          "execution_count": 76
        }
      ]
    },
    {
      "cell_type": "code",
      "metadata": {
        "colab": {
          "base_uri": "https://localhost:8080/",
          "height": 235
        },
        "id": "SmO2Gp098Egb",
        "outputId": "74a16fdf-a201-4eb0-d2a5-27038997f938"
      },
      "source": [
        "df.head()"
      ],
      "execution_count": 77,
      "outputs": [
        {
          "output_type": "execute_result",
          "data": {
            "text/html": [
              "<div>\n",
              "<style scoped>\n",
              "    .dataframe tbody tr th:only-of-type {\n",
              "        vertical-align: middle;\n",
              "    }\n",
              "\n",
              "    .dataframe tbody tr th {\n",
              "        vertical-align: top;\n",
              "    }\n",
              "\n",
              "    .dataframe thead th {\n",
              "        text-align: right;\n",
              "    }\n",
              "</style>\n",
              "<table border=\"1\" class=\"dataframe\">\n",
              "  <thead>\n",
              "    <tr style=\"text-align: right;\">\n",
              "      <th></th>\n",
              "      <th>법정동</th>\n",
              "      <th>거래금액</th>\n",
              "      <th>전용면적</th>\n",
              "      <th>누적평균값</th>\n",
              "      <th>아파트세종</th>\n",
              "      <th>아파트전국</th>\n",
              "      <th>전체세종</th>\n",
              "      <th>전체서울</th>\n",
              "      <th>아파트서울</th>\n",
              "      <th>전체전국</th>\n",
              "    </tr>\n",
              "    <tr>\n",
              "      <th>년월일</th>\n",
              "      <th></th>\n",
              "      <th></th>\n",
              "      <th></th>\n",
              "      <th></th>\n",
              "      <th></th>\n",
              "      <th></th>\n",
              "      <th></th>\n",
              "      <th></th>\n",
              "      <th></th>\n",
              "      <th></th>\n",
              "    </tr>\n",
              "  </thead>\n",
              "  <tbody>\n",
              "    <tr>\n",
              "      <th>2017-01-01</th>\n",
              "      <td>종촌동</td>\n",
              "      <td>27300</td>\n",
              "      <td>59.8652</td>\n",
              "      <td>456.024535</td>\n",
              "      <td>95.9</td>\n",
              "      <td>99.0</td>\n",
              "      <td>96.0</td>\n",
              "      <td>97.1</td>\n",
              "      <td>96.3</td>\n",
              "      <td>98.7</td>\n",
              "    </tr>\n",
              "    <tr>\n",
              "      <th>2017-01-01</th>\n",
              "      <td>보람동</td>\n",
              "      <td>8600</td>\n",
              "      <td>16.9849</td>\n",
              "      <td>467.143179</td>\n",
              "      <td>95.9</td>\n",
              "      <td>99.0</td>\n",
              "      <td>96.0</td>\n",
              "      <td>97.1</td>\n",
              "      <td>96.3</td>\n",
              "      <td>98.7</td>\n",
              "    </tr>\n",
              "    <tr>\n",
              "      <th>2017-01-02</th>\n",
              "      <td>조치원읍</td>\n",
              "      <td>13000</td>\n",
              "      <td>84.9228</td>\n",
              "      <td>302.275597</td>\n",
              "      <td>95.9</td>\n",
              "      <td>99.0</td>\n",
              "      <td>96.0</td>\n",
              "      <td>97.1</td>\n",
              "      <td>96.3</td>\n",
              "      <td>98.7</td>\n",
              "    </tr>\n",
              "    <tr>\n",
              "      <th>2017-01-02</th>\n",
              "      <td>아름동</td>\n",
              "      <td>31300</td>\n",
              "      <td>84.9280</td>\n",
              "      <td>325.090018</td>\n",
              "      <td>95.9</td>\n",
              "      <td>99.0</td>\n",
              "      <td>96.0</td>\n",
              "      <td>97.1</td>\n",
              "      <td>96.3</td>\n",
              "      <td>98.7</td>\n",
              "    </tr>\n",
              "    <tr>\n",
              "      <th>2017-01-02</th>\n",
              "      <td>어진동</td>\n",
              "      <td>7600</td>\n",
              "      <td>17.4250</td>\n",
              "      <td>332.417230</td>\n",
              "      <td>95.9</td>\n",
              "      <td>99.0</td>\n",
              "      <td>96.0</td>\n",
              "      <td>97.1</td>\n",
              "      <td>96.3</td>\n",
              "      <td>98.7</td>\n",
              "    </tr>\n",
              "  </tbody>\n",
              "</table>\n",
              "</div>"
            ],
            "text/plain": [
              "             법정동   거래금액     전용면적       누적평균값  ...  전체세종  전체서울  아파트서울  전체전국\n",
              "년월일                                           ...                         \n",
              "2017-01-01   종촌동  27300  59.8652  456.024535  ...  96.0  97.1   96.3  98.7\n",
              "2017-01-01   보람동   8600  16.9849  467.143179  ...  96.0  97.1   96.3  98.7\n",
              "2017-01-02  조치원읍  13000  84.9228  302.275597  ...  96.0  97.1   96.3  98.7\n",
              "2017-01-02   아름동  31300  84.9280  325.090018  ...  96.0  97.1   96.3  98.7\n",
              "2017-01-02   어진동   7600  17.4250  332.417230  ...  96.0  97.1   96.3  98.7\n",
              "\n",
              "[5 rows x 10 columns]"
            ]
          },
          "metadata": {
            "tags": []
          },
          "execution_count": 77
        }
      ]
    },
    {
      "cell_type": "code",
      "metadata": {
        "id": "itXmHtnOKB9P",
        "colab": {
          "base_uri": "https://localhost:8080/"
        },
        "outputId": "8731cecf-c0be-4cab-8b75-d77c5653b532"
      },
      "source": [
        "from sklearn.preprocessing import MinMaxScaler\n",
        "\n",
        "scaler = MinMaxScaler()\n",
        "# 스케일을 적용할 column을 정의합니다.\n",
        "scale_cols = ['거래금액','전용면적','누적평균값', '아파트세종', '아파트전국','전체세종','전체서울','아파트서울','전체전국']\n",
        "# 스케일 후 columns\n",
        "scaled = scaler.fit_transform(df[scale_cols])\n",
        "scaled"
      ],
      "execution_count": 78,
      "outputs": [
        {
          "output_type": "execute_result",
          "data": {
            "text/plain": [
              "array([[0.15160523, 0.24205085, 0.88671403, ..., 0.        , 0.        ,\n",
              "        0.        ],\n",
              "       [0.04042806, 0.02439021, 0.94015014, ..., 0.        , 0.        ,\n",
              "        0.        ],\n",
              "       [0.0665874 , 0.36924337, 0.14779795, ..., 0.        , 0.        ,\n",
              "        0.        ],\n",
              "       ...,\n",
              "       [0.52734839, 0.36962965, 0.99981435, ..., 1.        , 1.        ,\n",
              "        1.        ],\n",
              "       [0.73246136, 0.49416691, 0.99999927, ..., 1.        , 1.        ,\n",
              "        1.        ],\n",
              "       [0.0597503 , 0.06058365, 1.        , ..., 1.        , 1.        ,\n",
              "        1.        ]])"
            ]
          },
          "metadata": {
            "tags": []
          },
          "execution_count": 78
        }
      ]
    },
    {
      "cell_type": "code",
      "metadata": {
        "id": "g0MzH7tR8Hed"
      },
      "source": [
        "df = pd.DataFrame(scaled, columns=scale_cols)\n"
      ],
      "execution_count": 79,
      "outputs": []
    },
    {
      "cell_type": "code",
      "metadata": {
        "colab": {
          "base_uri": "https://localhost:8080/",
          "height": 419
        },
        "id": "15PP8DQ19-uV",
        "outputId": "0be15639-dcb7-43c6-f308-9c310aff7cbc"
      },
      "source": [
        "df"
      ],
      "execution_count": 80,
      "outputs": [
        {
          "output_type": "execute_result",
          "data": {
            "text/html": [
              "<div>\n",
              "<style scoped>\n",
              "    .dataframe tbody tr th:only-of-type {\n",
              "        vertical-align: middle;\n",
              "    }\n",
              "\n",
              "    .dataframe tbody tr th {\n",
              "        vertical-align: top;\n",
              "    }\n",
              "\n",
              "    .dataframe thead th {\n",
              "        text-align: right;\n",
              "    }\n",
              "</style>\n",
              "<table border=\"1\" class=\"dataframe\">\n",
              "  <thead>\n",
              "    <tr style=\"text-align: right;\">\n",
              "      <th></th>\n",
              "      <th>거래금액</th>\n",
              "      <th>전용면적</th>\n",
              "      <th>누적평균값</th>\n",
              "      <th>아파트세종</th>\n",
              "      <th>아파트전국</th>\n",
              "      <th>전체세종</th>\n",
              "      <th>전체서울</th>\n",
              "      <th>아파트서울</th>\n",
              "      <th>전체전국</th>\n",
              "    </tr>\n",
              "  </thead>\n",
              "  <tbody>\n",
              "    <tr>\n",
              "      <th>0</th>\n",
              "      <td>0.151605</td>\n",
              "      <td>0.242051</td>\n",
              "      <td>0.886714</td>\n",
              "      <td>0.003976</td>\n",
              "      <td>0.1</td>\n",
              "      <td>0.0</td>\n",
              "      <td>0.0</td>\n",
              "      <td>0.0</td>\n",
              "      <td>0.0</td>\n",
              "    </tr>\n",
              "    <tr>\n",
              "      <th>1</th>\n",
              "      <td>0.040428</td>\n",
              "      <td>0.024390</td>\n",
              "      <td>0.940150</td>\n",
              "      <td>0.003976</td>\n",
              "      <td>0.1</td>\n",
              "      <td>0.0</td>\n",
              "      <td>0.0</td>\n",
              "      <td>0.0</td>\n",
              "      <td>0.0</td>\n",
              "    </tr>\n",
              "    <tr>\n",
              "      <th>2</th>\n",
              "      <td>0.066587</td>\n",
              "      <td>0.369243</td>\n",
              "      <td>0.147798</td>\n",
              "      <td>0.003976</td>\n",
              "      <td>0.1</td>\n",
              "      <td>0.0</td>\n",
              "      <td>0.0</td>\n",
              "      <td>0.0</td>\n",
              "      <td>0.0</td>\n",
              "    </tr>\n",
              "    <tr>\n",
              "      <th>3</th>\n",
              "      <td>0.175386</td>\n",
              "      <td>0.369270</td>\n",
              "      <td>0.257444</td>\n",
              "      <td>0.003976</td>\n",
              "      <td>0.1</td>\n",
              "      <td>0.0</td>\n",
              "      <td>0.0</td>\n",
              "      <td>0.0</td>\n",
              "      <td>0.0</td>\n",
              "    </tr>\n",
              "    <tr>\n",
              "      <th>4</th>\n",
              "      <td>0.034483</td>\n",
              "      <td>0.026624</td>\n",
              "      <td>0.292658</td>\n",
              "      <td>0.003976</td>\n",
              "      <td>0.1</td>\n",
              "      <td>0.0</td>\n",
              "      <td>0.0</td>\n",
              "      <td>0.0</td>\n",
              "      <td>0.0</td>\n",
              "    </tr>\n",
              "    <tr>\n",
              "      <th>...</th>\n",
              "      <td>...</td>\n",
              "      <td>...</td>\n",
              "      <td>...</td>\n",
              "      <td>...</td>\n",
              "      <td>...</td>\n",
              "      <td>...</td>\n",
              "      <td>...</td>\n",
              "      <td>...</td>\n",
              "      <td>...</td>\n",
              "    </tr>\n",
              "    <tr>\n",
              "      <th>24412</th>\n",
              "      <td>0.399524</td>\n",
              "      <td>0.301028</td>\n",
              "      <td>0.999689</td>\n",
              "      <td>1.000000</td>\n",
              "      <td>1.0</td>\n",
              "      <td>1.0</td>\n",
              "      <td>1.0</td>\n",
              "      <td>1.0</td>\n",
              "      <td>1.0</td>\n",
              "    </tr>\n",
              "    <tr>\n",
              "      <th>24413</th>\n",
              "      <td>0.061534</td>\n",
              "      <td>0.073984</td>\n",
              "      <td>0.999687</td>\n",
              "      <td>1.000000</td>\n",
              "      <td>1.0</td>\n",
              "      <td>1.0</td>\n",
              "      <td>1.0</td>\n",
              "      <td>1.0</td>\n",
              "      <td>1.0</td>\n",
              "    </tr>\n",
              "    <tr>\n",
              "      <th>24414</th>\n",
              "      <td>0.527348</td>\n",
              "      <td>0.369630</td>\n",
              "      <td>0.999814</td>\n",
              "      <td>1.000000</td>\n",
              "      <td>1.0</td>\n",
              "      <td>1.0</td>\n",
              "      <td>1.0</td>\n",
              "      <td>1.0</td>\n",
              "      <td>1.0</td>\n",
              "    </tr>\n",
              "    <tr>\n",
              "      <th>24415</th>\n",
              "      <td>0.732461</td>\n",
              "      <td>0.494167</td>\n",
              "      <td>0.999999</td>\n",
              "      <td>1.000000</td>\n",
              "      <td>1.0</td>\n",
              "      <td>1.0</td>\n",
              "      <td>1.0</td>\n",
              "      <td>1.0</td>\n",
              "      <td>1.0</td>\n",
              "    </tr>\n",
              "    <tr>\n",
              "      <th>24416</th>\n",
              "      <td>0.059750</td>\n",
              "      <td>0.060584</td>\n",
              "      <td>1.000000</td>\n",
              "      <td>1.000000</td>\n",
              "      <td>1.0</td>\n",
              "      <td>1.0</td>\n",
              "      <td>1.0</td>\n",
              "      <td>1.0</td>\n",
              "      <td>1.0</td>\n",
              "    </tr>\n",
              "  </tbody>\n",
              "</table>\n",
              "<p>24417 rows × 9 columns</p>\n",
              "</div>"
            ],
            "text/plain": [
              "           거래금액      전용면적     누적평균값     아파트세종  아파트전국  전체세종  전체서울  아파트서울  전체전국\n",
              "0      0.151605  0.242051  0.886714  0.003976    0.1   0.0   0.0    0.0   0.0\n",
              "1      0.040428  0.024390  0.940150  0.003976    0.1   0.0   0.0    0.0   0.0\n",
              "2      0.066587  0.369243  0.147798  0.003976    0.1   0.0   0.0    0.0   0.0\n",
              "3      0.175386  0.369270  0.257444  0.003976    0.1   0.0   0.0    0.0   0.0\n",
              "4      0.034483  0.026624  0.292658  0.003976    0.1   0.0   0.0    0.0   0.0\n",
              "...         ...       ...       ...       ...    ...   ...   ...    ...   ...\n",
              "24412  0.399524  0.301028  0.999689  1.000000    1.0   1.0   1.0    1.0   1.0\n",
              "24413  0.061534  0.073984  0.999687  1.000000    1.0   1.0   1.0    1.0   1.0\n",
              "24414  0.527348  0.369630  0.999814  1.000000    1.0   1.0   1.0    1.0   1.0\n",
              "24415  0.732461  0.494167  0.999999  1.000000    1.0   1.0   1.0    1.0   1.0\n",
              "24416  0.059750  0.060584  1.000000  1.000000    1.0   1.0   1.0    1.0   1.0\n",
              "\n",
              "[24417 rows x 9 columns]"
            ]
          },
          "metadata": {
            "tags": []
          },
          "execution_count": 80
        }
      ]
    },
    {
      "cell_type": "code",
      "metadata": {
        "id": "1tqrbZ_F8Ilq"
      },
      "source": [
        "from sklearn.model_selection import train_test_split\n",
        "x_train, x_test, y_train, y_test = train_test_split(df.drop('누적평균값', 1), df['누적평균값'], test_size=0.2, random_state=0, shuffle=False)\n"
      ],
      "execution_count": 81,
      "outputs": []
    },
    {
      "cell_type": "code",
      "metadata": {
        "id": "KaJclOh78Kyx"
      },
      "source": [
        "import tensorflow as tf\n",
        "def windowed_dataset(series, window_size, batch_size, shuffle):\n",
        "    series = tf.expand_dims(series, axis=-1)\n",
        "    ds = tf.data.Dataset.from_tensor_slices(series)\n",
        "    ds = ds.window(window_size + 1, shift=1, drop_remainder=True)\n",
        "    ds = ds.flat_map(lambda w: w.batch(window_size + 1))\n",
        "    if shuffle:\n",
        "        ds = ds.shuffle(1000)\n",
        "    ds = ds.map(lambda w: (w[:-1], w[-1]))\n",
        "    return ds.batch(batch_size).prefetch(1)"
      ],
      "execution_count": 82,
      "outputs": []
    },
    {
      "cell_type": "code",
      "metadata": {
        "id": "gj71QP408OBK"
      },
      "source": [
        "WINDOW_SIZE=30\n",
        "BATCH_SIZE=32"
      ],
      "execution_count": 83,
      "outputs": []
    },
    {
      "cell_type": "code",
      "metadata": {
        "id": "57gQ0a9R8ThY"
      },
      "source": [
        "# trian_data는 학습용 데이터셋, test_data는 검증용 데이터셋 입니다.\n",
        "train_data = windowed_dataset(y_train, WINDOW_SIZE, BATCH_SIZE, True)\n",
        "test_data = windowed_dataset(y_test, WINDOW_SIZE, BATCH_SIZE, False)"
      ],
      "execution_count": 84,
      "outputs": []
    },
    {
      "cell_type": "code",
      "metadata": {
        "colab": {
          "base_uri": "https://localhost:8080/"
        },
        "id": "rNfIK2r28U4y",
        "outputId": "35d7938d-2895-4af9-ca6f-3e6fda45ec53"
      },
      "source": [
        "# 아래의 코드로 데이터셋의 구성을 확인해 볼 수 있습니다.\n",
        "# X: (batch_size, window_size, feature)\n",
        "# Y: (batch_size, feature)\n",
        "for data in train_data.take(1):\n",
        "    print(f'데이터셋(X) 구성(batch_size, window_size, feature갯수): {data[0].shape}')\n",
        "    print(f'데이터셋(Y) 구성(batch_size, window_size, feature갯수): {data[1].shape}')"
      ],
      "execution_count": 85,
      "outputs": [
        {
          "output_type": "stream",
          "text": [
            "데이터셋(X) 구성(batch_size, window_size, feature갯수): (32, 30, 1)\n",
            "데이터셋(Y) 구성(batch_size, window_size, feature갯수): (32, 1)\n"
          ],
          "name": "stdout"
        }
      ]
    },
    {
      "cell_type": "code",
      "metadata": {
        "id": "N6dl3VZ48WIq"
      },
      "source": [
        "from tensorflow.keras.models import Sequential\n",
        "from tensorflow.keras.layers import Dense, LSTM, Conv1D, Lambda\n",
        "from tensorflow.keras.losses import Huber\n",
        "from tensorflow.keras.optimizers import Adam\n",
        "from tensorflow.keras.callbacks import EarlyStopping, ModelCheckpoint\n",
        "\n",
        "\n",
        "model = Sequential([\n",
        "    # 1차원 feature map 생성\n",
        "    Conv1D(filters=32, kernel_size=5,\n",
        "           padding=\"causal\",\n",
        "           activation=\"relu\",\n",
        "           input_shape=[WINDOW_SIZE, 1]),\n",
        "    # LSTM\n",
        "    LSTM(32, activation='tanh'),\n",
        "    Dense(32, activation=\"relu\"),\n",
        "    Dense(1),\n",
        "])"
      ],
      "execution_count": 86,
      "outputs": []
    },
    {
      "cell_type": "code",
      "metadata": {
        "id": "OePJiSGf8X23"
      },
      "source": [
        "# Sequence 학습에 비교적 좋은 퍼포먼스를 내는 Huber()를 사용합니다.\n",
        "loss = Huber()\n",
        "optimizer = Adam(0.0005)\n",
        "model.compile(loss=Huber(), optimizer=optimizer, metrics=['mse'])"
      ],
      "execution_count": 87,
      "outputs": []
    },
    {
      "cell_type": "code",
      "metadata": {
        "id": "_b3n1Vtd8ZFQ"
      },
      "source": [
        "# earlystopping은 10번 epoch통안 val_loss 개선이 없다면 학습을 멈춥니다.\n",
        "earlystopping = EarlyStopping(monitor='val_loss', patience=5)\n",
        "# val_loss 기준 체크포인터도 생성합니다.\n",
        "filename = os.path.join('tmp', 'ckeckpointer.ckpt')\n",
        "checkpoint = ModelCheckpoint(filename, \n",
        "                             save_weights_only=True, \n",
        "                             save_best_only=True, \n",
        "                             monitor='val_loss', \n",
        "                             verbose=1)"
      ],
      "execution_count": 88,
      "outputs": []
    },
    {
      "cell_type": "code",
      "metadata": {
        "colab": {
          "base_uri": "https://localhost:8080/"
        },
        "id": "DcLm4to58aF4",
        "outputId": "2d295178-713e-4397-974e-def81ed68c2d"
      },
      "source": [
        "history = model.fit(train_data, \n",
        "                    validation_data=(test_data), \n",
        "                    epochs=30, \n",
        "                    callbacks=[checkpoint, earlystopping])"
      ],
      "execution_count": 89,
      "outputs": [
        {
          "output_type": "stream",
          "text": [
            "Epoch 1/30\n",
            "610/610 [==============================] - 11s 15ms/step - loss: 0.0016 - mse: 0.0032 - val_loss: 1.1454e-04 - val_mse: 2.2909e-04\n",
            "\n",
            "Epoch 00001: val_loss improved from inf to 0.00011, saving model to tmp/ckeckpointer.ckpt\n",
            "Epoch 2/30\n",
            "610/610 [==============================] - 9s 15ms/step - loss: 8.5495e-06 - mse: 1.7099e-05 - val_loss: 6.3054e-05 - val_mse: 1.2611e-04\n",
            "\n",
            "Epoch 00002: val_loss improved from 0.00011 to 0.00006, saving model to tmp/ckeckpointer.ckpt\n",
            "Epoch 3/30\n",
            "610/610 [==============================] - 9s 15ms/step - loss: 8.1820e-06 - mse: 1.6364e-05 - val_loss: 8.2892e-05 - val_mse: 1.6578e-04\n",
            "\n",
            "Epoch 00003: val_loss did not improve from 0.00006\n",
            "Epoch 4/30\n",
            "610/610 [==============================] - 9s 15ms/step - loss: 8.5373e-06 - mse: 1.7075e-05 - val_loss: 7.5517e-05 - val_mse: 1.5103e-04\n",
            "\n",
            "Epoch 00004: val_loss did not improve from 0.00006\n",
            "Epoch 5/30\n",
            "610/610 [==============================] - 9s 15ms/step - loss: 7.1501e-06 - mse: 1.4300e-05 - val_loss: 8.7676e-05 - val_mse: 1.7535e-04\n",
            "\n",
            "Epoch 00005: val_loss did not improve from 0.00006\n",
            "Epoch 6/30\n",
            "610/610 [==============================] - 9s 15ms/step - loss: 7.0727e-06 - mse: 1.4145e-05 - val_loss: 5.1431e-05 - val_mse: 1.0286e-04\n",
            "\n",
            "Epoch 00006: val_loss improved from 0.00006 to 0.00005, saving model to tmp/ckeckpointer.ckpt\n",
            "Epoch 7/30\n",
            "610/610 [==============================] - 9s 15ms/step - loss: 6.4383e-06 - mse: 1.2877e-05 - val_loss: 9.7440e-05 - val_mse: 1.9488e-04\n",
            "\n",
            "Epoch 00007: val_loss did not improve from 0.00005\n",
            "Epoch 8/30\n",
            "610/610 [==============================] - 9s 15ms/step - loss: 5.9499e-06 - mse: 1.1900e-05 - val_loss: 7.6224e-05 - val_mse: 1.5245e-04\n",
            "\n",
            "Epoch 00008: val_loss did not improve from 0.00005\n",
            "Epoch 9/30\n",
            "610/610 [==============================] - 9s 15ms/step - loss: 5.7395e-06 - mse: 1.1479e-05 - val_loss: 3.5867e-05 - val_mse: 7.1734e-05\n",
            "\n",
            "Epoch 00009: val_loss improved from 0.00005 to 0.00004, saving model to tmp/ckeckpointer.ckpt\n",
            "Epoch 10/30\n",
            "610/610 [==============================] - 9s 15ms/step - loss: 4.9801e-06 - mse: 9.9602e-06 - val_loss: 4.6247e-05 - val_mse: 9.2495e-05\n",
            "\n",
            "Epoch 00010: val_loss did not improve from 0.00004\n",
            "Epoch 11/30\n",
            "610/610 [==============================] - 10s 16ms/step - loss: 4.8815e-06 - mse: 9.7630e-06 - val_loss: 3.1186e-05 - val_mse: 6.2371e-05\n",
            "\n",
            "Epoch 00011: val_loss improved from 0.00004 to 0.00003, saving model to tmp/ckeckpointer.ckpt\n",
            "Epoch 12/30\n",
            "610/610 [==============================] - 9s 15ms/step - loss: 4.6970e-06 - mse: 9.3941e-06 - val_loss: 3.3076e-05 - val_mse: 6.6153e-05\n",
            "\n",
            "Epoch 00012: val_loss did not improve from 0.00003\n",
            "Epoch 13/30\n",
            "610/610 [==============================] - 9s 15ms/step - loss: 4.8293e-06 - mse: 9.6586e-06 - val_loss: 4.6195e-05 - val_mse: 9.2391e-05\n",
            "\n",
            "Epoch 00013: val_loss did not improve from 0.00003\n",
            "Epoch 14/30\n",
            "610/610 [==============================] - 9s 15ms/step - loss: 4.4615e-06 - mse: 8.9231e-06 - val_loss: 2.8412e-05 - val_mse: 5.6825e-05\n",
            "\n",
            "Epoch 00014: val_loss improved from 0.00003 to 0.00003, saving model to tmp/ckeckpointer.ckpt\n",
            "Epoch 15/30\n",
            "610/610 [==============================] - 9s 15ms/step - loss: 4.1225e-06 - mse: 8.2449e-06 - val_loss: 9.9439e-05 - val_mse: 1.9888e-04\n",
            "\n",
            "Epoch 00015: val_loss did not improve from 0.00003\n",
            "Epoch 16/30\n",
            "610/610 [==============================] - 9s 15ms/step - loss: 4.6900e-06 - mse: 9.3799e-06 - val_loss: 2.0110e-05 - val_mse: 4.0221e-05\n",
            "\n",
            "Epoch 00016: val_loss improved from 0.00003 to 0.00002, saving model to tmp/ckeckpointer.ckpt\n",
            "Epoch 17/30\n",
            "610/610 [==============================] - 9s 15ms/step - loss: 4.0749e-06 - mse: 8.1497e-06 - val_loss: 5.3439e-05 - val_mse: 1.0688e-04\n",
            "\n",
            "Epoch 00017: val_loss did not improve from 0.00002\n",
            "Epoch 18/30\n",
            "610/610 [==============================] - 9s 15ms/step - loss: 4.2476e-06 - mse: 8.4951e-06 - val_loss: 3.5579e-05 - val_mse: 7.1158e-05\n",
            "\n",
            "Epoch 00018: val_loss did not improve from 0.00002\n",
            "Epoch 19/30\n",
            "610/610 [==============================] - 9s 15ms/step - loss: 3.5830e-06 - mse: 7.1661e-06 - val_loss: 4.0411e-05 - val_mse: 8.0822e-05\n",
            "\n",
            "Epoch 00019: val_loss did not improve from 0.00002\n",
            "Epoch 20/30\n",
            "610/610 [==============================] - 9s 15ms/step - loss: 3.4696e-06 - mse: 6.9393e-06 - val_loss: 3.4347e-05 - val_mse: 6.8694e-05\n",
            "\n",
            "Epoch 00020: val_loss did not improve from 0.00002\n",
            "Epoch 21/30\n",
            "610/610 [==============================] - 9s 15ms/step - loss: 3.7539e-06 - mse: 7.5078e-06 - val_loss: 2.4130e-05 - val_mse: 4.8260e-05\n",
            "\n",
            "Epoch 00021: val_loss did not improve from 0.00002\n"
          ],
          "name": "stdout"
        }
      ]
    },
    {
      "cell_type": "code",
      "metadata": {
        "id": "oZmE_yXI8bG2"
      },
      "source": [
        "model.load_weights(filename)\n",
        "pred = model.predict(test_data)\n"
      ],
      "execution_count": 90,
      "outputs": []
    },
    {
      "cell_type": "code",
      "metadata": {
        "colab": {
          "base_uri": "https://localhost:8080/",
          "height": 537
        },
        "id": "4Xmr-Tf78ha7",
        "outputId": "6e31239e-487e-4297-affd-0eeec1458c5f"
      },
      "source": [
        "plt.figure(figsize=(12, 9))\n",
        "plt.plot(np.asarray(y_test)[30:], label='actual')\n",
        "plt.plot(pred, label='prediction')\n",
        "plt.legend()\n",
        "plt.show()"
      ],
      "execution_count": 91,
      "outputs": [
        {
          "output_type": "display_data",
          "data": {
            "image/png": "[encoded data removed]",
            "text/plain": [
              "<Figure size 864x648 with 1 Axes>"
            ]
          },
          "metadata": {
            "tags": [],
            "needs_background": "light"
          }
        }
      ]
    },
    {
      "cell_type": "code",
      "metadata": {
        "id": "C-m6CjG78jEa"
      },
      "source": [
        ""
      ],
      "execution_count": 36,
      "outputs": []
    }
  ]
}