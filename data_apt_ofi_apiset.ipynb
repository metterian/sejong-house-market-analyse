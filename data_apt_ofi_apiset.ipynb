{
 "cells": [
  {
   "cell_type": "code",
   "execution_count": 1,
   "metadata": {},
   "outputs": [],
   "source": [
    "import os, sys, json\r\n",
    "from xml.etree.ElementTree import parse\r\n",
    "from urllib.parse import urlencode, unquote, quote_plus\r\n",
    "import xmltodict\r\n",
    "import pandas as pd\r\n",
    "\r\n",
    "if sys.version_info[0]==3:\r\n",
    "    from urllib.request import urlopen\r\n",
    "else:\r\n",
    "    from urllib import urlopen\r\n",
    "\r\n",
    "\r\n",
    "BASE_DIR = './'\r\n",
    "\r\n",
    "# Secret File Load\r\n",
    "secret_file = os.path.join(BASE_DIR,'secret.json')\r\n",
    "with open(secret_file) as f:\r\n",
    "    secrets = json.loads(f.read())\r\n",
    "\r\n",
    "KEY = unquote(secrets['Enecoding'])"
   ]
  },
  {
   "cell_type": "code",
   "execution_count": 3,
   "metadata": {},
   "outputs": [],
   "source": [
    "# to get the period data\r\n",
    "preiod = pd.read_csv('data/api_tradePrc.csv')\r\n",
    "list_preiod = preiod.columns\r\n",
    "list_preiod = list_preiod[4:]"
   ]
  },
  {
   "cell_type": "code",
   "execution_count": 4,
   "metadata": {},
   "outputs": [],
   "source": [
    "def call_open_api(call_code, yyyymm) : \r\n",
    "\r\n",
    "    buliding_type = call_code.split('c')[1][:3]\r\n",
    "    #different server by buliding type\r\n",
    "    server = ':8081' if buliding_type == 'Apt' else ''\r\n",
    "    URL = 'http://openapi.molit.go.kr{}'.format(server)+'/OpenAPI_ToolInstallPackage/service/rest/RTMSOBJSvc/{}'.format(call_code)\r\n",
    "\r\n",
    "    \r\n",
    "    queryParams = '?' + urlencode(\r\n",
    "        {\r\n",
    "            quote_plus('serviceKey') : KEY,\r\n",
    "            quote_plus('LAWD_CD') : '36110',\r\n",
    "            quote_plus('DEAL_YMD') : yyyymm,\r\n",
    "\r\n",
    "        }\r\n",
    "    )\r\n",
    "\r\n",
    "    response = urlopen(URL + queryParams).read()\r\n",
    "    decode_data = response.decode('utf-8')\r\n",
    "    \r\n",
    "    xml_parse =  xmltodict.parse(decode_data)\r\n",
    "    xml_dict = json.loads(json.dumps(xml_parse))\r\n",
    "\r\n",
    "    return xml_dict"
   ]
  },
  {
   "cell_type": "code",
   "execution_count": 5,
   "metadata": {},
   "outputs": [],
   "source": [
    "def writeDatafram(call_code, yyyymm) :\r\n",
    "\r\n",
    "    api_data = call_open_api(call_code, yyyymm)\r\n",
    "    new_data = api_data['response']['body']['items']['item']\r\n",
    "\r\n",
    "    total = api_data['response']['body']['totalCount']\r\n",
    "    df = pd.DataFrame.from_dict(new_data, orient= 'index').transpose() if total == '1' else pd.DataFrame(new_data)\r\n",
    " \r\n",
    "    return df"
   ]
  },
  {
   "cell_type": "markdown",
   "metadata": {},
   "source": [
    "### apt"
   ]
  },
  {
   "cell_type": "code",
   "execution_count": 6,
   "metadata": {},
   "outputs": [
    {
     "data": {
      "text/html": "<div>\n<style scoped>\n    .dataframe tbody tr th:only-of-type {\n        vertical-align: middle;\n    }\n\n    .dataframe tbody tr th {\n        vertical-align: top;\n    }\n\n    .dataframe thead th {\n        text-align: right;\n    }\n</style>\n<table border=\"1\" class=\"dataframe\">\n  <thead>\n    <tr style=\"text-align: right;\">\n      <th></th>\n      <th>건축년도</th>\n      <th>년</th>\n      <th>법정동</th>\n      <th>보증금액</th>\n      <th>아파트</th>\n      <th>월</th>\n      <th>월세금액</th>\n      <th>일</th>\n      <th>전용면적</th>\n      <th>지번</th>\n      <th>지역코드</th>\n      <th>층</th>\n    </tr>\n  </thead>\n  <tbody>\n    <tr>\n      <th>40708</th>\n      <td>2000</td>\n      <td>2021</td>\n      <td>금남면 용포리</td>\n      <td>1,000</td>\n      <td>두진리버빌</td>\n      <td>2</td>\n      <td>40</td>\n      <td>5</td>\n      <td>43.008</td>\n      <td>320</td>\n      <td>36110</td>\n      <td>3</td>\n    </tr>\n    <tr>\n      <th>40709</th>\n      <td>2000</td>\n      <td>2021</td>\n      <td>금남면 용포리</td>\n      <td>500</td>\n      <td>두진리버빌</td>\n      <td>2</td>\n      <td>40</td>\n      <td>9</td>\n      <td>43.008</td>\n      <td>320</td>\n      <td>36110</td>\n      <td>3</td>\n    </tr>\n    <tr>\n      <th>40710</th>\n      <td>2000</td>\n      <td>2021</td>\n      <td>금남면 용포리</td>\n      <td>22,000</td>\n      <td>두진리버빌</td>\n      <td>2</td>\n      <td>0</td>\n      <td>15</td>\n      <td>59.8676</td>\n      <td>320</td>\n      <td>36110</td>\n      <td>1</td>\n    </tr>\n    <tr>\n      <th>40711</th>\n      <td>2001</td>\n      <td>2021</td>\n      <td>전의면 유천리</td>\n      <td>1,000</td>\n      <td>민석그린</td>\n      <td>2</td>\n      <td>27</td>\n      <td>16</td>\n      <td>59.94</td>\n      <td>528</td>\n      <td>36110</td>\n      <td>1</td>\n    </tr>\n    <tr>\n      <th>40712</th>\n      <td>2001</td>\n      <td>2021</td>\n      <td>전의면 유천리</td>\n      <td>4,500</td>\n      <td>민석그린</td>\n      <td>2</td>\n      <td>0</td>\n      <td>23</td>\n      <td>59.94</td>\n      <td>528</td>\n      <td>36110</td>\n      <td>1</td>\n    </tr>\n  </tbody>\n</table>\n</div>",
      "text/plain": "       건축년도     년      법정동    보증금액    아파트  월 월세금액   일     전용면적   지번   지역코드  층\n40708  2000  2021  금남면 용포리   1,000  두진리버빌  2   40   5   43.008  320  36110  3\n40709  2000  2021  금남면 용포리     500  두진리버빌  2   40   9   43.008  320  36110  3\n40710  2000  2021  금남면 용포리  22,000  두진리버빌  2    0  15  59.8676  320  36110  1\n40711  2001  2021  전의면 유천리   1,000   민석그린  2   27  16    59.94  528  36110  1\n40712  2001  2021  전의면 유천리   4,500   민석그린  2    0  23    59.94  528  36110  1"
     },
     "metadata": {},
     "output_type": "display_data"
    }
   ],
   "source": [
    "apt_data_rent = pd.DataFrame()\r\n",
    "for i in list_preiod:\r\n",
    "\r\n",
    "    df = writeDatafram('getRTMSDataSvcAptRent',i)\r\n",
    "    apt_data_rent = apt_data_rent.append(df, ignore_index=True)\r\n",
    "\r\n",
    "display(apt_data_rent.tail())"
   ]
  },
  {
   "cell_type": "code",
   "execution_count": 14,
   "metadata": {},
   "outputs": [],
   "source": [
    "apt_data_rent.to_csv('data/아파트_전월세.csv',encoding='utf-8-sig')"
   ]
  },
  {
   "cell_type": "code",
   "execution_count": 8,
   "metadata": {},
   "outputs": [
    {
     "data": {
      "text/html": "<div>\n<style scoped>\n    .dataframe tbody tr th:only-of-type {\n        vertical-align: middle;\n    }\n\n    .dataframe tbody tr th {\n        vertical-align: top;\n    }\n\n    .dataframe thead th {\n        text-align: right;\n    }\n</style>\n<table border=\"1\" class=\"dataframe\">\n  <thead>\n    <tr style=\"text-align: right;\">\n      <th></th>\n      <th>거래금액</th>\n      <th>건축년도</th>\n      <th>년</th>\n      <th>법정동</th>\n      <th>아파트</th>\n      <th>월</th>\n      <th>일</th>\n      <th>전용면적</th>\n      <th>지번</th>\n      <th>지역코드</th>\n      <th>층</th>\n      <th>해제사유발생일</th>\n      <th>해제여부</th>\n    </tr>\n  </thead>\n  <tbody>\n    <tr>\n      <th>24412</th>\n      <td>7,000</td>\n      <td>2001</td>\n      <td>2021</td>\n      <td>전의면 유천리</td>\n      <td>민석그린</td>\n      <td>2</td>\n      <td>18</td>\n      <td>59.94</td>\n      <td>528</td>\n      <td>36110</td>\n      <td>5</td>\n      <td>None</td>\n      <td>None</td>\n    </tr>\n    <tr>\n      <th>24413</th>\n      <td>5,200</td>\n      <td>1994</td>\n      <td>2021</td>\n      <td>전동면 노장리</td>\n      <td>도원</td>\n      <td>2</td>\n      <td>3</td>\n      <td>49.32</td>\n      <td>586</td>\n      <td>36110</td>\n      <td>5</td>\n      <td>None</td>\n      <td>None</td>\n    </tr>\n    <tr>\n      <th>24414</th>\n      <td>5,200</td>\n      <td>1994</td>\n      <td>2021</td>\n      <td>전동면 노장리</td>\n      <td>도원</td>\n      <td>2</td>\n      <td>23</td>\n      <td>49.32</td>\n      <td>586</td>\n      <td>36110</td>\n      <td>5</td>\n      <td>None</td>\n      <td>None</td>\n    </tr>\n    <tr>\n      <th>24415</th>\n      <td>5,000</td>\n      <td>1996</td>\n      <td>2021</td>\n      <td>소정면 운당리</td>\n      <td>무궁화</td>\n      <td>2</td>\n      <td>1</td>\n      <td>59.4</td>\n      <td>35-1</td>\n      <td>36110</td>\n      <td>7</td>\n      <td>None</td>\n      <td>None</td>\n    </tr>\n    <tr>\n      <th>24416</th>\n      <td>6,300</td>\n      <td>1996</td>\n      <td>2021</td>\n      <td>소정면 운당리</td>\n      <td>무궁화</td>\n      <td>2</td>\n      <td>8</td>\n      <td>59.4</td>\n      <td>35-1</td>\n      <td>36110</td>\n      <td>7</td>\n      <td>None</td>\n      <td>None</td>\n    </tr>\n  </tbody>\n</table>\n</div>",
      "text/plain": "        거래금액  건축년도     년      법정동   아파트  월   일   전용면적    지번   지역코드  층 해제사유발생일  \\\n24412  7,000  2001  2021  전의면 유천리  민석그린  2  18  59.94   528  36110  5    None   \n24413  5,200  1994  2021  전동면 노장리    도원  2   3  49.32   586  36110  5    None   \n24414  5,200  1994  2021  전동면 노장리    도원  2  23  49.32   586  36110  5    None   \n24415  5,000  1996  2021  소정면 운당리   무궁화  2   1   59.4  35-1  36110  7    None   \n24416  6,300  1996  2021  소정면 운당리   무궁화  2   8   59.4  35-1  36110  7    None   \n\n       해제여부  \n24412  None  \n24413  None  \n24414  None  \n24415  None  \n24416  None  "
     },
     "execution_count": 8,
     "metadata": {},
     "output_type": "execute_result"
    }
   ],
   "source": [
    "api_data_trd = pd.DataFrame()\r\n",
    "for i in list_preiod:\r\n",
    "\r\n",
    "    df = writeDatafram('getRTMSDataSvcAptTrade',i)\r\n",
    "\r\n",
    "    api_data_trd = api_data_trd.append(df, ignore_index=True)\r\n",
    "\r\n",
    "api_data_trd.tail()"
   ]
  },
  {
   "cell_type": "code",
   "execution_count": 15,
   "metadata": {},
   "outputs": [],
   "source": [
    "api_data_trd.to_csv('data/아파트_매매.csv',encoding='utf-8-sig')"
   ]
  },
  {
   "cell_type": "markdown",
   "metadata": {},
   "source": [
    "### ofi"
   ]
  },
  {
   "cell_type": "code",
   "execution_count": 23,
   "metadata": {},
   "outputs": [
    {
     "data": {
      "text/html": "<div>\n<style scoped>\n    .dataframe tbody tr th:only-of-type {\n        vertical-align: middle;\n    }\n\n    .dataframe tbody tr th {\n        vertical-align: top;\n    }\n\n    .dataframe thead th {\n        text-align: right;\n    }\n</style>\n<table border=\"1\" class=\"dataframe\">\n  <thead>\n    <tr style=\"text-align: right;\">\n      <th></th>\n      <th>건축년도</th>\n      <th>년</th>\n      <th>단지</th>\n      <th>법정동</th>\n      <th>보증금</th>\n      <th>월</th>\n      <th>월세</th>\n      <th>일</th>\n      <th>전용면적</th>\n      <th>지역코드</th>\n      <th>층</th>\n      <th>지번</th>\n    </tr>\n  </thead>\n  <tbody>\n    <tr>\n      <th>1292</th>\n      <td>2014</td>\n      <td>2021</td>\n      <td>세종한신휴시티</td>\n      <td>도담동</td>\n      <td>500</td>\n      <td>2</td>\n      <td>45</td>\n      <td>11</td>\n      <td>24.03</td>\n      <td>36110</td>\n      <td>4</td>\n      <td>246-5</td>\n    </tr>\n    <tr>\n      <th>1293</th>\n      <td>2014</td>\n      <td>2021</td>\n      <td>세종한신휴시티</td>\n      <td>도담동</td>\n      <td>4,000</td>\n      <td>2</td>\n      <td>25</td>\n      <td>17</td>\n      <td>27.43</td>\n      <td>36110</td>\n      <td>5</td>\n      <td>246-5</td>\n    </tr>\n    <tr>\n      <th>1294</th>\n      <td>2014</td>\n      <td>2021</td>\n      <td>세종한신휴시티</td>\n      <td>도담동</td>\n      <td>500</td>\n      <td>2</td>\n      <td>45</td>\n      <td>20</td>\n      <td>24.03</td>\n      <td>36110</td>\n      <td>8</td>\n      <td>246-5</td>\n    </tr>\n    <tr>\n      <th>1295</th>\n      <td>2019</td>\n      <td>2021</td>\n      <td>주건축물제1동</td>\n      <td>연동면 응암리</td>\n      <td>8,000</td>\n      <td>2</td>\n      <td>0</td>\n      <td>8</td>\n      <td>43</td>\n      <td>36110</td>\n      <td>3</td>\n      <td>911</td>\n    </tr>\n    <tr>\n      <th>1296</th>\n      <td>2019</td>\n      <td>2021</td>\n      <td>주건축물제1동</td>\n      <td>연동면 응암리</td>\n      <td>8,000</td>\n      <td>2</td>\n      <td>0</td>\n      <td>8</td>\n      <td>41.29</td>\n      <td>36110</td>\n      <td>4</td>\n      <td>911</td>\n    </tr>\n  </tbody>\n</table>\n</div>",
      "text/plain": "      건축년도     년       단지      법정동    보증금  월  월세   일   전용면적   지역코드  층     지번\n1292  2014  2021  세종한신휴시티      도담동    500  2  45  11  24.03  36110  4  246-5\n1293  2014  2021  세종한신휴시티      도담동  4,000  2  25  17  27.43  36110  5  246-5\n1294  2014  2021  세종한신휴시티      도담동    500  2  45  20  24.03  36110  8  246-5\n1295  2019  2021  주건축물제1동  연동면 응암리  8,000  2   0   8     43  36110  3    911\n1296  2019  2021  주건축물제1동  연동면 응암리  8,000  2   0   8  41.29  36110  4    911"
     },
     "execution_count": 23,
     "metadata": {},
     "output_type": "execute_result"
    }
   ],
   "source": [
    "ofi_data_rent = pd.DataFrame()\r\n",
    "for i in list_preiod :\r\n",
    "\r\n",
    "    df = writeDatafram('getRTMSDataSvcOffiRent',i)\r\n",
    "\r\n",
    "    ofi_data_rent = ofi_data_rent.append(df, ignore_index=True)\r\n",
    "\r\n",
    "ofi_data_rent.tail()"
   ]
  },
  {
   "cell_type": "code",
   "execution_count": 203,
   "metadata": {},
   "outputs": [
    {
     "data": {
      "text/html": "<div>\n<style scoped>\n    .dataframe tbody tr th:only-of-type {\n        vertical-align: middle;\n    }\n\n    .dataframe tbody tr th {\n        vertical-align: top;\n    }\n\n    .dataframe thead th {\n        text-align: right;\n    }\n</style>\n<table border=\"1\" class=\"dataframe\">\n  <thead>\n    <tr style=\"text-align: right;\">\n      <th></th>\n      <th>거래금액</th>\n      <th>건축년도</th>\n      <th>년</th>\n      <th>단지</th>\n      <th>법정동</th>\n      <th>월</th>\n      <th>일</th>\n      <th>전용면적</th>\n      <th>지역코드</th>\n      <th>층</th>\n      <th>해제사유발생일</th>\n      <th>해제여부</th>\n      <th>지번</th>\n    </tr>\n  </thead>\n  <tbody>\n    <tr>\n      <th>368</th>\n      <td>8,500</td>\n      <td>2014</td>\n      <td>2021</td>\n      <td>푸르지오시티</td>\n      <td>어진동</td>\n      <td>2</td>\n      <td>18</td>\n      <td>23.74</td>\n      <td>36110</td>\n      <td>5</td>\n      <td>21.03.09</td>\n      <td>O</td>\n      <td>NaN</td>\n    </tr>\n    <tr>\n      <th>369</th>\n      <td>8,500</td>\n      <td>2014</td>\n      <td>2021</td>\n      <td>푸르지오시티</td>\n      <td>어진동</td>\n      <td>2</td>\n      <td>18</td>\n      <td>23.74</td>\n      <td>36110</td>\n      <td>5</td>\n      <td>None</td>\n      <td>None</td>\n      <td>NaN</td>\n    </tr>\n    <tr>\n      <th>370</th>\n      <td>9,500</td>\n      <td>2014</td>\n      <td>2021</td>\n      <td>푸르지오시티</td>\n      <td>어진동</td>\n      <td>2</td>\n      <td>19</td>\n      <td>23.74</td>\n      <td>36110</td>\n      <td>17</td>\n      <td>None</td>\n      <td>None</td>\n      <td>NaN</td>\n    </tr>\n    <tr>\n      <th>371</th>\n      <td>8,650</td>\n      <td>2014</td>\n      <td>2021</td>\n      <td>푸르지오시티</td>\n      <td>어진동</td>\n      <td>2</td>\n      <td>25</td>\n      <td>24.12</td>\n      <td>36110</td>\n      <td>6</td>\n      <td>None</td>\n      <td>None</td>\n      <td>NaN</td>\n    </tr>\n    <tr>\n      <th>372</th>\n      <td>8,100</td>\n      <td>2014</td>\n      <td>2021</td>\n      <td>2차푸르지오시티</td>\n      <td>어진동</td>\n      <td>2</td>\n      <td>27</td>\n      <td>21.92</td>\n      <td>36110</td>\n      <td>7</td>\n      <td>None</td>\n      <td>None</td>\n      <td>NaN</td>\n    </tr>\n  </tbody>\n</table>\n</div>",
      "text/plain": "      거래금액  건축년도     년        단지  법정동  월   일   전용면적   지역코드   층   해제사유발생일  \\\n368  8,500  2014  2021    푸르지오시티  어진동  2  18  23.74  36110   5  21.03.09   \n369  8,500  2014  2021    푸르지오시티  어진동  2  18  23.74  36110   5      None   \n370  9,500  2014  2021    푸르지오시티  어진동  2  19  23.74  36110  17      None   \n371  8,650  2014  2021    푸르지오시티  어진동  2  25  24.12  36110   6      None   \n372  8,100  2014  2021  2차푸르지오시티  어진동  2  27  21.92  36110   7      None   \n\n     해제여부   지번  \n368     O  NaN  \n369  None  NaN  \n370  None  NaN  \n371  None  NaN  \n372  None  NaN  "
     },
     "execution_count": 203,
     "metadata": {},
     "output_type": "execute_result"
    }
   ],
   "source": [
    "ofi_data_trd = pd.DataFrame()\r\n",
    "for i in list_preiod:\r\n",
    "\r\n",
    "    df = writeDatafram('getRTMSDataSvcOffiTrade',i)\r\n",
    "    ofi_data_trd = ofi_data_trd.append(df, ignore_index=True)\r\n",
    "\r\n",
    "ofi_data_trd.tail()"
   ]
  },
  {
   "cell_type": "code",
   "execution_count": null,
   "metadata": {},
   "outputs": [],
   "source": []
  }
 ],
 "metadata": {
  "kernelspec": {
   "display_name": "Python 3.8.5 64-bit (conda)",
   "metadata": {
    "interpreter": {
     "hash": "ed225720166559e7176d3793db16a2fd8d295f725007103b21ac3099d2a89ee8"
    }
   },
   "name": "python3"
  },
  "language_info": {
   "codemirror_mode": {
    "name": "ipython",
    "version": 3
   },
   "file_extension": ".py",
   "mimetype": "text/x-python",
   "name": "python",
   "nbconvert_exporter": "python",
   "pygments_lexer": "ipython3",
   "version": "3.8.5"
  },
  "orig_nbformat": 2
 },
 "nbformat": 4,
 "nbformat_minor": 2
}