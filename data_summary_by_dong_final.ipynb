{
  "cells": [
    {
      "cell_type": "code",
      "execution_count": 1,
      "metadata": {
        "colab": {
          "base_uri": "https://localhost:8080/"
        },
        "id": "gBa5MxqaI6U2",
        "outputId": "033660f5-d4d1-4a24-8447-a6121d614acd"
      },
      "outputs": [],
      "source": [
        "import numpy as np\r\n",
        "import pandas as pd\r\n",
        "\r\n",
        "pd.options.display.max_rows = 1000000 \r\n",
        "\r\n",
        "%matplotlib inline\r\n",
        "import matplotlib\r\n",
        "import matplotlib as mpl\r\n",
        "import matplotlib.pyplot as plt\r\n",
        "plt.rcParams['axes.unicode_minus'] = False\r\n",
        "plt.rcParams[\"font.family\"] = 'NanumBarunGothic'\r\n",
        "plt.rcParams[\"font.size\"] = 20\r\n",
        "plt.rcParams[\"figure.figsize\"] = (15,8)\r\n",
        "\r\n",
        "mpl.rc('axes', labelsize=12)\r\n",
        "mpl.rc('xtick', labelsize=8)\r\n",
        "mpl.rc('ytick', labelsize=8)\r\n",
        "\r\n",
        "import seaborn as sns\r\n",
        "#corr_set\r\n",
        "from itertools import combinations\r\n"
      ]
    },
    {
      "cell_type": "code",
      "execution_count": 2,
      "metadata": {
        "colab": {
          "base_uri": "https://localhost:8080/"
        },
        "id": "R2djum-6JoNG",
        "outputId": "8e82a1f3-f7d4-4636-f164-5303ed3a24e2"
      },
      "outputs": [
        {
          "name": "stderr",
          "output_type": "stream",
          "text": [
            "C:\\Anaconda\\lib\\site-packages\\IPython\\core\\interactiveshell.py:3146: DtypeWarning: Columns (10,13) have mixed types.Specify dtype option on import or set low_memory=False.\n",
            "  has_raised = await self.run_ast_nodes(code_ast.body, cell_name,\n"
          ]
        }
      ],
      "source": [
        "#check eup-dong list\r\n",
        "sample = pd.read_csv('data/2.세종시_표제부.csv')\r\n",
        "sample['읍면동'] = sample['대지위치'].str.replace('세종특별자치시 ','')\r\n",
        "sample['읍면동'] = sample['읍면동'].str.replace('조치원읍 ','조치원읍')\r\n",
        "sample[['1', '2','3']] = sample['읍면동'].str.split(' ', n=2, expand=True)\r\n",
        "sample['2'] = sample['2'].str.replace('조치원읍','조치원읍 ')\r\n",
        "list_d = list(set(sample['2']))\r\n",
        "data_d = pd.DataFrame(list_d,columns={'읍면동'})\r\n",
        "\r\n",
        "#set myn&dong\r\n",
        "list_myn = ['소정면', '연서면', '전의면', '금남면','전동면','장군면','연동면','연기면','부강면']\r\n",
        "list_dong = ['종촌동', '소담동', '보람동','다정동', '도담동', '합강동', '가람동','반곡동','나성동', \r\n",
        "              '한솔동','산울동','집현동','어진동','고운동', '아름동', '해밀동', '대평동','새롬동']"
      ]
    },
    {
      "cell_type": "code",
      "execution_count": 3,
      "metadata": {
        "id": "J0dg4h3qJ3w1"
      },
      "outputs": [],
      "source": [
        "def make_rentfee_df(a,b,c) :\r\n",
        "  df = pd.read_csv(a)\r\n",
        "  df['보증금(만원)'] = df['보증금(만원)'].str.replace(',','')\r\n",
        "  df = df.astype({'보증금(만원)' : float, '계약년월' : 'str'})\r\n",
        "  df['시군구'] = df['시군구'].str.replace('세종특별자치시 ','')\r\n",
        "  df.replace({'전세' : 'yr', '월세' : 'mth'},inplace=True)\r\n",
        "  \r\n",
        "  df_j = make_rentfee_data(df,b,'yr')\r\n",
        "  df_m = make_rentfee_data(df,b,'mth')\r\n",
        "  \r\n",
        "  d = pd.merge(c,df_j, how='outer',on='읍면동')\r\n",
        "  f = pd.merge(d,df_m, how='outer',on='읍면동')\r\n",
        "\r\n",
        "  return f\r\n",
        "\r\n",
        "def make_rentfee_data(i, b, c) :\r\n",
        "\r\n",
        "  df = i[i['전월세구분'] == c]\r\n",
        "  df[['읍면동', '2']] = df['시군구'].str.split(' ', n=1, expand=True)\r\n",
        "\r\n",
        "  df = df.groupby(['읍면동']).agg({'계약일' : 'count', '보증금(만원)':'mean'})\r\n",
        "  x = b+'_'+c+'_cnt'\r\n",
        "  y = b+'_'+c+'_price'\r\n",
        "  \r\n",
        "  df.columns = [x,y]\r\n",
        "\r\n",
        "  return df"
      ]
    },
    {
      "cell_type": "code",
      "execution_count": 4,
      "metadata": {
        "colab": {
          "base_uri": "https://localhost:8080/",
          "height": 522
        },
        "id": "TzKLOqrQJ7dq",
        "outputId": "d483035c-bba1-4202-bd2e-801b43d58949"
      },
      "outputs": [
        {
          "name": "stderr",
          "output_type": "stream",
          "text": [
            "C:\\Anaconda\\lib\\site-packages\\pandas\\core\\frame.py:3065: SettingWithCopyWarning: \n",
            "A value is trying to be set on a copy of a slice from a DataFrame.\n",
            "Try using .loc[row_indexer,col_indexer] = value instead\n",
            "\n",
            "See the caveats in the documentation: https://pandas.pydata.org/pandas-docs/stable/user_guide/indexing.html#returning-a-view-versus-a-copy\n",
            "  self[k1] = value[k2]\n"
          ]
        }
      ],
      "source": [
        "ofi = make_rentfee_df('data/10.세종시_오피스텔(전월세)_실거래가.csv','ofi',data_d)\r\n",
        "apt = make_rentfee_df('data/7.세종시_아파트(전월세)_실거래가.csv','apt',data_d)\r\n",
        "ali = make_rentfee_df('data/8.세종시_연립다세대(전월세)_실거래가.csv','ali',data_d)\r\n",
        "# 단독주택 제외 >> 대지단위(명확하게 비교하기가 어려움)\r\n",
        "summary = pd.merge(ofi, apt, how='outer', on='읍면동')\r\n",
        "summary = pd.merge(summary, ali, how='outer', on='읍면동')"
      ]
    },
    {
      "cell_type": "code",
      "execution_count": 5,
      "metadata": {},
      "outputs": [],
      "source": [
        "# 상권코드 정리\r\n",
        "market = pd.read_csv('data/14.세종시_상권정보.csv')\r\n",
        "code = pd.read_csv('data/15.세종시_상권정보_업종코드.csv')\r\n",
        "list_main = list(set(code['대분류코드']))\r\n",
        "list_middle = list(set(code['중분류코드']))\r\n",
        "list_middle = sorted(list_middle)"
      ]
    },
    {
      "cell_type": "code",
      "execution_count": 6,
      "metadata": {},
      "outputs": [],
      "source": [
        "def make_summary_by_location(a) :\r\n",
        "    list_data = list_dong if a == 'dong' else list_myn\r\n",
        "    a = summary[summary['읍면동'].isin(list_data)]\r\n",
        "    a = a.reset_index(drop=True)\r\n",
        "\r\n",
        "    ex = pd.DataFrame()\r\n",
        "\r\n",
        "    #market divieded\r\n",
        "    for i in a['읍면동'] :\r\n",
        "        df = market[market['행정동명']==i]\r\n",
        "        df = df.groupby('상권업종중분류코드').agg({'행정동명':'count','상권업종중분류명' : 'first','상권업종대분류코드' :'first','상권업종대분류명' : 'first'})\r\n",
        "        \r\n",
        "        df_T= df.transpose()\r\n",
        "        df_T['읍면동'] = i\r\n",
        "        df_T['total'] = df['행정동명'].sum()\r\n",
        "\r\n",
        "        list_x = df_T.iloc[0]\r\n",
        "\r\n",
        "        ex = ex.append(pd.Series(list_x), ignore_index=True)\r\n",
        "        \r\n",
        "    x = pd.merge(a,ex, how='outer', on='읍면동')\r\n",
        "    \r\n",
        "    return x"
      ]
    },
    {
      "cell_type": "code",
      "execution_count": 7,
      "metadata": {},
      "outputs": [],
      "source": [
        "# Set the data without nan at market data\r\n",
        "dong = make_summary_by_location('dong')\r\n",
        "dong_final = dong[dong['total'] != 0]\r\n",
        "myn = make_summary_by_location('myn')\r\n",
        "myn_final = myn[myn['total'] != 0]\r\n",
        "\r\n",
        "# drop ofi\r\n",
        "dong_final = dong_final.sort_index(axis=1)\r\n",
        "dong_final = dong_final.drop({'ofi_mth_price','ofi_mth_cnt','ofi_yr_price','ofi_yr_cnt'},axis = 1)\r\n",
        "\r\n",
        "myn_final = myn_final.sort_index(axis=1)\r\n",
        "myn_final = myn_final.drop({'ofi_mth_price','ofi_mth_cnt','ofi_yr_price','ofi_yr_cnt'},axis = 1)"
      ]
    },
    {
      "cell_type": "code",
      "execution_count": 15,
      "metadata": {},
      "outputs": [
        {
          "name": "stderr",
          "output_type": "stream",
          "text": [
            "<ipython-input-15-b87e9d5fc5dc>:2: SettingWithCopyWarning: \n",
            "A value is trying to be set on a copy of a slice from a DataFrame.\n",
            "Try using .loc[row_indexer,col_indexer] = value instead\n",
            "\n",
            "See the caveats in the documentation: https://pandas.pydata.org/pandas-docs/stable/user_guide/indexing.html#returning-a-view-versus-a-copy\n",
            "  check['code'] = check['중분류코드'] + check['중분류명']\n"
          ]
        }
      ],
      "source": [
        "check = code[code['대분류코드']=='N']\r\n",
        "check['code'] = check['중분류코드'] + check['중분류명']\r\n",
        "list_check = list(set(check['code']))\r\n",
        "list_check = sorted(list_check)"
      ]
    },
    {
      "cell_type": "code",
      "execution_count": 9,
      "metadata": {},
      "outputs": [
        {
          "name": "stdout",
          "output_type": "stream",
          "text": [
            "L01 L05\n",
            "L ['부동산']\n",
            "O01 O05\n",
            "O ['숙박']\n",
            "Q01 Q15\n",
            "Q ['음식']\n",
            "D01 D26\n",
            "D ['소매']\n",
            "P01 P03\n",
            "P ['스포츠']\n",
            "N01 N08\n",
            "N ['관광/여가/오락']\n",
            "F01 F20\n",
            "F ['생활서비스']\n",
            "R01 R20\n",
            "R ['학문/교육']\n"
          ]
        }
      ],
      "source": [
        "for i in list_main :\r\n",
        "    df_dong01 = dong_final.loc[:,'ali_mth_cnt':]\r\n",
        "    df_myn01 = dong_final.loc[:,'ali_mth_cnt':]\r\n",
        "    \r\n",
        "    list_x = [middle for middle in list_middle if i in middle]\r\n",
        "    print(list_x[0],list_x[-1])\r\n",
        "\r\n",
        "    df_dong02 = dong_final.loc[ :,list_x[0]:list_x[-1]]\r\n",
        "    df_dong02['읍면동'] = dong_final['읍면동']\r\n",
        "    \r\n",
        "    df_myn02 = dong_final.loc[ :,list_x[0]:list_x[-1]]\r\n",
        "    df_myn02['읍면동'] = dong_final['읍면동']\r\n",
        "\r\n",
        "    corr01 = pd.merge(df_dong01,df_dong02,on='읍면동')\r\n",
        "    corr02 = pd.merge(df_myn01,df_myn02,on='읍면동')\r\n",
        "\r\n",
        "    print(i, list(set(code[code['대분류코드']==i]['대분류명'])))\r\n",
        "\r\n",
        "    corr_dong = corr01.corr(method = 'pearson')\r\n",
        "    corr_myn = corr02.corr(method = 'pearson')\r\n",
        "\r\n",
        "    corr_dong.to_csv('png/{}'.format(i)+'_dong.csv')\r\n",
        "    corr_myn.to_csv('png/{}'.format(i)+'_myn.csv')\r\n",
        "    #df_heatmap = sns.heatmap(corr)\r\n",
        "    #plt.savefig('png/{}'.format(i)+'.png')\r\n",
        "\r\n",
        "    #plt.clf()\r\n"
      ]
    },
    {
      "cell_type": "code",
      "execution_count": 33,
      "metadata": {},
      "outputs": [
        {
          "data": {
            "text/plain": "'닭/오리요리'"
          },
          "execution_count": 33,
          "metadata": {},
          "output_type": "execute_result"
        }
      ],
      "source": [
        "code[code['중분류코드'] == 'Q05']['중분류명']"
      ]
    },
    {
      "cell_type": "code",
      "execution_count": 44,
      "metadata": {},
      "outputs": [],
      "source": [
        "def print_corr_set(k, j) :\r\n",
        "    df = pd.read_csv('png/{}'.format(k)+'_{}'.format(j)+'.csv')\r\n",
        "    df = df.set_index('Unnamed: 0')\r\n",
        "    item = list(df.columns)\r\n",
        "    list_com = list(combinations(item,2))\r\n",
        "    list_com = sorted(list_com)\r\n",
        "    for a in list_com :\r\n",
        "        (x,y) = a\r\n",
        "        name = code[code['중분류코드'] == y]['중분류명'].iloc[-1] if y in list_middle else \"\"\r\n",
        "        corr = df.loc[x,y]\r\n",
        "        \r\n",
        "        result = corr if corr >= 0.7 else corr if corr <= -0.7 else 2\r\n",
        "        print((x,y), name , result) if result != 2 else \"\"\r\n"
      ]
    },
    {
      "cell_type": "code",
      "execution_count": 47,
      "metadata": {},
      "outputs": [
        {
          "name": "stdout",
          "output_type": "stream",
          "text": [
            "('D01', 'D03') 종합소매점 0.7665254858998265\n",
            "('D01', 'D04') 취미/오락관련소매 0.979199336857139\n",
            "('D01', 'D08') 사무/문구/컴퓨터 0.7000058788700813\n",
            "('D01', 'D11') 유아용품 0.8007545287260702\n",
            "('D01', 'D13') 책/서적/도서 0.7856742013183862\n",
            "('D01', 'D16') 화장품소매 0.821466256737967\n",
            "('D01', 'D20') 의약/의료품소매 0.9958705948858224\n",
            "('D01', 'D23') 자동차/자동차용품 0.9367659069225724\n",
            "('D02', 'D03') 종합소매점 0.746714879995433\n",
            "('D02', 'D09') 애견/애완/동물 -0.9428090415820636\n",
            "('D02', 'D11') 유아용품 0.9707253433941512\n",
            "('D02', 'D12') 가전제품소매 0.8675276172357089\n",
            "('D02', 'D13') 책/서적/도서 0.8783100656536796\n",
            "('D02', 'D23') 자동차/자동차용품 1.0\n",
            "('D02', 'D26') 시계/귀금속소매 -0.8783100656536799\n",
            "('D03', 'D04') 취미/오락관련소매 0.7174479188796976\n",
            "('D03', 'D05') 의복의류 0.7636592748062204\n",
            "('D03', 'D07') 가정/주방/인테리어 0.9486033778778202\n",
            "('D03', 'D08') 사무/문구/컴퓨터 0.8261922460299217\n",
            "('D03', 'D12') 가전제품소매 0.9287013775293232\n",
            "('D03', 'D13') 책/서적/도서 0.8977193398012133\n",
            "('D03', 'D16') 화장품소매 0.97378171958144\n",
            "('D03', 'D18') 사진/광학/정밀기기소매 0.8130408884751156\n",
            "('D03', 'D20') 의약/의료품소매 0.8418907898006329\n",
            "('D03', 'D21') 철물/난방/건설자재소매 0.9867945183964876\n",
            "('D03', 'D23') 자동차/자동차용품 0.9840181048721282\n",
            "('D04', 'D06') 가방/신발/액세서리 -0.8003267306650412\n",
            "('D04', 'D10') 건강/미용식품 0.8910421112136305\n",
            "('D04', 'D16') 화장품소매 0.7637626158259734\n",
            "('D04', 'D20') 의약/의료품소매 1.0\n",
            "('D04', 'D21') 철물/난방/건설자재소매 -1.0\n",
            "('D04', 'D23') 자동차/자동차용품 1.0\n",
            "('D04', 'D25') 기타판매업 -1.0\n",
            "('D05', 'D07') 가정/주방/인테리어 0.8508630843973617\n",
            "('D05', 'D08') 사무/문구/컴퓨터 0.8625712197275537\n",
            "('D05', 'D11') 유아용품 0.8415259932542927\n",
            "('D05', 'D12') 가전제품소매 0.9525793444156804\n",
            "('D05', 'D13') 책/서적/도서 0.779821809234197\n",
            "('D05', 'D14') 운동/경기용품소매 0.9658224378275294\n",
            "('D05', 'D18') 사진/광학/정밀기기소매 0.7796852303402377\n",
            "('D05', 'D20') 의약/의료품소매 -1.0\n",
            "('D05', 'D21') 철물/난방/건설자재소매 0.9575025283801706\n",
            "('D05', 'D23') 자동차/자동차용품 0.7540135991371328\n",
            "('D05', 'D25') 기타판매업 0.9782319760890371\n",
            "('D06', 'D10') 건강/미용식품 -0.7071067811865474\n",
            "('D06', 'D14') 운동/경기용품소매 0.8886617051320621\n",
            "('D06', 'D20') 의약/의료품소매 -1.0\n",
            "('D06', 'D21') 철물/난방/건설자재소매 1.0\n",
            "('D06', 'D25') 기타판매업 1.0\n",
            "('D06', 'D26') 시계/귀금속소매 0.7456011350793257\n",
            "('D07', 'D08') 사무/문구/컴퓨터 0.8273654881856347\n",
            "('D07', 'D12') 가전제품소매 0.985329278164293\n",
            "('D07', 'D13') 책/서적/도서 0.8497677701336377\n",
            "('D07', 'D14') 운동/경기용품소매 0.8136973250345709\n",
            "('D07', 'D16') 화장품소매 0.9110979322519459\n",
            "('D07', 'D18') 사진/광학/정밀기기소매 0.911060090117484\n",
            "('D07', 'D20') 의약/의료품소매 1.0\n",
            "('D07', 'D21') 철물/난방/건설자재소매 0.977355554850442\n",
            "('D07', 'D23') 자동차/자동차용품 0.9862413826124556\n",
            "('D07', 'D25') 기타판매업 0.7406128966515283\n",
            "('D08', 'D12') 가전제품소매 0.9878783399072132\n",
            "('D08', 'D13') 책/서적/도서 0.7146943350099463\n",
            "('D08', 'D14') 운동/경기용품소매 0.8399687283367215\n",
            "('D08', 'D16') 화장품소매 0.868981780728545\n",
            "('D08', 'D21') 철물/난방/건설자재소매 0.9449111825230684\n",
            "('D08', 'D23') 자동차/자동차용품 0.917662935482247\n",
            "('D08', 'D25') 기타판매업 0.8971499589146108\n",
            "('D10', 'D12') 가전제품소매 1.0\n",
            "('D10', 'D23') 자동차/자동차용품 1.0\n",
            "('D10', 'D25') 기타판매업 0.8660254037844387\n",
            "('D10', 'D26') 시계/귀금속소매 -0.8783100656536799\n",
            "('D11', 'D12') 가전제품소매 1.0\n",
            "('D11', 'D13') 책/서적/도서 0.9045340337332908\n",
            "('D11', 'D14') 운동/경기용품소매 0.9707253433941508\n",
            "('D11', 'D18') 사진/광학/정밀기기소매 0.8205527240271442\n",
            "('D12', 'D13') 책/서적/도서 0.9185586535436916\n",
            "('D12', 'D14') 운동/경기용품소매 0.8703882797784892\n",
            "('D12', 'D16') 화장품소매 0.8551861104941365\n",
            "('D12', 'D18') 사진/광학/정밀기기소매 0.9031175839830708\n",
            "('D12', 'D21') 철물/난방/건설자재소매 1.0\n",
            "('D12', 'D25') 기타판매업 0.8660254037844385\n",
            "('D13', 'D16') 화장품소매 0.8255243089185107\n",
            "('D13', 'D18') 사진/광학/정밀기기소매 0.9191572581386976\n",
            "('D13', 'D20') 의약/의료품소매 0.8660254037844385\n",
            "('D13', 'D23') 자동차/자동차용품 0.9933992677987828\n",
            "('D14', 'D18') 사진/광학/정밀기기소매 0.7362023416979451\n",
            "('D14', 'D20') 의약/의료품소매 -1.0\n",
            "('D14', 'D21') 철물/난방/건설자재소매 1.0\n",
            "('D14', 'D25') 기타판매업 0.996615895540124\n",
            "('D16', 'D18') 사진/광학/정밀기기소매 0.76447453933525\n",
            "('D16', 'D20') 의약/의료품소매 1.0\n",
            "('D16', 'D21') 철물/난방/건설자재소매 0.9819805060619656\n",
            "('D16', 'D23') 자동차/자동차용품 1.0\n",
            "('D18', 'D21') 철물/난방/건설자재소매 0.7106690545187014\n",
            "('D18', 'D23') 자동차/자동차용품 1.0\n",
            "('D20', 'D23') 자동차/자동차용품 1.0\n",
            "('D20', 'D25') 기타판매업 -1.0\n",
            "('D21', 'D25') 기타판매업 1.0\n",
            "('D23', 'D25') 기타판매업 -1.0\n",
            "('ali_mth_cnt', 'D03') 종합소매점 0.736756269444419\n",
            "('ali_mth_cnt', 'D07') 가정/주방/인테리어 0.7745045266527745\n",
            "('ali_mth_cnt', 'D10') 건강/미용식품 -1.0\n",
            "('ali_mth_cnt', 'D18') 사진/광학/정밀기기소매 1.0\n",
            "('ali_mth_cnt', 'D23') 자동차/자동차용품 1.0\n",
            "('ali_mth_cnt', 'ali_mth_price')  -0.9984966887933906\n",
            "('ali_mth_cnt', 'ali_yr_cnt')  -1.0\n",
            "('ali_mth_cnt', 'ali_yr_price')  1.0\n",
            "('ali_mth_cnt', 'apt_mth_cnt')  0.9035589009475884\n",
            "('ali_mth_cnt', 'apt_mth_price')  0.8564642318456753\n",
            "('ali_mth_cnt', 'apt_yr_cnt')  0.8304467821319813\n",
            "('ali_mth_cnt', 'apt_yr_price')  0.9956102633323276\n",
            "('ali_mth_cnt', 'total')  0.7874961193980036\n",
            "('ali_mth_price', 'D07') 가정/주방/인테리어 -0.7386678269065317\n",
            "('ali_mth_price', 'D10') 건강/미용식품 1.0\n",
            "('ali_mth_price', 'D18') 사진/광학/정밀기기소매 -1.0\n",
            "('ali_mth_price', 'D23') 자동차/자동차용품 1.0\n",
            "('ali_mth_price', 'ali_yr_cnt')  -1.0\n",
            "('ali_mth_price', 'ali_yr_price')  1.0\n",
            "('ali_mth_price', 'apt_mth_cnt')  -0.8787155796620293\n",
            "('ali_mth_price', 'apt_mth_price')  -0.8834710368360892\n",
            "('ali_mth_price', 'apt_yr_cnt')  -0.7986626723412572\n",
            "('ali_mth_price', 'apt_yr_price')  -0.9992437390555132\n",
            "('ali_mth_price', 'total')  -0.7525305171260063\n",
            "('ali_yr_cnt', 'D01') 음/식료품소매 -1.0\n",
            "('ali_yr_cnt', 'D03') 종합소매점 -1.0\n",
            "('ali_yr_cnt', 'D05') 의복의류 -1.0\n",
            "('ali_yr_cnt', 'D06') 가방/신발/액세서리 -1.0\n",
            "('ali_yr_cnt', 'D07') 가정/주방/인테리어 -1.0\n",
            "('ali_yr_cnt', 'D08') 사무/문구/컴퓨터 -1.0\n",
            "('ali_yr_cnt', 'D13') 책/서적/도서 -1.0\n",
            "('ali_yr_cnt', 'D14') 운동/경기용품소매 -1.0\n",
            "('ali_yr_cnt', 'D23') 자동차/자동차용품 -1.0\n",
            "('ali_yr_cnt', 'ali_yr_price')  -1.0\n",
            "('ali_yr_cnt', 'apt_mth_cnt')  -1.0\n",
            "('ali_yr_cnt', 'apt_mth_price')  1.0\n",
            "('ali_yr_cnt', 'apt_yr_cnt')  -1.0\n",
            "('ali_yr_cnt', 'apt_yr_price')  1.0\n",
            "('ali_yr_cnt', 'total')  -1.0\n",
            "('ali_yr_price', 'D01') 음/식료품소매 1.0\n",
            "('ali_yr_price', 'D03') 종합소매점 1.0\n",
            "('ali_yr_price', 'D05') 의복의류 1.0\n",
            "('ali_yr_price', 'D06') 가방/신발/액세서리 1.0\n",
            "('ali_yr_price', 'D07') 가정/주방/인테리어 1.0\n",
            "('ali_yr_price', 'D08') 사무/문구/컴퓨터 1.0\n",
            "('ali_yr_price', 'D13') 책/서적/도서 1.0\n",
            "('ali_yr_price', 'D14') 운동/경기용품소매 1.0\n",
            "('ali_yr_price', 'D23') 자동차/자동차용품 1.0\n",
            "('ali_yr_price', 'apt_mth_cnt')  1.0\n",
            "('ali_yr_price', 'apt_mth_price')  -1.0\n",
            "('ali_yr_price', 'apt_yr_cnt')  1.0000000000000002\n",
            "('ali_yr_price', 'apt_yr_price')  -1.0\n",
            "('ali_yr_price', 'total')  1.0\n",
            "('apt_mth_cnt', 'D06') 가방/신발/액세서리 0.769553247558638\n",
            "('apt_mth_cnt', 'D23') 자동차/자동차용품 0.8187454333307915\n",
            "('apt_mth_cnt', 'D25') 기타판매업 0.9563923331736094\n",
            "('apt_mth_cnt', 'D26') 시계/귀금속소매 0.7573042268670889\n",
            "('apt_mth_cnt', 'apt_yr_cnt')  0.7639022108821601\n",
            "('apt_mth_price', 'D11') 유아용품 0.7892142299662437\n",
            "('apt_mth_price', 'D25') 기타판매업 -0.7782648522373322\n",
            "('apt_yr_cnt', 'D25') 기타판매업 0.7477502613998823\n",
            "('apt_yr_price', 'D11') 유아용품 0.8119202100538823\n",
            "('apt_yr_price', 'D12') 가전제품소매 0.9512848430657944\n",
            "('apt_yr_price', 'D16') 화장품소매 0.767889066331953\n",
            "('apt_yr_price', 'D18') 사진/광학/정밀기기소매 0.7326715342257499\n",
            "('apt_yr_price', 'D21') 철물/난방/건설자재소매 0.8235133580050865\n",
            "('apt_yr_price', 'D23') 자동차/자동차용품 -0.8281303944464694\n",
            "('apt_yr_price', 'D25') 기타판매업 0.817812836992718\n",
            "('total', 'D01') 음/식료품소매 0.7015107129625064\n",
            "('total', 'D02') 선물/팬시/기념품 0.8525347706333807\n",
            "('total', 'D03') 종합소매점 0.968394978487654\n",
            "('total', 'D05') 의복의류 0.8229023517888471\n",
            "('total', 'D07') 가정/주방/인테리어 0.9424848896529444\n",
            "('total', 'D08') 사무/문구/컴퓨터 0.8118235386457778\n",
            "('total', 'D11') 유아용품 0.7594670052658089\n",
            "('total', 'D12') 가전제품소매 0.9401574260013524\n",
            "('total', 'D13') 책/서적/도서 0.9187047016645234\n",
            "('total', 'D14') 운동/경기용품소매 0.7456517871509767\n",
            "('total', 'D16') 화장품소매 0.9198987448693762\n",
            "('total', 'D18') 사진/광학/정밀기기소매 0.8605156751970514\n",
            "('total', 'D20') 의약/의료품소매 0.7408428663420379\n",
            "('total', 'D21') 철물/난방/건설자재소매 0.8606452496653392\n",
            "('total', 'D23') 자동차/자동차용품 0.9982733077088772\n"
          ]
        }
      ],
      "source": [
        "print_corr_set('D','myn')"
      ]
    },
    {
      "cell_type": "code",
      "execution_count": 49,
      "metadata": {},
      "outputs": [
        {
          "name": "stdout",
          "output_type": "stream",
          "text": [
            "('ali_mth_cnt', 'ali_yr_cnt')\n"
          ]
        },
        {
          "data": {
            "text/plain": "nan"
          },
          "execution_count": 49,
          "metadata": {},
          "output_type": "execute_result"
        }
      ],
      "source": [
        "df = pd.read_csv('png/D_Dong.csv')\r\n",
        "df = df.set_index('Unnamed: 0')\r\n",
        "item = list(df.columns)\r\n",
        "com = list(combinations(item,2))\r\n",
        "#df.info()\r\n",
        "(x,y) = com[1]\r\n",
        "print(com[1])\r\n",
        "corr = df.loc[x,y]\r\n",
        "\r\n",
        "result = corr if corr > 0.7 else corr if corr > -0.7 else np.nan\r\n",
        "result"
      ]
    },
    {
      "cell_type": "code",
      "execution_count": null,
      "metadata": {},
      "outputs": [],
      "source": []
    }
  ],
  "metadata": {
    "colab": {
      "collapsed_sections": [],
      "name": "data_summary_by_dong.ipynb",
      "provenance": []
    },
    "kernelspec": {
      "display_name": "Python 3",
      "language": "python",
      "name": "python3"
    },
    "language_info": {
      "codemirror_mode": {
        "name": "ipython",
        "version": 3
      },
      "file_extension": ".py",
      "mimetype": "text/x-python",
      "name": "python",
      "nbconvert_exporter": "python",
      "pygments_lexer": "ipython3",
      "version": "3.8.5"
    }
  },
  "nbformat": 4,
  "nbformat_minor": 0
}